{
 "cells": [
  {
   "cell_type": "markdown",
   "metadata": {},
   "source": [
    "# 2. Sintaxis, variables y operadores"
   ]
  },
  {
   "cell_type": "markdown",
   "metadata": {},
   "source": [
    "## 2.1. Sintaxis"
   ]
  },
  {
   "cell_type": "markdown",
   "metadata": {},
   "source": [
    "En general Python usa una sintaxis en forma de *funciones*: $f(x,y,z)$"
   ]
  },
  {
   "cell_type": "code",
   "execution_count": 1,
   "metadata": {},
   "outputs": [
    {
     "name": "stdout",
     "output_type": "stream",
     "text": [
      "1 2 3 hola UDLA\n"
     ]
    },
    {
     "data": {
      "text/plain": [
       "range(0, 10)"
      ]
     },
     "execution_count": 1,
     "metadata": {},
     "output_type": "execute_result"
    }
   ],
   "source": [
    "print(1,2,3, 'hola', 'UDLA')\n",
    "\n",
    "range(10)"
   ]
  },
  {
   "cell_type": "markdown",
   "metadata": {},
   "source": [
    "Python siempre comienza numerando desde **0**, es decir el primer elemento de un arreglo tendrá como índice el número 0. Esta es una característica que Python comparte con la mayoría de lenguajes de programación fuertes (C, Java, Swift, PHP, etc.). El porqué, está fuera del alcance del curso pero si desean entender más sobre este tema, pueden leer el siguiente artículo: [Array Indexing: 0-based or 1-based?](https://medium.com/analytics-vidhya/array-indexing-0-based-or-1-based-dd89d631d11c) o el siguiente ensayo desde una perspectiva matemática: [Why numbering should start at zero](https://www.cs.utexas.edu/users/EWD/ewd08xx/EWD831.PDF)."
   ]
  },
  {
   "cell_type": "markdown",
   "metadata": {},
   "source": [
    "Podemos obtener la documentación (*docstring*) de una función utilizando el signo **?** antes de la función:"
   ]
  },
  {
   "cell_type": "code",
   "execution_count": 2,
   "metadata": {},
   "outputs": [
    {
     "name": "stdout",
     "output_type": "stream",
     "text": [
      "\u001b[1;31mInit signature:\u001b[0m \u001b[0mrange\u001b[0m\u001b[1;33m(\u001b[0m\u001b[0mself\u001b[0m\u001b[1;33m,\u001b[0m \u001b[1;33m/\u001b[0m\u001b[1;33m,\u001b[0m \u001b[1;33m*\u001b[0m\u001b[0margs\u001b[0m\u001b[1;33m,\u001b[0m \u001b[1;33m**\u001b[0m\u001b[0mkwargs\u001b[0m\u001b[1;33m)\u001b[0m\u001b[1;33m\u001b[0m\u001b[1;33m\u001b[0m\u001b[0m\n",
      "\u001b[1;31mDocstring:\u001b[0m     \n",
      "range(stop) -> range object\n",
      "range(start, stop[, step]) -> range object\n",
      "\n",
      "Return an object that produces a sequence of integers from start (inclusive)\n",
      "to stop (exclusive) by step.  range(i, j) produces i, i+1, i+2, ..., j-1.\n",
      "start defaults to 0, and stop is omitted!  range(4) produces 0, 1, 2, 3.\n",
      "These are exactly the valid indices for a list of 4 elements.\n",
      "When step is given, it specifies the increment (or decrement).\n",
      "\u001b[1;31mType:\u001b[0m           type\n",
      "\u001b[1;31mSubclasses:\u001b[0m     "
     ]
    }
   ],
   "source": [
    "?range"
   ]
  },
  {
   "cell_type": "markdown",
   "metadata": {},
   "source": [
    "Para delimitar texto se puede ocupar doble o simple comillas: \"hola\" , 'hola'"
   ]
  },
  {
   "cell_type": "markdown",
   "metadata": {},
   "source": [
    "Todo lo que esté después del signo numeral # se lee como comentario."
   ]
  },
  {
   "cell_type": "code",
   "execution_count": 3,
   "metadata": {},
   "outputs": [
    {
     "name": "stdout",
     "output_type": "stream",
     "text": [
      "Esto es código. La raíz cuadrada de 2 es = 1.4142135623730951\n"
     ]
    }
   ],
   "source": [
    "# Esto es un comentario\n",
    "print('Esto es código. La raíz cuadrada de 2 es =', 2**0.5) # Esto también es un comentario\n",
    "# Esta línea también es comentario"
   ]
  },
  {
   "cell_type": "code",
   "execution_count": 4,
   "metadata": {},
   "outputs": [
    {
     "name": "stdout",
     "output_type": "stream",
     "text": [
      "investigación\n"
     ]
    }
   ],
   "source": [
    "# Algunas funciones específicas se pueden encadenar:\n",
    "\n",
    "texto = \"Investigación\"\n",
    "print(texto.upper().lower())"
   ]
  },
  {
   "cell_type": "code",
   "execution_count": 5,
   "metadata": {},
   "outputs": [
    {
     "name": "stdout",
     "output_type": "stream",
     "text": [
      "HOLA\n"
     ]
    }
   ],
   "source": [
    "# una larga línea de código se puede dividir con backslash \\\n",
    "print(\"hola\"\\\n",
    "    .upper())"
   ]
  },
  {
   "cell_type": "code",
   "execution_count": 6,
   "metadata": {},
   "outputs": [
    {
     "name": "stdout",
     "output_type": "stream",
     "text": [
      "HOLA\n"
     ]
    }
   ],
   "source": [
    "# los espacios en medio o al final no importan, \n",
    "print('hola'     .       upper())\n",
    "# los espacios al inicio sí importan"
   ]
  },
  {
   "cell_type": "markdown",
   "metadata": {},
   "source": [
    "La sangría son los espacios al comienzo de una línea de código.\n",
    "\n",
    "En otros lenguajes de programación la sangría se usa solo por legibilidad (e.g. R, Stata), pero en Python es muy importante.\n",
    "\n",
    "Python usa sangría para indicar bloques de código."
   ]
  },
  {
   "cell_type": "code",
   "execution_count": 7,
   "metadata": {},
   "outputs": [],
   "source": [
    "def cubo_mas_uno(x):\n",
    "    c = x * x * x\n",
    "    c = c + 1\n",
    "    return c\n"
   ]
  },
  {
   "cell_type": "code",
   "execution_count": 8,
   "metadata": {},
   "outputs": [
    {
     "data": {
      "text/plain": [
       "28"
      ]
     },
     "execution_count": 8,
     "metadata": {},
     "output_type": "execute_result"
    }
   ],
   "source": [
    "cubo_mas_uno(3)"
   ]
  },
  {
   "cell_type": "markdown",
   "metadata": {},
   "source": [
    "## 2.1. Introducción a datos"
   ]
  },
  {
   "cell_type": "markdown",
   "metadata": {},
   "source": [
    "Una variable es una referencia (o vínculo) que hacemos entre un nombre y un espacio en la memoria."
   ]
  },
  {
   "cell_type": "markdown",
   "metadata": {},
   "source": [
    "### Memory reference"
   ]
  },
  {
   "cell_type": "markdown",
   "metadata": {},
   "source": [
    "<!-- <p><img alt=\"UDLA logo\" height=\"480px\" src=\"./images/memory.jpg\" align=\"center\" hspace=\"10px\" vspace=\"10px\"></p> -->\n",
    "![image](./images/memory.jpg)\n"
   ]
  },
  {
   "cell_type": "markdown",
   "metadata": {},
   "source": [
    "### Resource allocation"
   ]
  },
  {
   "cell_type": "markdown",
   "metadata": {},
   "source": [
    "<!-- <p><img alt=\"UDLA logo\" height=\"480px\" src=\"./images/cpu.jpg\" align=\"center\" hspace=\"10px\" vspace=\"10px\"></p> -->\n",
    "![image](./images/cpu.jpg)"
   ]
  },
  {
   "cell_type": "code",
   "execution_count": 9,
   "metadata": {},
   "outputs": [],
   "source": [
    "x = [\"a\", \"b\", \"c\"]\n",
    "\n",
    "y = x\n",
    "\n",
    "y[0] = \"z\"\n"
   ]
  },
  {
   "cell_type": "code",
   "execution_count": 10,
   "metadata": {},
   "outputs": [
    {
     "name": "stdout",
     "output_type": "stream",
     "text": [
      "['z', 'b', 'c']\n"
     ]
    }
   ],
   "source": [
    "print(x)"
   ]
  },
  {
   "cell_type": "markdown",
   "metadata": {},
   "source": [
    "## Tipos de variables"
   ]
  },
  {
   "cell_type": "markdown",
   "metadata": {},
   "source": [
    "### Numéricas"
   ]
  },
  {
   "cell_type": "code",
   "execution_count": 11,
   "metadata": {},
   "outputs": [
    {
     "name": "stdout",
     "output_type": "stream",
     "text": [
      "12345\n",
      "1.234\n",
      "(1.2+3.4j)\n"
     ]
    }
   ],
   "source": [
    "enteros = 12345\n",
    "flotantes = 1.234\n",
    "complejos = complex(1.2, 3.4)\n",
    "\n",
    "print(enteros)\n",
    "print(flotantes)\n",
    "print(complejos)\n"
   ]
  },
  {
   "cell_type": "markdown",
   "metadata": {},
   "source": [
    "### String (Texto)"
   ]
  },
  {
   "cell_type": "code",
   "execution_count": 12,
   "metadata": {},
   "outputs": [
    {
     "name": "stdout",
     "output_type": "stream",
     "text": [
      "Hola UDLA\n"
     ]
    }
   ],
   "source": [
    "texto1 = 'Hola UDLA'\n",
    "\n",
    "print(texto1)"
   ]
  },
  {
   "cell_type": "code",
   "execution_count": 13,
   "metadata": {},
   "outputs": [
    {
     "name": "stdout",
     "output_type": "stream",
     "text": [
      "\n",
      "String\n",
      "en\n",
      "multiples\n",
      "líneas\n",
      "\n"
     ]
    }
   ],
   "source": [
    "# Multiples líneas de texto\n",
    "texto_lineas = \"\"\"\n",
    "String\n",
    "en\n",
    "multiples\n",
    "líneas\n",
    "\"\"\"\n",
    "\n",
    "print(texto_lineas)"
   ]
  },
  {
   "cell_type": "code",
   "execution_count": 14,
   "metadata": {},
   "outputs": [
    {
     "name": "stdout",
     "output_type": "stream",
     "text": [
      "línea 1 \n",
      " línea 2\n",
      "-------------------------\n",
      "texto 1 \t texto 2 \t texto3 3\n"
     ]
    }
   ],
   "source": [
    "# Se puede incluir caracteres especiales con backslash \\:\n",
    "texto_espacio = \"línea 1 \\n línea 2\" # \\n = new line\n",
    "texto_tab = \"texto 1 \\t texto 2 \\t texto3 3\" # \\t = tabulación\n",
    "\n",
    "print(texto_espacio)\n",
    "print(\"-------------------------\")\n",
    "print(texto_tab)"
   ]
  },
  {
   "cell_type": "markdown",
   "metadata": {},
   "source": [
    "```{admonition} Pregunta\n",
    "¿Por qué \"línea 1\" y \"línea 2\" tienen sangrías diferentes?\n",
    "```"
   ]
  },
  {
   "cell_type": "code",
   "execution_count": 15,
   "metadata": {},
   "outputs": [
    {
     "name": "stdout",
     "output_type": "stream",
     "text": [
      "La raíz de 12 es 3.4641016151377544 y su cubo es 1728\n"
     ]
    }
   ],
   "source": [
    "# El texto puede tomar el valor de una variable (formatted text)\n",
    "\n",
    "numero = 12\n",
    "texto_formato = f\"La raíz de {numero} es {numero**0.5} y su cubo es {numero**3}\"\n",
    "\n",
    "print(texto_formato)\n"
   ]
  },
  {
   "cell_type": "markdown",
   "metadata": {},
   "source": [
    "### Colecciones de datos (o datos estructurados)"
   ]
  },
  {
   "cell_type": "markdown",
   "metadata": {},
   "source": [
    "Son agrupaciones que nos permiten asignar multiples datos a una sola variable.\n",
    "\n",
    "Existen 4 tipos de colecciones:"
   ]
  },
  {
   "cell_type": "markdown",
   "metadata": {},
   "source": [
    "|                                     | Ordenada |  Indexada  | Modificable | Permite duplicados |\n",
    "|:-----------------------------------:|:--------:|:----------:|:-----------:|:------------------:|\n",
    "|       **Lista**<br />(*List*)       |     X    |  X (auto)  |      X      |          X         |\n",
    "|       **Tupla**<br />(*Tuple*)      |     X    |  X (auto)  |             |          X         |\n",
    "| **Diccionario**<br />(*Dictionary*) |     X    | X (manual) |      X      |                    |\n",
    "|      **Conjunto**<br />(*Set*)      |          |            |      X      |                    |"
   ]
  },
  {
   "cell_type": "markdown",
   "metadata": {},
   "source": [
    "Se declaran de la siguiente manera:"
   ]
  },
  {
   "cell_type": "code",
   "execution_count": 16,
   "metadata": {},
   "outputs": [],
   "source": [
    "# LISTAS\n",
    "list1 = [1, 2, 3, 1, 2, \"a\", \"b\", \"a\", \"b\"]\n",
    "\n",
    "# TUPLAS\n",
    "tuple1 = (1, 2, 3, 4, 5, \"a\", \"b\", 1)\n",
    "\n",
    "# DICCIONARIOS\n",
    "dict1 = {\"ECU\": \"Ecuador\", \"COL\": \"Colombia\", \"PER\": \"Perú\", \"BOL\": \"Bolivia\"}\n",
    "\n",
    "# SETS\n",
    "set1 = set(list1)\n"
   ]
  },
  {
   "cell_type": "code",
   "execution_count": 17,
   "metadata": {},
   "outputs": [
    {
     "name": "stdout",
     "output_type": "stream",
     "text": [
      "[1, 2, 3, 1, 2, 'a', 'b', 'a', 'b']\n",
      "(1, 2, 3, 4, 5, 'a', 'b', 1)\n",
      "{'ECU': 'Ecuador', 'COL': 'Colombia', 'PER': 'Perú', 'BOL': 'Bolivia'}\n",
      "{1, 2, 3, 'a', 'b'}\n"
     ]
    }
   ],
   "source": [
    "print(list1)\n",
    "print(tuple1)\n",
    "print(dict1)\n",
    "print(set1)"
   ]
  },
  {
   "cell_type": "markdown",
   "metadata": {},
   "source": [
    "A estas colecciones se les considera estructuras unidemensionales. Sin embargo, podemos representar N dimensiones al anidarlar (*nested lists*)."
   ]
  },
  {
   "cell_type": "code",
   "execution_count": 18,
   "metadata": {},
   "outputs": [
    {
     "name": "stdout",
     "output_type": "stream",
     "text": [
      "[[3, 4, 5], [2, 6, 7], [0, 1, 9]]\n",
      "{'A0001': [10, 10, 8, 9, 8], 'A0002': [3, 1, 5, 7.4, 8]}\n"
     ]
    }
   ],
   "source": [
    "matriz = [[3, 4, 5], [2, 6, 7], [0, 1, 9]]\n",
    "notas = {\"A0001\": [10, 10, 8, 9, 8], \"A0002\": [3, 1, 5, 7.4, 8]}\n",
    "\n",
    "print(matriz)\n",
    "print(notas)"
   ]
  },
  {
   "cell_type": "markdown",
   "metadata": {},
   "source": [
    "La idea es que, al ser un lenguaje **dinámico**, no hay restricción en lo que se puede agrupar en una colección de datos."
   ]
  },
  {
   "cell_type": "markdown",
   "metadata": {},
   "source": [
    "## Slicing"
   ]
  },
  {
   "cell_type": "markdown",
   "metadata": {},
   "source": [
    "Podemos seleccionar datos específicos de las colecciones utilizando el método slicing. **Tener en cuenta que la numeración empieza en 0**."
   ]
  },
  {
   "cell_type": "code",
   "execution_count": 19,
   "metadata": {},
   "outputs": [],
   "source": [
    "list1 = [1, 2, 3, \"a\", \"b\", \"c\"]"
   ]
  },
  {
   "cell_type": "markdown",
   "metadata": {},
   "source": [
    "**Lista**\n",
    "|key|-key|  Value |\n",
    "|---|----|--------|\n",
    "| 0 | -6 | 1      |\n",
    "| 1 | -5 | 2      |\n",
    "| 2 | -4 | 3      |\n",
    "| 3 | -3 | a      |\n",
    "| 4 | -2 | b      |\n",
    "| 5 | -1 | c      |  \n",
    "  \n",
    "  \n",
    "**Diccionario**\n",
    "| Key | Value    |\n",
    "|-----|----------|\n",
    "| ECU | Ecuador  |\n",
    "| COL | Colombia |\n",
    "| PER | Perú     |\n",
    "| BOL | Bolivia  |"
   ]
  },
  {
   "cell_type": "code",
   "execution_count": 20,
   "metadata": {},
   "outputs": [
    {
     "name": "stdout",
     "output_type": "stream",
     "text": [
      "1\n",
      "3\n",
      "c\n"
     ]
    }
   ],
   "source": [
    "# Seleccionar elementos\n",
    "print( list1[0] )\n",
    "print( list1[2] )\n",
    "print( list1[5] )"
   ]
  },
  {
   "cell_type": "code",
   "execution_count": 21,
   "metadata": {},
   "outputs": [
    {
     "name": "stdout",
     "output_type": "stream",
     "text": [
      "['a', 'b', 'c']\n",
      "[3, 'a', 'b', 'c']\n"
     ]
    }
   ],
   "source": [
    "# Seleccionar rangos\n",
    "print( list1[3:7] )\n",
    "print( list1[2:] )"
   ]
  },
  {
   "cell_type": "code",
   "execution_count": 22,
   "metadata": {},
   "outputs": [
    {
     "name": "stdout",
     "output_type": "stream",
     "text": [
      "3\n"
     ]
    }
   ],
   "source": [
    "# Seleccionar desde el último elemento\n",
    "print( list1[-4] )"
   ]
  },
  {
   "cell_type": "code",
   "execution_count": 23,
   "metadata": {},
   "outputs": [
    {
     "name": "stdout",
     "output_type": "stream",
     "text": [
      "Colombia\n"
     ]
    }
   ],
   "source": [
    "# Diccionario\n",
    "print(dict1[\"COL\"])"
   ]
  },
  {
   "cell_type": "markdown",
   "metadata": {},
   "source": [
    "```{admonition} Pregunta\n",
    "¿Cómo crearía una estructura de datos que contenga las notas de los 3 progresos de un grupo de alumnos?\n",
    "```"
   ]
  },
  {
   "cell_type": "markdown",
   "metadata": {},
   "source": [
    "## Operadores aritméticos y lógicos"
   ]
  },
  {
   "cell_type": "markdown",
   "metadata": {},
   "source": [
    "Un amplio listado lo podemos encontrar en:\n",
    "\n",
    "https://www.w3schools.com/python/python_operators.asp"
   ]
  },
  {
   "cell_type": "markdown",
   "metadata": {},
   "source": [
    "## Aritméticos\n",
    "\n",
    "- \\+\tAddition\n",
    "- \\-\tSubtraction\n",
    "- \\*\tMultiplication\n",
    "- \\/\tDivision\n",
    "- \\%\tModulus\n",
    "- \\**\tExponentiation\t\n",
    "- \\//\tFloor division\t\n",
    "\n",
    "## Comparaciones\n",
    "- /==\tEqual\tx == y\t\n",
    "- /!=\tNot equal\tx != y\t\n",
    "- />\tGreater than\tx > y\t\n",
    "- /<\tLess than\tx < y\t\n",
    "- />=\tGreater than or equal to\tx >= y\t\n",
    "- /<=\tLess than or equal to\tx <= y\n",
    "\n",
    "## Lógicos\n",
    "- AND\n",
    "- OR\n",
    "- NOT"
   ]
  },
  {
   "cell_type": "markdown",
   "metadata": {},
   "source": [
    "## Funciones"
   ]
  },
  {
   "cell_type": "code",
   "execution_count": 4,
   "metadata": {},
   "outputs": [],
   "source": [
    "def suma(a, b):\n",
    "    return a + b"
   ]
  },
  {
   "cell_type": "code",
   "execution_count": 5,
   "metadata": {},
   "outputs": [],
   "source": [
    "def potencia(a, b=2):\n",
    "    return a ** b"
   ]
  },
  {
   "cell_type": "code",
   "execution_count": null,
   "metadata": {},
   "outputs": [],
   "source": []
  },
  {
   "cell_type": "markdown",
   "metadata": {},
   "source": [
    "## Loops"
   ]
  },
  {
   "cell_type": "markdown",
   "metadata": {},
   "source": [
    "Existen dos tipos de loops: **for** and **while** loops:"
   ]
  },
  {
   "cell_type": "code",
   "execution_count": 17,
   "metadata": {},
   "outputs": [
    {
     "name": "stdout",
     "output_type": "stream",
     "text": [
      "0\n",
      "1\n",
      "2\n",
      "3\n",
      "4\n",
      "5\n",
      "6\n",
      "7\n",
      "8\n",
      "9\n"
     ]
    }
   ],
   "source": [
    "lista = range(10)\n",
    "\n",
    "for i in lista:\n",
    "    print(i)\n"
   ]
  },
  {
   "cell_type": "code",
   "execution_count": 10,
   "metadata": {},
   "outputs": [
    {
     "name": "stdout",
     "output_type": "stream",
     "text": [
      "0\n",
      "1\n",
      "2\n",
      "3\n",
      "4\n",
      "5\n",
      "6\n",
      "7\n",
      "8\n",
      "9\n"
     ]
    }
   ],
   "source": [
    "i = 0\n",
    "while i < 10:\n",
    "    print(i)\n",
    "    i += 1"
   ]
  },
  {
   "cell_type": "markdown",
   "metadata": {},
   "source": [
    "Puedo usar **break** para salir del ciclo"
   ]
  },
  {
   "cell_type": "markdown",
   "metadata": {},
   "source": [
    "```{admonition} Pregunta\n",
    "¿Comó sumaría los N primeros números enteros?\n",
    "```"
   ]
  },
  {
   "cell_type": "code",
   "execution_count": null,
   "metadata": {},
   "outputs": [],
   "source": []
  },
  {
   "cell_type": "markdown",
   "metadata": {},
   "source": [
    "## Condicionales"
   ]
  },
  {
   "cell_type": "code",
   "execution_count": 4,
   "metadata": {},
   "outputs": [
    {
     "name": "stdout",
     "output_type": "stream",
     "text": [
      "x es igual a 5\n"
     ]
    }
   ],
   "source": [
    "x = 5\n",
    "\n",
    "if x>5:\n",
    "    print(\"x es mayor que 5\")\n",
    "elif x==5:\n",
    "    print(\"x es igual a 5\")\n",
    "else:\n",
    "    print(\"x es menor que 5\")"
   ]
  },
  {
   "cell_type": "markdown",
   "metadata": {},
   "source": [
    "## Ejemplos"
   ]
  },
  {
   "cell_type": "code",
   "execution_count": 1,
   "metadata": {},
   "outputs": [],
   "source": [
    "def Fibonacci(n):\n",
    "  \n",
    "    if n < 0:\n",
    "        print(\"Incorrect input\")\n",
    "  \n",
    "    elif n == 0:\n",
    "        return 0\n",
    "  \n",
    "    elif n == 1 or n == 2:\n",
    "        return 1\n",
    "  \n",
    "    else:\n",
    "        return Fibonacci(n-1) + Fibonacci(n-2)\n",
    "  "
   ]
  },
  {
   "cell_type": "code",
   "execution_count": 11,
   "metadata": {},
   "outputs": [
    {
     "data": {
      "text/plain": [
       "55"
      ]
     },
     "execution_count": 11,
     "metadata": {},
     "output_type": "execute_result"
    }
   ],
   "source": [
    "Fibonacci(10)"
   ]
  }
 ],
 "metadata": {
  "interpreter": {
   "hash": "e7370f93d1d0cde622a1f8e1c04877d8463912d04d973331ad4851f04de6915a"
  },
  "kernelspec": {
   "display_name": "Python 3.9.7 64-bit",
   "name": "python3"
  },
  "language_info": {
   "codemirror_mode": {
    "name": "ipython",
    "version": 3
   },
   "file_extension": ".py",
   "mimetype": "text/x-python",
   "name": "python",
   "nbconvert_exporter": "python",
   "pygments_lexer": "ipython3",
   "version": "3.11.3"
  },
  "orig_nbformat": 4
 },
 "nbformat": 4,
 "nbformat_minor": 2
}
