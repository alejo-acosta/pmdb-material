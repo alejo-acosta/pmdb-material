{
 "cells": [
  {
   "cell_type": "markdown",
   "metadata": {},
   "source": [
    "# 3. Librerías"
   ]
  },
  {
   "cell_type": "markdown",
   "metadata": {},
   "source": [
    "## I. Librerías para Análisis de Datos y Manipulación\n",
    "\n",
    "   - Pandas\n",
    "     - Estructuras de datos: Series y DataFrames\n",
    "     - Manipulación y limpieza de datos\n",
    "     - Operaciones de filtrado, agrupación y agregación\n",
    "     - Visualización de datos\n",
    "\n",
    "   - NumPy\n",
    "     - Arrays y matrices multidimensionales\n",
    "     - Funciones matemáticas y operaciones con arrays\n",
    "     - Indexación y slicing de arrays\n",
    "     - Integración con otras librerías, como Pandas y SciPy\n",
    "\n",
    "   - SciPy\n",
    "     - Integración con NumPy\n",
    "     - Funciones científicas y matemáticas avanzadas\n",
    "     - Álgebra lineal y optimización\n",
    "     - Procesamiento de señales y estadísticas\n",
    "\n",
    "## II. Librerías de Aprendizaje Automático (Machine Learning)\n",
    "   - Scikit-learn\n",
    "     - Modelos de clasificación y regresión\n",
    "     - Técnicas de clustering y reducción de dimensionalidad\n",
    "     - Evaluación y selección de modelos\n",
    "     - Pipelines de procesamiento de datos\n",
    "\n",
    "   - TensorFlow\n",
    "     - Conceptos básicos de tensores y grafos computacionales\n",
    "     - Construcción de modelos de aprendizaje profundo\n",
    "     - Entrenamiento y optimización de modelos\n",
    "     - Uso de TensorFlow para otras tareas de cálculo numérico\n",
    "\n",
    "   - PyTorch\n",
    "     - Tensores y autogradientes en PyTorch\n",
    "     - Construcción y entrenamiento de redes neuronales\n",
    "     - Transferencia de modelos entre PyTorch y TensorFlow\n",
    "     - Implementación de modelos avanzados con PyTorch\n",
    "\n",
    "## III. Librerías para Visualización de Datos\n",
    "   - Matplotlib\n",
    "     - Gráficos básicos: líneas, barras, dispersión, etc.\n",
    "     - Personalización de gráficos y etiquetado\n",
    "     - Gráficos en 3D y animaciones\n",
    "     - Subplots y múltiples figuras\n",
    "\n",
    "   - Seaborn\n",
    "     - Visualizaciones estadísticas y gráficos complejos\n",
    "     - Relación con DataFrames de Pandas\n",
    "     - Customización de estilos y paletas de colores\n",
    "     - Gráficos de distribución y relaciones\n",
    "\n",
    "## IV. Librerías para Procesamiento de Texto y NLP\n",
    "   - NLTK (Natural Language Toolkit)\n",
    "     - Procesamiento básico de texto: tokenización, stemming, etc.\n",
    "     - Análisis de sentimientos y clasificación de texto\n",
    "     - Extracción de entidades y relaciones\n",
    "     - Creación de modelos de lenguaje y generación de texto\n",
    "\n",
    "   - SpaCy\n",
    "     - Procesamiento avanzado de texto y etiquetado POS (Part-of-Speech)\n",
    "     - Reconocimiento de entidades nombradas\n",
    "     - Análisis sintáctico y dependencias\n",
    "     - Integración con otros modelos de aprendizaje automático\n",
    "\n",
    "## V. Librerías para Web Scraping y Automatización\n",
    "   - Requests\n",
    "     - Realización de peticiones HTTP\n",
    "     - Manipulación de respuestas y contenido web\n",
    "     - Autenticación y manejo de cookies\n",
    "\n",
    "   - BeautifulSoup\n",
    "     - Análisis y extracción de datos HTML\n",
    "     - Navegación y búsqueda en documentos HTML\n",
    "     - Extracción de información estructurada de páginas web\n",
    "\n"
   ]
  },
  {
   "cell_type": "markdown",
   "metadata": {},
   "source": [
    "## 3.1. Instalación"
   ]
  },
  {
   "cell_type": "markdown",
   "metadata": {},
   "source": [
    "- Para instalar una librería en Python, se utiliza el comando pip install\n",
    "- pero ésto lo hacemos desde la terminal\n",
    "- para instalar una librería desde el notebook, se utiliza el comando !pip install\n",
    "- Una vez instalada la librería no es necesario hacerlo de nuevo"
   ]
  },
  {
   "cell_type": "code",
   "execution_count": 1,
   "metadata": {},
   "outputs": [
    {
     "name": "stdout",
     "output_type": "stream",
     "text": [
      "Requirement already satisfied: pandas in c:\\users\\alejo\\appdata\\local\\programs\\python\\python311\\lib\\site-packages (2.0.3)\n",
      "Requirement already satisfied: python-dateutil>=2.8.2 in c:\\users\\alejo\\appdata\\local\\programs\\python\\python311\\lib\\site-packages (from pandas) (2.8.2)\n",
      "Requirement already satisfied: pytz>=2020.1 in c:\\users\\alejo\\appdata\\local\\programs\\python\\python311\\lib\\site-packages (from pandas) (2023.3)\n",
      "Requirement already satisfied: tzdata>=2022.1 in c:\\users\\alejo\\appdata\\local\\programs\\python\\python311\\lib\\site-packages (from pandas) (2023.3)\n",
      "Requirement already satisfied: numpy>=1.21.0 in c:\\users\\alejo\\appdata\\local\\programs\\python\\python311\\lib\\site-packages (from pandas) (1.24.3)\n",
      "Requirement already satisfied: six>=1.5 in c:\\users\\alejo\\appdata\\local\\programs\\python\\python311\\lib\\site-packages (from python-dateutil>=2.8.2->pandas) (1.16.0)\n"
     ]
    }
   ],
   "source": [
    "!pip install pandas"
   ]
  },
  {
   "cell_type": "markdown",
   "metadata": {},
   "source": [
    "## 3.2. Uso"
   ]
  },
  {
   "cell_type": "markdown",
   "metadata": {},
   "source": [
    "Tenemos 3 formas de usar librerías"
   ]
  },
  {
   "cell_type": "code",
   "execution_count": 2,
   "metadata": {},
   "outputs": [],
   "source": [
    "# importamos toda la libreria con un alias\n",
    "import pandas"
   ]
  },
  {
   "cell_type": "code",
   "execution_count": 3,
   "metadata": {},
   "outputs": [],
   "source": [
    "# importamos solo una parte de la librería\n",
    "from numpy import random"
   ]
  },
  {
   "cell_type": "code",
   "execution_count": 4,
   "metadata": {},
   "outputs": [],
   "source": [
    "# importamos todo lo que está en la librería sin un alias\n",
    "from unidecode import *\n"
   ]
  },
  {
   "cell_type": "code",
   "execution_count": 5,
   "metadata": {},
   "outputs": [],
   "source": [
    "# a los dos primeros métodos se les puede asignar un alias\n",
    "import pandas as pd\n",
    "import numpy as np\n",
    "\n",
    "import matplotlib.pyplot as plt\n",
    "import seaborn as sns"
   ]
  },
  {
   "cell_type": "markdown",
   "metadata": {},
   "source": [
    "Las librerías en python tienen una jerarquía:\n",
    "\n",
    "![jerarquía](https://heardlibrary.github.io/digital-scholarship/script/python/images/module-structure.png)\n",
    "\n",
    "Puedo acceder a los distintos niveles encadenandolos con un \".\""
   ]
  },
  {
   "cell_type": "markdown",
   "metadata": {},
   "source": [
    "---"
   ]
  },
  {
   "cell_type": "code",
   "execution_count": 6,
   "metadata": {},
   "outputs": [
    {
     "data": {
      "text/plain": [
       "array([[62, 84, 29,  2,  4, 66, 16, 31, 79, 75],\n",
       "       [71, 93, 67, 64,  4, 94, 98, 97, 36, 12],\n",
       "       [36, 29, 33, 41, 21, 89, 33, 17, 22, 66],\n",
       "       [52, 40, 83, 12, 39, 18, 94, 84, 60, 51],\n",
       "       [83, 32, 62, 28, 82, 90, 27, 54, 75, 62],\n",
       "       [17, 25, 43, 47, 67, 64, 85, 39, 33, 12],\n",
       "       [64, 50, 39, 76, 81, 98, 15,  8, 57, 92],\n",
       "       [67, 57, 57, 90, 23, 25, 30, 26, 61, 71],\n",
       "       [44, 53, 11, 29, 77, 60, 27, 21, 60, 73],\n",
       "       [15, 33,  5, 16, 89,  1, 24, 50, 21, 80]])"
      ]
     },
     "execution_count": 6,
     "metadata": {},
     "output_type": "execute_result"
    }
   ],
   "source": [
    "random.randint(1, 100, (10,10))"
   ]
  },
  {
   "cell_type": "code",
   "execution_count": 7,
   "metadata": {},
   "outputs": [
    {
     "data": {
      "text/plain": [
       "'aeiou'"
      ]
     },
     "execution_count": 7,
     "metadata": {},
     "output_type": "execute_result"
    }
   ],
   "source": [
    "unidecode('áéíóú')"
   ]
  },
  {
   "cell_type": "code",
   "execution_count": 8,
   "metadata": {},
   "outputs": [
    {
     "data": {
      "text/html": [
       "<div>\n",
       "<style scoped>\n",
       "    .dataframe tbody tr th:only-of-type {\n",
       "        vertical-align: middle;\n",
       "    }\n",
       "\n",
       "    .dataframe tbody tr th {\n",
       "        vertical-align: top;\n",
       "    }\n",
       "\n",
       "    .dataframe thead th {\n",
       "        text-align: right;\n",
       "    }\n",
       "</style>\n",
       "<table border=\"1\" class=\"dataframe\">\n",
       "  <thead>\n",
       "    <tr style=\"text-align: right;\">\n",
       "      <th></th>\n",
       "      <th>0</th>\n",
       "      <th>1</th>\n",
       "      <th>2</th>\n",
       "      <th>3</th>\n",
       "      <th>4</th>\n",
       "      <th>5</th>\n",
       "      <th>6</th>\n",
       "      <th>7</th>\n",
       "      <th>8</th>\n",
       "      <th>9</th>\n",
       "    </tr>\n",
       "  </thead>\n",
       "  <tbody>\n",
       "    <tr>\n",
       "      <th>0</th>\n",
       "      <td>93</td>\n",
       "      <td>3</td>\n",
       "      <td>42</td>\n",
       "      <td>26</td>\n",
       "      <td>63</td>\n",
       "      <td>74</td>\n",
       "      <td>40</td>\n",
       "      <td>8</td>\n",
       "      <td>66</td>\n",
       "      <td>74</td>\n",
       "    </tr>\n",
       "    <tr>\n",
       "      <th>1</th>\n",
       "      <td>2</td>\n",
       "      <td>47</td>\n",
       "      <td>93</td>\n",
       "      <td>75</td>\n",
       "      <td>11</td>\n",
       "      <td>29</td>\n",
       "      <td>86</td>\n",
       "      <td>31</td>\n",
       "      <td>96</td>\n",
       "      <td>56</td>\n",
       "    </tr>\n",
       "    <tr>\n",
       "      <th>2</th>\n",
       "      <td>78</td>\n",
       "      <td>66</td>\n",
       "      <td>24</td>\n",
       "      <td>36</td>\n",
       "      <td>66</td>\n",
       "      <td>66</td>\n",
       "      <td>45</td>\n",
       "      <td>99</td>\n",
       "      <td>63</td>\n",
       "      <td>32</td>\n",
       "    </tr>\n",
       "    <tr>\n",
       "      <th>3</th>\n",
       "      <td>13</td>\n",
       "      <td>75</td>\n",
       "      <td>81</td>\n",
       "      <td>76</td>\n",
       "      <td>82</td>\n",
       "      <td>42</td>\n",
       "      <td>18</td>\n",
       "      <td>77</td>\n",
       "      <td>67</td>\n",
       "      <td>44</td>\n",
       "    </tr>\n",
       "    <tr>\n",
       "      <th>4</th>\n",
       "      <td>90</td>\n",
       "      <td>28</td>\n",
       "      <td>64</td>\n",
       "      <td>1</td>\n",
       "      <td>9</td>\n",
       "      <td>91</td>\n",
       "      <td>79</td>\n",
       "      <td>50</td>\n",
       "      <td>32</td>\n",
       "      <td>26</td>\n",
       "    </tr>\n",
       "    <tr>\n",
       "      <th>5</th>\n",
       "      <td>29</td>\n",
       "      <td>54</td>\n",
       "      <td>97</td>\n",
       "      <td>44</td>\n",
       "      <td>84</td>\n",
       "      <td>22</td>\n",
       "      <td>17</td>\n",
       "      <td>55</td>\n",
       "      <td>4</td>\n",
       "      <td>69</td>\n",
       "    </tr>\n",
       "    <tr>\n",
       "      <th>6</th>\n",
       "      <td>92</td>\n",
       "      <td>83</td>\n",
       "      <td>85</td>\n",
       "      <td>12</td>\n",
       "      <td>2</td>\n",
       "      <td>78</td>\n",
       "      <td>6</td>\n",
       "      <td>11</td>\n",
       "      <td>78</td>\n",
       "      <td>14</td>\n",
       "    </tr>\n",
       "    <tr>\n",
       "      <th>7</th>\n",
       "      <td>65</td>\n",
       "      <td>31</td>\n",
       "      <td>20</td>\n",
       "      <td>68</td>\n",
       "      <td>32</td>\n",
       "      <td>85</td>\n",
       "      <td>32</td>\n",
       "      <td>32</td>\n",
       "      <td>78</td>\n",
       "      <td>71</td>\n",
       "    </tr>\n",
       "    <tr>\n",
       "      <th>8</th>\n",
       "      <td>18</td>\n",
       "      <td>29</td>\n",
       "      <td>72</td>\n",
       "      <td>72</td>\n",
       "      <td>59</td>\n",
       "      <td>10</td>\n",
       "      <td>91</td>\n",
       "      <td>88</td>\n",
       "      <td>76</td>\n",
       "      <td>55</td>\n",
       "    </tr>\n",
       "    <tr>\n",
       "      <th>9</th>\n",
       "      <td>17</td>\n",
       "      <td>6</td>\n",
       "      <td>56</td>\n",
       "      <td>19</td>\n",
       "      <td>64</td>\n",
       "      <td>55</td>\n",
       "      <td>48</td>\n",
       "      <td>74</td>\n",
       "      <td>20</td>\n",
       "      <td>22</td>\n",
       "    </tr>\n",
       "  </tbody>\n",
       "</table>\n",
       "</div>"
      ],
      "text/plain": [
       "    0   1   2   3   4   5   6   7   8   9\n",
       "0  93   3  42  26  63  74  40   8  66  74\n",
       "1   2  47  93  75  11  29  86  31  96  56\n",
       "2  78  66  24  36  66  66  45  99  63  32\n",
       "3  13  75  81  76  82  42  18  77  67  44\n",
       "4  90  28  64   1   9  91  79  50  32  26\n",
       "5  29  54  97  44  84  22  17  55   4  69\n",
       "6  92  83  85  12   2  78   6  11  78  14\n",
       "7  65  31  20  68  32  85  32  32  78  71\n",
       "8  18  29  72  72  59  10  91  88  76  55\n",
       "9  17   6  56  19  64  55  48  74  20  22"
      ]
     },
     "execution_count": 8,
     "metadata": {},
     "output_type": "execute_result"
    }
   ],
   "source": [
    "mesh = pd.DataFrame(random.randint(1, 100, (10,10)))\n",
    "mesh"
   ]
  },
  {
   "cell_type": "code",
   "execution_count": 9,
   "metadata": {},
   "outputs": [
    {
     "data": {
      "text/plain": [
       "<Axes: >"
      ]
     },
     "execution_count": 9,
     "metadata": {},
     "output_type": "execute_result"
    },
    {
     "data": {
      "image/png": "[encoded data removed]",
      "text/plain": [
       "<Figure size 640x480 with 2 Axes>"
      ]
     },
     "metadata": {},
     "output_type": "display_data"
    }
   ],
   "source": [
    "# plot mesh in 2d\n",
    "sns.heatmap(mesh, cmap='viridis', annot=True, fmt='.0f')"
   ]
  },
  {
   "cell_type": "code",
   "execution_count": null,
   "metadata": {},
   "outputs": [],
   "source": []
  }
 ],
 "metadata": {
  "kernelspec": {
   "display_name": "Python 3",
   "language": "python",
   "name": "python3"
  },
  "language_info": {
   "codemirror_mode": {
    "name": "ipython",
    "version": 3
   },
   "file_extension": ".py",
   "mimetype": "text/x-python",
   "name": "python",
   "nbconvert_exporter": "python",
   "pygments_lexer": "ipython3",
   "version": "3.11.4"
  }
 },
 "nbformat": 4,
 "nbformat_minor": 2
}