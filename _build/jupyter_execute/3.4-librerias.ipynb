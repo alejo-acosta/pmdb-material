{
 "cells": [
  {
   "cell_type": "markdown",
   "metadata": {},
   "source": [
    "# 3.4. Librerías"
   ]
  },
  {
   "cell_type": "markdown",
   "metadata": {},
   "source": [
    "## I. Librerías para Análisis de Datos y Manipulación\n",
    "\n",
    "   - Pandas\n",
    "     - Estructuras de datos: Series y DataFrames\n",
    "     - Manipulación y limpieza de datos\n",
    "     - Operaciones de filtrado, agrupación y agregación\n",
    "     - Visualización de datos\n",
    "\n",
    "   - NumPy\n",
    "     - Arrays y matrices multidimensionales\n",
    "     - Funciones matemáticas y operaciones con arrays\n",
    "     - Indexación y slicing de arrays\n",
    "     - Integración con otras librerías, como Pandas y SciPy\n",
    "\n",
    "   - SciPy\n",
    "     - Integración con NumPy\n",
    "     - Funciones científicas y matemáticas avanzadas\n",
    "     - Álgebra lineal y optimización\n",
    "     - Procesamiento de señales y estadísticas\n",
    "\n",
    "## II. Librerías de Aprendizaje Automático (Machine Learning)\n",
    "   - Scikit-learn\n",
    "     - Modelos de clasificación y regresión\n",
    "     - Técnicas de clustering y reducción de dimensionalidad\n",
    "     - Evaluación y selección de modelos\n",
    "     - Pipelines de procesamiento de datos\n",
    "\n",
    "   - TensorFlow\n",
    "     - Conceptos básicos de tensores y grafos computacionales\n",
    "     - Construcción de modelos de aprendizaje profundo\n",
    "     - Entrenamiento y optimización de modelos\n",
    "     - Uso de TensorFlow para otras tareas de cálculo numérico\n",
    "\n",
    "   - PyTorch\n",
    "     - Tensores y autogradientes en PyTorch\n",
    "     - Construcción y entrenamiento de redes neuronales\n",
    "     - Transferencia de modelos entre PyTorch y TensorFlow\n",
    "     - Implementación de modelos avanzados con PyTorch\n",
    "\n",
    "## III. Librerías para Visualización de Datos\n",
    "   - Matplotlib\n",
    "    - Gráficos básicos: líneas, barras, dispersión, etc.\n",
    "    - Personalización de gráficos y etiquetado\n",
    "    - Gráficos en 3D y animaciones\n",
    "    - Subplots y múltiples figuras\n",
    "\n",
    "   - Seaborn\n",
    "    - Visualizaciones estadísticas y gráficos complejos\n",
    "    - Relación con DataFrames de Pandas\n",
    "    - Customización de estilos y paletas de colores\n",
    "    - Gráficos de distribución y relaciones\n",
    "\n",
    "   - Plotly\n",
    "    - Gráficos interactivos y dinámicos\n",
    "    - Visualizaciones en 3D y mapas\n",
    "    - Visualizaciones en la nube y colaborativas\n",
    "\n",
    "## IV. Librerías para Procesamiento de Texto y NLP\n",
    "   - NLTK (Natural Language Toolkit)\n",
    "     - Procesamiento básico de texto: tokenización, stemming, etc.\n",
    "     - Análisis de sentimientos y clasificación de texto\n",
    "     - Extracción de entidades y relaciones\n",
    "     - Creación de modelos de lenguaje y generación de texto\n",
    "\n",
    "   - SpaCy\n",
    "     - Procesamiento avanzado de texto y etiquetado POS (Part-of-Speech)\n",
    "     - Reconocimiento de entidades nombradas\n",
    "     - Análisis sintáctico y dependencias\n",
    "     - Integración con otros modelos de aprendizaje automático\n",
    "\n",
    "## V. Librerías para Web Scraping y Automatización\n",
    "   - Requests\n",
    "     - Realización de peticiones HTTP\n",
    "     - Manipulación de respuestas y contenido web\n",
    "     - Autenticación y manejo de cookies\n",
    "\n",
    "   - BeautifulSoup\n",
    "     - Análisis y extracción de datos HTML\n",
    "     - Navegación y búsqueda en documentos HTML\n",
    "     - Extracción de información estructurada de páginas web\n",
    "\n"
   ]
  },
  {
   "cell_type": "markdown",
   "metadata": {},
   "source": [
    "## 3.4.1. Instalación"
   ]
  },
  {
   "cell_type": "markdown",
   "metadata": {},
   "source": [
    "- Para instalar una librería en Python, se utiliza el comando pip install\n",
    "- pero ésto lo hacemos desde la terminal\n",
    "- para instalar una librería desde el notebook, se utiliza el comando !pip install\n",
    "- Una vez instalada la librería no es necesario hacerlo de nuevo"
   ]
  },
  {
   "cell_type": "code",
   "execution_count": 1,
   "metadata": {},
   "outputs": [
    {
     "name": "stdout",
     "output_type": "stream",
     "text": [
      "Defaulting to user installation because normal site-packages is not writeable\r\n"
     ]
    },
    {
     "name": "stdout",
     "output_type": "stream",
     "text": [
      "Requirement already satisfied: pandas in /home/alejo/.local/lib/python3.10/site-packages (1.5.3)\r\n",
      "Requirement already satisfied: numpy>=1.21.0 in /home/alejo/.local/lib/python3.10/site-packages (from pandas) (1.24.4)\r\n",
      "Requirement already satisfied: pytz>=2020.1 in /home/alejo/.local/lib/python3.10/site-packages (from pandas) (2023.3.post1)\r\n",
      "Requirement already satisfied: python-dateutil>=2.8.1 in /home/alejo/.local/lib/python3.10/site-packages (from pandas) (2.8.2)\r\n",
      "Requirement already satisfied: six>=1.5 in /usr/lib/python3/dist-packages (from python-dateutil>=2.8.1->pandas) (1.16.0)\r\n"
     ]
    }
   ],
   "source": [
    "!pip install pandas"
   ]
  },
  {
   "cell_type": "markdown",
   "metadata": {},
   "source": [
    "## 3.4.2. Uso"
   ]
  },
  {
   "cell_type": "markdown",
   "metadata": {},
   "source": [
    "Tenemos 3 formas de usar librerías"
   ]
  },
  {
   "cell_type": "code",
   "execution_count": 2,
   "metadata": {},
   "outputs": [],
   "source": [
    "# importamos toda la libreria con un alias\n",
    "import pandas"
   ]
  },
  {
   "cell_type": "code",
   "execution_count": 3,
   "metadata": {},
   "outputs": [],
   "source": [
    "# importamos solo una parte de la librería\n",
    "from numpy import random"
   ]
  },
  {
   "cell_type": "code",
   "execution_count": 4,
   "metadata": {},
   "outputs": [],
   "source": [
    "# importamos todo lo que está en la librería sin un alias\n",
    "from unidecode import *\n"
   ]
  },
  {
   "cell_type": "code",
   "execution_count": 5,
   "metadata": {},
   "outputs": [],
   "source": [
    "# a los dos primeros métodos se les puede asignar un alias\n",
    "import pandas as pd\n",
    "import numpy as np\n",
    "\n",
    "import matplotlib.pyplot as plt\n",
    "import seaborn as sns"
   ]
  },
  {
   "cell_type": "markdown",
   "metadata": {},
   "source": [
    "Las librerías en python tienen una jerarquía:\n",
    "\n",
    "![jerarquía](https://heardlibrary.github.io/digital-scholarship/script/python/images/module-structure.png)\n",
    "\n",
    "Puedo acceder a los distintos niveles encadenandolos con un \".\""
   ]
  },
  {
   "cell_type": "markdown",
   "metadata": {},
   "source": [
    "---"
   ]
  },
  {
   "cell_type": "code",
   "execution_count": 6,
   "metadata": {},
   "outputs": [
    {
     "data": {
      "text/plain": [
       "array([[52, 61, 68, 71, 88, 25, 23, 52, 77,  1],\n",
       "       [14, 52, 95, 14, 46,  5, 98, 20, 93, 77],\n",
       "       [92, 84, 41, 93,  7, 60, 85, 15, 40, 57],\n",
       "       [ 3, 21, 70,  9, 63, 66, 58, 91, 42, 55],\n",
       "       [96, 70, 41, 96, 80, 68, 17, 53, 27,  3],\n",
       "       [11, 52, 69, 44, 16, 13,  4, 85, 32, 52],\n",
       "       [91, 88, 35, 72, 76, 95,  5,  7, 84, 96],\n",
       "       [ 6, 10, 88, 74, 37, 88, 75, 33, 20, 47],\n",
       "       [ 5, 30, 84, 97,  8, 96,  2, 64, 49, 92],\n",
       "       [98, 22,  3, 71, 64, 44, 85, 94, 29, 30]])"
      ]
     },
     "execution_count": 6,
     "metadata": {},
     "output_type": "execute_result"
    }
   ],
   "source": [
    "random.randint(1, 100, (10,10))"
   ]
  },
  {
   "cell_type": "code",
   "execution_count": 7,
   "metadata": {},
   "outputs": [
    {
     "data": {
      "text/plain": [
       "'aeiou'"
      ]
     },
     "execution_count": 7,
     "metadata": {},
     "output_type": "execute_result"
    }
   ],
   "source": [
    "unidecode('áéíóú')"
   ]
  },
  {
   "cell_type": "code",
   "execution_count": 8,
   "metadata": {},
   "outputs": [
    {
     "data": {
      "text/html": [
       "<div>\n",
       "<style scoped>\n",
       "    .dataframe tbody tr th:only-of-type {\n",
       "        vertical-align: middle;\n",
       "    }\n",
       "\n",
       "    .dataframe tbody tr th {\n",
       "        vertical-align: top;\n",
       "    }\n",
       "\n",
       "    .dataframe thead th {\n",
       "        text-align: right;\n",
       "    }\n",
       "</style>\n",
       "<table border=\"1\" class=\"dataframe\">\n",
       "  <thead>\n",
       "    <tr style=\"text-align: right;\">\n",
       "      <th></th>\n",
       "      <th>0</th>\n",
       "      <th>1</th>\n",
       "      <th>2</th>\n",
       "      <th>3</th>\n",
       "      <th>4</th>\n",
       "      <th>5</th>\n",
       "      <th>6</th>\n",
       "      <th>7</th>\n",
       "      <th>8</th>\n",
       "      <th>9</th>\n",
       "    </tr>\n",
       "  </thead>\n",
       "  <tbody>\n",
       "    <tr>\n",
       "      <th>0</th>\n",
       "      <td>82</td>\n",
       "      <td>39</td>\n",
       "      <td>87</td>\n",
       "      <td>7</td>\n",
       "      <td>98</td>\n",
       "      <td>78</td>\n",
       "      <td>51</td>\n",
       "      <td>15</td>\n",
       "      <td>8</td>\n",
       "      <td>12</td>\n",
       "    </tr>\n",
       "    <tr>\n",
       "      <th>1</th>\n",
       "      <td>23</td>\n",
       "      <td>92</td>\n",
       "      <td>27</td>\n",
       "      <td>52</td>\n",
       "      <td>15</td>\n",
       "      <td>45</td>\n",
       "      <td>44</td>\n",
       "      <td>8</td>\n",
       "      <td>35</td>\n",
       "      <td>50</td>\n",
       "    </tr>\n",
       "    <tr>\n",
       "      <th>2</th>\n",
       "      <td>36</td>\n",
       "      <td>36</td>\n",
       "      <td>83</td>\n",
       "      <td>46</td>\n",
       "      <td>15</td>\n",
       "      <td>49</td>\n",
       "      <td>5</td>\n",
       "      <td>6</td>\n",
       "      <td>80</td>\n",
       "      <td>82</td>\n",
       "    </tr>\n",
       "    <tr>\n",
       "      <th>3</th>\n",
       "      <td>33</td>\n",
       "      <td>82</td>\n",
       "      <td>13</td>\n",
       "      <td>9</td>\n",
       "      <td>39</td>\n",
       "      <td>5</td>\n",
       "      <td>88</td>\n",
       "      <td>99</td>\n",
       "      <td>59</td>\n",
       "      <td>50</td>\n",
       "    </tr>\n",
       "    <tr>\n",
       "      <th>4</th>\n",
       "      <td>45</td>\n",
       "      <td>40</td>\n",
       "      <td>18</td>\n",
       "      <td>31</td>\n",
       "      <td>23</td>\n",
       "      <td>16</td>\n",
       "      <td>53</td>\n",
       "      <td>43</td>\n",
       "      <td>25</td>\n",
       "      <td>33</td>\n",
       "    </tr>\n",
       "    <tr>\n",
       "      <th>5</th>\n",
       "      <td>54</td>\n",
       "      <td>86</td>\n",
       "      <td>29</td>\n",
       "      <td>86</td>\n",
       "      <td>15</td>\n",
       "      <td>21</td>\n",
       "      <td>81</td>\n",
       "      <td>4</td>\n",
       "      <td>78</td>\n",
       "      <td>70</td>\n",
       "    </tr>\n",
       "    <tr>\n",
       "      <th>6</th>\n",
       "      <td>44</td>\n",
       "      <td>11</td>\n",
       "      <td>96</td>\n",
       "      <td>44</td>\n",
       "      <td>76</td>\n",
       "      <td>77</td>\n",
       "      <td>12</td>\n",
       "      <td>21</td>\n",
       "      <td>24</td>\n",
       "      <td>73</td>\n",
       "    </tr>\n",
       "    <tr>\n",
       "      <th>7</th>\n",
       "      <td>50</td>\n",
       "      <td>45</td>\n",
       "      <td>76</td>\n",
       "      <td>7</td>\n",
       "      <td>47</td>\n",
       "      <td>26</td>\n",
       "      <td>97</td>\n",
       "      <td>13</td>\n",
       "      <td>54</td>\n",
       "      <td>46</td>\n",
       "    </tr>\n",
       "    <tr>\n",
       "      <th>8</th>\n",
       "      <td>97</td>\n",
       "      <td>83</td>\n",
       "      <td>30</td>\n",
       "      <td>55</td>\n",
       "      <td>20</td>\n",
       "      <td>1</td>\n",
       "      <td>98</td>\n",
       "      <td>37</td>\n",
       "      <td>27</td>\n",
       "      <td>7</td>\n",
       "    </tr>\n",
       "    <tr>\n",
       "      <th>9</th>\n",
       "      <td>45</td>\n",
       "      <td>32</td>\n",
       "      <td>35</td>\n",
       "      <td>3</td>\n",
       "      <td>70</td>\n",
       "      <td>96</td>\n",
       "      <td>36</td>\n",
       "      <td>61</td>\n",
       "      <td>47</td>\n",
       "      <td>51</td>\n",
       "    </tr>\n",
       "  </tbody>\n",
       "</table>\n",
       "</div>"
      ],
      "text/plain": [
       "    0   1   2   3   4   5   6   7   8   9\n",
       "0  82  39  87   7  98  78  51  15   8  12\n",
       "1  23  92  27  52  15  45  44   8  35  50\n",
       "2  36  36  83  46  15  49   5   6  80  82\n",
       "3  33  82  13   9  39   5  88  99  59  50\n",
       "4  45  40  18  31  23  16  53  43  25  33\n",
       "5  54  86  29  86  15  21  81   4  78  70\n",
       "6  44  11  96  44  76  77  12  21  24  73\n",
       "7  50  45  76   7  47  26  97  13  54  46\n",
       "8  97  83  30  55  20   1  98  37  27   7\n",
       "9  45  32  35   3  70  96  36  61  47  51"
      ]
     },
     "execution_count": 8,
     "metadata": {},
     "output_type": "execute_result"
    }
   ],
   "source": [
    "mesh = pd.DataFrame(random.randint(1, 100, (10,10)))\n",
    "mesh"
   ]
  },
  {
   "cell_type": "code",
   "execution_count": 9,
   "metadata": {},
   "outputs": [
    {
     "data": {
      "text/plain": [
       "<Axes: >"
      ]
     },
     "execution_count": 9,
     "metadata": {},
     "output_type": "execute_result"
    },
    {
     "data": {
      "image/png": "[encoded data removed]",
      "text/plain": [
       "<Figure size 640x480 with 2 Axes>"
      ]
     },
     "metadata": {},
     "output_type": "display_data"
    }
   ],
   "source": [
    "# plot mesh in 2d\n",
    "sns.heatmap(mesh, cmap='viridis', annot=True, fmt='.0f')"
   ]
  },
  {
   "cell_type": "code",
   "execution_count": null,
   "metadata": {},
   "outputs": [],
   "source": []
  }
 ],
 "metadata": {
  "kernelspec": {
   "display_name": "Python 3",
   "language": "python",
   "name": "python3"
  },
  "language_info": {
   "codemirror_mode": {
    "name": "ipython",
    "version": 3
   },
   "file_extension": ".py",
   "mimetype": "text/x-python",
   "name": "python",
   "nbconvert_exporter": "python",
   "pygments_lexer": "ipython3",
   "version": "3.10.12"
  }
 },
 "nbformat": 4,
 "nbformat_minor": 2
}