{
 "cells": [
  {
   "cell_type": "markdown",
   "metadata": {},
   "source": [
    "# 3.4 Librerías"
   ]
  },
  {
   "cell_type": "markdown",
   "metadata": {},
   "source": [
    "## I. Librerías para Análisis de Datos y Manipulación\n",
    "\n",
    "   - Pandas\n",
    "     - Estructuras de datos: Series y DataFrames\n",
    "     - Manipulación y limpieza de datos\n",
    "     - Operaciones de filtrado, agrupación y agregación\n",
    "     - Visualización de datos\n",
    "\n",
    "   - NumPy\n",
    "     - Arrays y matrices multidimensionales\n",
    "     - Funciones matemáticas y operaciones con arrays\n",
    "     - Indexación y slicing de arrays\n",
    "     - Integración con otras librerías, como Pandas y SciPy\n",
    "\n",
    "   - SciPy\n",
    "     - Integración con NumPy\n",
    "     - Funciones científicas y matemáticas avanzadas\n",
    "     - Álgebra lineal y optimización\n",
    "     - Procesamiento de señales y estadísticas\n",
    "\n",
    "## II. Librerías de Aprendizaje Automático (Machine Learning)\n",
    "   - Scikit-learn\n",
    "     - Modelos de clasificación y regresión\n",
    "     - Técnicas de clustering y reducción de dimensionalidad\n",
    "     - Evaluación y selección de modelos\n",
    "     - Pipelines de procesamiento de datos\n",
    "\n",
    "   - TensorFlow\n",
    "     - Conceptos básicos de tensores y grafos computacionales\n",
    "     - Construcción de modelos de aprendizaje profundo\n",
    "     - Entrenamiento y optimización de modelos\n",
    "     - Uso de TensorFlow para otras tareas de cálculo numérico\n",
    "\n",
    "   - PyTorch\n",
    "     - Tensores y autogradientes en PyTorch\n",
    "     - Construcción y entrenamiento de redes neuronales\n",
    "     - Transferencia de modelos entre PyTorch y TensorFlow\n",
    "     - Implementación de modelos avanzados con PyTorch\n",
    "\n",
    "## III. Librerías para Visualización de Datos\n",
    "   - Matplotlib\n",
    "     - Gráficos básicos: líneas, barras, dispersión, etc.\n",
    "     - Personalización de gráficos y etiquetado\n",
    "     - Gráficos en 3D y animaciones\n",
    "     - Subplots y múltiples figuras\n",
    "\n",
    "   - Seaborn\n",
    "     - Visualizaciones estadísticas y gráficos complejos\n",
    "     - Relación con DataFrames de Pandas\n",
    "     - Customización de estilos y paletas de colores\n",
    "     - Gráficos de distribución y relaciones\n",
    "\n",
    "## IV. Librerías para Procesamiento de Texto y NLP\n",
    "   - NLTK (Natural Language Toolkit)\n",
    "     - Procesamiento básico de texto: tokenización, stemming, etc.\n",
    "     - Análisis de sentimientos y clasificación de texto\n",
    "     - Extracción de entidades y relaciones\n",
    "     - Creación de modelos de lenguaje y generación de texto\n",
    "\n",
    "   - SpaCy\n",
    "     - Procesamiento avanzado de texto y etiquetado POS (Part-of-Speech)\n",
    "     - Reconocimiento de entidades nombradas\n",
    "     - Análisis sintáctico y dependencias\n",
    "     - Integración con otros modelos de aprendizaje automático\n",
    "\n",
    "## V. Librerías para Web Scraping y Automatización\n",
    "   - Requests\n",
    "     - Realización de peticiones HTTP\n",
    "     - Manipulación de respuestas y contenido web\n",
    "     - Autenticación y manejo de cookies\n",
    "\n",
    "   - BeautifulSoup\n",
    "     - Análisis y extracción de datos HTML\n",
    "     - Navegación y búsqueda en documentos HTML\n",
    "     - Extracción de información estructurada de páginas web\n",
    "\n"
   ]
  },
  {
   "cell_type": "markdown",
   "metadata": {},
   "source": [
    "## 3.4.1. Instalación"
   ]
  },
  {
   "cell_type": "markdown",
   "metadata": {},
   "source": [
    "- Para instalar una librería en Python, se utiliza el comando pip install\n",
    "- pero ésto lo hacemos desde la terminal\n",
    "- para instalar una librería desde el notebook, se utiliza el comando !pip install\n",
    "- Una vez instalada la librería no es necesario hacerlo de nuevo"
   ]
  },
  {
   "cell_type": "code",
   "execution_count": 1,
   "metadata": {},
   "outputs": [
    {
     "name": "stdout",
     "output_type": "stream",
     "text": [
      "Requirement already satisfied: pandas in c:\\users\\alejo\\appdata\\local\\programs\\python\\python311\\lib\\site-packages (2.0.3)\n",
      "Requirement already satisfied: python-dateutil>=2.8.2 in c:\\users\\alejo\\appdata\\local\\programs\\python\\python311\\lib\\site-packages (from pandas) (2.8.2)\n",
      "Requirement already satisfied: pytz>=2020.1 in c:\\users\\alejo\\appdata\\local\\programs\\python\\python311\\lib\\site-packages (from pandas) (2023.3)\n",
      "Requirement already satisfied: tzdata>=2022.1 in c:\\users\\alejo\\appdata\\local\\programs\\python\\python311\\lib\\site-packages (from pandas) (2023.3)\n",
      "Requirement already satisfied: numpy>=1.21.0 in c:\\users\\alejo\\appdata\\local\\programs\\python\\python311\\lib\\site-packages (from pandas) (1.24.3)\n",
      "Requirement already satisfied: six>=1.5 in c:\\users\\alejo\\appdata\\local\\programs\\python\\python311\\lib\\site-packages (from python-dateutil>=2.8.2->pandas) (1.16.0)\n"
     ]
    }
   ],
   "source": [
    "!pip install pandas"
   ]
  },
  {
   "cell_type": "markdown",
   "metadata": {},
   "source": [
    "## 3.4.2. Uso"
   ]
  },
  {
   "cell_type": "markdown",
   "metadata": {},
   "source": [
    "Tenemos 3 formas de usar librerías"
   ]
  },
  {
   "cell_type": "code",
   "execution_count": 2,
   "metadata": {},
   "outputs": [],
   "source": [
    "# importamos toda la libreria con un alias\n",
    "import pandas"
   ]
  },
  {
   "cell_type": "code",
   "execution_count": 3,
   "metadata": {},
   "outputs": [],
   "source": [
    "# importamos solo una parte de la librería\n",
    "from numpy import random"
   ]
  },
  {
   "cell_type": "code",
   "execution_count": 4,
   "metadata": {},
   "outputs": [],
   "source": [
    "# importamos todo lo que está en la librería sin un alias\n",
    "from unidecode import *\n"
   ]
  },
  {
   "cell_type": "code",
   "execution_count": 5,
   "metadata": {},
   "outputs": [],
   "source": [
    "# a los dos primeros métodos se les puede asignar un alias\n",
    "import pandas as pd\n",
    "import numpy as np\n",
    "\n",
    "import matplotlib.pyplot as plt\n",
    "import seaborn as sns"
   ]
  },
  {
   "cell_type": "markdown",
   "metadata": {},
   "source": [
    "Las librerías en python tienen una jerarquía:\n",
    "\n",
    "![jerarquía](https://heardlibrary.github.io/digital-scholarship/script/python/images/module-structure.png)\n",
    "\n",
    "Puedo acceder a los distintos niveles encadenandolos con un \".\""
   ]
  },
  {
   "cell_type": "markdown",
   "metadata": {},
   "source": [
    "---"
   ]
  },
  {
   "cell_type": "code",
   "execution_count": 6,
   "metadata": {},
   "outputs": [
    {
     "data": {
      "text/plain": [
       "array([[60, 66, 50,  1, 36, 85,  3, 77, 19, 48],\n",
       "       [44, 21, 80, 40, 98, 81, 32, 50, 90, 96],\n",
       "       [38, 55, 67, 68, 22, 99, 11, 20, 54, 40],\n",
       "       [ 7, 45, 39, 59, 31, 49, 46, 59, 84, 37],\n",
       "       [ 1, 99,  1, 26,  3, 73, 95, 75, 95, 60],\n",
       "       [46,  9, 35, 97, 31,  9, 25, 60, 31, 14],\n",
       "       [14, 91, 41, 54, 28, 32, 25, 96,  2,  4],\n",
       "       [ 3, 17, 88, 96, 17, 33, 83, 39, 77, 64],\n",
       "       [27, 30, 63, 76, 25, 60,  1, 50, 75, 78],\n",
       "       [94, 28, 56, 82, 56, 79, 60, 24, 25, 27]])"
      ]
     },
     "execution_count": 6,
     "metadata": {},
     "output_type": "execute_result"
    }
   ],
   "source": [
    "random.randint(1, 100, (10,10))"
   ]
  },
  {
   "cell_type": "code",
   "execution_count": 7,
   "metadata": {},
   "outputs": [
    {
     "data": {
      "text/plain": [
       "'aeiou'"
      ]
     },
     "execution_count": 7,
     "metadata": {},
     "output_type": "execute_result"
    }
   ],
   "source": [
    "unidecode('áéíóú')"
   ]
  },
  {
   "cell_type": "code",
   "execution_count": 8,
   "metadata": {},
   "outputs": [
    {
     "data": {
      "text/html": [
       "<div>\n",
       "<style scoped>\n",
       "    .dataframe tbody tr th:only-of-type {\n",
       "        vertical-align: middle;\n",
       "    }\n",
       "\n",
       "    .dataframe tbody tr th {\n",
       "        vertical-align: top;\n",
       "    }\n",
       "\n",
       "    .dataframe thead th {\n",
       "        text-align: right;\n",
       "    }\n",
       "</style>\n",
       "<table border=\"1\" class=\"dataframe\">\n",
       "  <thead>\n",
       "    <tr style=\"text-align: right;\">\n",
       "      <th></th>\n",
       "      <th>0</th>\n",
       "      <th>1</th>\n",
       "      <th>2</th>\n",
       "      <th>3</th>\n",
       "      <th>4</th>\n",
       "      <th>5</th>\n",
       "      <th>6</th>\n",
       "      <th>7</th>\n",
       "      <th>8</th>\n",
       "      <th>9</th>\n",
       "    </tr>\n",
       "  </thead>\n",
       "  <tbody>\n",
       "    <tr>\n",
       "      <th>0</th>\n",
       "      <td>14</td>\n",
       "      <td>49</td>\n",
       "      <td>55</td>\n",
       "      <td>27</td>\n",
       "      <td>33</td>\n",
       "      <td>17</td>\n",
       "      <td>20</td>\n",
       "      <td>13</td>\n",
       "      <td>62</td>\n",
       "      <td>83</td>\n",
       "    </tr>\n",
       "    <tr>\n",
       "      <th>1</th>\n",
       "      <td>99</td>\n",
       "      <td>20</td>\n",
       "      <td>16</td>\n",
       "      <td>36</td>\n",
       "      <td>22</td>\n",
       "      <td>20</td>\n",
       "      <td>54</td>\n",
       "      <td>8</td>\n",
       "      <td>47</td>\n",
       "      <td>81</td>\n",
       "    </tr>\n",
       "    <tr>\n",
       "      <th>2</th>\n",
       "      <td>70</td>\n",
       "      <td>45</td>\n",
       "      <td>16</td>\n",
       "      <td>59</td>\n",
       "      <td>17</td>\n",
       "      <td>74</td>\n",
       "      <td>19</td>\n",
       "      <td>59</td>\n",
       "      <td>14</td>\n",
       "      <td>78</td>\n",
       "    </tr>\n",
       "    <tr>\n",
       "      <th>3</th>\n",
       "      <td>1</td>\n",
       "      <td>96</td>\n",
       "      <td>45</td>\n",
       "      <td>64</td>\n",
       "      <td>76</td>\n",
       "      <td>98</td>\n",
       "      <td>17</td>\n",
       "      <td>51</td>\n",
       "      <td>54</td>\n",
       "      <td>58</td>\n",
       "    </tr>\n",
       "    <tr>\n",
       "      <th>4</th>\n",
       "      <td>72</td>\n",
       "      <td>61</td>\n",
       "      <td>1</td>\n",
       "      <td>81</td>\n",
       "      <td>37</td>\n",
       "      <td>71</td>\n",
       "      <td>27</td>\n",
       "      <td>56</td>\n",
       "      <td>30</td>\n",
       "      <td>58</td>\n",
       "    </tr>\n",
       "    <tr>\n",
       "      <th>5</th>\n",
       "      <td>68</td>\n",
       "      <td>28</td>\n",
       "      <td>35</td>\n",
       "      <td>57</td>\n",
       "      <td>64</td>\n",
       "      <td>30</td>\n",
       "      <td>70</td>\n",
       "      <td>16</td>\n",
       "      <td>66</td>\n",
       "      <td>48</td>\n",
       "    </tr>\n",
       "    <tr>\n",
       "      <th>6</th>\n",
       "      <td>62</td>\n",
       "      <td>60</td>\n",
       "      <td>72</td>\n",
       "      <td>71</td>\n",
       "      <td>55</td>\n",
       "      <td>15</td>\n",
       "      <td>16</td>\n",
       "      <td>25</td>\n",
       "      <td>61</td>\n",
       "      <td>30</td>\n",
       "    </tr>\n",
       "    <tr>\n",
       "      <th>7</th>\n",
       "      <td>46</td>\n",
       "      <td>79</td>\n",
       "      <td>62</td>\n",
       "      <td>44</td>\n",
       "      <td>43</td>\n",
       "      <td>55</td>\n",
       "      <td>17</td>\n",
       "      <td>98</td>\n",
       "      <td>44</td>\n",
       "      <td>9</td>\n",
       "    </tr>\n",
       "    <tr>\n",
       "      <th>8</th>\n",
       "      <td>34</td>\n",
       "      <td>89</td>\n",
       "      <td>31</td>\n",
       "      <td>80</td>\n",
       "      <td>36</td>\n",
       "      <td>17</td>\n",
       "      <td>11</td>\n",
       "      <td>88</td>\n",
       "      <td>28</td>\n",
       "      <td>46</td>\n",
       "    </tr>\n",
       "    <tr>\n",
       "      <th>9</th>\n",
       "      <td>51</td>\n",
       "      <td>60</td>\n",
       "      <td>52</td>\n",
       "      <td>22</td>\n",
       "      <td>81</td>\n",
       "      <td>1</td>\n",
       "      <td>98</td>\n",
       "      <td>76</td>\n",
       "      <td>16</td>\n",
       "      <td>54</td>\n",
       "    </tr>\n",
       "  </tbody>\n",
       "</table>\n",
       "</div>"
      ],
      "text/plain": [
       "    0   1   2   3   4   5   6   7   8   9\n",
       "0  14  49  55  27  33  17  20  13  62  83\n",
       "1  99  20  16  36  22  20  54   8  47  81\n",
       "2  70  45  16  59  17  74  19  59  14  78\n",
       "3   1  96  45  64  76  98  17  51  54  58\n",
       "4  72  61   1  81  37  71  27  56  30  58\n",
       "5  68  28  35  57  64  30  70  16  66  48\n",
       "6  62  60  72  71  55  15  16  25  61  30\n",
       "7  46  79  62  44  43  55  17  98  44   9\n",
       "8  34  89  31  80  36  17  11  88  28  46\n",
       "9  51  60  52  22  81   1  98  76  16  54"
      ]
     },
     "execution_count": 8,
     "metadata": {},
     "output_type": "execute_result"
    }
   ],
   "source": [
    "mesh = pd.DataFrame(random.randint(1, 100, (10,10)))\n",
    "mesh"
   ]
  },
  {
   "cell_type": "code",
   "execution_count": 9,
   "metadata": {},
   "outputs": [
    {
     "data": {
      "text/plain": [
       "<Axes: >"
      ]
     },
     "execution_count": 9,
     "metadata": {},
     "output_type": "execute_result"
    },
    {
     "data": {
      "image/png": "[encoded data removed]",
      "text/plain": [
       "<Figure size 640x480 with 2 Axes>"
      ]
     },
     "metadata": {},
     "output_type": "display_data"
    }
   ],
   "source": [
    "# plot mesh in 2d\n",
    "sns.heatmap(mesh, cmap='viridis', annot=True, fmt='.0f')"
   ]
  },
  {
   "cell_type": "code",
   "execution_count": null,
   "metadata": {},
   "outputs": [],
   "source": []
  }
 ],
 "metadata": {
  "kernelspec": {
   "display_name": "Python 3",
   "language": "python",
   "name": "python3"
  },
  "language_info": {
   "codemirror_mode": {
    "name": "ipython",
    "version": 3
   },
   "file_extension": ".py",
   "mimetype": "text/x-python",
   "name": "python",
   "nbconvert_exporter": "python",
   "pygments_lexer": "ipython3",
   "version": "3.11.4"
  }
 },
 "nbformat": 4,
 "nbformat_minor": 2
}