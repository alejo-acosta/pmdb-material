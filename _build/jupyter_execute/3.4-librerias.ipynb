{
 "cells": [
  {
   "cell_type": "markdown",
   "metadata": {},
   "source": [
    "# 3.4. Librerías"
   ]
  },
  {
   "cell_type": "markdown",
   "metadata": {},
   "source": [
    "## I. Librerías para Análisis de Datos y Manipulación\n",
    "\n",
    "   - Pandas\n",
    "     - Estructuras de datos: Series y DataFrames\n",
    "     - Manipulación y limpieza de datos\n",
    "     - Operaciones de filtrado, agrupación y agregación\n",
    "     - Visualización de datos\n",
    "\n",
    "   - NumPy\n",
    "     - Arrays y matrices multidimensionales\n",
    "     - Funciones matemáticas y operaciones con arrays\n",
    "     - Indexación y slicing de arrays\n",
    "     - Integración con otras librerías, como Pandas y SciPy\n",
    "\n",
    "   - SciPy\n",
    "     - Integración con NumPy\n",
    "     - Funciones científicas y matemáticas avanzadas\n",
    "     - Álgebra lineal y optimización\n",
    "     - Procesamiento de señales y estadísticas\n",
    "\n",
    "## II. Librerías de Aprendizaje Automático (Machine Learning)\n",
    "   - Scikit-learn\n",
    "     - Modelos de clasificación y regresión\n",
    "     - Técnicas de clustering y reducción de dimensionalidad\n",
    "     - Evaluación y selección de modelos\n",
    "     - Pipelines de procesamiento de datos\n",
    "\n",
    "   - TensorFlow\n",
    "     - Conceptos básicos de tensores y grafos computacionales\n",
    "     - Construcción de modelos de aprendizaje profundo\n",
    "     - Entrenamiento y optimización de modelos\n",
    "     - Uso de TensorFlow para otras tareas de cálculo numérico\n",
    "\n",
    "   - PyTorch\n",
    "     - Tensores y autogradientes en PyTorch\n",
    "     - Construcción y entrenamiento de redes neuronales\n",
    "     - Transferencia de modelos entre PyTorch y TensorFlow\n",
    "     - Implementación de modelos avanzados con PyTorch\n",
    "\n",
    "## III. Librerías para Visualización de Datos\n",
    "   - Matplotlib\n",
    "    - Gráficos básicos: líneas, barras, dispersión, etc.\n",
    "    - Personalización de gráficos y etiquetado\n",
    "    - Gráficos en 3D y animaciones\n",
    "    - Subplots y múltiples figuras\n",
    "\n",
    "   - Seaborn\n",
    "    - Visualizaciones estadísticas y gráficos complejos\n",
    "    - Relación con DataFrames de Pandas\n",
    "    - Customización de estilos y paletas de colores\n",
    "    - Gráficos de distribución y relaciones\n",
    "\n",
    "   - Plotly\n",
    "    - Gráficos interactivos y dinámicos\n",
    "    - Visualizaciones en 3D y mapas\n",
    "    - Visualizaciones en la nube y colaborativas\n",
    "\n",
    "## IV. Librerías para Procesamiento de Texto y NLP\n",
    "   - NLTK (Natural Language Toolkit)\n",
    "     - Procesamiento básico de texto: tokenización, stemming, etc.\n",
    "     - Análisis de sentimientos y clasificación de texto\n",
    "     - Extracción de entidades y relaciones\n",
    "     - Creación de modelos de lenguaje y generación de texto\n",
    "\n",
    "   - SpaCy\n",
    "     - Procesamiento avanzado de texto y etiquetado POS (Part-of-Speech)\n",
    "     - Reconocimiento de entidades nombradas\n",
    "     - Análisis sintáctico y dependencias\n",
    "     - Integración con otros modelos de aprendizaje automático\n",
    "\n",
    "## V. Librerías para Web Scraping y Automatización\n",
    "   - Requests\n",
    "     - Realización de peticiones HTTP\n",
    "     - Manipulación de respuestas y contenido web\n",
    "     - Autenticación y manejo de cookies\n",
    "\n",
    "   - BeautifulSoup\n",
    "     - Análisis y extracción de datos HTML\n",
    "     - Navegación y búsqueda en documentos HTML\n",
    "     - Extracción de información estructurada de páginas web\n",
    "\n"
   ]
  },
  {
   "cell_type": "markdown",
   "metadata": {},
   "source": [
    "## 3.4.1. Instalación"
   ]
  },
  {
   "cell_type": "markdown",
   "metadata": {},
   "source": [
    "- Para instalar una librería en Python, se utiliza el comando pip install\n",
    "- pero ésto lo hacemos desde la terminal\n",
    "- para instalar una librería desde el notebook, se utiliza el comando !pip install\n",
    "- Una vez instalada la librería no es necesario hacerlo de nuevo"
   ]
  },
  {
   "cell_type": "code",
   "execution_count": 1,
   "metadata": {},
   "outputs": [
    {
     "name": "stdout",
     "output_type": "stream",
     "text": [
      "Defaulting to user installation because normal site-packages is not writeable\r\n"
     ]
    },
    {
     "name": "stdout",
     "output_type": "stream",
     "text": [
      "Requirement already satisfied: pandas in /home/alejo/.local/lib/python3.10/site-packages (1.5.3)\r\n",
      "Requirement already satisfied: numpy>=1.21.0 in /home/alejo/.local/lib/python3.10/site-packages (from pandas) (1.24.4)\r\n",
      "Requirement already satisfied: pytz>=2020.1 in /home/alejo/.local/lib/python3.10/site-packages (from pandas) (2023.3.post1)\r\n",
      "Requirement already satisfied: python-dateutil>=2.8.1 in /home/alejo/.local/lib/python3.10/site-packages (from pandas) (2.8.2)\r\n",
      "Requirement already satisfied: six>=1.5 in /usr/lib/python3/dist-packages (from python-dateutil>=2.8.1->pandas) (1.16.0)\r\n"
     ]
    }
   ],
   "source": [
    "!pip install pandas"
   ]
  },
  {
   "cell_type": "markdown",
   "metadata": {},
   "source": [
    "## 3.4.2. Uso"
   ]
  },
  {
   "cell_type": "markdown",
   "metadata": {},
   "source": [
    "Tenemos 3 formas de usar librerías"
   ]
  },
  {
   "cell_type": "code",
   "execution_count": 2,
   "metadata": {},
   "outputs": [],
   "source": [
    "# importamos toda la libreria con un alias\n",
    "import pandas"
   ]
  },
  {
   "cell_type": "code",
   "execution_count": 3,
   "metadata": {},
   "outputs": [],
   "source": [
    "# importamos solo una parte de la librería\n",
    "from numpy import random"
   ]
  },
  {
   "cell_type": "code",
   "execution_count": 4,
   "metadata": {},
   "outputs": [],
   "source": [
    "# importamos todo lo que está en la librería sin un alias\n",
    "from unidecode import *\n"
   ]
  },
  {
   "cell_type": "code",
   "execution_count": 5,
   "metadata": {},
   "outputs": [],
   "source": [
    "# a los dos primeros métodos se les puede asignar un alias\n",
    "import pandas as pd\n",
    "import numpy as np\n",
    "\n",
    "import matplotlib.pyplot as plt\n",
    "import seaborn as sns"
   ]
  },
  {
   "cell_type": "markdown",
   "metadata": {},
   "source": [
    "Las librerías en python tienen una jerarquía:\n",
    "\n",
    "![jerarquía](https://heardlibrary.github.io/digital-scholarship/script/python/images/module-structure.png)\n",
    "\n",
    "Puedo acceder a los distintos niveles encadenandolos con un \".\""
   ]
  },
  {
   "cell_type": "markdown",
   "metadata": {},
   "source": [
    "---"
   ]
  },
  {
   "cell_type": "code",
   "execution_count": 6,
   "metadata": {},
   "outputs": [
    {
     "data": {
      "text/plain": [
       "array([[57, 73, 91, 65, 36, 75, 70, 95, 61, 83],\n",
       "       [71, 46, 38, 45, 94, 37,  1,  8, 46,  3],\n",
       "       [51, 34,  2, 29, 75, 90, 43, 34, 99, 48],\n",
       "       [29, 37,  9, 31, 11, 84, 36, 84, 95, 63],\n",
       "       [47, 78, 60, 21, 48, 47, 25, 86,  3, 44],\n",
       "       [70,  2, 35, 40, 24, 91, 11, 62,  8, 19],\n",
       "       [76,  7, 11, 97, 36, 49, 72, 73, 81, 28],\n",
       "       [90,  2, 15, 48, 47, 32, 89, 42, 74, 78],\n",
       "       [38, 22, 19, 94, 30, 99, 53, 53, 61, 16],\n",
       "       [ 3, 76, 91, 64, 63, 32, 66, 97, 84, 97]])"
      ]
     },
     "execution_count": 6,
     "metadata": {},
     "output_type": "execute_result"
    }
   ],
   "source": [
    "random.randint(1, 100, (10,10))"
   ]
  },
  {
   "cell_type": "code",
   "execution_count": 7,
   "metadata": {},
   "outputs": [
    {
     "data": {
      "text/plain": [
       "'aeiou'"
      ]
     },
     "execution_count": 7,
     "metadata": {},
     "output_type": "execute_result"
    }
   ],
   "source": [
    "unidecode('áéíóú')"
   ]
  },
  {
   "cell_type": "code",
   "execution_count": 8,
   "metadata": {},
   "outputs": [
    {
     "data": {
      "text/html": [
       "<div>\n",
       "<style scoped>\n",
       "    .dataframe tbody tr th:only-of-type {\n",
       "        vertical-align: middle;\n",
       "    }\n",
       "\n",
       "    .dataframe tbody tr th {\n",
       "        vertical-align: top;\n",
       "    }\n",
       "\n",
       "    .dataframe thead th {\n",
       "        text-align: right;\n",
       "    }\n",
       "</style>\n",
       "<table border=\"1\" class=\"dataframe\">\n",
       "  <thead>\n",
       "    <tr style=\"text-align: right;\">\n",
       "      <th></th>\n",
       "      <th>0</th>\n",
       "      <th>1</th>\n",
       "      <th>2</th>\n",
       "      <th>3</th>\n",
       "      <th>4</th>\n",
       "      <th>5</th>\n",
       "      <th>6</th>\n",
       "      <th>7</th>\n",
       "      <th>8</th>\n",
       "      <th>9</th>\n",
       "    </tr>\n",
       "  </thead>\n",
       "  <tbody>\n",
       "    <tr>\n",
       "      <th>0</th>\n",
       "      <td>73</td>\n",
       "      <td>24</td>\n",
       "      <td>78</td>\n",
       "      <td>30</td>\n",
       "      <td>58</td>\n",
       "      <td>78</td>\n",
       "      <td>88</td>\n",
       "      <td>48</td>\n",
       "      <td>78</td>\n",
       "      <td>67</td>\n",
       "    </tr>\n",
       "    <tr>\n",
       "      <th>1</th>\n",
       "      <td>25</td>\n",
       "      <td>94</td>\n",
       "      <td>64</td>\n",
       "      <td>58</td>\n",
       "      <td>26</td>\n",
       "      <td>69</td>\n",
       "      <td>87</td>\n",
       "      <td>6</td>\n",
       "      <td>14</td>\n",
       "      <td>23</td>\n",
       "    </tr>\n",
       "    <tr>\n",
       "      <th>2</th>\n",
       "      <td>37</td>\n",
       "      <td>81</td>\n",
       "      <td>18</td>\n",
       "      <td>3</td>\n",
       "      <td>30</td>\n",
       "      <td>26</td>\n",
       "      <td>61</td>\n",
       "      <td>36</td>\n",
       "      <td>29</td>\n",
       "      <td>55</td>\n",
       "    </tr>\n",
       "    <tr>\n",
       "      <th>3</th>\n",
       "      <td>65</td>\n",
       "      <td>86</td>\n",
       "      <td>33</td>\n",
       "      <td>49</td>\n",
       "      <td>71</td>\n",
       "      <td>48</td>\n",
       "      <td>58</td>\n",
       "      <td>98</td>\n",
       "      <td>15</td>\n",
       "      <td>80</td>\n",
       "    </tr>\n",
       "    <tr>\n",
       "      <th>4</th>\n",
       "      <td>19</td>\n",
       "      <td>5</td>\n",
       "      <td>22</td>\n",
       "      <td>90</td>\n",
       "      <td>47</td>\n",
       "      <td>89</td>\n",
       "      <td>97</td>\n",
       "      <td>7</td>\n",
       "      <td>60</td>\n",
       "      <td>74</td>\n",
       "    </tr>\n",
       "    <tr>\n",
       "      <th>5</th>\n",
       "      <td>10</td>\n",
       "      <td>53</td>\n",
       "      <td>64</td>\n",
       "      <td>57</td>\n",
       "      <td>15</td>\n",
       "      <td>5</td>\n",
       "      <td>8</td>\n",
       "      <td>52</td>\n",
       "      <td>63</td>\n",
       "      <td>30</td>\n",
       "    </tr>\n",
       "    <tr>\n",
       "      <th>6</th>\n",
       "      <td>99</td>\n",
       "      <td>60</td>\n",
       "      <td>26</td>\n",
       "      <td>88</td>\n",
       "      <td>1</td>\n",
       "      <td>58</td>\n",
       "      <td>2</td>\n",
       "      <td>39</td>\n",
       "      <td>19</td>\n",
       "      <td>2</td>\n",
       "    </tr>\n",
       "    <tr>\n",
       "      <th>7</th>\n",
       "      <td>77</td>\n",
       "      <td>4</td>\n",
       "      <td>70</td>\n",
       "      <td>11</td>\n",
       "      <td>9</td>\n",
       "      <td>19</td>\n",
       "      <td>94</td>\n",
       "      <td>3</td>\n",
       "      <td>20</td>\n",
       "      <td>19</td>\n",
       "    </tr>\n",
       "    <tr>\n",
       "      <th>8</th>\n",
       "      <td>94</td>\n",
       "      <td>52</td>\n",
       "      <td>56</td>\n",
       "      <td>86</td>\n",
       "      <td>22</td>\n",
       "      <td>28</td>\n",
       "      <td>28</td>\n",
       "      <td>13</td>\n",
       "      <td>7</td>\n",
       "      <td>20</td>\n",
       "    </tr>\n",
       "    <tr>\n",
       "      <th>9</th>\n",
       "      <td>68</td>\n",
       "      <td>45</td>\n",
       "      <td>42</td>\n",
       "      <td>22</td>\n",
       "      <td>46</td>\n",
       "      <td>94</td>\n",
       "      <td>33</td>\n",
       "      <td>61</td>\n",
       "      <td>93</td>\n",
       "      <td>46</td>\n",
       "    </tr>\n",
       "  </tbody>\n",
       "</table>\n",
       "</div>"
      ],
      "text/plain": [
       "    0   1   2   3   4   5   6   7   8   9\n",
       "0  73  24  78  30  58  78  88  48  78  67\n",
       "1  25  94  64  58  26  69  87   6  14  23\n",
       "2  37  81  18   3  30  26  61  36  29  55\n",
       "3  65  86  33  49  71  48  58  98  15  80\n",
       "4  19   5  22  90  47  89  97   7  60  74\n",
       "5  10  53  64  57  15   5   8  52  63  30\n",
       "6  99  60  26  88   1  58   2  39  19   2\n",
       "7  77   4  70  11   9  19  94   3  20  19\n",
       "8  94  52  56  86  22  28  28  13   7  20\n",
       "9  68  45  42  22  46  94  33  61  93  46"
      ]
     },
     "execution_count": 8,
     "metadata": {},
     "output_type": "execute_result"
    }
   ],
   "source": [
    "mesh = pd.DataFrame(random.randint(1, 100, (10,10)))\n",
    "mesh"
   ]
  },
  {
   "cell_type": "code",
   "execution_count": 9,
   "metadata": {},
   "outputs": [
    {
     "data": {
      "text/plain": [
       "<Axes: >"
      ]
     },
     "execution_count": 9,
     "metadata": {},
     "output_type": "execute_result"
    },
    {
     "data": {
      "image/png": "[encoded data removed]",
      "text/plain": [
       "<Figure size 640x480 with 2 Axes>"
      ]
     },
     "metadata": {},
     "output_type": "display_data"
    }
   ],
   "source": [
    "# plot mesh in 2d\n",
    "sns.heatmap(mesh, cmap='viridis', annot=True, fmt='.0f')"
   ]
  },
  {
   "cell_type": "code",
   "execution_count": null,
   "metadata": {},
   "outputs": [],
   "source": []
  }
 ],
 "metadata": {
  "kernelspec": {
   "display_name": "Python 3",
   "language": "python",
   "name": "python3"
  },
  "language_info": {
   "codemirror_mode": {
    "name": "ipython",
    "version": 3
   },
   "file_extension": ".py",
   "mimetype": "text/x-python",
   "name": "python",
   "nbconvert_exporter": "python",
   "pygments_lexer": "ipython3",
   "version": "3.10.12"
  }
 },
 "nbformat": 4,
 "nbformat_minor": 2
}