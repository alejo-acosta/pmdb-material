{
 "cells": [
  {
   "cell_type": "markdown",
   "metadata": {},
   "source": [
    "# Ejemplo: Simulación Gini\n",
    "\n",
    "Elaborado por: Alejandro Acosta"
   ]
  },
  {
   "cell_type": "code",
   "execution_count": 1,
   "metadata": {},
   "outputs": [],
   "source": [
    "import pandas as pd\n",
    "import numpy as np\n",
    "import matplotlib.pyplot as plt\n",
    "import seaborn as sns\n",
    "\n",
    "from ipywidgets import interact, interactive, fixed, interact_manual\n",
    "import ipywidgets as widgets\n",
    "\n",
    "plt.rcParams['figure.dpi'] = 120\n",
    "plt.rcParams['savefig.dpi'] = 120\n",
    "\n",
    "sns.set_style(\"whitegrid\")"
   ]
  },
  {
   "cell_type": "code",
   "execution_count": 2,
   "metadata": {},
   "outputs": [],
   "source": [
    "def simul_income(mean=1000, sd=50, size=10000):\n",
    "    return sorted(np.random.normal(mean, sd, size).clip(0))\n",
    "\n",
    "\n"
   ]
  },
  {
   "cell_type": "code",
   "execution_count": 3,
   "metadata": {},
   "outputs": [],
   "source": [
    "def plot_income(**kwargs):\n",
    "    income = simul_income(**kwargs)\n",
    "    fig = plt.figure()\n",
    "    sns.histplot(income, stat='frequency', element='poly', bins=30)\n",
    "    plt.xlim(0,2000)\n",
    "    plt.ylim(0,80)\n",
    "    plt.close(fig)\n",
    "    return fig"
   ]
  },
  {
   "cell_type": "code",
   "execution_count": 4,
   "metadata": {},
   "outputs": [],
   "source": [
    "def plot_gini(**kwargs):\n",
    "    income = simul_income(**kwargs)\n",
    "    total_income = sum(income)\n",
    "    bins = np.linspace(0,100, 20)\n",
    "    x = [np.percentile(income, i) for i in bins]\n",
    "    x2 = [i/100 for i in bins]\n",
    "    y = [np.round(sum(income*np.array([i<=x[j] for i in income]))/total_income,2) for j in range(len(bins))]\n",
    "\n",
    "    fig=plt.figure()\n",
    "    sns.lineplot(x=x2,y=x2)\n",
    "    sns.lineplot(x=x2,y=y, color='red')\n",
    "    plt.fill_between(x2,x2,y, color='red', alpha=0.25)\n",
    "    plt.ylim(0,1)\n",
    "    plt.xlim(0,1)\n",
    "    plt.close(fig)\n",
    "    return fig"
   ]
  },
  {
   "cell_type": "code",
   "execution_count": 5,
   "metadata": {},
   "outputs": [],
   "source": [
    "def plot_both(**kwargs):\n",
    "    income = simul_income(**kwargs)\n",
    "    total_income = sum(income)\n",
    "    bins = np.linspace(0, 100, 20)\n",
    "    xaux = [np.percentile(income, i) for i in bins]\n",
    "    x = [i/100 for i in bins]\n",
    "    y = [np.round(sum(income*np.array([i <= xaux[j] for i in income])\n",
    "                      )/total_income, 2) for j in range(len(bins))]\n",
    "\n",
    "    fig, ax = plt.subplots(1, 2, sharex=False, sharey=False, figsize=(10,5))\n",
    "    sns.histplot(income, stat='frequency', element='poly', bins=30, ax=ax[0])\n",
    "    ax[0].set_xlim([0, 2000])\n",
    "    ax[0].set_ylim([0, 80])\n",
    "\n",
    "    \n",
    "    sns.lineplot(x=x, y=x, ax=ax[1])\n",
    "    sns.lineplot(x=x, y=y, color='red', ax=ax[1])\n",
    "    plt.fill_between(x, x, y, color='red', alpha=0.25)\n",
    "    ax[1].set_xlim([0, 1])\n",
    "    ax[1].set_ylim([0, 1])\n",
    "\n",
    "    plt.close(fig)\n",
    "\n",
    "    return fig\n"
   ]
  },
  {
   "cell_type": "code",
   "execution_count": 6,
   "metadata": {},
   "outputs": [
    {
     "data": {
      "application/vnd.jupyter.widget-view+json": {
       "model_id": "a8215a2e64194ba692855840c29819d1",
       "version_major": 2,
       "version_minor": 0
      },
      "text/plain": [
       "interactive(children=(IntSlider(value=200, description='sd', max=400, min=1), Output()), _dom_classes=('widget…"
      ]
     },
     "metadata": {},
     "output_type": "display_data"
    },
    {
     "data": {
      "text/plain": [
       "<function __main__.plot_income(**kwargs)>"
      ]
     },
     "execution_count": 6,
     "metadata": {},
     "output_type": "execute_result"
    }
   ],
   "source": [
    "interact(plot_income, sd=(1,400))"
   ]
  },
  {
   "cell_type": "code",
   "execution_count": 7,
   "metadata": {},
   "outputs": [
    {
     "data": {
      "application/vnd.jupyter.widget-view+json": {
       "model_id": "9f348e2460574bb98cdbdcce2c75b12a",
       "version_major": 2,
       "version_minor": 0
      },
      "text/plain": [
       "interactive(children=(IntSlider(value=400, description='sd', max=800, min=1), Output()), _dom_classes=('widget…"
      ]
     },
     "metadata": {},
     "output_type": "display_data"
    },
    {
     "data": {
      "text/plain": [
       "<function __main__.plot_both(**kwargs)>"
      ]
     },
     "execution_count": 7,
     "metadata": {},
     "output_type": "execute_result"
    }
   ],
   "source": [
    "interact(plot_both, sd=(1,800))"
   ]
  },
  {
   "cell_type": "code",
   "execution_count": null,
   "metadata": {},
   "outputs": [],
   "source": []
  }
 ],
 "metadata": {
  "kernelspec": {
   "display_name": "Python 3 (ipykernel)",
   "language": "python",
   "name": "python3"
  },
  "language_info": {
   "codemirror_mode": {
    "name": "ipython",
    "version": 3
   },
   "file_extension": ".py",
   "mimetype": "text/x-python",
   "name": "python",
   "nbconvert_exporter": "python",
   "pygments_lexer": "ipython3",
   "version": "3.11.4"
  },
  "vscode": {
   "interpreter": {
    "hash": "0d9db2acd79fc802845d33905a24c499b3c5b632a8047d75c602e59109c51bd3"
   }
  },
  "widgets": {
   "application/vnd.jupyter.widget-state+json": {
    "state": {
     "0f4f733f5c734e1f9e31299d56027582": {
      "model_module": "@jupyter-widgets/output",
      "model_module_version": "1.0.0",
      "model_name": "OutputModel",
      "state": {
       "_dom_classes": [],
       "_model_module": "@jupyter-widgets/output",
       "_model_module_version": "1.0.0",
       "_model_name": "OutputModel",
       "_view_count": null,
       "_view_module": "@jupyter-widgets/output",
       "_view_module_version": "1.0.0",
       "_view_name": "OutputView",
       "layout": "IPY_MODEL_94f7d70d45f94128910dca2eacaf5b5d",
       "msg_id": "",
       "outputs": [
        {
         "data": {
          "image/png": "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",
          "text/plain": "<Figure size 1200x600 with 2 Axes>"
         },
         "metadata": {},
         "output_type": "display_data"
        }
       ],
       "tabbable": null,
       "tooltip": null
      }
     },
     "1551055035a7459f9b9206106dcbc783": {
      "model_module": "@jupyter-widgets/base",
      "model_module_version": "2.0.0",
      "model_name": "LayoutModel",
      "state": {
       "_model_module": "@jupyter-widgets/base",
       "_model_module_version": "2.0.0",
       "_model_name": "LayoutModel",
       "_view_count": null,
       "_view_module": "@jupyter-widgets/base",
       "_view_module_version": "2.0.0",
       "_view_name": "LayoutView",
       "align_content": null,
       "align_items": null,
       "align_self": null,
       "border_bottom": null,
       "border_left": null,
       "border_right": null,
       "border_top": null,
       "bottom": null,
       "display": null,
       "flex": null,
       "flex_flow": null,
       "grid_area": null,
       "grid_auto_columns": null,
       "grid_auto_flow": null,
       "grid_auto_rows": null,
       "grid_column": null,
       "grid_gap": null,
       "grid_row": null,
       "grid_template_areas": null,
       "grid_template_columns": null,
       "grid_template_rows": null,
       "height": null,
       "justify_content": null,
       "justify_items": null,
       "left": null,
       "margin": null,
       "max_height": null,
       "max_width": null,
       "min_height": null,
       "min_width": null,
       "object_fit": null,
       "object_position": null,
       "order": null,
       "overflow": null,
       "padding": null,
       "right": null,
       "top": null,
       "visibility": null,
       "width": null
      }
     },
     "18631a80e9884b2684a564d3e6995994": {
      "model_module": "@jupyter-widgets/base",
      "model_module_version": "2.0.0",
      "model_name": "LayoutModel",
      "state": {
       "_model_module": "@jupyter-widgets/base",
       "_model_module_version": "2.0.0",
       "_model_name": "LayoutModel",
       "_view_count": null,
       "_view_module": "@jupyter-widgets/base",
       "_view_module_version": "2.0.0",
       "_view_name": "LayoutView",
       "align_content": null,
       "align_items": null,
       "align_self": null,
       "border_bottom": null,
       "border_left": null,
       "border_right": null,
       "border_top": null,
       "bottom": null,
       "display": null,
       "flex": null,
       "flex_flow": null,
       "grid_area": null,
       "grid_auto_columns": null,
       "grid_auto_flow": null,
       "grid_auto_rows": null,
       "grid_column": null,
       "grid_gap": null,
       "grid_row": null,
       "grid_template_areas": null,
       "grid_template_columns": null,
       "grid_template_rows": null,
       "height": null,
       "justify_content": null,
       "justify_items": null,
       "left": null,
       "margin": null,
       "max_height": null,
       "max_width": null,
       "min_height": null,
       "min_width": null,
       "object_fit": null,
       "object_position": null,
       "order": null,
       "overflow": null,
       "padding": null,
       "right": null,
       "top": null,
       "visibility": null,
       "width": null
      }
     },
     "1a14f81768a846a9aadbc03c2a474b43": {
      "model_module": "@jupyter-widgets/controls",
      "model_module_version": "2.0.0",
      "model_name": "IntSliderModel",
      "state": {
       "_dom_classes": [],
       "_model_module": "@jupyter-widgets/controls",
       "_model_module_version": "2.0.0",
       "_model_name": "IntSliderModel",
       "_view_count": null,
       "_view_module": "@jupyter-widgets/controls",
       "_view_module_version": "2.0.0",
       "_view_name": "IntSliderView",
       "behavior": "drag-tap",
       "continuous_update": true,
       "description": "sd",
       "description_allow_html": false,
       "disabled": false,
       "layout": "IPY_MODEL_1551055035a7459f9b9206106dcbc783",
       "max": 800,
       "min": 1,
       "orientation": "horizontal",
       "readout": true,
       "readout_format": "d",
       "step": 1,
       "style": "IPY_MODEL_2023cc65274647b2a58665b648b5f7a0",
       "tabbable": null,
       "tooltip": null,
       "value": 400
      }
     },
     "1c24aab780d845cdb5e8e11e95786a8f": {
      "model_module": "@jupyter-widgets/base",
      "model_module_version": "2.0.0",
      "model_name": "LayoutModel",
      "state": {
       "_model_module": "@jupyter-widgets/base",
       "_model_module_version": "2.0.0",
       "_model_name": "LayoutModel",
       "_view_count": null,
       "_view_module": "@jupyter-widgets/base",
       "_view_module_version": "2.0.0",
       "_view_name": "LayoutView",
       "align_content": null,
       "align_items": null,
       "align_self": null,
       "border_bottom": null,
       "border_left": null,
       "border_right": null,
       "border_top": null,
       "bottom": null,
       "display": null,
       "flex": null,
       "flex_flow": null,
       "grid_area": null,
       "grid_auto_columns": null,
       "grid_auto_flow": null,
       "grid_auto_rows": null,
       "grid_column": null,
       "grid_gap": null,
       "grid_row": null,
       "grid_template_areas": null,
       "grid_template_columns": null,
       "grid_template_rows": null,
       "height": null,
       "justify_content": null,
       "justify_items": null,
       "left": null,
       "margin": null,
       "max_height": null,
       "max_width": null,
       "min_height": null,
       "min_width": null,
       "object_fit": null,
       "object_position": null,
       "order": null,
       "overflow": null,
       "padding": null,
       "right": null,
       "top": null,
       "visibility": null,
       "width": null
      }
     },
     "2023cc65274647b2a58665b648b5f7a0": {
      "model_module": "@jupyter-widgets/controls",
      "model_module_version": "2.0.0",
      "model_name": "SliderStyleModel",
      "state": {
       "_model_module": "@jupyter-widgets/controls",
       "_model_module_version": "2.0.0",
       "_model_name": "SliderStyleModel",
       "_view_count": null,
       "_view_module": "@jupyter-widgets/base",
       "_view_module_version": "2.0.0",
       "_view_name": "StyleView",
       "description_width": "",
       "handle_color": null
      }
     },
     "2081680c72fb4414b7edfe37e7c4d384": {
      "model_module": "@jupyter-widgets/base",
      "model_module_version": "2.0.0",
      "model_name": "LayoutModel",
      "state": {
       "_model_module": "@jupyter-widgets/base",
       "_model_module_version": "2.0.0",
       "_model_name": "LayoutModel",
       "_view_count": null,
       "_view_module": "@jupyter-widgets/base",
       "_view_module_version": "2.0.0",
       "_view_name": "LayoutView",
       "align_content": null,
       "align_items": null,
       "align_self": null,
       "border_bottom": null,
       "border_left": null,
       "border_right": null,
       "border_top": null,
       "bottom": null,
       "display": null,
       "flex": null,
       "flex_flow": null,
       "grid_area": null,
       "grid_auto_columns": null,
       "grid_auto_flow": null,
       "grid_auto_rows": null,
       "grid_column": null,
       "grid_gap": null,
       "grid_row": null,
       "grid_template_areas": null,
       "grid_template_columns": null,
       "grid_template_rows": null,
       "height": null,
       "justify_content": null,
       "justify_items": null,
       "left": null,
       "margin": null,
       "max_height": null,
       "max_width": null,
       "min_height": null,
       "min_width": null,
       "object_fit": null,
       "object_position": null,
       "order": null,
       "overflow": null,
       "padding": null,
       "right": null,
       "top": null,
       "visibility": null,
       "width": null
      }
     },
     "94f7d70d45f94128910dca2eacaf5b5d": {
      "model_module": "@jupyter-widgets/base",
      "model_module_version": "2.0.0",
      "model_name": "LayoutModel",
      "state": {
       "_model_module": "@jupyter-widgets/base",
       "_model_module_version": "2.0.0",
       "_model_name": "LayoutModel",
       "_view_count": null,
       "_view_module": "@jupyter-widgets/base",
       "_view_module_version": "2.0.0",
       "_view_name": "LayoutView",
       "align_content": null,
       "align_items": null,
       "align_self": null,
       "border_bottom": null,
       "border_left": null,
       "border_right": null,
       "border_top": null,
       "bottom": null,
       "display": null,
       "flex": null,
       "flex_flow": null,
       "grid_area": null,
       "grid_auto_columns": null,
       "grid_auto_flow": null,
       "grid_auto_rows": null,
       "grid_column": null,
       "grid_gap": null,
       "grid_row": null,
       "grid_template_areas": null,
       "grid_template_columns": null,
       "grid_template_rows": null,
       "height": null,
       "justify_content": null,
       "justify_items": null,
       "left": null,
       "margin": null,
       "max_height": null,
       "max_width": null,
       "min_height": null,
       "min_width": null,
       "object_fit": null,
       "object_position": null,
       "order": null,
       "overflow": null,
       "padding": null,
       "right": null,
       "top": null,
       "visibility": null,
       "width": null
      }
     },
     "98be594b10334c71a61ea0c4f3716de7": {
      "model_module": "@jupyter-widgets/base",
      "model_module_version": "2.0.0",
      "model_name": "LayoutModel",
      "state": {
       "_model_module": "@jupyter-widgets/base",
       "_model_module_version": "2.0.0",
       "_model_name": "LayoutModel",
       "_view_count": null,
       "_view_module": "@jupyter-widgets/base",
       "_view_module_version": "2.0.0",
       "_view_name": "LayoutView",
       "align_content": null,
       "align_items": null,
       "align_self": null,
       "border_bottom": null,
       "border_left": null,
       "border_right": null,
       "border_top": null,
       "bottom": null,
       "display": null,
       "flex": null,
       "flex_flow": null,
       "grid_area": null,
       "grid_auto_columns": null,
       "grid_auto_flow": null,
       "grid_auto_rows": null,
       "grid_column": null,
       "grid_gap": null,
       "grid_row": null,
       "grid_template_areas": null,
       "grid_template_columns": null,
       "grid_template_rows": null,
       "height": null,
       "justify_content": null,
       "justify_items": null,
       "left": null,
       "margin": null,
       "max_height": null,
       "max_width": null,
       "min_height": null,
       "min_width": null,
       "object_fit": null,
       "object_position": null,
       "order": null,
       "overflow": null,
       "padding": null,
       "right": null,
       "top": null,
       "visibility": null,
       "width": null
      }
     },
     "9f348e2460574bb98cdbdcce2c75b12a": {
      "model_module": "@jupyter-widgets/controls",
      "model_module_version": "2.0.0",
      "model_name": "VBoxModel",
      "state": {
       "_dom_classes": [
        "widget-interact"
       ],
       "_model_module": "@jupyter-widgets/controls",
       "_model_module_version": "2.0.0",
       "_model_name": "VBoxModel",
       "_view_count": null,
       "_view_module": "@jupyter-widgets/controls",
       "_view_module_version": "2.0.0",
       "_view_name": "VBoxView",
       "box_style": "",
       "children": [
        "IPY_MODEL_1a14f81768a846a9aadbc03c2a474b43",
        "IPY_MODEL_0f4f733f5c734e1f9e31299d56027582"
       ],
       "layout": "IPY_MODEL_98be594b10334c71a61ea0c4f3716de7",
       "tabbable": null,
       "tooltip": null
      }
     },
     "a8215a2e64194ba692855840c29819d1": {
      "model_module": "@jupyter-widgets/controls",
      "model_module_version": "2.0.0",
      "model_name": "VBoxModel",
      "state": {
       "_dom_classes": [
        "widget-interact"
       ],
       "_model_module": "@jupyter-widgets/controls",
       "_model_module_version": "2.0.0",
       "_model_name": "VBoxModel",
       "_view_count": null,
       "_view_module": "@jupyter-widgets/controls",
       "_view_module_version": "2.0.0",
       "_view_name": "VBoxView",
       "box_style": "",
       "children": [
        "IPY_MODEL_b093ce6b07564074b42ea373a1904d25",
        "IPY_MODEL_eb310995b3b3483d87e4fbfc97bda6c8"
       ],
       "layout": "IPY_MODEL_2081680c72fb4414b7edfe37e7c4d384",
       "tabbable": null,
       "tooltip": null
      }
     },
     "b093ce6b07564074b42ea373a1904d25": {
      "model_module": "@jupyter-widgets/controls",
      "model_module_version": "2.0.0",
      "model_name": "IntSliderModel",
      "state": {
       "_dom_classes": [],
       "_model_module": "@jupyter-widgets/controls",
       "_model_module_version": "2.0.0",
       "_model_name": "IntSliderModel",
       "_view_count": null,
       "_view_module": "@jupyter-widgets/controls",
       "_view_module_version": "2.0.0",
       "_view_name": "IntSliderView",
       "behavior": "drag-tap",
       "continuous_update": true,
       "description": "sd",
       "description_allow_html": false,
       "disabled": false,
       "layout": "IPY_MODEL_18631a80e9884b2684a564d3e6995994",
       "max": 400,
       "min": 1,
       "orientation": "horizontal",
       "readout": true,
       "readout_format": "d",
       "step": 1,
       "style": "IPY_MODEL_d5b0e4bbe3ce4332be74ffcef112fd32",
       "tabbable": null,
       "tooltip": null,
       "value": 200
      }
     },
     "d5b0e4bbe3ce4332be74ffcef112fd32": {
      "model_module": "@jupyter-widgets/controls",
      "model_module_version": "2.0.0",
      "model_name": "SliderStyleModel",
      "state": {
       "_model_module": "@jupyter-widgets/controls",
       "_model_module_version": "2.0.0",
       "_model_name": "SliderStyleModel",
       "_view_count": null,
       "_view_module": "@jupyter-widgets/base",
       "_view_module_version": "2.0.0",
       "_view_name": "StyleView",
       "description_width": "",
       "handle_color": null
      }
     },
     "eb310995b3b3483d87e4fbfc97bda6c8": {
      "model_module": "@jupyter-widgets/output",
      "model_module_version": "1.0.0",
      "model_name": "OutputModel",
      "state": {
       "_dom_classes": [],
       "_model_module": "@jupyter-widgets/output",
       "_model_module_version": "1.0.0",
       "_model_name": "OutputModel",
       "_view_count": null,
       "_view_module": "@jupyter-widgets/output",
       "_view_module_version": "1.0.0",
       "_view_name": "OutputView",
       "layout": "IPY_MODEL_1c24aab780d845cdb5e8e11e95786a8f",
       "msg_id": "",
       "outputs": [
        {
         "data": {
          "image/png": "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",
          "text/plain": "<Figure size 768x576 with 1 Axes>"
         },
         "metadata": {},
         "output_type": "display_data"
        }
       ],
       "tabbable": null,
       "tooltip": null
      }
     }
    },
    "version_major": 2,
    "version_minor": 0
   }
  }
 },
 "nbformat": 4,
 "nbformat_minor": 4
}