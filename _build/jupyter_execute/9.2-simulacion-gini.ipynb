{
 "cells": [
  {
   "cell_type": "markdown",
   "metadata": {},
   "source": [
    "# Ejemplo: Simulación Gini\n",
    "\n",
    "Elaborado por: Alejandro Acosta"
   ]
  },
  {
   "cell_type": "code",
   "execution_count": 1,
   "metadata": {},
   "outputs": [],
   "source": [
    "import pandas as pd\n",
    "import numpy as np\n",
    "import matplotlib.pyplot as plt\n",
    "import seaborn as sns\n",
    "\n",
    "from ipywidgets import interact, interactive, fixed, interact_manual\n",
    "import ipywidgets as widgets\n",
    "\n",
    "plt.rcParams['figure.dpi'] = 120\n",
    "plt.rcParams['savefig.dpi'] = 120\n",
    "\n",
    "sns.set_style(\"whitegrid\")"
   ]
  },
  {
   "cell_type": "code",
   "execution_count": 2,
   "metadata": {},
   "outputs": [],
   "source": [
    "def simul_income(mean=1000, sd=50, size=10000):\n",
    "    return sorted(np.random.normal(mean, sd, size).clip(0))\n",
    "\n",
    "\n"
   ]
  },
  {
   "cell_type": "code",
   "execution_count": 3,
   "metadata": {},
   "outputs": [],
   "source": [
    "def plot_income(**kwargs):\n",
    "    income = simul_income(**kwargs)\n",
    "    fig = plt.figure()\n",
    "    sns.histplot(income, stat='frequency', element='poly', bins=30)\n",
    "    plt.xlim(0,2000)\n",
    "    plt.ylim(0,80)\n",
    "    plt.close(fig)\n",
    "    return fig"
   ]
  },
  {
   "cell_type": "code",
   "execution_count": 4,
   "metadata": {},
   "outputs": [],
   "source": [
    "def plot_gini(**kwargs):\n",
    "    income = simul_income(**kwargs)\n",
    "    total_income = sum(income)\n",
    "    bins = np.linspace(0,100, 20)\n",
    "    x = [np.percentile(income, i) for i in bins]\n",
    "    x2 = [i/100 for i in bins]\n",
    "    y = [np.round(sum(income*np.array([i<=x[j] for i in income]))/total_income,2) for j in range(len(bins))]\n",
    "\n",
    "    fig=plt.figure()\n",
    "    sns.lineplot(x=x2,y=x2)\n",
    "    sns.lineplot(x=x2,y=y, color='red')\n",
    "    plt.fill_between(x2,x2,y, color='red', alpha=0.25)\n",
    "    plt.ylim(0,1)\n",
    "    plt.xlim(0,1)\n",
    "    plt.close(fig)\n",
    "    return fig"
   ]
  },
  {
   "cell_type": "code",
   "execution_count": 5,
   "metadata": {},
   "outputs": [],
   "source": [
    "def plot_both(**kwargs):\n",
    "    income = simul_income(**kwargs)\n",
    "    total_income = sum(income)\n",
    "    bins = np.linspace(0, 100, 20)\n",
    "    xaux = [np.percentile(income, i) for i in bins]\n",
    "    x = [i/100 for i in bins]\n",
    "    y = [np.round(sum(income*np.array([i <= xaux[j] for i in income])\n",
    "                      )/total_income, 2) for j in range(len(bins))]\n",
    "\n",
    "    fig, ax = plt.subplots(1, 2, sharex=False, sharey=False, figsize=(10,5))\n",
    "    sns.histplot(income, stat='frequency', element='poly', bins=30, ax=ax[0])\n",
    "    ax[0].set_xlim([0, 2000])\n",
    "    ax[0].set_ylim([0, 80])\n",
    "\n",
    "    \n",
    "    sns.lineplot(x=x, y=x, ax=ax[1])\n",
    "    sns.lineplot(x=x, y=y, color='red', ax=ax[1])\n",
    "    plt.fill_between(x, x, y, color='red', alpha=0.25)\n",
    "    ax[1].set_xlim([0, 1])\n",
    "    ax[1].set_ylim([0, 1])\n",
    "\n",
    "    plt.close(fig)\n",
    "\n",
    "    return fig\n"
   ]
  },
  {
   "cell_type": "code",
   "execution_count": 6,
   "metadata": {},
   "outputs": [
    {
     "data": {
      "application/vnd.jupyter.widget-view+json": {
       "model_id": "ad6a37504582450084cda7ce2cc93f6f",
       "version_major": 2,
       "version_minor": 0
      },
      "text/plain": [
       "interactive(children=(IntSlider(value=200, description='sd', max=400, min=1), Output()), _dom_classes=('widget…"
      ]
     },
     "metadata": {},
     "output_type": "display_data"
    },
    {
     "data": {
      "text/plain": [
       "<function __main__.plot_income(**kwargs)>"
      ]
     },
     "execution_count": 6,
     "metadata": {},
     "output_type": "execute_result"
    }
   ],
   "source": [
    "interact(plot_income, sd=(1,400))"
   ]
  },
  {
   "cell_type": "code",
   "execution_count": 7,
   "metadata": {},
   "outputs": [
    {
     "data": {
      "application/vnd.jupyter.widget-view+json": {
       "model_id": "8ef5ffc972894d5a855372b62a9a84b9",
       "version_major": 2,
       "version_minor": 0
      },
      "text/plain": [
       "interactive(children=(IntSlider(value=400, description='sd', max=800, min=1), Output()), _dom_classes=('widget…"
      ]
     },
     "metadata": {},
     "output_type": "display_data"
    },
    {
     "data": {
      "text/plain": [
       "<function __main__.plot_both(**kwargs)>"
      ]
     },
     "execution_count": 7,
     "metadata": {},
     "output_type": "execute_result"
    }
   ],
   "source": [
    "interact(plot_both, sd=(1,800))"
   ]
  },
  {
   "cell_type": "code",
   "execution_count": null,
   "metadata": {},
   "outputs": [],
   "source": []
  }
 ],
 "metadata": {
  "kernelspec": {
   "display_name": "Python 3 (ipykernel)",
   "language": "python",
   "name": "python3"
  },
  "language_info": {
   "codemirror_mode": {
    "name": "ipython",
    "version": 3
   },
   "file_extension": ".py",
   "mimetype": "text/x-python",
   "name": "python",
   "nbconvert_exporter": "python",
   "pygments_lexer": "ipython3",
   "version": "3.10.12"
  },
  "vscode": {
   "interpreter": {
    "hash": "0d9db2acd79fc802845d33905a24c499b3c5b632a8047d75c602e59109c51bd3"
   }
  },
  "widgets": {
   "application/vnd.jupyter.widget-state+json": {
    "state": {
     "196ce6da66d246a0a72b35dcdf41daf1": {
      "model_module": "@jupyter-widgets/base",
      "model_module_version": "2.0.0",
      "model_name": "LayoutModel",
      "state": {
       "_model_module": "@jupyter-widgets/base",
       "_model_module_version": "2.0.0",
       "_model_name": "LayoutModel",
       "_view_count": null,
       "_view_module": "@jupyter-widgets/base",
       "_view_module_version": "2.0.0",
       "_view_name": "LayoutView",
       "align_content": null,
       "align_items": null,
       "align_self": null,
       "border_bottom": null,
       "border_left": null,
       "border_right": null,
       "border_top": null,
       "bottom": null,
       "display": null,
       "flex": null,
       "flex_flow": null,
       "grid_area": null,
       "grid_auto_columns": null,
       "grid_auto_flow": null,
       "grid_auto_rows": null,
       "grid_column": null,
       "grid_gap": null,
       "grid_row": null,
       "grid_template_areas": null,
       "grid_template_columns": null,
       "grid_template_rows": null,
       "height": null,
       "justify_content": null,
       "justify_items": null,
       "left": null,
       "margin": null,
       "max_height": null,
       "max_width": null,
       "min_height": null,
       "min_width": null,
       "object_fit": null,
       "object_position": null,
       "order": null,
       "overflow": null,
       "padding": null,
       "right": null,
       "top": null,
       "visibility": null,
       "width": null
      }
     },
     "2a88cecfba734b14a8c7ff783a39f194": {
      "model_module": "@jupyter-widgets/controls",
      "model_module_version": "2.0.0",
      "model_name": "IntSliderModel",
      "state": {
       "_dom_classes": [],
       "_model_module": "@jupyter-widgets/controls",
       "_model_module_version": "2.0.0",
       "_model_name": "IntSliderModel",
       "_view_count": null,
       "_view_module": "@jupyter-widgets/controls",
       "_view_module_version": "2.0.0",
       "_view_name": "IntSliderView",
       "behavior": "drag-tap",
       "continuous_update": true,
       "description": "sd",
       "description_allow_html": false,
       "disabled": false,
       "layout": "IPY_MODEL_97e52039b72e4a9988462af53d679815",
       "max": 400,
       "min": 1,
       "orientation": "horizontal",
       "readout": true,
       "readout_format": "d",
       "step": 1,
       "style": "IPY_MODEL_745484bc4d1f4f39a44abb815aea2cac",
       "tabbable": null,
       "tooltip": null,
       "value": 200
      }
     },
     "3bca854182dc4d8997c8a2b30d894c41": {
      "model_module": "@jupyter-widgets/base",
      "model_module_version": "2.0.0",
      "model_name": "LayoutModel",
      "state": {
       "_model_module": "@jupyter-widgets/base",
       "_model_module_version": "2.0.0",
       "_model_name": "LayoutModel",
       "_view_count": null,
       "_view_module": "@jupyter-widgets/base",
       "_view_module_version": "2.0.0",
       "_view_name": "LayoutView",
       "align_content": null,
       "align_items": null,
       "align_self": null,
       "border_bottom": null,
       "border_left": null,
       "border_right": null,
       "border_top": null,
       "bottom": null,
       "display": null,
       "flex": null,
       "flex_flow": null,
       "grid_area": null,
       "grid_auto_columns": null,
       "grid_auto_flow": null,
       "grid_auto_rows": null,
       "grid_column": null,
       "grid_gap": null,
       "grid_row": null,
       "grid_template_areas": null,
       "grid_template_columns": null,
       "grid_template_rows": null,
       "height": null,
       "justify_content": null,
       "justify_items": null,
       "left": null,
       "margin": null,
       "max_height": null,
       "max_width": null,
       "min_height": null,
       "min_width": null,
       "object_fit": null,
       "object_position": null,
       "order": null,
       "overflow": null,
       "padding": null,
       "right": null,
       "top": null,
       "visibility": null,
       "width": null
      }
     },
     "745484bc4d1f4f39a44abb815aea2cac": {
      "model_module": "@jupyter-widgets/controls",
      "model_module_version": "2.0.0",
      "model_name": "SliderStyleModel",
      "state": {
       "_model_module": "@jupyter-widgets/controls",
       "_model_module_version": "2.0.0",
       "_model_name": "SliderStyleModel",
       "_view_count": null,
       "_view_module": "@jupyter-widgets/base",
       "_view_module_version": "2.0.0",
       "_view_name": "StyleView",
       "description_width": "",
       "handle_color": null
      }
     },
     "7c69250006094179a1e0f40cb62c48b9": {
      "model_module": "@jupyter-widgets/output",
      "model_module_version": "1.0.0",
      "model_name": "OutputModel",
      "state": {
       "_dom_classes": [],
       "_model_module": "@jupyter-widgets/output",
       "_model_module_version": "1.0.0",
       "_model_name": "OutputModel",
       "_view_count": null,
       "_view_module": "@jupyter-widgets/output",
       "_view_module_version": "1.0.0",
       "_view_name": "OutputView",
       "layout": "IPY_MODEL_3bca854182dc4d8997c8a2b30d894c41",
       "msg_id": "",
       "outputs": [
        {
         "data": {
          "image/png": "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",
          "text/plain": "<Figure size 1200x600 with 2 Axes>"
         },
         "metadata": {},
         "output_type": "display_data"
        }
       ],
       "tabbable": null,
       "tooltip": null
      }
     },
     "8b11b564e78b4ba9a709a7d8e06d00ba": {
      "model_module": "@jupyter-widgets/base",
      "model_module_version": "2.0.0",
      "model_name": "LayoutModel",
      "state": {
       "_model_module": "@jupyter-widgets/base",
       "_model_module_version": "2.0.0",
       "_model_name": "LayoutModel",
       "_view_count": null,
       "_view_module": "@jupyter-widgets/base",
       "_view_module_version": "2.0.0",
       "_view_name": "LayoutView",
       "align_content": null,
       "align_items": null,
       "align_self": null,
       "border_bottom": null,
       "border_left": null,
       "border_right": null,
       "border_top": null,
       "bottom": null,
       "display": null,
       "flex": null,
       "flex_flow": null,
       "grid_area": null,
       "grid_auto_columns": null,
       "grid_auto_flow": null,
       "grid_auto_rows": null,
       "grid_column": null,
       "grid_gap": null,
       "grid_row": null,
       "grid_template_areas": null,
       "grid_template_columns": null,
       "grid_template_rows": null,
       "height": null,
       "justify_content": null,
       "justify_items": null,
       "left": null,
       "margin": null,
       "max_height": null,
       "max_width": null,
       "min_height": null,
       "min_width": null,
       "object_fit": null,
       "object_position": null,
       "order": null,
       "overflow": null,
       "padding": null,
       "right": null,
       "top": null,
       "visibility": null,
       "width": null
      }
     },
     "8ef5ffc972894d5a855372b62a9a84b9": {
      "model_module": "@jupyter-widgets/controls",
      "model_module_version": "2.0.0",
      "model_name": "VBoxModel",
      "state": {
       "_dom_classes": [
        "widget-interact"
       ],
       "_model_module": "@jupyter-widgets/controls",
       "_model_module_version": "2.0.0",
       "_model_name": "VBoxModel",
       "_view_count": null,
       "_view_module": "@jupyter-widgets/controls",
       "_view_module_version": "2.0.0",
       "_view_name": "VBoxView",
       "box_style": "",
       "children": [
        "IPY_MODEL_a3074bea1df0442e9418274596d07c93",
        "IPY_MODEL_7c69250006094179a1e0f40cb62c48b9"
       ],
       "layout": "IPY_MODEL_196ce6da66d246a0a72b35dcdf41daf1",
       "tabbable": null,
       "tooltip": null
      }
     },
     "96a31c58a40449ffb7cd58759c6817fb": {
      "model_module": "@jupyter-widgets/output",
      "model_module_version": "1.0.0",
      "model_name": "OutputModel",
      "state": {
       "_dom_classes": [],
       "_model_module": "@jupyter-widgets/output",
       "_model_module_version": "1.0.0",
       "_model_name": "OutputModel",
       "_view_count": null,
       "_view_module": "@jupyter-widgets/output",
       "_view_module_version": "1.0.0",
       "_view_name": "OutputView",
       "layout": "IPY_MODEL_8b11b564e78b4ba9a709a7d8e06d00ba",
       "msg_id": "",
       "outputs": [
        {
         "data": {
          "image/png": "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",
          "text/plain": "<Figure size 768x576 with 1 Axes>"
         },
         "metadata": {},
         "output_type": "display_data"
        }
       ],
       "tabbable": null,
       "tooltip": null
      }
     },
     "97e52039b72e4a9988462af53d679815": {
      "model_module": "@jupyter-widgets/base",
      "model_module_version": "2.0.0",
      "model_name": "LayoutModel",
      "state": {
       "_model_module": "@jupyter-widgets/base",
       "_model_module_version": "2.0.0",
       "_model_name": "LayoutModel",
       "_view_count": null,
       "_view_module": "@jupyter-widgets/base",
       "_view_module_version": "2.0.0",
       "_view_name": "LayoutView",
       "align_content": null,
       "align_items": null,
       "align_self": null,
       "border_bottom": null,
       "border_left": null,
       "border_right": null,
       "border_top": null,
       "bottom": null,
       "display": null,
       "flex": null,
       "flex_flow": null,
       "grid_area": null,
       "grid_auto_columns": null,
       "grid_auto_flow": null,
       "grid_auto_rows": null,
       "grid_column": null,
       "grid_gap": null,
       "grid_row": null,
       "grid_template_areas": null,
       "grid_template_columns": null,
       "grid_template_rows": null,
       "height": null,
       "justify_content": null,
       "justify_items": null,
       "left": null,
       "margin": null,
       "max_height": null,
       "max_width": null,
       "min_height": null,
       "min_width": null,
       "object_fit": null,
       "object_position": null,
       "order": null,
       "overflow": null,
       "padding": null,
       "right": null,
       "top": null,
       "visibility": null,
       "width": null
      }
     },
     "9d99a05b93ca4dec90fe3643adba80d7": {
      "model_module": "@jupyter-widgets/base",
      "model_module_version": "2.0.0",
      "model_name": "LayoutModel",
      "state": {
       "_model_module": "@jupyter-widgets/base",
       "_model_module_version": "2.0.0",
       "_model_name": "LayoutModel",
       "_view_count": null,
       "_view_module": "@jupyter-widgets/base",
       "_view_module_version": "2.0.0",
       "_view_name": "LayoutView",
       "align_content": null,
       "align_items": null,
       "align_self": null,
       "border_bottom": null,
       "border_left": null,
       "border_right": null,
       "border_top": null,
       "bottom": null,
       "display": null,
       "flex": null,
       "flex_flow": null,
       "grid_area": null,
       "grid_auto_columns": null,
       "grid_auto_flow": null,
       "grid_auto_rows": null,
       "grid_column": null,
       "grid_gap": null,
       "grid_row": null,
       "grid_template_areas": null,
       "grid_template_columns": null,
       "grid_template_rows": null,
       "height": null,
       "justify_content": null,
       "justify_items": null,
       "left": null,
       "margin": null,
       "max_height": null,
       "max_width": null,
       "min_height": null,
       "min_width": null,
       "object_fit": null,
       "object_position": null,
       "order": null,
       "overflow": null,
       "padding": null,
       "right": null,
       "top": null,
       "visibility": null,
       "width": null
      }
     },
     "a3074bea1df0442e9418274596d07c93": {
      "model_module": "@jupyter-widgets/controls",
      "model_module_version": "2.0.0",
      "model_name": "IntSliderModel",
      "state": {
       "_dom_classes": [],
       "_model_module": "@jupyter-widgets/controls",
       "_model_module_version": "2.0.0",
       "_model_name": "IntSliderModel",
       "_view_count": null,
       "_view_module": "@jupyter-widgets/controls",
       "_view_module_version": "2.0.0",
       "_view_name": "IntSliderView",
       "behavior": "drag-tap",
       "continuous_update": true,
       "description": "sd",
       "description_allow_html": false,
       "disabled": false,
       "layout": "IPY_MODEL_b2efccb0ddea46fbbd77457d7dbcc3c3",
       "max": 800,
       "min": 1,
       "orientation": "horizontal",
       "readout": true,
       "readout_format": "d",
       "step": 1,
       "style": "IPY_MODEL_e67053ea25cf4d67b5b251b9dfc4cd25",
       "tabbable": null,
       "tooltip": null,
       "value": 400
      }
     },
     "ad6a37504582450084cda7ce2cc93f6f": {
      "model_module": "@jupyter-widgets/controls",
      "model_module_version": "2.0.0",
      "model_name": "VBoxModel",
      "state": {
       "_dom_classes": [
        "widget-interact"
       ],
       "_model_module": "@jupyter-widgets/controls",
       "_model_module_version": "2.0.0",
       "_model_name": "VBoxModel",
       "_view_count": null,
       "_view_module": "@jupyter-widgets/controls",
       "_view_module_version": "2.0.0",
       "_view_name": "VBoxView",
       "box_style": "",
       "children": [
        "IPY_MODEL_2a88cecfba734b14a8c7ff783a39f194",
        "IPY_MODEL_96a31c58a40449ffb7cd58759c6817fb"
       ],
       "layout": "IPY_MODEL_9d99a05b93ca4dec90fe3643adba80d7",
       "tabbable": null,
       "tooltip": null
      }
     },
     "b2efccb0ddea46fbbd77457d7dbcc3c3": {
      "model_module": "@jupyter-widgets/base",
      "model_module_version": "2.0.0",
      "model_name": "LayoutModel",
      "state": {
       "_model_module": "@jupyter-widgets/base",
       "_model_module_version": "2.0.0",
       "_model_name": "LayoutModel",
       "_view_count": null,
       "_view_module": "@jupyter-widgets/base",
       "_view_module_version": "2.0.0",
       "_view_name": "LayoutView",
       "align_content": null,
       "align_items": null,
       "align_self": null,
       "border_bottom": null,
       "border_left": null,
       "border_right": null,
       "border_top": null,
       "bottom": null,
       "display": null,
       "flex": null,
       "flex_flow": null,
       "grid_area": null,
       "grid_auto_columns": null,
       "grid_auto_flow": null,
       "grid_auto_rows": null,
       "grid_column": null,
       "grid_gap": null,
       "grid_row": null,
       "grid_template_areas": null,
       "grid_template_columns": null,
       "grid_template_rows": null,
       "height": null,
       "justify_content": null,
       "justify_items": null,
       "left": null,
       "margin": null,
       "max_height": null,
       "max_width": null,
       "min_height": null,
       "min_width": null,
       "object_fit": null,
       "object_position": null,
       "order": null,
       "overflow": null,
       "padding": null,
       "right": null,
       "top": null,
       "visibility": null,
       "width": null
      }
     },
     "e67053ea25cf4d67b5b251b9dfc4cd25": {
      "model_module": "@jupyter-widgets/controls",
      "model_module_version": "2.0.0",
      "model_name": "SliderStyleModel",
      "state": {
       "_model_module": "@jupyter-widgets/controls",
       "_model_module_version": "2.0.0",
       "_model_name": "SliderStyleModel",
       "_view_count": null,
       "_view_module": "@jupyter-widgets/base",
       "_view_module_version": "2.0.0",
       "_view_name": "StyleView",
       "description_width": "",
       "handle_color": null
      }
     }
    },
    "version_major": 2,
    "version_minor": 0
   }
  }
 },
 "nbformat": 4,
 "nbformat_minor": 4
}