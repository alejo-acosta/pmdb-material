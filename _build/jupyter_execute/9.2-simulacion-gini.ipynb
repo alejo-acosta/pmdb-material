{
 "cells": [
  {
   "cell_type": "markdown",
   "metadata": {},
   "source": [
    "# Ejemplo: Simulación Gini\n",
    "\n",
    "Elaborado por: Alejandro Acosta"
   ]
  },
  {
   "cell_type": "code",
   "execution_count": 1,
   "metadata": {},
   "outputs": [],
   "source": [
    "import pandas as pd\n",
    "import numpy as np\n",
    "import matplotlib.pyplot as plt\n",
    "import seaborn as sns\n",
    "\n",
    "from ipywidgets import interact, interactive, fixed, interact_manual\n",
    "import ipywidgets as widgets\n",
    "\n",
    "plt.rcParams['figure.dpi'] = 120\n",
    "plt.rcParams['savefig.dpi'] = 120\n",
    "\n",
    "sns.set_style(\"whitegrid\")"
   ]
  },
  {
   "cell_type": "code",
   "execution_count": 2,
   "metadata": {},
   "outputs": [],
   "source": [
    "def simul_income(mean=1000, sd=50, size=10000):\n",
    "    return sorted(np.random.normal(mean, sd, size).clip(0))\n",
    "\n",
    "\n"
   ]
  },
  {
   "cell_type": "code",
   "execution_count": 3,
   "metadata": {},
   "outputs": [],
   "source": [
    "def plot_income(**kwargs):\n",
    "    income = simul_income(**kwargs)\n",
    "    fig = plt.figure()\n",
    "    sns.histplot(income, stat='frequency', element='poly', bins=30)\n",
    "    plt.xlim(0,2000)\n",
    "    plt.ylim(0,80)\n",
    "    plt.close(fig)\n",
    "    return fig"
   ]
  },
  {
   "cell_type": "code",
   "execution_count": 4,
   "metadata": {},
   "outputs": [],
   "source": [
    "def plot_gini(**kwargs):\n",
    "    income = simul_income(**kwargs)\n",
    "    total_income = sum(income)\n",
    "    bins = np.linspace(0,100, 20)\n",
    "    x = [np.percentile(income, i) for i in bins]\n",
    "    x2 = [i/100 for i in bins]\n",
    "    y = [np.round(sum(income*np.array([i<=x[j] for i in income]))/total_income,2) for j in range(len(bins))]\n",
    "\n",
    "    fig=plt.figure()\n",
    "    sns.lineplot(x=x2,y=x2)\n",
    "    sns.lineplot(x=x2,y=y, color='red')\n",
    "    plt.fill_between(x2,x2,y, color='red', alpha=0.25)\n",
    "    plt.ylim(0,1)\n",
    "    plt.xlim(0,1)\n",
    "    plt.close(fig)\n",
    "    return fig"
   ]
  },
  {
   "cell_type": "code",
   "execution_count": 5,
   "metadata": {},
   "outputs": [],
   "source": [
    "def plot_both(**kwargs):\n",
    "    income = simul_income(**kwargs)\n",
    "    total_income = sum(income)\n",
    "    bins = np.linspace(0, 100, 20)\n",
    "    xaux = [np.percentile(income, i) for i in bins]\n",
    "    x = [i/100 for i in bins]\n",
    "    y = [np.round(sum(income*np.array([i <= xaux[j] for i in income])\n",
    "                      )/total_income, 2) for j in range(len(bins))]\n",
    "\n",
    "    fig, ax = plt.subplots(1, 2, sharex=False, sharey=False, figsize=(10,5))\n",
    "    sns.histplot(income, stat='frequency', element='poly', bins=30, ax=ax[0])\n",
    "    ax[0].set_xlim([0, 2000])\n",
    "    ax[0].set_ylim([0, 80])\n",
    "\n",
    "    \n",
    "    sns.lineplot(x=x, y=x, ax=ax[1])\n",
    "    sns.lineplot(x=x, y=y, color='red', ax=ax[1])\n",
    "    plt.fill_between(x, x, y, color='red', alpha=0.25)\n",
    "    ax[1].set_xlim([0, 1])\n",
    "    ax[1].set_ylim([0, 1])\n",
    "\n",
    "    plt.close(fig)\n",
    "\n",
    "    return fig\n"
   ]
  },
  {
   "cell_type": "code",
   "execution_count": 6,
   "metadata": {},
   "outputs": [
    {
     "data": {
      "application/vnd.jupyter.widget-view+json": {
       "model_id": "6982c183487c4c458ec8d18d64150d5b",
       "version_major": 2,
       "version_minor": 0
      },
      "text/plain": [
       "interactive(children=(IntSlider(value=200, description='sd', max=400, min=1), Output()), _dom_classes=('widget…"
      ]
     },
     "metadata": {},
     "output_type": "display_data"
    },
    {
     "data": {
      "text/plain": [
       "<function __main__.plot_income(**kwargs)>"
      ]
     },
     "execution_count": 6,
     "metadata": {},
     "output_type": "execute_result"
    }
   ],
   "source": [
    "interact(plot_income, sd=(1,400))"
   ]
  },
  {
   "cell_type": "code",
   "execution_count": 7,
   "metadata": {},
   "outputs": [
    {
     "data": {
      "application/vnd.jupyter.widget-view+json": {
       "model_id": "f71d409e7aa54bb9bfd32c45fdaf242a",
       "version_major": 2,
       "version_minor": 0
      },
      "text/plain": [
       "interactive(children=(IntSlider(value=400, description='sd', max=800, min=1), Output()), _dom_classes=('widget…"
      ]
     },
     "metadata": {},
     "output_type": "display_data"
    },
    {
     "data": {
      "text/plain": [
       "<function __main__.plot_both(**kwargs)>"
      ]
     },
     "execution_count": 7,
     "metadata": {},
     "output_type": "execute_result"
    }
   ],
   "source": [
    "interact(plot_both, sd=(1,800))"
   ]
  },
  {
   "cell_type": "code",
   "execution_count": null,
   "metadata": {},
   "outputs": [],
   "source": []
  }
 ],
 "metadata": {
  "kernelspec": {
   "display_name": "Python 3 (ipykernel)",
   "language": "python",
   "name": "python3"
  },
  "language_info": {
   "codemirror_mode": {
    "name": "ipython",
    "version": 3
   },
   "file_extension": ".py",
   "mimetype": "text/x-python",
   "name": "python",
   "nbconvert_exporter": "python",
   "pygments_lexer": "ipython3",
   "version": "3.11.4"
  },
  "vscode": {
   "interpreter": {
    "hash": "0d9db2acd79fc802845d33905a24c499b3c5b632a8047d75c602e59109c51bd3"
   }
  },
  "widgets": {
   "application/vnd.jupyter.widget-state+json": {
    "state": {
     "0310d3d7d6ad4902a60064a4a80b7abf": {
      "model_module": "@jupyter-widgets/controls",
      "model_module_version": "2.0.0",
      "model_name": "SliderStyleModel",
      "state": {
       "_model_module": "@jupyter-widgets/controls",
       "_model_module_version": "2.0.0",
       "_model_name": "SliderStyleModel",
       "_view_count": null,
       "_view_module": "@jupyter-widgets/base",
       "_view_module_version": "2.0.0",
       "_view_name": "StyleView",
       "description_width": "",
       "handle_color": null
      }
     },
     "200bb20140b54277bbb31d2b2973ce58": {
      "model_module": "@jupyter-widgets/controls",
      "model_module_version": "2.0.0",
      "model_name": "SliderStyleModel",
      "state": {
       "_model_module": "@jupyter-widgets/controls",
       "_model_module_version": "2.0.0",
       "_model_name": "SliderStyleModel",
       "_view_count": null,
       "_view_module": "@jupyter-widgets/base",
       "_view_module_version": "2.0.0",
       "_view_name": "StyleView",
       "description_width": "",
       "handle_color": null
      }
     },
     "4e012e4b9268419d9e649d06b24c82dd": {
      "model_module": "@jupyter-widgets/base",
      "model_module_version": "2.0.0",
      "model_name": "LayoutModel",
      "state": {
       "_model_module": "@jupyter-widgets/base",
       "_model_module_version": "2.0.0",
       "_model_name": "LayoutModel",
       "_view_count": null,
       "_view_module": "@jupyter-widgets/base",
       "_view_module_version": "2.0.0",
       "_view_name": "LayoutView",
       "align_content": null,
       "align_items": null,
       "align_self": null,
       "border_bottom": null,
       "border_left": null,
       "border_right": null,
       "border_top": null,
       "bottom": null,
       "display": null,
       "flex": null,
       "flex_flow": null,
       "grid_area": null,
       "grid_auto_columns": null,
       "grid_auto_flow": null,
       "grid_auto_rows": null,
       "grid_column": null,
       "grid_gap": null,
       "grid_row": null,
       "grid_template_areas": null,
       "grid_template_columns": null,
       "grid_template_rows": null,
       "height": null,
       "justify_content": null,
       "justify_items": null,
       "left": null,
       "margin": null,
       "max_height": null,
       "max_width": null,
       "min_height": null,
       "min_width": null,
       "object_fit": null,
       "object_position": null,
       "order": null,
       "overflow": null,
       "padding": null,
       "right": null,
       "top": null,
       "visibility": null,
       "width": null
      }
     },
     "5c61d10b643c4bae851288f4ec72ab20": {
      "model_module": "@jupyter-widgets/base",
      "model_module_version": "2.0.0",
      "model_name": "LayoutModel",
      "state": {
       "_model_module": "@jupyter-widgets/base",
       "_model_module_version": "2.0.0",
       "_model_name": "LayoutModel",
       "_view_count": null,
       "_view_module": "@jupyter-widgets/base",
       "_view_module_version": "2.0.0",
       "_view_name": "LayoutView",
       "align_content": null,
       "align_items": null,
       "align_self": null,
       "border_bottom": null,
       "border_left": null,
       "border_right": null,
       "border_top": null,
       "bottom": null,
       "display": null,
       "flex": null,
       "flex_flow": null,
       "grid_area": null,
       "grid_auto_columns": null,
       "grid_auto_flow": null,
       "grid_auto_rows": null,
       "grid_column": null,
       "grid_gap": null,
       "grid_row": null,
       "grid_template_areas": null,
       "grid_template_columns": null,
       "grid_template_rows": null,
       "height": null,
       "justify_content": null,
       "justify_items": null,
       "left": null,
       "margin": null,
       "max_height": null,
       "max_width": null,
       "min_height": null,
       "min_width": null,
       "object_fit": null,
       "object_position": null,
       "order": null,
       "overflow": null,
       "padding": null,
       "right": null,
       "top": null,
       "visibility": null,
       "width": null
      }
     },
     "6982c183487c4c458ec8d18d64150d5b": {
      "model_module": "@jupyter-widgets/controls",
      "model_module_version": "2.0.0",
      "model_name": "VBoxModel",
      "state": {
       "_dom_classes": [
        "widget-interact"
       ],
       "_model_module": "@jupyter-widgets/controls",
       "_model_module_version": "2.0.0",
       "_model_name": "VBoxModel",
       "_view_count": null,
       "_view_module": "@jupyter-widgets/controls",
       "_view_module_version": "2.0.0",
       "_view_name": "VBoxView",
       "box_style": "",
       "children": [
        "IPY_MODEL_d5b0ffd155e2464fbbd961061a930c4b",
        "IPY_MODEL_82b735205a334c15b8d1c8f34f873215"
       ],
       "layout": "IPY_MODEL_bd6be81d7b5a4f8ebe8775da03ac2d9a",
       "tabbable": null,
       "tooltip": null
      }
     },
     "7e6fac61324a450d811998edd7c56380": {
      "model_module": "@jupyter-widgets/base",
      "model_module_version": "2.0.0",
      "model_name": "LayoutModel",
      "state": {
       "_model_module": "@jupyter-widgets/base",
       "_model_module_version": "2.0.0",
       "_model_name": "LayoutModel",
       "_view_count": null,
       "_view_module": "@jupyter-widgets/base",
       "_view_module_version": "2.0.0",
       "_view_name": "LayoutView",
       "align_content": null,
       "align_items": null,
       "align_self": null,
       "border_bottom": null,
       "border_left": null,
       "border_right": null,
       "border_top": null,
       "bottom": null,
       "display": null,
       "flex": null,
       "flex_flow": null,
       "grid_area": null,
       "grid_auto_columns": null,
       "grid_auto_flow": null,
       "grid_auto_rows": null,
       "grid_column": null,
       "grid_gap": null,
       "grid_row": null,
       "grid_template_areas": null,
       "grid_template_columns": null,
       "grid_template_rows": null,
       "height": null,
       "justify_content": null,
       "justify_items": null,
       "left": null,
       "margin": null,
       "max_height": null,
       "max_width": null,
       "min_height": null,
       "min_width": null,
       "object_fit": null,
       "object_position": null,
       "order": null,
       "overflow": null,
       "padding": null,
       "right": null,
       "top": null,
       "visibility": null,
       "width": null
      }
     },
     "82b735205a334c15b8d1c8f34f873215": {
      "model_module": "@jupyter-widgets/output",
      "model_module_version": "1.0.0",
      "model_name": "OutputModel",
      "state": {
       "_dom_classes": [],
       "_model_module": "@jupyter-widgets/output",
       "_model_module_version": "1.0.0",
       "_model_name": "OutputModel",
       "_view_count": null,
       "_view_module": "@jupyter-widgets/output",
       "_view_module_version": "1.0.0",
       "_view_name": "OutputView",
       "layout": "IPY_MODEL_5c61d10b643c4bae851288f4ec72ab20",
       "msg_id": "",
       "outputs": [
        {
         "data": {
          "image/png": "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",
          "text/plain": "<Figure size 768x576 with 1 Axes>"
         },
         "metadata": {},
         "output_type": "display_data"
        }
       ],
       "tabbable": null,
       "tooltip": null
      }
     },
     "936dae40b77b4c029e4e19c81545dd53": {
      "model_module": "@jupyter-widgets/base",
      "model_module_version": "2.0.0",
      "model_name": "LayoutModel",
      "state": {
       "_model_module": "@jupyter-widgets/base",
       "_model_module_version": "2.0.0",
       "_model_name": "LayoutModel",
       "_view_count": null,
       "_view_module": "@jupyter-widgets/base",
       "_view_module_version": "2.0.0",
       "_view_name": "LayoutView",
       "align_content": null,
       "align_items": null,
       "align_self": null,
       "border_bottom": null,
       "border_left": null,
       "border_right": null,
       "border_top": null,
       "bottom": null,
       "display": null,
       "flex": null,
       "flex_flow": null,
       "grid_area": null,
       "grid_auto_columns": null,
       "grid_auto_flow": null,
       "grid_auto_rows": null,
       "grid_column": null,
       "grid_gap": null,
       "grid_row": null,
       "grid_template_areas": null,
       "grid_template_columns": null,
       "grid_template_rows": null,
       "height": null,
       "justify_content": null,
       "justify_items": null,
       "left": null,
       "margin": null,
       "max_height": null,
       "max_width": null,
       "min_height": null,
       "min_width": null,
       "object_fit": null,
       "object_position": null,
       "order": null,
       "overflow": null,
       "padding": null,
       "right": null,
       "top": null,
       "visibility": null,
       "width": null
      }
     },
     "a4c7e6a7b0374e9d8a80c55a0ea0439f": {
      "model_module": "@jupyter-widgets/controls",
      "model_module_version": "2.0.0",
      "model_name": "IntSliderModel",
      "state": {
       "_dom_classes": [],
       "_model_module": "@jupyter-widgets/controls",
       "_model_module_version": "2.0.0",
       "_model_name": "IntSliderModel",
       "_view_count": null,
       "_view_module": "@jupyter-widgets/controls",
       "_view_module_version": "2.0.0",
       "_view_name": "IntSliderView",
       "behavior": "drag-tap",
       "continuous_update": true,
       "description": "sd",
       "description_allow_html": false,
       "disabled": false,
       "layout": "IPY_MODEL_b51632b6609648c99cd1a68b88da8a9e",
       "max": 800,
       "min": 1,
       "orientation": "horizontal",
       "readout": true,
       "readout_format": "d",
       "step": 1,
       "style": "IPY_MODEL_200bb20140b54277bbb31d2b2973ce58",
       "tabbable": null,
       "tooltip": null,
       "value": 400
      }
     },
     "b51632b6609648c99cd1a68b88da8a9e": {
      "model_module": "@jupyter-widgets/base",
      "model_module_version": "2.0.0",
      "model_name": "LayoutModel",
      "state": {
       "_model_module": "@jupyter-widgets/base",
       "_model_module_version": "2.0.0",
       "_model_name": "LayoutModel",
       "_view_count": null,
       "_view_module": "@jupyter-widgets/base",
       "_view_module_version": "2.0.0",
       "_view_name": "LayoutView",
       "align_content": null,
       "align_items": null,
       "align_self": null,
       "border_bottom": null,
       "border_left": null,
       "border_right": null,
       "border_top": null,
       "bottom": null,
       "display": null,
       "flex": null,
       "flex_flow": null,
       "grid_area": null,
       "grid_auto_columns": null,
       "grid_auto_flow": null,
       "grid_auto_rows": null,
       "grid_column": null,
       "grid_gap": null,
       "grid_row": null,
       "grid_template_areas": null,
       "grid_template_columns": null,
       "grid_template_rows": null,
       "height": null,
       "justify_content": null,
       "justify_items": null,
       "left": null,
       "margin": null,
       "max_height": null,
       "max_width": null,
       "min_height": null,
       "min_width": null,
       "object_fit": null,
       "object_position": null,
       "order": null,
       "overflow": null,
       "padding": null,
       "right": null,
       "top": null,
       "visibility": null,
       "width": null
      }
     },
     "bd6be81d7b5a4f8ebe8775da03ac2d9a": {
      "model_module": "@jupyter-widgets/base",
      "model_module_version": "2.0.0",
      "model_name": "LayoutModel",
      "state": {
       "_model_module": "@jupyter-widgets/base",
       "_model_module_version": "2.0.0",
       "_model_name": "LayoutModel",
       "_view_count": null,
       "_view_module": "@jupyter-widgets/base",
       "_view_module_version": "2.0.0",
       "_view_name": "LayoutView",
       "align_content": null,
       "align_items": null,
       "align_self": null,
       "border_bottom": null,
       "border_left": null,
       "border_right": null,
       "border_top": null,
       "bottom": null,
       "display": null,
       "flex": null,
       "flex_flow": null,
       "grid_area": null,
       "grid_auto_columns": null,
       "grid_auto_flow": null,
       "grid_auto_rows": null,
       "grid_column": null,
       "grid_gap": null,
       "grid_row": null,
       "grid_template_areas": null,
       "grid_template_columns": null,
       "grid_template_rows": null,
       "height": null,
       "justify_content": null,
       "justify_items": null,
       "left": null,
       "margin": null,
       "max_height": null,
       "max_width": null,
       "min_height": null,
       "min_width": null,
       "object_fit": null,
       "object_position": null,
       "order": null,
       "overflow": null,
       "padding": null,
       "right": null,
       "top": null,
       "visibility": null,
       "width": null
      }
     },
     "c61c24d74e744add8f0ca135219946ab": {
      "model_module": "@jupyter-widgets/output",
      "model_module_version": "1.0.0",
      "model_name": "OutputModel",
      "state": {
       "_dom_classes": [],
       "_model_module": "@jupyter-widgets/output",
       "_model_module_version": "1.0.0",
       "_model_name": "OutputModel",
       "_view_count": null,
       "_view_module": "@jupyter-widgets/output",
       "_view_module_version": "1.0.0",
       "_view_name": "OutputView",
       "layout": "IPY_MODEL_7e6fac61324a450d811998edd7c56380",
       "msg_id": "",
       "outputs": [
        {
         "data": {
          "image/png": "iVBORw0KGgoAAAANSUhEUgAAA/kAAAIGCAYAAAAP9k90AAAAOXRFWHRTb2Z0d2FyZQBNYXRwbG90bGliIHZlcnNpb24zLjcuMiwgaHR0cHM6Ly9tYXRwbG90bGliLm9yZy8pXeV/AAAACXBIWXMAABJ0AAASdAHeZh94AACyN0lEQVR4nOzdd3wUdf7H8demdyCUBAgtIAooJaCcYvdQDj31J2c5PaqAICgqRU9FsAEaKYogCAEMIAqKYEfUQ8VCCUWKgJBQQoeQns0mu/P7YwSNoEKyu7PZvJ+Ph498Z3Zn5/1dQ5LPzsxnbIZhGIiIiIiIiIhIpRdgdQARERERERERcQ8V+SIiIiIiIiJ+QkW+iIiIiIiIiJ9QkS8iIiIiIiLiJ1Tki4iIiIiIiPgJFfkiIiIiIiIifkJFvoiIiIiIiIifUJEvIiIiIiIi4idU5IuIiIiIiIj4CRX5IiIiIiIiIn5CRb6IiIiIiIiIn/C5In/hwoXceOONtG3bln/84x/Mnz8fwzBOPb5nzx4GDBhAhw4d6NixI6NGjSI/P9/CxCIiInI2Dh06RIcOHVi1atVfPvfDDz/kxhtvpHXr1vzjH//gvffe80JCERGRyi/I6gC/tWjRIkaOHEn37t257rrrWLt2Lc8++yzFxcX06dOH3NxcevbsSa1atRg3bhxZWVkkJyeTmZlJSkqK1fFFRETkDxw8eJB7772XvLy8v3zusmXLGDZsGD169OCKK67g888/57HHHiMkJIQbb7zRC2lFREQqL58q8t99913at2/Pk08+CcCll15KRkYG8+bNo0+fPixYsIDs7GwWL15MbGwsAHFxcfTv35+0tDTat29vZXwRERH5HZfLxZIlS3jhhRfOepsJEybQpUsXHn/8cQCuuOIKcnJyePnll1Xki4iI/AWfOl2/uLiYqKioMuuqV69OdnY2ACtXrqR9+/anCnyAyy+/nMjISL7++mtvRhUREZGzsH37dkaNGsWtt97Kiy+++JfPz8zMZPfu3XTu3LnM+htuuIE9e/awe/duDyUVERHxDz51JL9Hjx488cQTLF26lGuvvZYNGzbw3nvvceuttwKwa9cuunbtWmabwMBAEhISyMjIOOf9lZaWkpeXR0hICAEBPvV5h4iIVFEulwuHw0F0dDRBQT71a7pc6taty/Lly4mPjz+ra/F37doFQOPGjcusb9SoEQAZGRmnPfZn9LteRER8jad/1/vUXw833ngjq1evZsSIEafWXX755adO18vLyyMyMvK07SIjI8vVfC8vL4/09PTyBxYREfGQxMREatSoYXWMCqtevfo5Pf/k7/Pfn9l38vf/uf6+1+96ERHxVZ76Xe9TRf79999PWloaw4cPp3Xr1uzYsYPJkyczZMgQpkyZUqbL/u/ZbLZz3l9ISAhgXtd/pg8PKiOHw0FmZiYJCQmn5lfZ+duc/G0+oDlVFppT5VBQUMDhw4f9Zj7nyuVy/enj53o03h9/11vNH//dWUnvp/vpPXUvvZ/ukVNUwkuzVzBu9hOU1K9H+oQJHns/fabIX7duHd988w3PPfcct99+OwCXXHIJDRo0oH///qxYsYKoqCgKCgpO2zY/P5+4uLhz3ufJPxQiIyP94mgJQFFREQAxMTGEh4dbnMY9/G1O/jYf0JwqC82pcqmqp5ZHR0cDnPb7/o+O8P8Vf/xdbzV//ndnBb2f7qf31L30flZcfnEpD8z7gX8vmkXUrp0UGeYH2p76Xe8zf0EcOHAAgKSkpDLrO3ToAMDPP/9MkyZN2Lt3b5nHnU4nmZmZNG3a1DtBRURExGOaNGkCwJ49e8qsP7ms3/ciIlKZFJc66Z+6lqM/7eJfm74AwNm6tUf36TNFfmJiIgBr164ts37dunUANGjQgE6dOrFmzRqysrJOPb5y5UoKCwvp1KmT98KKiIiIRzRq1IiEhASWLVtWZv1nn31G48aNSUhIsCiZiIjIuXG6DB5+ewPf7TrOfavfJcRVaq7v0cOj+/WZ0/VbtmzJDTfcwLhx48jJyaFNmzbs3LmTyZMn06pVKzp37kzHjh2ZN28evXv3ZvDgwWRnZ5OcnMyVV1552hkAIiIi4vvy8/PZuXMnDRs2PHWL3EGDBvHf//6X6tWrc+211/LFF1/wySefMHHiRIvTioiInB3DMBi5dDMfbzpEzYJs7t74y4fXSUm4rrgCfnfGmjv5TJEP8NJLL/Haa6/x1ltv8corr1CvXj1uu+02Bg0aRFBQELGxsaSmpjJmzBiGDRtGZGQkXbp0KdONX0RERCqPLVu20KNHD8aOHcttt90GwG233YbD4WDWrFm8++67NGjQgBdeeOG02+iKiIj4qomf/8ybq8xLzUesW0xoqcN8YOhQCAz06L59qsgPCQlhyJAhDBky5A+f07x5c+bMmeO9UCIiIuIWHTt2ZPv27X+5DuCuu+7irrvu8lY0ERERt5nzbQavfPEzAC1Ksrl9/SfmAy1bQrduUFjo0f37zDX5IiIiIiIiIpXZ0g37Gf3BVgBqBrp4M+N9An65QwGPPAKhoR7PoCJfREREREREpIK+2nGUoQs3AhAV4GJu3ePU+OJT88FmzeCee7ySQ0W+iIiIiIiISAWs33uCgfPSKHUZhNgMXm+QR8stqyA313zCAw9AWJhXsqjIFxERERERESmnnUfy6D1nDYUOJwEYvFI3l8uaxMLbb5tPaNAA7r3Xa3lU5IuIiIiIiIiUw4HsIrqnrCa7sASA52rn0OXCePjkEzhxwnzSoEEQGem1TCryRURERERERM7RiQIH3VNWcTDHDsCwGjnc3TYeXK5fj+LHx8OAAV7NpSJfRERERERE5BwUFJfSa84adh0tAKB3TB6D2tWCwEBYvhwOHzafeN99UK2aV7OpyBcRERERERE5S45SFwPmpbFxXzYAt0QUMDKpOraQEHA64c03zSfWrAmDB3s9n4p8ERERERERkbPgchkMXbSRb34+BsBV4UUkt48i4GTn/K++gsxMc3zvvVCrltczqsgXERERERER+QuGYfD0B1v4YOMBANqFFvNa2zBCIiPMJ7hcMH++Oa5WDR56yJKcKvJFRERERERE/sLkL3fyxvd7ADgvuITZFwUSUS3q1yd8/z2kp5vj7t2hbl0LUqrIFxEREREREflT837Yw4TlOwCoF+QktaWT6rV+01DPMGDePHMcGQnDhlmQ0qQiX0REREREROQPfLzpICOXbgagRqCL1PPs1K1bs+yT0tJg2zZzfNdd0KiRl1P+SkW+iIiIiIiIyBl8u/MYD721AcOAiACD2Y0LaNaozulPPHkUPywMRozwbsjfUZEvIiIiIiIi8js/ZmbTP3UtDqeLYJvB9Pq5tG0Wd/oTN22CjRvNcbducN553g36OyryRURERERERH4j/Wg+vWavocDhxIbBxPgcrmhZF2y205988ih+cDA8+uiZn+NFKvJFREREREREfnEox073lNVkFTgAeKZWDjddGH/m4n37dli92hz/859w4YVeTHpmKvJFREREREREgOxCBz1mrWJ/dhEAQ6rn0r1dPAQGnnmD+fPNr4GB8Nhjlh/FBxX5IiIiIiIiIhQ5nNz7xlp2HM4H4D/R+TzULvaPC/yMDPjmG3N8ww3QoYOXkv45FfkiIiIiIiJSpZU4Xdw/P420PScAuDGigKeTYrCFhv7xRm++aX612XzmKD6oyBcREREREZEqzOUyGPHOj/xv+1EALg+zMyEpksDw8D/eaP9++PJLc3zNNdCpkxeSnh0V+SIiIiIiIlIlGYbB8x//xHvr9wPQJsTBtDYhhEZF/vmGCxaAy2WOH30UAnyntPadJCIiIiIiIiJeNO2rdFJWZgCQGFzCrItsRNWI/vONjhyBZcvM8WWXwXXXeTjluVGRLyIiIiIiIlXO22v28sKn2wCID3KSeoGTmrWrn8WGb0NpqTkePvyPG/NZREW+iIiIiIiIVCnLthziv4s3AVAtwEVqUzsJ9Wv+9YZZWfDRR+Y4KQluusmDKctHRb6IiIiIiIhUGT+kH+eBBetxGRBuM5jVOJ/mTeqc3cbvvAPFxeZ42DAICvJc0HJSkS8iIiIiIiJVwpYDOfR7Yy2OUhdBGEytn0v78+LPbuO8PFi61By3agW33ea5oBWgIl9ERERERET83p7jBfSctYa8YvN6+pficrimZfzZ399+8WIoLDTHDz8MoaEeSloxKvJFRERERETErx3JtdM9ZTXH8s1T7Z+qmcOtrePP/tZ3hYVmkQ/QrBncc4+HklacinwRERERERHxWzlFJfScvYa9WeZR+EHVcunTrs65dcV//33IzTXHDz4IYWEeSOoeKvJFRERERETEL9lLnPRLXctPB80C/d9R+QxLij23hnnFxbBwoTlu2BD69PFAUvdRkS8iIiIiIiJ+p9Tp4oEF61mdkQVAl4hCnmsfg+1cr6X/+GM4ccIc338/REa6Oal7qcgXERERERERv2IYBo+/t4nlWw8D8LcwO5PaRRAYHn5uL1RSAm+9ZY7j42HAADcndT8V+SIiIiIiIuJXXvh0OwvXZgLQKsTBjNbBhEWX4wj88uVw5Ig5HjAAqlVzY0rPUJEvIiIiIiIifmPG1+lM+2oXAI2DS5lzIUTHxpz7CzmdsGCBOa5ZEwYNcmNKz1GRLyIiIiIiIn7h3bRMnv/4JwBqBzqZe34JtevUKN+LffUVZJpnA3DvvVCrlptSepaKfBEREREREan0vtx2mBHv/ghAdICL1GZ2GiSUszB3uWDePHNcrRo89JB7QnqBinwRERERERGp1NbuzuL++etwugxCbQYpDfNp0aRO+V/wu+8gI8Mc9+gBdeu6J6gXqMgXERERERGRSmv7oTz6zFmDvcRFIAZT6uVwyfnx5X/BkhKYOdMcR0bC0KHuCeolKvJFRERERESkUtqXVUj3lFXk2ksBeKFODn9vVRdstvK/6Lvvwp495rhPH2jUyA1JvUdFvoiIiIiIiFQ6x/KL6TFrNUfyigF4PDaHf7WJh4AKlLlHj8Ibb5jjhAQYPbriQb1MRb6IiIiIiIhUKnn2EnrNXk3GsQIA7quWR/+kOhAYWLEXnjIF7HZz/NxzEBtbwaTepyJfREREREREKo3iUif3zU1j8/5cAG6PyuexpBoQFFSxF1671rxtHsC118I991QwqTVU5IuIiIiIiEil4HQZPPTWBr7bdRyAv4cXMjYpGltoaMVe2OGAV14xx2Fh8NJLFf/QwCIq8kVERERERMTnGYbByKWb+WTzIQAuDi3m1bbhBEVEVPzF33kH9u0zx/fdB+3aVfw1LeIzH02sWrWKHj16/OHjDzzwAIMHD2bPnj2MHTuWtWvXEhgYSJcuXRg+fDhRUVFeTCsiIiIiIiLeNHH5Dt5ctReAC0IczGwdSFg1N9SBhw/D3LnmuGFDGDWq4q9pIZ8p8lu1asXbb7992vpJkyaxadMmbrzxRnJzc+nZsye1atVi3LhxZGVlkZycTGZmJikpKRakFhEREREREU+b820Gr3y5E4AGQaWktjSoVrOae1586tRfm+2NGQM1arjndS3iM0V+VFQUbdu2LbPuiy++4Pvvv+fll1+mSZMmTJ8+nezsbBYvXkzsL10O4+Li6N+/P2lpabRv396C5CIiIiIiIuIpSzfsZ/QHWwGoFehi7vkl1Imv5Z4XX70avv7aHP/973Dnne55XQv57DX5drud5557jquvvpouXboAsHLlStq3b3+qwAe4/PLLiYyM5OuT/2NERERERETEL6zYfoShCzcCEBXgYk5iAY0buKnAdzhg8mRzHB5eqZvt/ZbPziA1NZXDhw8zZ86cU+t27dpF165dyzwvMDCQhIQEMjIyyr0vh8NBUVFRubf3JfZfTjM5+dUf+Nuc/G0+oDlVFppT5eBwOKyOICIi4hPW7z3BwHnrKHUZhNgMZjTI48Km9dy3g4ULITPTHA8cCG3auO+1LeSTRb7D4SA1NZWuXbvSqFGjU+vz8vKIjIw87fmRkZHk5+eXe3+ZJ//H+pH09HSrI7idv83J3+YDmlNloTmJiIiIr9t5JI/ec9ZQVOIkAINX6uZw6QVuLPAPHYJ588xxo0YwcqT7XttiPlnkL1u2jKNHj9K3b98y6w3D+MNtbDZbufeXkJBATExMubf3JXa7nfT0dBITEwkLC7M6jlv425z8bT6gOVUWmlPlkJub65cfPouIiJyt/dlFdE9ZTXZhCQBjaufQ5cK6UIGa7zRTpkBxsTkeOxaqV3ffa1vMZ4v88847jwsuuKDM+qioKAoKCk57fn5+PnFxceXeX0hICOHh4eXe3heFhYVpTj7O3+YDmlNloTn5Nn+69EBERORcZRU46JGyioM55u/D4TVyuKttPAS4sZ3cDz/AypXmuHNnuP129722D/C5xnslJSWsXLnyVLO932rSpAl79+4ts87pdJKZmUnTpk29FVFERERERETcrKC4lN5z1rDrqHlgt09MHve3qwWBge7byW+b7UVEwIQJftFs77d8rsjfsWMHRUVFZ7wdXqdOnVizZg1ZWVmn1q1cuZLCwkI6derkzZgiIiIiIiLiJo5SFwPmpbFxXzYAt0YW8GRSdWwhIe7d0VtvwYED5njQILjwQve+vg/wySIfOOOR+bvvvpvQ0FB69+7N8uXLWbRoEcOHD+fKK68kKSnJ21FFRERERESkglwug6GLNvLNz8cAuDq8iOSkKALc3W/n4EGYP98cN2kCTzzh3tf3ET5X5B87Zv6PrVat2mmPxcbGkpqaSo0aNRg2bBgTJ06kS5cuTJw40dsxRUREREREpIIMw+DpD7bwwUbz6HpSaDFT24YRHBnh/p29+qp5uj6YzfbOUHP6A5+7+KBfv37069fvDx9v3rw5c+bM8V4gERERERER8YjJX+7kje/3AHBecAmzLgokolqU+3f0/ffw3XfmuEsX+Ne/3L8PH+FzR/JFRERERETE/837YQ8TlpuXa9cPKiW1pZPqtTxwdL24uGyzveRk9zbz8zEq8kVERERERMSrPvrxICOXbgYgNtBF6nnF1K1b0zM7e+st83p8gAcf9Mtme7+lIl9ERERERES8ZuXPx3jo7fUYBkQEGMxuXEDTRnU8s7MDB35ttpeYCP/9r2f240NU5IuIiIiIiIhX/JiZzX1z11LiNAi2GbyekEebZnGe2ZlhmKfpl5SYy+PGQUyMZ/blQ1Tki4iIiIiIiMelH82n1+w1FDic2DCYGJ/D5S3iwWbzzA6/+w5++MEcd+0Kt93mmf34GBX5IiIiIiIi4lGHcux0T1lNVoF5C7tnauVw04UeLPDt9l+b7UVGwksv+XWzvd9SkS8iIiIiIiIek13ooMesVezPLgLgoeo5dG8X79mi+8034fBhc/zQQ9Cihef25WNU5IuIiIiIiIhHFDmc9Jmzhh2H8wHoEZ3HkHY1PVvg799vdtQHaNYMHn3Uc/vyQSryRURERERExO1KnC7un5/Gur3ZANwUUcDopGrYQkM9t9PfN9t78UWIjvbc/nyQinwRERERERFxK5fLYMQ7P/K/7UcBuCKsiAlJkQSEh3t2x99+C6tWmeN//hNuvtmz+/NBKvJFRERERETEbQzD4LmPfuK99fsBaBPi4LU2oYRERXp2x3Y7vPqqOY6KguTkKtNs77dU5IuIiIiIiIjbvPbVLmZ9mwFAYnAJsy6yEVXDC6fMz59fttne+ed7fp8+SEW+iIiIiIiIuMVbq/fy4qfbAYgPcjL3Aic1a1f3/I737YO33zbH551X5Zrt/ZaKfBEREREREamwTzcf4vH3NgFQLcDF3GZ26tev6fkdGwa88orZbM9mM5vtRUV5fr8+SkW+iIiIiIiIVMj3u47z4FvrcRkQbjOY1Tif8xrX8c7Ov/4a1q41xzffbDbcq8JU5IuIiIiIiEi5bd6fQ7/UtThKXQRhMLV+Lu3Pi/fOzouKYMoUcxwdbR7Fr4LN9n5LRb6IiIiIiIiUy+5jBfSavZr84lIAXorL4ZqW8eZp894wdy4cNW/TxyOPQPPm3tmvD1ORLyIiIiIiIufsSK6d7rNWcSzfAcComjnc2joeArxUZm7b9muzvfPPh+HDvbNfH6ciX0RERERERM5JTlEJPWatZl9WEQCDq+XSu10d750qX1wMY8aAy2Xuc+JEiIz0zr59nIp8EREREREROWv2Eif93ljLtkN5APw7Kp+hSbEQFOS9EDNmmLfNA7jvPujSxXv79nEq8kVEREREROSslDpdDH5zPat3ZwHQJaKQ59rHYAsN9V6Idevg3XfNcYsWMHas93oAVAIq8kVERMSjVq5cSbdu3WjTpg3XXnstKSkpGIbxh88vLS3l9ddf5/rrr6dt27bccsstfPzxx15MLCIiZ2IYBo8t3sTnPx0G4NIwO5PaRRAYHu69EPn58MIL5jg0FKZPh5gY7+2/ElCRLyIiIh6zYcMGBgwYQGJiIpMnT+af//wnycnJzJgx4w+3mTx5MhMnTuTmm2/mtddeo3379jz88MMsW7bMi8lFROT3xn26jXfSMgFoFeLg9dbBhEV7+Tr4yZPhyBFzPHQoXH65d/dfCXjxogkRERGpaiZPnkyLFi1ITk4G4Morr6S0tJRp06bRo0cPwsLCTtvm3Xff5aabbmLw4MEAXHrppWzZsoV58+Zxww03eDW/iIiYZn23l+lfpQPQOLiUORdCdKyXj6B//TV89pk5vvhiePJJnaZ/BjqSLyIiIh7hcDhYtWoVnTt3LrP+hhtuoKCggLS0tD/cLioqqsy66tWrk52d7amoIiLyJ/63u4jk5TsBqB3oZO75JdSuU8O7IbKyYMIEcxwVZZ6m783LBCoRFfkiIiLiEfv27aOkpITGjRuXWd+oUSMAMjIyzrhdjx49WLJkCV9//TX5+fm8//77fPPNN9xyyy2ejiwiIr/zv+3HmLo2B4DoABepzew0SKjl3RCGAePHQ46Zg6eegnbtvJuhEtHp+iIiIuIReXnmrZV+f1Q+8pf7GOfn559xu169erFhwwb69et3al23bt3o27dvubM4HA6KiorKvb38ym63l/kqFaP30/30nrpP2t5sHn5nEy4DQm0G0+udILFeHMXFxV7NEfDZZwR/9x0AzquuwnHffVCJf6Y7HA6Pvr6KfBEREfEIl8v1p48HBJx+QqHD4eCee+7h6NGjPP300yQmJrJ+/Xpee+01IiIiePLJJ8uVJTMzs1zbyR9LT0+3OoJf0fvpfnpPK2Z3dgkjV2RRXGoQgMFTgT9TMyic3bt3ezVH0LFjNJ46FYDSmBh+GjIEx88/ezVDZaMiX0RERDwiOjoagIKCgjLrTx7B//0RfoBly5axbds2Zs+ezWWXXQbAJZdcQlRUFM888wx33HEHzZs3P+csCQkJxOgWS25ht9tJT08nMTHxjI0T5dzo/XQ/vacVl3miiHGfpFFYYt7udETgLm6+OJEQb7+fLhfBU6YQ8MtZGa4xY2jWpYt3M3hAbm6uRz98VpEvIiIiHtGwYUMCAwPZs2dPmfV79+4FoGnTpqdtc+DAAQCSkpLKrL/44osB2LlzZ7mK/JCQEMLVoMmtwsLC9J66kd5P99N7Wj5H84rpN38jR/PNU8ofrZbFNdVDCAkLIzQ01LthFi6ETZvM8a23EnLffRBU+UtYT19KosZ7IiIi4hGhoaF06NCB5cuXYxjGqfXLli0jOjqa1q1bn7ZNYmIiAGvXri2zft26dYB5RF5ERDwjz15Cr9mr2X28EID7quXRp3UsnOHyKo/LyICZM81x3bowebJfFPjeoHdJREREPGbgwIH07t2bIUOG0K1bN9avX09KSgpDhw4lPDyc/Px8du7cScOGDYmNjeXaa6+lTZs2DB8+nAceeIDExER+/PFHXnvtNa699tozfjAgIiIVZy9x0j81jS0HcgG4PSqfx5Jq4NkWcX+gpATGjjW/2mwwcSLoQ96zpiP5IiIi4jGXXnopkydPJiMjg0GDBvHBBx8wYsSIU53zt2zZwp133smKFSsACAwMZNasWXTt2pWpU6fSr18/lixZwsCBA3n55ZctnImIiP9yugweemsD36cfB+Dv4YWMTYrG5u3T80+aOxdONtf7z3/g9tutyVFJ6Ui+iIiIeFTnzp3p3LnzGR/r2LEj27dvL7MuKiqKkSNHMnLkSG/EExGp0gzD4Mklm/h0yyEALgm182rbcIIiIqwJtHUrzJ9vjps0gQkTrLlcoBLTuyUiIiIiIlJFjf9sBwtW7wPgghAHM1oHEVbt9LufeIXdDuPGgcsFgYEwdSrUqmVNlkpMRb6IiIiIiEgVNGtlBq/+bycADYJKSW1pUK1mNesCvf467DM/cGDgQLjhBuuyVGIq8kVERERERKqYJev388yHWwGoFehi7vkl1ImPtS5QWhq89545btUKxowxm+7JOVORLyIiIiIiUoX8b/sRhi3aCEB0gIs5iQU0bmDhafH5+fDCC+Y4NBSmT4foaOvyVHIq8kVERERERKqItD0nGDgvjVKXQYjN4PUGeVzYNN7aUK+8AkePmuPhw+Gyy6zNU8mpyBcREREREakCdhzOo8+cNdhLXARg8ErdHC69oK61ob76CpYvN8eXXAJPPKHT9CtIRb6IiIiIiIif259dRI+U1eQUlQAwpnYOXS6sa21BnZVl3iIPICoKZsyAsDDr8vgJFfkiIiIiIiJ+LKvAQfeUVRzKtQMwvEYOd7WNt/b+84YBL70Eubnm8ujR0Lq1dXn8iIp8ERERERERP5VfXErv2atJP1oAwL0xedzfrpZ5H3orffwxfP+9Ob7uOnjwQWvz+BEV+SIiIiIiIn6ouNTJgLlpbMzMAeD/Igt4Iqk6tpAQa4MdPAhTppjj2FiYNg2Cg63N5Ed8rsjfsGED3bt3p23btlx22WU8+uijHD9+/NTje/bsYcCAAXTo0IGOHTsyatQo8vPzLUwsIiIiIiLiW5wug6ELN7Jy5zEArg4v4sWkKAKsvubd6YRx46CoyFx+8UVo1szaTH7Gp4r8zZs306NHDyIjI3n11VcZNmwY3377LYMGDQIgNzeXnj17cuzYMcaNG8fQoUP5+OOPGTJkiMXJRUREREREfINhGDz9wRY+/PEgAEmhxUxtG0ZwZITFyYB33oEffzTH//d/0LOntXn8UJDVAX4rOTmZli1bMnXqVAJ+aQIRFRXF888/z759+/j444/Jzs5m8eLFxMbGAhAXF0f//v1JS0ujffv2VsYXERERERGx3Ctf7CT1+z0ANA8uYdZFgURUi7I4FZCRASkp5rhuXZg8GYJ8qiT1Cz5zJP/EiROsXr2af//736cKfIDrr7+er776igYNGrBy5Urat29/qsAHuPzyy4mMjOTrr7+2IraIiIiIiIjPmPvDHiZ+vgOA+kGlpLZyUb1WNYtTASUlMGaM+dVmg5dfhvr1rU7ll3ymyN++fTsul4vY2FiGDh1Ku3btaNeuHSNGjCD3l9sq7Nq1iyZNmpTZLjAwkISEBDIyMqyILSIiIiIi4hM+/PEATy3dDEBsoIvU5g7i42P/YisvSU2FnTvNcY8e0K2btXn8mM+cG5GVlQXA448/zpVXXsnUqVPZvXs3EyZMYN++fbz55pvk5eURGRl52raRkZEVar7ncDgoOtn4oZKz2+1lvvoDf5uTv80HNKfKQnOqHBwOh9URRESkElr58zEefnsDhgGRAQZzGhfQtGG81bFMP/8Mb75pjhMTYfx4CPCZ481+x2eK/JKSEgBatWrF888/D8Cll15KTEwMjzzyCN9++y2GYfzh9jabrdz7zszMLPe2vio9Pd3qCG7nb3Pyt/mA5lRZaE4iIiL+ZeO+bPrPXUuJ0yDEZvB6Qi6tz6tndSyTy2Wemu9yQWAgTJ0KNWtancqv+UyRf/II/TXXXFNm/RVXXAHA1q1biYqKoqCg4LRt8/PziYuLK/e+ExISiImJKff2vsRut5Oenk5iYiJhVt8ew038bU7+Nh/QnCoLzalyyM3N9csPn0VExDN2Hc2n95w1FDqc2DCYGJ9DpxY+UuADLFsGW7aY47vugs6drc1TBfhMkd+4cWPg9NMUS0tLAQgLC6NJkybs3bu3zONOp5PMzEyuv/76cu87JCSE8PDwcm/vi8LCwjQnH+dv8wHNqbLQnHybP116ICIinnUwp4geKavJKjBrqGdq5XDjhfFmYztfkJcH06eb45o1zcZ7Ok3f43zmHW7atCn169fno48+KnNa/hdffAFAhw4d6NSpE2vWrDl1/T7AypUrKSwspFOnTl7PLCIiIiIiYoXsQgc9UlazP9vsLfZw9Ry6t4s3T4n3FSkpkJNjjh9/HBo2tDZPFeEzRb7NZmPEiBFs2LCBhx9+mO+++47U1FTGjBnDDTfcQMuWLbn77rsJDQ2ld+/eLF++nEWLFjF8+HCuvPJKkpKSrJ6CiIiIiIiIxxU6SukzZw0/HzGbj/eMzuPBdjV9q8Dfvh3ef98ct2sH999vbZ4qxGdO1wfo0qULr732GlOmTOG+++6jWrVq3HXXXTz88MMAxMbGnir8hw0bRmRkJF26dGHEiBEWJxcREREREfG8EqeL++evY93ebAD+GVnAqPbVsYWGWhvst0422zMM84OH8ePBT3rnVAY+VeSD2Xjv9833fqt58+bMmTPHe4FERERERER8gMtlMHzRRlZsPwrAFWFFjG8XSYCvFdCffAI//WSO774brr7a0jhVjc+cri8iIiIiIiJnZhgGz360lSUbDgDQJtTBtHZhhERFWpzsd3Jz4fXXzfHJZnu+0giwilCRLyIiIiIi4uOmrtjF7G93A9A0uITZF9qIrBZlbagzSUkxC32AJ5+EhARr81RBKvJFRERERER82Fur95K8bDsAdYOcpLZwElu7urWhzmT7dvjgA3Pcvj0MHGhtnipKRb6IiIiIiIiP+nTzQR5/bxMA1QNcpDazU79eTYtTnYHLBZMm/dpsb8IE8KVmgFWIinwREREREREf9N2uYzy4YAMuA8JtBrOaFHBe4zpWxzqzjz+GbdvM8X/+A1dcYW2eKkxFvoiIiIiIiI/ZvD+H/qlpOJwugjCYlpBLUrM4q2OdWU4OzJhhjmvXVrM9i6nIFxERERER8SEZxwroNXs1+cWlAIyPz+GqFvG+WzjPmPFrs72RI6FePWvzVHEq8kVERERERHzE4Vw73VNWcSzfAcDomtncclE8BPho6bZ1q3mqPsDFF0P//tbmERX5IiIiIiIiviCnqISes1aTeaIIgAer59KrXZzZyM4XOZ3w8stms72gIBg/Xs32fICKfBEREREREYvZS5z0fWMN2w7lAXB3VB4Pt4s1i2df9dFHsGOHOe7RAy6/3No8AqjIFxERERERsVSp08XgN9exZvcJAP4RUciz7ath8+Wj4tnZMHOmOa5TB557znd7BlQxKvJFREREREQsYhgGj767ic9/OgLAZWF2JiVFEBgebnGyvzBjBuSZZx3w1FNQt661eeQUFfkiIiIiIiIWGffJNt5dlwnARSEOXm8TQmhUpMWp/sJvm+117Ah9+1qbR8pQkS8iIiIiImKB6V/tYvrX6QA0CS5l9oUQVSPa4lR/wemESZPMcXCwmu35IBX5IiIiIiIiXrZw7T7GfrINgDqBTlLPL6FWnRoWpzoLH3wAP/9sjnv2hMsuszaPnEZFvoiIiIiIiBct33qY/y7eBEBMgIu5zew0SKhlcaqzcOIEpKSY47g4NdvzUSryRUREREREvGR1RhaD31yH02UQZjOY1Sif85vUsTrW2Xn9dcjPN8ejR5uFvvgcFfkiIiIiIiJesPVALve+sYbiUheBGEytn0uH5vFWxzorti1b4NNPzYVLL4V777U2kPwhFfkiIiIiIiIetvd4IT1nrybPXgpAcp0crm0ZXzlOd3c6CZoyxRwHB8OECeZX8Ukq8kVERERERDzoaF4x3Wet4mheMQBPxmZzW5t4CKgc5Vj1r78mIN28CwC9e5u3zROfVTm+q0RERERERCqhXHsJPWetZs/xQgAGVsulb1IcBAZanOwsnThBraVLzXF8PDz7bOU4+6AKU5EvIiIiIiLiAfYSJ/3eWMvWg7kA3BGVz4ikWAgKsjjZ2QtKSSHQbjcXRo+GOpWkSWAVpiJfRERERETEzUqdLoa8tZ5VGVkAXB9eyJikaGyhoRYnOwc//kjg558D4Lz0UujTx+JAcjZU5IuIiIiIiLiRYRg8uWQzy7YcBqBjWDGvJEUQFBFhcbJz4HTCyy8D4AoOpmTsWDXbqyRU5IuIiIiIiLhR8rLtvLVmHwAtQhzMaB1EWHSkxanO0XvvwS/N9o7dcgvGxRdbHEjOlop8ERERERERN5n5TTpTV+wCoGFQKW+0NIiJjbE41Tk6fhzmzAHAFR/PgfvuU7O9SkRFvoiIiIiIiBu8tz6T5z76CYBagU7mXlBCnfhYi1OVw/TpUFAAQOlTT+GsUcPiQHIuVOSLiIiIiIhU0P+2HWH4oh8BiA5wkdq0iEYJtSxOVQ4bN8Ly5eb4iitw3nOPtXnknKnIFxERERERqYC0PVkMnJ9GqcsgxGYws0EeLRPjrI517kpLTzXbIyQExo9Xs71KSEW+iIiIiIhIOW0/lEfv2Wuwl7gIwODVujl0vKCu1bHKZ9YsyMgwx/36QYcO1uaRclGRLyIiIiIiUg6ZJwrpMWsVufZSAMbVyeH6C+tWziZ1//sfLFhgjhs1gtGjK+c8REW+iIiIiIjIuTqeX0yPlNUczi0G4NEaOdzRJh4CKmGJtWsXvPiiOY6MhHnzoFYl7CcggIp8ERERERGRc5JfXErvOWtIP2Z2oO8Xk8uAdrUgMNDiZOWQkwMjR4Ldbh65nzgRLr/c6lRSASryRUREREREzlJxqZP75q7lx8wcAG6LzOe/7WOxhYRYnKwcnE547jk4eNBcHjQI7r3X2kxSYSryRUREREREzoLTZfDw2xv4dudxAK4NL+KFpGgCQkMtTlZOM2bA2rXm+JprzFP2K+PlBlKG/g+KiIiIiIj8BcMweGrpZj7edAiA9qHFTGkbRnBkhMXJyumLL+Dtt81xkyYwdy6Eh1ubSdxCRb6IiIiIiMhfmPj5z8xftReA84NLmNU6kPBqURanKqeff4bkZHMcFWU22qtf39pM4jYq8kVERERERP7EG9/t5pUvfgagflApqa1cVKtZzeJU5XSy0V5xsdlo7+WX4bLLrE4lbqQiX0RERERE5A+8v/EAoz/YAkDNQBdzmzuIi4+1OFU5OZ3w9NNw+LC5/MAD0KuXpZHE/VTki4iIiIiInMHXO44ydOEGDAMiAwzmNCkgsWFtq2OV37RpsH69Ob7uOnjhBTXa80P6PyoiIiIiIvI7G/ZlM2BeGiVOgxCbwYwGuVzULN7qWOX32WfwzjvmODHRbLQXFmZtJvEIFfkiIiIiIiK/sfNIHr1nr6bQ4cSGwct1c7nsgrpWxyq/7dth/HhzHB0Nb74JdSvxfORPqcgXERERERH5xYHsInqkrOZEYQkAz9XK4R8XxptN6iqjEyfgqafA4TBPzZ88GTp2tDqVeJCKfBEREREREeBEgYMes1ZzIMcOwNDqOdzTLr7yXrdeWgqjR8ORI+byQw9B9+5WJhIvqKTfrSIiIiIiIu5T6Cil95w17DySD0Cv6DwGJ9WCwECLk1XA1Knw44/muHNneP75yvuBhZy1IKsD/FZxcTFJSUmUlpaWWR8REcH6X7pAbtq0iRdffJHNmzcTGRnJbbfdxuDBgwkJCbEisoiIiIiIVHKOUhcD5q1jw75sAG6OLOCp9tWxVeYa49NP4b33zHGzZpCaqkZ7VYRPFfk7duygtLSU5ORkGjZseGp9wC+fNu3bt4/evXvTtm1bJk2axK5du5g4cSLZ2dk888wzVsUWEREREZFKyuUyGLZoI1/vOArAlWFFvJQURUBlLoh/+gkmTDDHMTFmo734SnxnADknPlXkb9u2jaCgILp06XLGI/MzZswgMjKSqVOnEhISwlVXXUVYWBjPPvssAwYMoF69ehakFhERERGRysgwDJ75cCvvbzwAQNvQYqa1CyMkMsLiZBWQlWU22ispMU/Nf/VVuPhiq1OJF/nUBRk//fQTiYmJf3jq/cqVK7nqqqvKPN6lSxdcLhcrV670VkwREREREfEDU/63kznf7QagaXAJsy8KJKJalLWhKqKkxGy0d+yYuTx0KNxzj6WRxPt8rsgPDAykT58+tG3blksuuYSnnnqK/Px87HY7+/fvp0mTJmW2iY2NJSoqioyMDItSi4iIiIhIZTN/1R5e+mwHAHWDnMxt4aRGrWoWp6qgV1+FTZvMcZcu8OyzarRXBfnM6fqGYbB9+3YMw+D2229n4MCBbNq0iVdffZWdO3cyceJEAKKiTv9kLTIykvz8/HLv2+FwUFRUVO7tfYndbi/z1R/425z8bT6gOVUWmlPl4HA4rI4gIuL3Pt50kCeXbAagRqCLuefZqVevjsWpKuijj+D9981x8+bwxhsQGmptJrGETxX5r732GrGxsZx33nkAXHzxxdSqVYvhw4ezatWqP93eZrOVe9+ZmZnl3tZXpaenWx3B7fxtTv42H9CcKgvNSUREqrLvdh7jobc2YBgQEWAwu3EBzRpV8qZ0W7fCyy+b42rVzEZ7dSr5hxZSbj5T5AcEBNCxY8fT1l999dXAr4V4QUHBac/Jz88nOjq63PtOSEggJiam3Nv7ErvdTnp6OomJiYRV5o6gv+Fvc/K3+YDmVFloTpVDbm6uX374LCLiCzZl5tAvdS0Op4tgm8G0+rm0bVbX6lgVc/z4r432AgNh6lRo397qVGIhnynyDx8+zFdffcXll19epkv+yVMwa9euTVxcHHv27Cmz3fHjxykoKKBp06bl3ndISAjh4eHl3t4XhYWFaU4+zt/mA5pTZaE5+TZ/uvRARMSXZBwroNfs1RQ4nNgweCkuhytb1oMKnBFsOYcDRo0yC32AYcPgrruszSSW85kuDE6nk5EjR/L222+XWf/xxx8TGBhIhw4d6NSpEytWrChzveKyZcsIDAzkb3/7m7cji4iIiIhIJXA41073lFUcLzDriNE1c7jlovjKXeADTJ4MW7aY465d4emn1WhPfOdIfr169bjttttISUkhNDSUdu3akZaWxrRp07jnnnto0qQJffv25aOPPqJv37707t2b3bt3M2HCBO64444yR/9FREREREQAcgpL6JGymswTZqPtB6vn0rNdnHlqe2X2/vvw4Yfm+IILYM4cNdoTwIeKfICnn36aBg0asHTpUl577TXi4+N58MEH6du3LwBNmzZl1qxZvPjiizz44IPUqFGDXr168eCDD1qcXEREREREfE2Rw8m9b6xh++E8AO6JzufhdrEQ5FNl0LnbvNk8ig9Qo4bZaK92bWszic/wqe/ukJAQ7r//fu6///4/fE6HDh1YuHChF1OJiIhIRaxcuZKJEyeyc+dOatasyT333EOfPn3+9M44K1as4NVXX2XHjh1Ur16d66+/nkceeYSIiAgvJheRyqzE6eKht9exds8JALpGFPJMUgy2yn60u6AAnn8eSkt/bbTXrp3VqcSH6IINERER8ZgNGzYwYMAAEhMTmTx5Mv/85z9JTk5mxowZf7jNl19+ycCBAznvvPOYPn06/fv3Z/HixYwcOdKLyUWkMnMZBiM/2MaX244A0CnMzsSkCAL9oUnr1Klw6JA5fughuPNOS+OI7/GpI/kiIiLiXyZPnkyLFi1ITk4G4Morr6S0tJRp06bRo0ePM976cOzYsdxwww2MHTsWgEsvvRSn08ncuXMpKirymzspiIhnGIbB3B/zeH9HIQAXhTiY3iaE0KhIi5O5wXffwccfm+N27eCZZyp/80BxOx3JFxEREY9wOBysWrWKzp07l1l/ww03UFBQQFpa2mnbbN26lb179/Kf//ynzPqePXvy+eefq8AXkb+U8t3eUwV+YnAJcy6yEVUj2uJUbpCdDS+9ZI4jIuD1182vIr+jI/kiIiLiEfv27aOkpITGjRuXWd+oUSMAMjIy6NSpU5nHfvrpJwBCQ0O57777+P777wkLC+OWW25h+PDhhISElCuLw+GgqKioXNtKWXa7vcxXqRi9n+717voDjP98FwB1AkqZ0bSIqJhYiouLLU5WQYZB0EsvEXjC7C/gGDECZ6tW4IWfa/oedb/f3hLeE1Tki4iIiEfk5ZndrKOiosqsj4w0T5nNz88/bZusrCwABg8ezE033UTv3r3ZtGkTkydPJisri/Hjx5crS2ZmZrm2kz+Wnp5udQS/ovez4tYcsPPit9kARFPKmLCdlBZHsXt3rrXB3CDmhx+o++23AOS1a8fP11+PsXWrVzPoe7TyUJEvIiIiHuFyuf708YCA068aLCkpAaBz584MHz4cgL/97W8YhsH48eMZPHgwTZo0OecsCQkJxMTEnPN2cjq73U56ejqJiYln7Kkg50bvp3us2XOCias24gLCbC6eD9lJx3bNy332j085epSQX+4uZlSrRlBKCi0uuMBru9f3qPvl5uZ69MNnFfkiIiLiEdHR5jWwBQUFZdafPIL/+yP88OtR/quvvrrM+iuuuILx48fz008/lavIDwkJ0fX8bhYWFqb31I30fpbf1gO5DFqwieJSF4EYvBKXRaOwSEJCQgit7LfLc7lg4kQoNHsM2J5/nnCLbpen71H38fSlD2q8JyIiIh7RsGFDAgMD2bNnT5n1e/fuBaBp06anbXPy+v3fX6948gh/pf+DXUTcau/xQnrMWk1ecSkAyXE5XHV+Hf/pOL9kCaxbZ467doX77rM0jlQOKvJFRETEI0JDQ+nQoQPLly/HMIxT65ctW0Z0dDStW7c+bZsOHToQERHBRx99VGb9l19+SVBQEO0sOoIlIr7nSJ6d7rNWcSzfbKr3ZM0cbmsdD2e4FKhS2rsXpk83x3XqwNSpEKQTseWv6btEREREPGbgwIH07t2bIUOG0K1bN9avX09KSgpDhw4lPDyc/Px8du7cScOGDYmNjSUyMpIHH3yQcePGERMTw/XXX8+6deuYOXMmPXr0IDY21uopiYgPyLWX0GvWGvYcN09jv79aLn3b1YHAQCgttTidGzidMHYsOBzmWQkTJsAvdyYR+St+8jGXiIiI+KJLL72UyZMnk5GRwaBBg/jggw8YMWIE/fr1A2DLli3ceeedrFix4tQ2vXv3ZsyYMaxZs4Z+/frx7rvv8sADD5xqxCciVZu9xEm/N9ay9aDZNf/OqHyGJ8X611Hu+fNh2zZzfNdd5n8iZ8mP/iWIiIiIL+rcuTOdO3c+42MdO3Zk+/btp63v1q0b3bp183Q0EalkSp0uHlywnlUZ5u02r48o5PmkaGz+1K9j+3ZITTXHDRvCpEnmGQoiZ0lH8kVERERExOcZhsET723ms62HAegYVswr7SIIioiwOJkbFRebp+k7nWZh/+qr5vX4IudARb6IiIiIiPi85GXbeXvtPgBahjiY0TqIsOhIi1O52cyZcPKOJP36wY03WptHKqUKFfkffvjhabe4ERERERERcaeZ36QzdcUuABoGlTKnFcTExlicys3Wr4d33jHH558P48b5z50CxKsq9F0zYsQIOnXqxOjRo/nxxx/dlUlERERERASAxesyee6jnwCoHehk3gUl1ImrYXEqNysogBdeMMchITBtGlSrZm0mqbQqVOR/+eWX9OnThx9++IE777yTrl27kpKSwtGjR92VT0REREREqqgvtx1m+DvmwcToABdvNC2iYUIti1N5wKuvwmGz1wAPPQRXXWVpHKncKlTkx8fHM3DgQD799FPmz59Phw4dmDFjBtdccw0DBgzgs88+o9Qf7lMpIiIiIiJelbYni/vnr8PpMgi1GaQ0zKdlYpzVsdxv5Ur49FNznJQEo0aBzWZtJqnU3HYLvaSkJJKSkrj99tt58cUXWbFiBStWrKBWrVr07NmTPn36EKhbP4iIiIiIyF/YfiiP3rPXYC9xEYjBq/VyuOT8elbHcr8TJ2D8eHMcEQEzZphfRSrALUX+/v37Wbp0KUuXLmXv3r00bNiQRx55hKuvvpoVK1YwZcoUdu7cyQsnrzMRERERERE5g31ZhfSYtYpcu3lG8Ng6OXRuVdf/jm4bBkycCNnZ5vLIkeaRfJEKqlCRv2jRIpYuXcq6desIDQ2lS5cuPP/883To0OHUc5o3b86JEyd46623VOSLiIiIiMgfOpZfTI9ZqzmcWwzAY7E53NEm3j+7zC9bBt98Y46vugoeftjaPOI3KlTkjxw5kjZt2jB69Gi6du1KVFTUGZ93/vnnc+edd1ZkVyIiIiIi4sfyi0vpPXsNGccKAOgfk8uAdrXBHy/5PXTIbLYHUL06TJ8OoaGWRhL/UaEi/8MPP6RZs2Y4nc5T19vb7XZKSkqIjo4+9bxbb721QiFFRERERMR/FZc6uW/uWjbtzwGgW2Q+j7WPheBgi5N5gMsFL75o3jYPYMwYOP98azOJX6nQeS+NGzdm1KhR3HHHHafWrVu3jksvvZQXXngBl8tV4YAiIiIiIuK/nC6Dh9/ewLc7jwNwXXgR45KiCfDXI9uLF8P69eb4ppugXz9r84jfqVCR/8orr/D+++9z0003nVrXsmVLhg0bxsKFC5k5c2aFA4qIiIiIiH8yDIORSzfz8aZDAHQILebVtmEER/pph/k9e8wO+gBxcTBlCgS57YZnIkAFT9f/4IMPePTRR7nrrrtOratevTq9evUiKCiI1NRU+vfvX+GQIiIiIiLifyZ+/jNvrtoLwAUhJaS0DiS82pn7fFV6paUwdiw4HOadAiZOhIYNrU4lfqhCR/JPnDhBgwYNzvhYYmIihw4dqsjLi4iIiIiIn3rju9288sXPACQElfJGSxfValazOJUHzZ8P27eb47vvBjUmFw+pUJGfmJjIsmXLzvjYl19+SaNGjSry8iIiIiIi4oeWbtjP6A+2AFAz0MXc5g7i4mMtTuVB27ZBaqo5btTIPIrvj7cFFJ9QodP1e/TowWOPPUZ2djZ///vfqVmzJllZWfzvf//jk08+YezYse7KKSIiIiIifuCrHUcZunAjhgFRAQZvNCmgScN4q2N5TnGx2UHf5TJvBzh1KtSubXUq8WMVKvJvvfVWCgoKmDp1Kp999tmp9TVq1GDkyJG6dZ6IiIiIiJyyfu8JBs5Lo9RlEGIzeL1BLhc2q2d1LM+aMQP27TPH990H//iHtXnE71W4leM999zD3XffTUZGBtnZ2cTExJCYmEiATj8REREREZFf7DySR585ayh0OAnA4JW6uVx2QV2rY3nWunXw7rvmuEULs/GezWZtJvF7brlfg81mIzEx0R0vJSIiIiIifuZAdhE9UlZzorAEgOdq59Dlwrr+XfBmZZlFPUBoKEyfDjEx1maSKqFCRX5WVhbPP/88K1asoKioCMMwyjxus9nYunVrhQKKiIiIiEjldaLAQY9ZqzmQYwdgWI0c7m4b79+N50pKYNQoOHbMXB46FC6/3NpMUmVUqMh/5pln+N///seNN95IfHy8TtEXEREREZFTCopL6T1nDTuP5APQKyaPQe1qmQ3o/Nmrr8Lmzeb4H/+Ap57y77MWxKdUqMj/+uuvefzxx7lT93gUEREREZHfcJS6GDh/HRv2ZQNwS2QBTyVVxxYSYm0wT/vwQ3j/fXPcvDnMmWOeri/iJRU69B4cHEyDBg3clUVERERERPyAy2UwbNFGvt5xFICrwotITooiICzM4mQetmULvPyyOa5WDd58E+rUsTaTVDkVKvI7d+7Mhx9+6K4sIiIiIiJSyRmGwTMfbuX9jQcAaBtazGttwwiJjLA4mYcdO2Zeh19aal6OMHUqtG9vdSqpgip0un7Lli2ZNGkS+/bto02bNoT97pM5m83GoEGDKhRQREREREQqj1e/3Mmc73YD0Cy4hNkXBRJRLcraUJ7mcJgF/vHj5vLw4fDvf1ubSaqsCjfeA1izZg1r1qw57XEV+SIiIiIiVcf8VXsYv3wHAPWCnMxt6aRGrZoWp/Iww4BXXoGTdxW78UYYPVqN9sQyFSryt23b5q4cIiIiIiJSiX286SBPLjE7ytcIdJF6np26davA9egffAAffWSOW7RQoz2xnNvueZeXl8euXbtwOBw4nU53vayIiIiIiPi473Ye46G3NmAYEBFgMLtxAc0aVYECf9MmmDzZHNeoYTbaq1XL2kxS5VW4yF+1ahW33347l1xyCf/85z/5+eefGTp0KOPGjXNHPhERERER8WGbMnPol7oWh9NFsM1gev1c2jaLszqW5x09WrbR3rRp0Lat1alEKlbkf//999x7772EhYUxbNgwDMMA4IILLiA1NZXZs2e7JaSIiIiIiPie9KP59Jq9mgKHExsGE+NzuKJlXf+/Ht3hgKeeghMnzOXHHoPbb7c2k8gvKlTkT5o0ieuuu465c+fSs2fPU0X+gAED6Nu3L4sWLXJLSBERERER8S2Hc+10T1nN8QIHAM/UyuGmC+P9v8A3DJg0CU72J7vlFvOIvr/PWyqNChX5P/30E926dQPMTvq/1alTJ/bv31+RlxcRERERER+UU1hCj5TV7M8uAmBI9Vy6t4s3T1v3d0uWwCefmOOWLSElBYKDLY0k8lsVKvKjo6M5evToGR87ePAg0dHRFXl5Bg8ezLXXXltm3Z49exgwYAAdOnSgY8eOjBo1ivz8/ArtR0REREREzk6Rw0mfN9aw/XAeAN2j83ioXWzVKPA3boQpU8xxbCwsWAA1/fwWgVLpVKjIv+6665g4cSKbNm06tc5ms3Ho0CGmTZvG1VdfXe7XXrp0KcuXLy+zLjc3l549e3Ls2DHGjRvH0KFD+fjjjxkyZEi59yMiIiIiImenxOli0JvrSNtjXot+Y0QBo5OqYasKt4w7cgRGjwanE4KCYPp0aN3a6lQipwmqyMZDhw5l48aN3HHHHdT65VYRjzzyCIcOHaJu3bo88sgj5Xrdw4cP8/zzzxMfH19m/YIFC8jOzmbx4sXExsYCEBcXR//+/UlLS6N9+/YVmY6IiIiIiPwBl8vg0Xd+5MttRwC4PMzOhKRIAsPDLU7mBcXFMHIkZGeby088Ab9ctiziaypU5FerVo1FixaxZMkSfvjhB7Kzs4mOjqZ79+7cdttthJfzH/yTTz5Jp06dCA0NZfXq1afWr1y5kvbt258q8AEuv/xyIiMj+frrr1Xki4iIiIh4gGEYjPn4JxavN3tutQ5xMK1NCKFRkRYn8wLDgAkTYMcOc/n//s8s8tVoT3xUhYp8gJCQEO644w7uuOMOd+Rh0aJFbNmyhQ8//JAXX3yxzGO7du2ia9euZdYFBgaSkJBARkZGuffpcDgoKioq9/a+xG63l/nqD/xtTv42H9CcKgvNqXJwOBxWRxAROc20r9KZudL8ezsxuITZF9mIqlGx/luVxuLF8Nln5vjCC2HmTDXaE59WoSJ/yZIlf/mcW2+99axfb//+/YwdO5axY8eWOVp/Ul5eHpGRp39aGBkZWaHme5mZmeXe1lelp6dbHcHt/G1O/jYf0JwqC81JRETOxdtr9vLCp+bt4uKDnKRe4KRm7SrSbG79epg61RzXrGk22jtDnSLiSypU5D/22GNnXG+z2QgMDCQwMPCsi3zDMHj88ce56qqruOGGG/7wOX/k97fwOxcJCQnExMSUe3tfYrfbSU9PJzExkbCwMKvjuIW/zcnf5gOaU2WhOVUOubm5fvnhs4hUTsu2HOK/i80m29UCXKQ2tZNQv47Fqbzk0CF4+mlwucwj9zNmmEfyRXxchYr8L7744rR1hYWFrF27lhkzZjDl5O0lzsL8+fPZvn07H3zwAaWlpcCvRX1paSkBAQFERUVRUFBw2rb5+fnExcWVcxbmJQfl7R/gq8LCwjQnH+dv8wHNqbLQnHybP116ICKV2w/px3lgwXpcBoTZDGY1zqd5k7pWx/IOux2eegpycszlkSPhHM5QFrFShYr8+vXrn3H9eeedR0lJCc8++yxvvvnmWb3WsmXLOHHiBJdffvlpj7Vq1YrBgwfTpEkT9u7dW+Yxp9NJZmYm119//blPQERERERETrPlQA793liLo9RFEAav1c+l/XlVpMA3DBg/Hn7+2Vy+/XZ47DE12pNKo8KN9/7I+eefz/jx48/6+U8//fRpR+mnTJnC5s2bee2116hTpw42m42UlBSysrJOXbO/cuVKCgsL6dSpk1vzi4iIiIhURXuOF9Bz1hryis2za1+Ky+GalnWrTpG7aBF8/rk5bt0aXn9djfakUvFIke9wOHjnnXeoWfPsG3IkJiaetq569eqEhIRw0UUXAXD33Xczb948evfuzeDBg8nOziY5OZkrr7ySpKQkt+UXEREREamKjuTZ6Z6ymmP5xQA8VTOHW1vHQ0CAxcm8JC0Npk83x7Vrw1tvQfXqlkYSOVcVKvKvvfba0xreuVwuTpw4QXFxMY8++miFwv1ebGwsqampjBkzhmHDhhEZGUmXLl0YMWKEW/cjIiIiIlLV5BSV0HPWGvZmFQIwqFoufdrVgcBAi5N5ycGD8MwzvzbamzkTWrSwOpXIOatQkX/JJZecsat9VFQU11xzDZdddllFXp5x48adtq558+bMmTOnQq8rIiIiIiK/spc46Ze6lp8O5gLw76h8hiXFQpDHru71LXa72Vwv15w/o0fDP/9paSSR8qrQv9ozFeEiIiIiIlJ5lDpdPLBgPaszsgDoElHIc+1jsIWGWpzMSwwDkpNh1y5z+c47YcSIqtODQPxOhYr8AwcOnNPz69WrV5HdiYiIiIiIGxmGwePvbWL51sMA/C3MzqR2EQT6yW1Jz8rbb8OXX5rjtm3Na/KryhkM4pfcfk3+n/npp58qsjsREREREXGjFz7dzsK1mQC0CnEwo3UwYdGRFqfyojVrYMYMc1ynDixYANWqWZtJpIIqVORPmjSJUaNG0apVK26++Wbi4uI4ceIEX375JZ988gkDBw6kfv367soqIiIiIiJuMvObdKZ9ZZ6i3ji4lDkXQnRsjMWpvGj/fnj2WbPRXkgIzJoFF1xgdSqRCqtQkb906VKuueaa067N79q1KzVr1mTdunUMHjy4QgFFRERERMS93k3L5LmPzLNsawc6mXt+CbXr1LI4lRcVFcFTT0Fenrn8zDPQtau1mUTcpEI3vPz++++56aabzvjYlVdeSVpaWkVeXkRERERE3OzLbYcZ8e6PAEQHuEhtWkSDhCpU4BsGvPACpKeby//+NwwdqkZ74jcqVOTXqFGDjRs3nvGx77//nri4uIq8vIiIiIiIuNHa3VncP38dTpdBqM0gpWE+LRKr2N/sCxbAV1+Z46QkmDZNjfbEr1Tou/lf//oXr732GkVFRVx77bXExsZy7NgxPv30UxYsWMDIkSPdlVNERERERCpg26Fc+sxZg73ERSAGU+rlcMn5VezuV6tWwcyZ5jguDt56C2KqUB8CqRIqVOTff//95OXlMWfOHFJSUgDzNhzh4eE8/PDD3HXXXW4JKSIiIiIi5bcvq5AeKavJtZcCMK5ODn9vVbdqnaK+fz8895x5un5oKMyeDeedZ3UqEberUJFvs9l47LHHuP/++9mwYQM5OTnUqFGDtm3bEhUV5a6MIiIiIiJSTsfyi+kxazVH8ooBeDw2h9vbxENAha7crVwKC+HJJyE/31x+7jno0sXaTCIe4paLT6KioqhTpw4Abdu2pbS01B0vKyIiIiIiFZBnL6HX7NVkHCsA4L6YXPq3qw2BgRYn8yLDgHHjYPduc7l7d3jooap1FoNUKRUu8pcuXcr48eM5evQoNpuNRYsWMXnyZIKDgxk/fjwhISHuyCkiIiIiIueguNTJfXPT2Lw/F4B/RebzWPtYCA62OJmXzZ8P33xjji++GKZMUaM98WsVOkfn448/5tFHH+Vvf/sbEyZMwOVyAdC5c2e++uorpk6d6paQIiIiIiJy9pwug4fe2sB3u44DcF14EePaR2MLDbU4mZd9/z3MmmWO69Y1O+tHR1ubScTDKvQR1rRp07jrrrsYPXo0Tqfz1Ppu3bqRlZXFwoULeeihhyqaUUREREREzpJhGIxcuplPNh8C4OLQYqa0DSMoIsLiZN5l27cPnn/+10Z7c+ZA06ZWxxLxuAodyc/IyKBz585nfKxNmzYcPny4Ii8vIiIiIiLnaOLyHby5ai8AFwQ7mNk6kLBqVaspdkBREUHPPAMFZi8Cxo2DP6hbRPxNhYr8mjVrsmvXrjM+tmvXLmrWrFmRlxcRERERkXMw59sMXvlyJwAJQaWktjKoVrOaxam8zOUifs4cAvbtM5d79YIHHlCjPakyKlTkd+3alVdeeYVPP/0Uh8MBmLfV27x5M1OnTqWLbkshIiIiIuIVSzfsZ/QHWwGoFehibnMHdeJjLU7lfYFvvkn0xo3mQseOMHly1bqbgFR5Fbom/6GHHmLHjh089NBDBPxyn83u3btTWFhIhw4dGDJkiFtCioiIiIjIH/tqx1GGLjQL26gAF3OaFNCkYbzFqSzw7bcEzZsHgKtuXQLefBOiqtalCiIVKvJDQkKYOXMm3377LT/88APZ2dlER0dzySWXcNVVV2HTKTEiIiIiIh61fu8JBsxNo9RlEGIzeL1BHhc2q2d1LO/buxfGjAHAFRpKycyZhCYmWhxKxPsqVOTfe++99O3bl06dOtGpUyd3ZRIRERERkbOw80geveesoajESQAGr9TN5bIL6lody/vy8+HJJ6GwEIDMBx6g9jXXWBxKxBoVuiZ/3bp1OlovIiIiImKBA9lFdE9ZTXZhCQDP186hy4XxVa/BnMtlHsH/pdFeaa9eHL39dotDiVinQkX+FVdcwfvvv09JSYm78oiIiIiIyF/IKnDQPWUVB3PsAAyvkcO/28ZDQIX+vK+c5syB7783x5ddRklyshrtSZVWodP1Q0NDef/99/nkk09o2rQpERERZR632Wy88cYbFQooIiIiIiK/KigupfecNew6at4Dvnd0Hve3q1U1C9tvvoG5c81xQgLMnw+RkdZmErFYhYr8Q4cO0a5du1PLhmGUefz3yyIiIiIiUn6OUhcD5qWxcV82ALdGFjCyfXVsISHWBrPC7t0wdqw5joiA1FRo3BiKiqxMJWK5cy7yP/vsM/72t78RExPD3JOfmomIiIiIiEe5XAZDF23km5+PAXB1eBHJSVEEhIVZnMwCJxvtFRWZPQiSk0GN9kSAclyTP2TIEHbv3l1m3YwZMzh+/Li7MomIiIiIyG8YhsHTH2zhg40HAGgXWszUtmEER0b8xZZ+yOmE556D/fvN5X794L77rM0k4kPOucj//Sn4TqeTCRMmcOjQIbeFEhERERGRX03+cidvfL8HgPOCS5h9USAR1aIsTmWR2bNh1SpzfMUVMHFi1exHIPIH3NJ+U9fei4iIiIh4xrwf9jBh+Q4A6geVktrSSfVa1SxOZZGvvjKb6wE0bAjz5pnX44vIKVXwHhsiIiIiIpXDx5sOMnLpZgBiA12knldM3bo1LU5lkR07YNw4cxwRYXbVb9jQ2kwiPkhFvoiIiIiID/p25zEeemsDhgERAQazGxfQtFEdq2NZIyMDhg8Hu91stDdhAlx5pdWpRHyS24p8m83mrpcSEREREanSfszMpn/qWhxOF8E2g+kJebRpFmd1LGvs3QtDh0Jurrk8YgT07WttJhEfds630AMYNGgQIb+7F+eAAQMIDg4us85ms/H555+XP52IiIiISBWTfjSfXrPXUOBwYsNgYnwOV7SoZx7BrmoOHDAL/BMnzOUhQ8zO+mq0J/KHzrnI/7//+z9P5BARERERqfIO5djpnrKarAIHAM/UyuGmC+OrZoF/5IhZ4B87Zi737w/JyRBUruOUIlXGOf8LGTt2rCdyiIiIiJ9auXIlEydOZOfOndSsWZN77rmHPn36nNWlfqWlpdx1112Eh4czd+5cL6QVsU52oYMes1axP7sIgIeq59C9XXzVPGp9/Dg88gicvE13jx7wyivwuzOHReR0arwnIiIiHrNhwwYGDBhAYmIikydP5p///CfJycnMmDHjrLZ//fXX2bRpk4dTilivqMTJvW+sZcfhfAC6R+cxpF3NqlngZ2ebR/D37zeXb78dpk+H0FBLY4lUFjrXRURERDxm8uTJtGjRguTkZACuvPJKSktLmTZtGj169CAsLOwPt922bRvTp0+ndu3a3oorYolSl8FDizaTtse87vymiAJGJ1XDVhWL2rw8s4v+nj3m8s03wxtvwJ/8rBCRsnQkX0RERDzC4XCwatUqOnfuXGb9DTfcQEFBAWlpaX+67YgRI+jevTtNmjTxdFQRy7gMgylrcvj65+MAXBFmZ0JSJIHh4RYns0BBgdk5f+dOc/mGG+DNN6EqvhciFaAiX0RERDxi3759lJSU0Lhx4zLrGzVqBEBGRsYfbjtlyhRKS0t58MEHPRlRxFKGYfDiZzv5eq8dgDYhDl5rE0JIVKTFySxQVASPPw7btpnLV18NCxdCZBV8L0QqSKfri4iIiEfk5eUBEBUVVWZ95C9/tOfn559xux9//JFZs2Yxf/78027ZW14Oh4OioiK3vFZVZ7fby3yV8puxcjdv/LAPgCaBDqY1dxAcEUFxcbHFybzM4SB41CgCfvwRAOff/oZj/nyzyV45/t3qe9S99H66n8Ph8Ojrq8gXERERj3C5XH/6eEDA6ScUFhcX89hjj9GzZ09at27ttiyZmZluey0xpaenWx2hUvs8vZDX0nIBqIWD56IyyC2IJLcg29pg3lZaSv3p0wn9pcFmQYsW/PzsszgPHoSDByv00voedS+9n5WHinwRERHxiOjoaAAKCgrKrD95BP/3R/gBJk2ahMvl4v7776e0tBQwT2kG83Z6gYGBZ3Xrvd9LSEggJibmnLeT09ntdtLT00lMTPzTxonyxz7fdpTp68yiNibAyQvh6bS+sLnbzlypNJxOgsaOJfCXAt910UUELFnC+XXrVuhl9T3qXno/3S83N9ejHz6ryBcRERGPaNiwIYGBgew52SX7F3v37gWgadOmp22zbNky9u/fT7t27U57rFWrVowdO5bbbrvtnLOEhIQQruZdbhUWFqb3tBy+33Wcoe9uwWVAuM3g9YQcagRGERISQmhV6qbvdEJyMqxcaS63aEHAhx8S3rCh23ah71H30vvpPp6+9EFFvoiIiHhEaGgoHTp0YPny5dx7772njsAvW7aM6OjoM56O/9prr512reKoUaMAePrpp0lISPB8cBEP2bw/h36pa3GUugjC4LX6ObRLrM3u330Q5vdcLpgwAb74wlxu1gw++gjcWOCLVGUq8kVERMRjBg4cSO/evRkyZAjdunVj/fr1pKSkMHToUMLDw8nPz2fnzp00bNiQ2NhYzj///NNe42Sjvosuusjb8UXcZvexAnrNXk1+sXkZyvi4HK5uWZfikhKLk3mZYcDkyfDxx+Zyo0Zmga9bZYq4jW6hJyIiIh5z6aWXMnnyZDIyMhg0aBAffPABI0aMoF+/fgBs2bKFO++8kxUrVlgbVMSDjuTa6T5rFcfyzbNURtXM4ZbW8XCG5pN+zTBg+nRYssRcrl8fPvwQmje3NJaIv/GpI/kul4vZs2fz9ttvc+jQIRo3bkzfvn25+eabTz1n06ZNvPjii2zevJnIyEhuu+02Bg8eXPUalYiIiFQSnTt3pnPnzmd8rGPHjmzfvv1Pt587d64nYol4RU5RCT1mrWZflnkruMHVcundrg4EBlqczAJz5sDbb5vj+Hj44AO48EJLI4n4I58q8l9++WVSUlJ48MEHueiii/jqq68YPnw4AQEB3HTTTezbt4/evXvTtm1bJk2axK5du5g4cSLZ2dk888wzVscXERERETnFXuKk3xtr2XYoD4B/R+UxNCkWgnzqT3DvePNNSE01x7VqwXvvwRkabIpIxfnMT5iioiJSU1Pp3r07/fv3B8xT/LZs2cLcuXO56aabmDFjBpGRkUydOpWQkBCuuuoqwsLCePbZZxkwYAD16tWzeBYiIiIiIlDqdDH4zfWs3p0FQJeIQp5rXw1bVeqgf9I778CMGea4Rg14913429+szSTix3zmQqCQkBAWLFhAnz59yqwPDg6muLgYgJUrV3LVVVeVOTW/S5cuuFwuVp68/YaIiIiIiIUMw+C/izfx+U+HAbg0zM6kdhEEVsXbj33wAUyZYo5jYmDhQrjySmszifg5nzmSHxgYyAUXXACYPxiPHz/O4sWL+e6773jmmWew2+3s37+fJr/rvBkbG0tUVBQZGRnl3rfD4aCoqKhC+X3FyXsuevrei97kb3Pyt/mA5lRZaE6Vw+9vHycilc+4T7exKC0TgAtDHLzeJoSw6EiLU1ngs89g4kRzHBlpnrL/979bm0mkCvCZIv+3PvroI4YOHQrA1Vdfzc0330xennktU1RU1GnPj4yMJD8/v9z7y8zMLPe2vio9Pd3qCG7nb3Pyt/mA5lRZaE4iIp7z+te7mP6V+TOpcXApcy6E6BrRFqeywIoV8MILZkf98HB44w248UarU4lUCT5Z5Ldu3Zp58+axfft2Xn75Zfr27cv48eP/dBubzVbu/SUkJBATE1Pu7X2J3W4nPT2dxMREwsLCrI7jFv42J3+bD2hOlYXmVDnk5ub65YfPIlXBO2mZjPl4GwB1Ap3MPb+EWnVqWZzKAt99B889By4XhIbCzJnQrZvVqUSqDJ8s8hs2bEjDhg25+OKLiYqK4tFHH2Xv3r0AFBQUnPb8/Px8oqPL/wlpSEgI4X52jVRYWJjm5OP8bT6gOVUWmpNv86dLD0Sqki9+Osyj7/4IQEyAi9Rmdhok1LE4lQVWr4bRo8HphOBgeO01+Pe/rU4lUqX4TOO9rKwslixZwvHjx8usb9myJQBHjhwhLi6OPXv2lHn8+PHjFBQU0LRpU69lFRERERE5ac3uLO6fvw6nyyDUZpDSMJ8LmlTBAn/DBhg5EkpKIDAQXn4ZevWCCpxxKyLnzmeKfLvdzqOPPso777xTZv23334LwPnnn0+nTp1YsWJFmaZEy5YtIzAwkL/pNhwiIiIi4mU/Hcylz5w1FJe6CMRgar0cLj4/3upY3rdlC/z3v+BwQEAAvPQSDBigAl/EAj5zun69evXo1q0bU6ZMISgoiJYtW7J27Vpef/11/vWvf9GsWTP69u3LRx99RN++fenduze7d+9mwoQJ3HHHHdSrV8/qKYiIiIhIFbIvq5Ces1aTZy8F4MU6OVzXqm7VK2y3b4dHHwW73Zz788/Dgw9WvfdBxEf4TJEPMHr0aBo0aMDChQvZv38/devW5cEHH+Tee+8FoGnTpsyaNYsXX3yRBx98kBo1atCrVy8efPBBi5OLiIiISFVyNK+Y7imrOJJXDMATsTl0axNvHsWuStLTYcQIONk3a+RIc7mqvQ8iPsSnivyQkBAGDhzIwIED//A5HTp0YOHChV5MJSIiIiLyqzx7Cb1mr2b38UIA7quWR7+kOuZ16FXJ3r0wbBjk5prLjz4KTz2lAl/EYvoXKCIiIiJyluwlTvqnprHlgFnY3hGVz2NJNSDIp46ded7+/TB0KJw4YS4PGWLeNq+qfdAh4oNU5IuIiIiInAWny+Chtzbwfbp5N6i/hxcyJikaW2ioxcm87PBhs8A/dsxcvu8+SE6ueh90iPgoFfkiIiIiIn/BMAyeXLKJT7ccAuCSUDuvtosgKCLC4mReduyYWeAfPmwu9+hh3iovONjaXCJyiop8EREREZG/MP6zHSxYvQ+AFiEOZrQJJiwm0uJUXpadbV6Dv3+/uXzHHTB9OlS1MxlEfJyKfBERERGRPzFrZQav/m8nAA2DSnmjpUG12BiLU3lZbq5Z4O/ZYy7fcgvMmQNhYZbGEpHTqcgXEREREfkDS9bv55kPtwJQK9DJ3AtKqBMfa3EqLysoMDvn79plLnfpAvPnQ3i4tblE5IxU5IuIiIiInMH/th9h2KKNAEQHuJiTWESjhFoWp/KyoiL4739h2zZz+ZprYOFCiKxilyqIVCIq8kVEREREfidtzwkGzkuj1GUQYjOY0SCPC5vGWR3Lu4qL4YknYNMmc7lTJ3j3XYiOtjaXiPwpFfkiIiIiIr+x43AefeaswV7iIgCDyXVz+NsFda2O5V0OB4waBevXm8sdOsCSJVCjhqWxROSvqcgXEREREfnF/uwieqSsJqeoBICxdXK44cK6YLNZnMyLSkvhuedg1SpzuU0beP99qFXFLlUQqaRU5IuIiIiIAMfzi+mesopDuXYARtTI4c428RBQhf5kdjph7Fj45htzuWVL+PBDqFvFzmQQqcSq0E8sEREREZEzyy8upfecNaQfLQDg3pg8BrarBYGBFifzIpcLXnoJvvzSXD7vPPjoI0hIsDaXiJwTFfkiIiIiUqUVlzoZMDeNHzNzALgtsoAnkqpjCwmxOJkXGQa8/DJ8+qm53LixeQS/cWMrU4lIOajIFxEREZEqy+kyGLpwIyt3HgPgmvAiXkiKIiAszOJkXmQY8Npr5nX3YB65//BDaN7c2lwiUi4q8kVERESkSjIMg9Hvb+HDHw8C0D60mKltwwiOjLA4mZfNng2LFpnj+Hiz2G/VytpMIlJuKvJFREREpEp6+YufmfvDHgCaB5eQclEg4dWiLE7lZfPmwdy55rh2bVi6FNq1szaTiFSIinwRERERqXLmfr+bSZ//DED9oFJSW7moXquaxam87J13ICXFHNeoAe++C5dcYm0mEakwFfkiIiIiUqV8+OMBnnp/CwCxgS7mNncQHx9rcSove/99mDLFHMfEmKfrX3GFtZlExC1U5IuIiIhIlbHy52M8/PYGDAMiAwzmNC4gsWFtq2N516efwsSJ5jgqChYsgOuuszaTiLiNinwRERERqRI27sum/9y1lDgNQmwGryfk0rpZnNWxvOvLLyE52RyHh0NqKnTtam0mEXErFfkiIiIi4vd2Hsmn1+zVFDqc2DCYFJ9DpxZ1wWazOpr3rFwJzz8PLheEhsKsWfB//2d1KhFxMxX5IiIiIuLXDuYU0XPWak4UlgDwbK0cul4YX7UK/NWr4ZlnzAI/OBimTYM777Q6lYh4gIp8EREREfFb2YUOeqSsZn92EQCPVM/hP+3iITDQ4mRetH49jBwJJSXmvCdPhp49q9aHHCJViIp8EREREfFLhY5Ses9Zw89H8gHoGZ3HA+1qVq0Cf9MmePxxcDggIADGj4f+/VXgi/gxFfkiIiIi4ndKnC4GzlvH+r3ZAPwzsoBR7atjCw21Npg3bd8O//0v2O1mUT9mDDzwgAp8ET+nIl9ERERE/IrLZTB80Ua+2nEUgCvCihjfLpKAsDCLk3nRrl0wfDgUFJjLo0ebywH681/E3+lfuYiIiIj4DcMwePajrSzZcACANqEOprULIyQq0uJkXrRnDwwbBnl55vJjj8ETT6jAF6ki9C9dRERERPzG1BW7mP3tbgCaBpcw+0IbkdWirA3lTfv3w9ChkJ1tLj/8MDz7bNXqQyBSxanIFxERERG/sGD1XpKXbQegbpCT1BZOYmtXtzaUNx06ZBb4x4+bywMHwgsvQFCQtblExKtU5IuIiIhIpffp5oM88d4mAKoHuJjbzE79ejUtTuVFx46ZBf7hw+Zyr17w8ssQHGxpLBHxPhX5IiIiIlKpfbfrGA8u2IDLgHCbwewmBTRrXMfqWN5z4oRZ4B8w+xBw110wbZoKfJEqSkW+iIiIiFRam/fn0D81DYfTRRAG0xJyadcszupY3pObazbZ27vXXL71Vpg1C6rSrQJFpAwV+SIiIiJSKWUcK6DX7NXkF5cCMD4+h6taxFed+8Dn58OIEZCebi7/4x8wbx6Eh1ubS0QspSJfRERERCqdw7l2uqes4li+A4BRNbO55aL4qnObuKIi89Z4281Gg1x7Lbz9NkRWoVsFisgZVZGfgiIiIiLiL3KKSug5azWZJ4oAeKB6Lr3bxVWd28QVF5v3vd+yxVy+/HJ45x2IjrY2l4j4BBX5IiIiIlJp2Euc9H1jDdsO5QFwd1Qej7SLrTq3iXM44KmnYP16c/nii+G996BGDWtziYjPUJEvIiIiIpVCqdPF4DfXsWb3CQD+EVHIs+2rYasqTeZKS+HZZ2H1anO5bVt4/32oVcvSWCLiW1Tki4iIiIjPMwyDxxZv4vOfjgBwWZidSUkRBFaVJnNOJ4wdCytXmsutWsEHH0B8vLW5RMTnqMgXEREREZ837pNtvJOWCcCFIQ6mtwkhNKqKNJlzueCll+DLL83l886DDz+EhARrc4mIT1KRLyIiIiI+bfpXu5j+tXmbuCbBpcy5EKJrVJEmc4YBL78Mn35qLjdpAh99BI0bWxpLRHyXinwRERER8VmL1u5j7CfbAKgT6CT1/BJq1akiTeYMA6ZONa+7B2jQwDxF/7zzrM0lIj5NRb6IiIiI+KTPtx7mscWbAIgJcJHazE6DhCrUZG7WLPPWeAB165rFfqtW1mYSEZ+nIl9EREREfM6a3VkMenMdTpdBqM1gVqN8LmhSx+pY3jNvnvkfQO3asGSJ2U1fROQvqMgXEREREZ/y08Fc+sxZQ3Gpi0AMXqufS4fmVaiL/KJFkJJijmNjYfFiuOQSazOJSKXhU0W+y+ViwYIF/POf/6Rdu3Zcd911jBkzhvz8/FPP2bNnDwMGDKBDhw507NiRUaNGlXlcRERERCqvfVmF9Ji1mjx7KQAv1snh2pbxYLNZnMxLli41r8MHiIkxC/7LL7c2k4hUKkFWB/itmTNnMmnSJO69914uvfRSMjIyeOWVV/j555+ZNWsWeXl59OzZk1q1ajFu3DiysrJITk4mMzOTlJOfdoqIiIhIpXQ0r5juKas4mlcMwJOxOXRrEw8BPnVcynM+/RQmTTLHUVGwYAFce62lkUSk8vGZIt/lcjFjxgzuvPNOhg4dCsBll11GjRo1ePjhh9m8eTPfffcd2dnZLF68mNjYWADi4uLo378/aWlptG/f3sopiIiIiEg55dpL6DV7NbuPFwIwoFoufZPqQGCgxcm8I2DFCkhONhciImDuXOja1dJMIlI5+czHovn5+dxyyy3cdNNNZdYnJiYCsG/fPlauXEn79u1PFfgAl19+OZGRkXz99ddezSsiIiIi7mEvcdI/dS1bDuQCcEdUPo8mxUKQzxyP8qio9esJevFFcLkgNNTsqn/rrVbHEpFKymd+csbExPDkk0+etv7zzz8HoFmzZuzatYuuv/tEMzAwkISEBDIyMrySU0RERETcx+kyGPLWen5IzwKgc3ghY5KisYWGWpzMOwLWrKHezJnYXC4IDobXX4c77rA6lohUYj5T5J/Jxo0bef3117nmmmto3rw5eXl5REZGnva8yMjICjXfczgcFBUVVSSqz7Db7WW++gN/m5O/zQc0p8pCc6ocHA6H1RFEvMYwDJ5csollWw4DcElYMZPbRRAUEWFxMi9Zt46gZ5/F5nRiBAVhmzIFunevOk0GRcQjfLbIT0tLY8CAASQkJDB27FjA/EXwR2wV+GGYmZlZ7m19VXp6utUR3M7f5uRv8wHNqbLQnETEV7z02XYWrN4HQIsQBzNbBxEWc/oBHb+0aRM88QQ2hwMjIICSceMI6dtXBb6IVJhPFvkff/wxjz32GI0bN2bmzJnUqFEDgKioKAoKCk57fn5+PnFxceXeX0JCAjExMeXe3pfY7XbS09NJTEwkLCzM6jhu4W9z8rf5gOZUWWhOlUNubq5ffvgs8nspKzOY8r9dADQMKuWNlgYxsf7x99hf2rYNHnsM7HYMm43MwYOpNWCACnwRcQufK/JTUlJITk7mkksuYcqUKURHR596rEmTJuzdu7fM851OJ5mZmVx//fXl3mdISAjh4eHl3t4XhYWFaU4+zt/mA5pTZaE5+TZ/uvRA5I8sWb+fZz/cCkCtQCdzLyihTnwti1N5yc6dMGIEFJp3ESh54gmO3HwztarKbQJFxON86qfJW2+9xYsvvsg//vEPZs6cWabAB+jUqRNr1qwhKyvr1LqVK1dSWFhIp06dvB1XRERERM7R/7YfYdiijQBEB7h4o2kRjRKqSIG/Zw8MHw55eeby44/jfPRRUIEvIm7kM0fyjx49ytixY6lfvz733HMPW7duLfN4w4YNufvuu5k3bx69e/dm8ODBZGdnk5yczJVXXklSUpJFyUVERETkbKTtOcHAeWmUugxCbAYzGuTRKrGe1bG8Y/9+GDoUsrPN5UcegaefhpISS2OJiP/xmSL/q6++wm63s3//fu65557THh87diy33XYbqampjBkzhmHDhhEZGUmXLl0YMWKEBYlFRERE5GztOJxHnzlrsJe4CMBgct0c/nZBFSnwDx0yC/zjx83lgQPhhRcgKEhFvoi4nc8U+f/617/417/+9ZfPa968OXPmzPF8IBERERFxi8wThfRIWU1OkVnQjq2Tww0X1q0ajeaOHjUL/MPmbQLp0wdeftks8EVEPEAXAImIiIiIxxzPL6ZHymoO5ZpNJR+tkcOdbeKrxnXoJ07AsGFw4IC5/O9/w9SpEBxsbS4R8WtV4KeriIiIiFghv7iU3nPWkH7MvAVy35g8BrSrBYGBFifzgtxcs8A/eWeo226DlBQIDbU2l4j4PRX5IiIiIuJ2xaVOBsxN48fMHABuiyzg8fY1sIWEWJzMC/Lzzdvkpaeby127Qmoq+MmtPkXEt6nIFxERERG3croMHnl7Iyt3HgPg2vAiXkiKIqAqHMUuKoLHHoPt283lv/8d3noLIiOtzSUiVYaKfBERERFxG8MwGP3+Fj7adBCA9qHFTGkbRnBkhMXJvKC4GJ54ArZsMZevuALeeQeio63NJSJViop8EREREXGbl7/4mbk/7AHg/OASZrUOJLxalMWpvMDhgKeegvXrzeWOHeG996BaNWtziUiVoyJfRERERNxi7ve7mfT5zwDUDyrljVYuqtWsAkVuaSk88wysXm0ut2sH778PNWtam0tEqiQV+SIiIiJSYR9sPMBT75unqdcMdDG3uYP4+FiLU3mB0wljxsC335rLrVrBBx9AnTrW5hKRKktFvoiIiIhUyDc/H+WRhRswDIgMMJjTpIDEhrWtjuV5LhckJ8P//mcun38+fPgh1K9vbS4RqdJU5IuIiIhIuW3cl819c9MocRqE2AxmNMjlombxVsfyPMOAl1+GZcvM5cRE+OgjaNzY0lgiIiryRURERKRcdh7Jp9fs1RQ6nNgwmFQ3l8suqGt1LM8zDJg61bzuHqBhQ/MIftOm1uYSEUFFvoiIiHjYypUr6datG23atOHaa68lJSUFwzD+8PkOh4Np06bRpUsX2rZtyw033MCrr76Kw+HwYmr5K4dy7fRIWcWJwhIAnq2VQ9cL48FmsziZF6SkmLfGA6hb17wGv0ULazOJiPwiyOoAIiIi4r82bNjAgAED+Mc//sGQIUNIS0sjOTkZp9NJ//79z7jNc889x/vvv8/999/PRRddxKZNm5gyZQoHDhxgzJgxXp6BnElesYsRczdwIMcOwNDqOfynXTwEVIHjR/Pmwfz55rhOHVi6FFq3tjaTiMhvqMgXERERj5k8eTItWrQgOTkZgCuvvJLS0lKmTZtGjx49CAsLK/P8EydOsHDhQoYNG0bfvn0BuPTSSwEYP348w4YNIza2CnRs92GFDidjVp5gV5Z5BL9XdB6Dk2pBYKDFybxg4ULzKD5AbCwsXgwXX2xtJhGR36kCH7eKiIiIFRwOB6tWraJz585l1t9www0UFBSQlpZ22jb5+fncddddXHvttWXWJyYmArBv3z7PBZa/5Ch18dCiTez4pcC/ObKAp9pXxxYSYnEyL1iyBF57zRxXqwaLFkGnTpZGEhE5Ex3JFxEREY/Yt28fJSUlNP5dt/FGjRoBkJGRQaffFUkNGjRg9OjRp73WF198QXBw8GmvdbYcDgdFRUXl2lZMLsPg0fe28s3OLAA6BefzfKtQSmw2KC62OJ1nBXz2GcEvvwyAERWFIzUV16WXghu+p+x2e5mvUnF6T91L76f7ebrHjIp8ERER8Yi8vDwAoqKiyqyPjIwEzKP2Z2P58uW89957/Oc//6FatWrlypKZmVmu7cRkGAazNuTx8c5CAFqQx6M1DnHgaDgctTich0WvWUPdWbMAcIaFkT56NLn168PWrW7dT3p6ultfT/Seupvez8pDRb6IiIh4hMvl+tPHA86iSdtnn33G0KFDad++PcOHDy93loSEBGJiYsq9fVU3/ZvdfLzzMACJgcU8V/0gTc5rRoifn6Yf8O23BM2ejc0wMEJDKZ0xg4Ru3dy6D7vdTnp6OomJiaf1qJDy0XvqXno/3S83N9ejHz6ryBcRERGPiI6OBqCgoKDM+pNH8H9/hP/35syZwwsvvMAll1zClClTCA0NLXeWkJAQwsPDy719Vfbmqr1M+tI8glc3yMmsZsUUF0cQEhJSof8nPu+HH2DsWHC5IDgY24wZhN5zj8duERgWFqbvUTfTe+peej/dx9OXPqjxnoiIiHhEw4YNCQwMZM+ePWXW7927F4CmTZuecTvDMHjuuecYO3YsXbt2ZcaMGX/5gYB4xiebDvLkkk0A1Ah0Mfc8O3XrVoG7G6SlwVNPQWkpBAXB1Knwn/94rMAXEXEnFfkiIiLiEaGhoXTo0IHly5djGMap9cuWLSM6OprWf3Bv8QkTJjB37lx69+7NSy+95PenhPuq73YdY8hbG3AZEBFgMLtxAc0a1bE6ludt2gRPPgklJeZtASdNgnvvVYEvIpWGTtcXERERjxk4cCC9e/dmyJAhdOvWjfXr15OSksLQoUMJDw8nPz+fnTt30rBhQ2JjY/npp5+YMWMGF110EV26dGHjxo1lXq9Zs2Y6qu8Fm/fn0D81DYfTRbDNYFr9XNo2q2t1LM/76Sd47DGw282i/oUXYOBAFfgiUqmoyBcRERGPufTSS5k8eTKvvPIKgwYNIi4ujhEjRtCnTx8AtmzZQo8ePRg7diy33XYbn332GYZhsGnTJu68887TXi81NZWOHTt6expVSsaxAnrOWk1+cSk2DF6Ky+HKlvX8v9DduRNGjIDCQnOuzz4LDz8MZ9EgUkTEl6jIFxEREY/q3LkznTt3PuNjHTt2ZPv27aeWhwwZwpAhQ7wVTX7ncK6d7imrOF5g3sN5dM0cbrko3v8L/N27YdgwOHlbx8cfN4/oq8AXkUpIP7lEREREhJzCEnqkrCbzRBEAD1bPpWe7OPO6dH+WmQlDh0JOjrk8dCiMHu3/8xYRv6UiX0RERKSKK3I4ufeNNWw/nAfAPdH5PNwu1uws788OHTKL+qwsc3nQIBg3zv/nLSJ+TUW+iIiISBVW4nQx+M11rN1zAoCuEYU8kxSDLTTU4mQedvSoWeAfOWIu33svTJyoAl9EKj0V+SIiIiJVlMtl8Oi7P/LFNrPQ7RRmZ2JSBIHh4RYn87CsLLPAP3DAXP73v2HKFAgOtjaXiIgbqMgXERERqaLGfbqNxev2A3BRiIPpbUIIjYq0OJWH5eSYTfb27TOXb7sNZs0Cfz9zQUSqDBX5IiIiIlXQ9K928frX6QAkBpcy50KIqhFtcSoP27vXvO4+I8NcvvFGmDsXwsKszSUi4kYq8kVERESqmIVr9zH2k20AxAU6eeOCUmrWqWFxKg9bvRruvx/2m2cu0LkzLFgAERHW5hIRcTMV+SIiIiJVyPKth3ns3R8BqBbgIrWZnQb1a1qcyoMMA955B/77XygoMNf17QtLlkC0n5+5ICJVktqHioiIiFQRq9KPM/jNdbgMCLMZzGqcz/lN6lody3NKSuDll+Gjj8zlkBAYMwYeeggCAy2NJiLiKSryRURERKqArQdy6Zu6luJSF4EYvFY/l/bn+XGBn5MDo0bBxo3mcmys2WDv5pvBZrM2m4iIB6nIFxEREfFze48X0nP2avLspQAk18nhmpZ1/bfYzciAJ5/89RZ5zZvD229D27aWxhIR8QZdky8iIiLix47k2ek+axVH84oBeDI2m9vaxEOAn/4Z+P33MHjwrwX+tdfCV1+pwBeRKkNH8kVERET8VK69hF6z1rDneCEAA6vl0jcpzj+vRzcMWLQIpk0zxwADBsCECRAebm02EREvUpEvIiIi4ofsJU76vbGWrQdzAbgzKp8RSbEQ5Id//jkcMHEifPqpuRwaCuPGwQMP+OcHGiIif8IPf8qLiIiIVG2lThcPLljPqowsAK4PL+T5pGhsoaEWJ/OAEyfMBnubNpnLtWrBnDnQtav/9hwQEfkTKvJFRERE/IhhGDzx3mY+23oYgI5hxbySFEFQRITFyTwgPR0efxwOm3OlRQuzwd5FF1mbS0TEQn7acUVERESkakpetp231+4DoGWIgxmtgwiLjrQ4lQd8+63ZYO9kgX/99bBihQp8EanydCRfRERExE/M/CadqSt2AdAouJQ3WhnExMZYnMrNDAPeegtmzDDHNhsMGgTJyRAWZnU6ERHLqcgXERER8QOL12Xy3Ec/AVA70Mnc80uoHVfL4lRu5nDA+PHw2WfmcmgovPQSDByoBnsiIr9QkS8iIiJSyX257TDD3/kRgOgAF280LaJhQpzFqdwsKwueegq2bDGX69QxG+x16aIGeyIiv6EiX0RERKQSS9uTxf3z1+F0GYTYDGY2yKNlYj2rY7nXzp3wxBNw5Ii53KqV2WCvVStrc4mI+CCfbbx36NAhOnTowKpVq8qs37NnDwMGDKBDhw507NiRUaNGkZ+fb1FKEREREetsP5RH79lrsJe4CMDg1bo5dLygrtWx3Ovrr8373Z8s8Lt2NRvsqcAXETkjnzySf/DgQe69917y8vLKrM/NzaVnz57UqlWLcePGkZWVRXJyMpmZmaSkpFiUVkRERMT7Mk8U0mPWKnLtpQCMq5PD9RfW9Z9T1w0D5s+Hk3/j2Wzw4IMwbpwa7ImI/AmfKvJdLhdLlizhhRdeOOPjCxYsIDs7m8WLFxMbGwtAXFwc/fv3Jy0tjfbt23szroiIiIgljucX0yNlNYdziwF4rEY2d7SJhwCfPUnz3Bw9Cq+8AitXmsvh4TBhAvTv7z9zFBHxEJ/6Kbl9+3ZGjRrFrbfeyosvvnja4ytXrqR9+/anCnyAyy+/nMjISL7++mtvRhWR3yh1uayOICJSZeQXl9Jr9hrSjxUA0C8ml/va1faP7vJOJyxeDL16/Vrgx8XB0qUwYIAKfBGRs+BTR/Lr1q3L8uXLiY+PP+1afIBdu3bRtWvXMusCAwNJSEggIyPDWzFFqpTiUieHcuwczLFzMKeIA9n2X5bN8YHsIrKLSoiLDOTKXdu44vw4Lk2sSe3oUKuji4j4neJSJ/fNXcum/TkA3BaZz3/bx2ILCbE4mRvs2GEerd++/dd1114LU6fC+edbl0tEpJLxqSK/evXqf/p4Xl4ekZGRp62PjIysUPM9h8NBUVFRubf3JXa7vcxXf+Bvc/K1+RzLd7D7eCGHcu0cyi3mUE7xqfHBHDtZhSVn3M4GhAQFEBxoo3p4ECfspSxad4BF6w4A0Kx2JJc2qUHHJjW4uHF1YsKCvTirivO1/0/uoDlVDg6Hw+oI4qOcLoOH397AtzuPA3BteBEvJEUTEFrJP1QtLITZs80j+CfPDIuLg+efh549Icin/lwVEfF5leqnpmEYf/iYrQJNZjIzM8u9ra9KT0+3OoLb+ducrJpPnsPF1qMONh1x8OPhYvbnOc/4vOAACAqwERMaQHAABAfYCA60EfTLOCjg9//uQnA4DQpKXBQ4DPYcL2Dn0QLmrs7EBiTWCOKiOqFcVCeEC2oFExZUOU659LfvO9CcRCojwzB4aulmPt50CIAOocVMaRtGcGSExckqaOVK89r7o0fN5cBA+M9/YOxYqOtndwkQEfGSSlXkR0VFUVBQcNr6/Px84uLiyv26CQkJxMTEVCSaz7Db7aSnp5OYmEiYn3Se9bc5eXs+BY5S1u3N4Yf0E/ywO4ufDuZz8uOykKAAakUGExESSEhQgPlfoHl0/lw+OHO5XBQV2akWFU6NX66XNAwDe4mLXHspufZS9uSUsutEAUu2FxAUYPv/9u48PqrqfPz4Z5bMTJLJTgiBsOOwBAKBsGgAQYtIxQrVtlYRlSpiq7U/t4ItLi3uCi5QAYEiyte9LggSEBuQsmNYlM0EkhAhIWTfZzu/P4YMDAlbSDIzyfN+vfLSOXNneM7dzn3mnHsu/eNCubJrJEO7RpAQF4pB51tJf0vb70Dq5C9KS0tb5I/P4vLM+eYnlm/NBqBngI3FCToCw8xejuoynDjhSu7/97/TZfHx8NprcO21LecJAUII4QV+leR37dqV7OxsjzKHw0FOTg7XXXddg7/XYDAQGBh4ueH5FJPJJHXycU1Vnxq7g++zitmccZJNGQWkHS3G4XSl9QE6DRHBBsIC9YQGunrTL2cUzNm0Wi3aMyZFCtbpCDYFEIsr6a+0OiipslFaZWdXTik7s0uYu/4IpgAtgzpH0DbEhNmox2zSE2LSE1L7/8YAzCY9ZqOeUNPp/zc0w2iAlrbfgdTJ17WkWw9E43hnUyZvrPsJgA56O8vinYRFRV7gUz7K4YBPP3UNz6/d181meOQRePxxCPLzkQlCCOED/CrJT05OZvHixRQWFrpn2N+4cSOVlZUkJyd7OTohvMPucLL35xI2ZRSwOaOA7ZmF1Nhd9zTqtRpCTa6EPtSkJ8iga9Sk/lJoNBqCjXqCjXrah4NTKSpq7JRW2SmpsrE5owDnue/IqZdRryXY6PpBINQUQJTZwNCuUYy4og19YkPRaqUnSAjh377cfYynV/wIQJTOybsWKzHtor0cVQMdOACvvgrp6afLxoxx9d736eO1sIQQoqXxqyT/tttu47333uPuu+/mgQceoLi4mJdffpmRI0cycOBAb4cnRLNxOBUbfsrnk505rD+YT3mNHQCtBkJMetqGGAkNDMBs9F5SfyFajYYQUwAhpgA6RLh6YJ1OhUMpHE6F3en679l/HuVKYXM4yS+rIbekGtsxJ6kH83lxNUQEBTD8imhGXNGGEVe0ITasZfTyCiFajw2H8nnko10oBWatYmnXCrp1auftsC5deTksWQKffw618yvFxsJzz7nuv5eJ9YQQolH51Vk1MjKSZcuW8dxzz/Hoo48SHBzM9ddfz+OPP+7t0IRoFofzy/l4Zw6f7szhRFkNAGajng7hJkIDAwgx6dH6aFJ/MbRaDVo0BDTwUc9Op6Ks2k5xlY2SKhsrdh9jxW7XbP/do4MZcUU0Iy1tGNo1imCjX53+hBCtTFp2EdPe24nNoTBoFAs7ltKvR3tvh3VplIING2DuXDh50lWm08Hdd7tmzm/b1rvxCSFEC+WzV7lDhw7l4JnPST3FYrGwdOnS5g9ICC8pq7axcs9xPt6Zw86sIsA1TL1DuInoECOmhmbELZBWqyEsKICwINfj+mwOJyVVNkoqbRwtqmLppkyWbspEr9UwqHPEqV7+aPp2CEMnQ/uFED4i/UQZU5Zup9LqQIPi9dhSrurlZzPN5+bC66/Dli2nyxISXEPzR42SifWEEKIJ+WySL0Rr5nQqthwp4JMdOaz64TjVNidajYY2ZgPRIUZCTXqfHYbvSwJ0WtqYjbQxG1FKUWU7nfTvyCxi65FCXllziLDAAIb3aMPwK9pwtSWa9uEytF8I4R3HiquYvHgbRZU2AGa1KWFc31j/SYrtdvjkE3jnndMT64WEuCbVe+QRaCETZAohhC+TJF8IH5JTVMmnO3/m451HySmqAlzD8bu2MRFlNqDX+tZj5vyJRqMhyKAjyKAjNsyEU7mG9pecGtq/cu9xVu49DsCQrpGM79uWLlqnl6MWQrQmRRVWJi/ZxrESV3L8SHgJtye2A3859//4I8yeDYcPny4bNw7mzIGePb0XlxBCtDKS5AvhZVVWByk/5vLxzqNsSi9AAQadlvZhruH4gQYZjt8UtBoNYYEBhAWeHtpfWmWjoMLGjsxCth0pRK+Fa3/ayy1JnbnaEt0sj+wTQrROFTV27l66nfQT5QDcFVLGAwPbuO5h93Xl5fD227BixemJ9eLi4IUX4NZb/aMOQgjRgkiSL4QXOJRiR1Yxq/als2L3Mcpr7Gg0EBEcQHSIkfDAABmO38wCdFqizEaizEbsTicFZTXklVaTsi+flH35hAcGcGP/9kwc2IHEjuGyfYQQjcZqd3L/8u/ZdbQYgF8FV/DkoHA0BoN3A7sYBw7AzJmnJ9YLCIApU2DWLGjTxruxCSFEKyVJvhDNxO5wsu1IIV/uymH13nyKa/IACDbo6BIVRJTZQIBOeop9gV6rJTrESJDWgd5oorDSRkG5lXe3ZPHuliy6RAUxMTGOCYnt6RwV7O1whRB+zOlUPPrxbjYcygdgpKmKVwaa0ZpMXo7swrTr17uee2+1ugoSE12T7Q0f7j9zCAghRAskSb4QTcjmcLI5o4CvfzjO6h9y3RMpGXXQPszVayyPcvNtricZBNI+zESl1UF+WQ3HiquZ880h5nxziEGdI5iY2IHxCbGEB/lBr5sQwmcopfjHV/v48tSjPgcYa5ifaMIQHOTlyC7A6STqyy8JWLXK9VqjcU2q989/gh/8OCGEEC2dZBdCNLIau4NN6QWs2nuclB9zKa22AxBk0BEXEUh4oB6ntRqzORCtv0ymJNBoNAQb9QQb9XSOUpRU2cgvt5KWXczOrCKe/vJHrunVll8P7MDoXm0x6uUeVCHE+c39Np2lmzIB6BFg49/9dASFmb0b1IVUVaF/7jnabNzoeh0UBG+8AXff7T8TBAohRAsnSb4QjaDa5mDDoXxW/5DLmn15lNe4Evtgg46OEYFEBhvcE+g5nU4qbDKM0Z9pNBrCgwyEBxlwOBWFFVZOltewZl8ea/blEREUwG1DOzFpWGdiw+RxUUKIupZvzeLVtYcAaK93sKy3g4g2UV6O6gLy8+Fvf0P3008AOGNj0S5fDqNHezkwIYQQZ5IkX4gGqrI6SD14glU/5LJufx6VVgcAwUYdHSMDiQo2YAqQ3tyWTqfVEB1iJDrEiNXu5GR5DSfKapj33wzmp2Ywtm877rqqK4O7RMhkfUIIAFbtPc7fP/8BgAidk2VXVNO+fVsvR3UB+/a5JtgrLASgomdPtB9/TGC/fl4OTAghxNkkyRfiEh0trGTBhgw+2ZlDtc31HHWzUU/nyEAiJLFv1Qx6Le3DA4kNM1FcaSO3tJpVe3NZtTeX3rEh3HVVF24a0EH2ESFasU3pJ/nLB7tQCoK0in93qaBH53beDuv81q6Fl18Gm2teGftNN3HoL3+hV48eXg5MCCFEfSTJF+IiHcwt463UdL7cfQyncvXYd44KIjLYgFGeny7OoNFoiAg2EBFsoMrqILe0mkN55fz10708t+oAvx/SiTuu7EyHcBnKL0RrsjenhHuX7cDqcBKgUczvUMqAHrHeDuvcnE5YvBj+7/9cr7VaePxxbDNm4Dw1ZF8IIYTvkSRfiAv4PruIf/03g2/2ux55Fxqop0N4IKEmvQy/FhcUaNDRtU0wHSODyC+r4URpNfPXZ7BwQwZj+sRw11VdGdYtUvYlIVq4w/nl3PXvbVRYHWhQzG5Xwsg+7X33UXNVVfDcc1A7wZ7ZDG++CZMnQ02Nd2MTQghxXpLkC1EPpRQb00/yr/9msPlwAQARQQF0CA/EbJLDRlw6vVZDbJiJdqFGSqps5JbUkPJjHik/5mGJMXPXVV2ZkNieIIPsX0K0NHml1dyxeBsFFa7nyT/dpoQb+7bz3QQ/Nxf+9jc4fNj1Oi4Oli+HkSO9G5cQQoiLIleTQpzB6VSs2ZfL3P+m88PPpWiANmYD7cMDCTLIfdTi8p05M3+VzUFeSTWH8yt44rO9PP/1fm4d3JHJV3ahY6SPPydbCHFRSiptTF68jZ+LqwD4c3gpdw6IAZ2Ptik//ABPPglFRa7XSUnw4YfQrZt34xJCCHHRJMkXArA5nHye9jNvrc/gcH4FWg3EhBqJDTPJJGmiyQQG6OhyxlD+vNIa3v7uCIu+O8J18TFMHdmNQZ0jvR2mEKKBqqwOpryznYN5ZQDcHlLO/0uMBL2PXn6lpMCrr7on2OM3v4G334awMO/GJYQQ4pL4aCsjRPOosjr4cHs2Czcc5lhJNXqthvbhJtqFmjDIZHqimei0GtqFmYgJNVJSZSe3tNo9lH9Q5wimjuzGmN4xaLU+OrRXCFGHzeHkT//3PTuzXD3iNwRV8I+BoWiMRi9HVg+HAxYtgg8+cL3W6WDGDFePfkCAd2MTQghxySTJF61SSZWN97ZksXjjEQorrAToNHSMCCQm1IheJ8m98A7XUP4AwoMCqLQ6OF5STVp2Efe9u5OubYK5d0Q3fj1QHsEnhK9zOhV//WQP3x44AUCyqZrZA4PRBfrgEzUqK2HWLNi82fU6JAT+9S+47TbXbPpCCCH8jiT5olUorrSSdrSYtOxi0rKL2JFZRJXNgVGvpUtUENEhRnTSSyp8SJBBR/foYDpGBJJbWs3Rwkqe+Gwvr6w5yJTkLkwa1pnwIIO3wxRCnEUpxXOr9vOftJ8B6GewsqC/AaM52MuR1eP4cdcEe0eOuF536uR6XF5ysnfjEkIIcVkkyRctjt3h5FBeOWlHi/g+y5XUHz5Z4X5fq4Fgo57u4cFEmQ1ofXV2YyEAg15Lp8ggOoQHcqKshtySal5Zc4i5/03n1sGd+MPwrjJJnxA+ZP76wyza6EqauwXYWNpPgzkixMtR1WPPHtdw/JIS1+uhQ13D9bt08WpYQgghLp8k+cLvnSyvcffQf59dxO6jJVTZHO73TQFa2pgNmI16zCY9QQadJPbC7+hOPYIvJtRIYYWV48XVLN2UybLNmfyyXyz3jexOvziZHEsIb/pwezYvrj4AQIzOwbJeDqKio7wcVT1WrYI5c8Bud73+/e9hwQLXUH0hhBB+T5J84Xf2Hy9l6+EC0o4W831WEUeLqtzv6bQagg06IoJNhJxK6gPkHnvRgmg1GtqYjUQFGyitsnOspIqv9hznqz3HubJbFFOv7sYoSzQa+SFLiGaV8mMuM/6zF4AwrZN3e1QT16Gtl6M6i8PhSuY//tj1WqeDmTPhiSdkgj0hhGhBJMkXfmNndjHzv9vDxvST7rLAAB3RZgNmkx6z0dVLL8mNaA00Gg1hQQGEBQVQUWPneEk1W44UsPlwAZYYM1NHdmd8QqxM0idEM9hyuIAH30/DqcCkUSzpUo6la6y3w/JUWAgvvQRbt7peh4bC/Plw660g7aYQQrQokuQLn7c9q4iX1xey90QuGqCN2eAefi8z4QvhmmOiR1szHe0OcktqyMiv4NGPd/P3z/cyytKW6+JjuLZXDAa5jhei0f14rIR739mB1e5Ej+KtDqUMusKHEnynE1auhIULobzcVdalC7z/Pgwb5tXQhBBCNA1J8oXP2pxRwOvrDrHlcCEAUcEBxEUEEWiQnkkh6mPU6+gcFUSHcBP55VYKK6ys/jGX1T/motNqGNw5nL7hdiLjqunqi4/yEsLPZBVUcOeS7ZTVuO5tfzmmhNF9Yn2nZ/zIEXj1Vfjxx9NlV18Ny5a5ZtIXQgjRIkmSL3yKUorNGQW8tu4nth0pdPfchxsUkaHBaOWZvUJckF6nJTbMRGyYCZvDSVGFjcJKK9syi9iiYFHaJhLiwhgb346x8TH0aCuTbQlxqU6UVXPH4m2cLK8BYGZUCRMT2vnGs+Wrq+Hdd+HDD1334QO0aQPPPAP33iv33wshRAsnSb7wCUopNqaf5PV1P7EjswiNBqJDDHQID8Sg01BRUentEIXwSwE6LW1DjbQNNWKzO8grrqDKoWHfsVL25JTwcspBurUJ5rr4dlwXH8OAuHC0Wh/phRTCR5VW27hzyXayC11t0x/DSvlDYlvXRHbetnUrvP46HD/ueq3Vwu9+57ofPy7Ou7EJIYRoFpLkC69SSrHhp5O8/s0hvs8uRgO0DTHSPtzknjDM6XR6N0ghWgidVkOYUUv74CDQaCitslFYYSOnqIr56zOYvz6D6BAj1/WJYWx8O4Z1i8Kg94FeSSF8SLXNwT3v7GD/8VIAfmcu57GBkaD38iVVQQHMnQupqafLLBaYPRvGjfONEQZCCCGahST5wiuUUqQeyuf1b35i19FiNJq6yb0QouloNRrCgwyEBxlQSlFe46CwwkpxpZXlW7NZvjWbEKOemxLb8/shnYhvH+btkIXwOrvDyYPvp7HtiGuumLFBlTw7MASN0ei9oJxOWLEC3n4bKipcZYGB8NBDrkfjhcjtOEII0dpIki+alVKKbw+c4PV1P7EnpwStBmJCXcm9US/JvRDeoNFoCDHpCTHp6RQZSJXNSVGFlYIKK+9tyea9LdkkxIXx+yGduLF/e8xGaTpE66OU4onP9rJ2Xx4AQ43VvJ4YhD4oyHtBpae7eur37z9dNmoUvPYa9O/vraiEEEJ4mVypiWZxtLCSFXuO8cWuYxzMLZPkXggfpdFoCDLoCDIE0j7cREWNg7yyGn48VsqM/+zln1/t46YBrt79fh3C0PjKLOJCNLGXUg7y0Y4cAPoYrLzdPwBTSLB3gqmqgnfegY8/dvXkA7RtC//8J9x9t0ysJ4QQrZwk+aLJHCuuYuWe46zYc4w9OSUA6LUa2oUaaR8eKPf6CuHjNBoNZpMes0lP56ggCsprOFFWw/vbjvL+tqP0iQ3l90M7cdOA9oSaJKkQLdei7w7zVmoGAJ31dt7pC6GRod4JZvNm18R6ea4RBWi1cNtt8OKL0L69d2ISQgjhUyTJF43qRGk1q/Ye56s9x9mRVQS4JvtqYzYQZTYQFhiAVnr+hPA7eq2GmFATMaEmymvsnCit4VBeGTM//4FnV+7jxoT23DqkEwM7hUvvvmhRPt2Zw6yVruHw0ToH7/ayEd22TfMHkp8Pb74J3313uqx3b9dw/euuk4n1hBBCuEmSLy5bQXkNX/+Qy1d7jrH1cCEK0Gk0RAW7EvvwwAB5JJcQLYjZqMccXdu7b+VEWQ0f78zh4505WGLM/H5IJ36dGEdYkPTuC//27YE8Hv90DwAhWifLulfRKS6meYNwOODzz2HJEqg89TjZoCB4+GGYPh2CvXTLgBBCCJ8lSb5okJJKGyk/5rJizzE2pZ/EoUCrgYigAFdiH2RAJ4m9EC2aTquhbaiRtqFGKmrsnCir4XB+Bc+s2McLXx/gl/1i+c2gOAZ2jpCnZgi/syOzkD8u/x6HU2HUKBZ3Kqd3t9jmDeLQIVdP/cGDp8uuvdY1sV7fvs0bixBCCL8hSb64aCWVNtYdyOOrPcfZcCgfu1Oh0UBYYABRwQYigg3oJbEXolUKNurpatTTKTKIwgpX7/5naT/zWdrP6LUa+rQPZWCnCBI7hTOwUwRxEYEyrF/4rAO5pUxZup1qmxMdirntSxjSsxnvd6+shH//G/7zn9MT67VrB88+C5Mng14u34QQQpybtBLinHJLqtmWWcj2I4VszyzkYG4ZCtAAoYGuHvvIoAD0OrkPUAjhotNqiA4xEh1ipNLqoKjCSlmNnf3HS9mTU8LSTa7loswGd9Kf2DGC/h3DCDJIkyS872hhJZMXb6O02g7AC21LGBMfC83xo1R5OaxdC++/77oHH0CngzvugBdegJhmvlVACCGEX5IrKgG4nv+bkV/B9lNJ/bYjheQUV7nfN+i0RAQbCAvUExlsIEASeyHEBdQ+ig9c55gau5OyajvlNXbKq+18sy/P/cxxrQZ6tQt1Jf2dIhjYKZyubYKlt180q5PlNUxeso0TZTUAzIgs4Tf92zX9pHYZGfDFF64Ev7r6dHnfvq6h+ddc0zw/MgghhGgRJMlvpWwOJz8eK2VHpiuh355ZSFGlzf1+YICO6BAjISY9oSY9Rr1WLraFEA2m0WgwBegwnTq3ADicioqa00l/+oly9h0vZfnWbMB1K1Dt8P6BnVy9/SHyqD7RRMqqbdz1720cOVkBwNTQUu5LjHb1pDcFmw02bHAl93v3er7Xrh3cfz88+qhrkj0hhBDiEkiS30oUV1r58Vgp244UsiOrkJ1ZRVTbXPf5aYAgo452oUZCAwMwG/XyDHshRJPTaTWEBgYQGuhK3JVSWB1OyqvtlJ1K/Dccyif1oGvYsgbo2S6EgZ1dSf+gzhHEBMmPj+Ly1dgd3PfuTn74uRSAm4MrmDEoEgKa4EelvDxYsQJWrYKiotPlGg0MGwb33AO/+53Mmi+EEKLBJMlvQZRSHC+pZlduDTvLjpJVVEP6iXLST5RTUGF1L6fVuB6BFRVsIMQUQIhJLzPhCyG8TqPRYNTrMJp1RJldvf1OpaiocZxK/G0cPlnBgdwy/u9Ub394YADdw7WMLMhkSPe2cm+/uGQOp+IvH+xiU0YBANcGVvHiIDMao7Hx/hGnE3budPXab958ejI9gNBQmDgR/vQnGDRInncvhBDissmVkB+yOZxkFVSSfqKcjPxyMk6Uk57vSuYrrY5TS7l6B/RaDaYALdFmA4EGHSGmAIKNOrQy9F4I4Qe0Gg0hJj0hJj2xmNy9/WXVrp7+smo73x+3sfP4Yfj2MDqNht6xnr39MpO/OBelFDO/+IGvf8gFYLCxhrkDTOgba4h8WRmsXg1ffgk5OZ7v9ekDd94Jd98N0dGN8+8JIYQQSJLv84oqrOzIKmL30WJ3r3xmQQV2p/JYzqDTYgrQ0jbEgFY5CAs2EWwMIECnkYtbIUSLcWZvfxuzEafTSVl5BeiNVFgdlFXbOZhXxg/HSlm2OQtwzeSf2DGc3rGh9IkNpXdsKJ0ig9DKCKZWb87aQ+5RIb0CrCxK0BEYZr78Lz50CD7/HL79FmpqTpcbDDB2LEybBmPGNM3tAEIIIVo9SfLPQynFSykHqbI66BMbSp/2ofRoa8YU0DST8CilyC6sZHtmETsyC9mRWUR6frnHMqYALSEmPaYAHYEGHYEBOgIDtO7H2DmdTioqKgkODEArQ/6EEK2AVqMh2KQnLMgA1J3Jv6zazrr9J/hm/wn3Z4IMOo+kv0/7UHrGhBBoaKJJ1oTPWfq/I7zxbToAcXo778QrwqLCGv6FViv897+uIfn793u+17493H67K7nv2lVmyhdCCNGkJMk/j8IKK2+lZniU6TQaurcNdif9tReJtfePXgqbw8m+Y6XsyHIl9dszCzlZfvreeaNeS5TZ4BqqatQTGKCTnichhLiA+mbydypFldVBhdVBZY2dSquD3UeL2Zl1euIzrQa6tgl2J/29Y0OJjw0lOsQoI6JamC92/czTK/YB0Ebn5N2eNmLatWnYlx0/7hqOv2oVlJaeLtdoIDkZpk6Fm2+WWfKFEEI0G0nyz6N2QHxksIE2ZgMVpy4MswoqOZRXzue7jrmXjQ4xEn9G0t87NpSubYI9JrQrq7aRll18KqEvIu2o5wz3gQYdMaHGU/efBmCUGe6FEKJRaDUago16go16OJX4197fX1lzKvm32vm5uIqM/Aq+2nPc/dnIYAN9YkPp2S6EK9qauSLGTI/oEMKCZKi1P0o9eIJHPtoNgFnrZGnXCrp2bHfxX+BwwJEjcPAgfPcdbNsG6oxb6MLDXUn9H/8IAwbIRHpCCCGand8m+Rs3bmTOnDmkp6cTFRXF7bffzpQpU5qktyVApyEy2EBksMFdZnc4qbSevjCsrPF81BO4euJ7xYbSNSqIQ3nlHMgtpfZWep1GQ7BR557h3mzSo5deeiGEaDbu+/v1OiLOeFqZw6motNpP9fq7zvGbMk6yMf2kx+ejQ4xYYsz0iDbTI+bUDwBtzQ0a2dXSNaTN/uqrr3jrrbc4evQoHTp0YOrUqUycOPGy4kjLLuL+977H7lQYNIqFHcvo26P9uT+gFPz8Mxw4cPovPd3zPvta/frBXXe5/iIjLytOIYQQ4nL4ZZK/a9cupk2bxrhx43jooYfYuXMnL7/8Mg6Hg6lTpzZLDHqdltBArfv5zuAaDlptc3j0Cu07VsLuo8UYdFrCgwLcj6wLMsgM90II4Yt0Ws2pc/Xp83vtff5VVgdVNgeVp87xWw4X8r/0Ao/PRwQFcMUZSX/t/7fWYf8NabNTUlJ49NFHmTx5MiNGjOCbb75h+vTpGAwGbrjhhgbFcbSoirvf+4EqmwMtijdiS7mqV6znQvn5rh76/ftd/z14EMrL6/9CcA3BHzsW7r8fRo8GvV9eVgkhhGhh/LI1evPNN+nduzcvv/wyACNHjsRutzN//nwmT56MyWTySlxajYYgg54gg57aO/uUUjiUQqeRWe6FEMJfnXmff8QZ5bVD/qusDqqsDiptrv//PquIbUcKPb7DbNS751kxG123ZYUY9ZhPPSLQbHT9CGzWWunYgub/a0ibPXv2bK6//nqeeOIJAEaMGEFJSQmvv/56g5P8p1YcoLjSBsCz0SVc3ykYtm93JfIHDrj+W1Bw7i/Q66F7d0hIgKQkGDYMBg4EcyPMxi+EEEI0Ir9L8q1WK1u3buXPf/6zR/nYsWNZtGgRO3fuJDk52UvR1aXRaNBLci+EEC3SmUP+w8+YV00phc2hqLKdSv6tDqptDvLLasgtqcapFHaHQtXznR1D9bw2toGTwPmYhrTZOTk5ZGZm1vuZr7/+mszMTLp06XLJsbTL2McfftjF7wr3YcnPgmPHzr2wRgOdOrmG4A8cCFdeCUOGQESEzIwvhBDC5/ldkn/06FFsNludBr5z584AHDly5KKTfKfTNeldRUVFve+XV9noGKonMlhLpKG+SzHf41SKIKXDZFRoNf4R84W0tDq1tPqA1MlfSJ2amwZXM1t/U6tQOBU4na4RX07lmg8g/NT0L7VtlD9rSJudkeF6qs35PnMpSX7tenxu98eYcnIAqDKZoFs39zIqKgpn9+6oXr1wxsfj7N8foqLqJvTFxRf977ZkVqvrSUClpaVUV1d7ORr/J+uz8ck6bVyyPhtfbf7ZVG293yX5ZWVlAJjPGh4XHOyaNan8fPfOnaV2h83LyzvnMv7ZmxLo7QCaQEurU0urD0id/IXUyV9YrVZ32+avGtJm15Y1RjsPp9v6w7NnX/yHSks9H4cn6pVz6kcT0ThkfTY+WaeNS9Zn42uqtt7vkvwL/dqhvYRH1YSEhNCtWzcMBsMlfU4IIYRoKk6nE6vVSkhIiLdDuWwNabMbs50HaeuFEEL4nqZu6/0uya9dEWcPsT/XL//no9friYiIuPCCQgghRDPy9x78Wg1psxuznQdp64UQQvimpmzr/e4n7U6dOqHT6cjKyvIoz87OBqB79+7eCEsIIYQQZ2lIm921a1eAOp+pfS3tvBBCCHF+fpfkG41GkpKSWLt2LUqdnmQpJSWFkJAQEhISvBidEEIIIWo1pM3u3LkzcXFxpKSkeJSvWbOGLl26EBcX1+RxCyGEEP7M74brA9x///3cfffdPPTQQ9x8882kpaWxePFiHnnkEQIDW+YETEIIIYQ/ulCbXV5eTnp6Op06dSIyMhKAP/3pT8yYMYPw8HCuueYa1q1bx9dff82cOXO8XBshhBDC92nUmT+t+5G1a9fyxhtvcOTIEWJiYrj99tuZMmWKt8MSQgghxFnO12Zv3bqVyZMn8/zzz/PrX//a/ZkPPviAJUuWcPz4cTp27MjUqVOZMGGCl2oghBBC+A+/TfKFEEIIIYQQQgjhye/uyRdCCCGEEEIIIUT9JMkXQgghhBBCCCFaCEnyhRBCCCGEEEKIFkKSfCGEEEIIIYQQooWQJF8IIYQQQgghhGghWm2Sv3HjRm6++Wb69+/PNddcw+LFi/HFBw04nU7ef/99brzxRhITE7n22mt57rnnKC8vdy/z+9//np49e9b527t3r3uZkydP8sgjjzB06FAGDRrEww8/zIkTJ7xRJWpqaoiPj68Tb2JionuZvXv3cscdd5CYmMjw4cOZPXs2VqvV43t8pU5bt26td/3X/s2dOxfwr+2Um5tLUlISW7du9SjPyspi2rRpJCUlMXToUJ566imPfRGgoqKCZ555huTkZBITE7n33ns5fPhwnX/jnXfeYcyYMSQkJDBx4kTWr1/f7PXZvHkzkyZNYvDgwSQnJ/Pggw+SnZ3tscycOXPq3W6LFy92L2O323nttde4+uqr6d+/P7fddhu7d+9usvqcr06NtZ/5Sp3Od2zdcccd7uV8aTtdzHnbX48lX9SQ9vyrr77ihhtuICEhgXHjxvHZZ581U7T+4VLXqdVqZf78+Vx//fUMGDCAsWPHMnfu3Drtdmt1OdecdrudW265xeN8Jxq2TlNTU7nllltISEhg5MiRzJo1i8rKymaK2Ldd6vq02+0sXLiQ6667jgEDBnDTTTexatWqZozYf5zreq0+jdo2qVYoLS1NxcfHq0cffVStX79ezZ49W/Xs2VMtWLDA26HVsWDBAtW7d2/1yiuvqP/973/qvffeU0OGDFF33XWXcjqdyul0qsTERPX888+rtLQ0j7+KigqllFI2m01NmDBB/eIXv1CrVq1SX375pbr66qvV+PHjldVqbfY67dmzR1ksFvXFF194xLt7926llFLZ2dlq0KBB6g9/+INKTU1VixcvVn379lUzZ850f4cv1amsrKzOuk9LS1N33nmnGjhwoDp8+LBfbadjx46pcePGKYvForZs2eIuLykpUVdffbW6+eab1dq1a9WHH36okpKS1JQpUzw+f99996lhw4apTz/9VKWkpKgbb7xRJScnq+LiYvcyS5YsUb1791Zz585Vqamp6sEHH1S9e/dW27dvb7b67NixQ/Xu3Vs98MADKjU1Va1atUqNHz9eXXXVVaqgoMC93NSpU9WkSZPqbLe8vDz3Mv/85z9V//791bJly9S6devUpEmT1IABA1RmZmaj1+d8dWrM/cxX6lTfsfXiiy8qi8WiVq5c6V7Ol7bThc7b/nos+aKGtOerV69WPXv2VM8++6zasGGDevLJJ5XFYlFfffVVM0buuxqyTmfOnKn69++vFixYoDZt2qQWLFigEhIS1IwZM5oxct90udec8+bNUxaLRU2aNKmJI/UfDVmn69atU7169VLTp09XmzZtUu+++65KTExUDz/8cDNG7psasj5nz56tevXqpd588021adMm9cwzzyiLxaJWr17djJH7vnNd29SnsdumVpnkT5kyRd1yyy0eZS+99JJKTExUVVVVXoqqLofDoZKSktTTTz/tUb5y5UplsVjUnj17VGZmprJYLGrTpk3n/J4VK1Yoi8WifvrpJ3fZTz/9pHr27Km++OKLJov/XD766CPVp08fVVNTU+/7M2fOVCNHjvR4f/ny5apXr17q559/Vkr5Xp3O9s033yiLxaK+/vprpZTyi+3kcDjUp59+qoYMGaKGDBlS54Q0f/581b9/f48EODU1VVksFrVjxw6llFLff/+9slgsKjU11b1MQUGBGjBggPrXv/6llFKqqqpKJSUlqZdeesm9jNPpVL/97W/VXXfd1Wz1ue+++9T48eOVw+Fwl+Xm5qpevXqpRYsWuctGjBih5syZc85/59ixY6pPnz5q+fLl7rKamho1atQo9be//a3R6nMxdWqs/cyX6nS2Y8eOqaSkJPXMM894lPvKdrqY87a/HUu+rCHt+XXXXaceeughj7KHHnpIjRkzpqnC9CuXuk4LCwtVz5491dtvv+1RvmDBAmWxWDz289bocq459+/frxISElRycrIk+WdoyDr9xS9+Uee4X7p0qbr22mtVZWVlU4XqFxqyPpOTk9Wjjz7qUfbb3/5W9tNTLvXaRqnGb5ta3XB9q9XK1q1bGTNmjEf52LFjqaioYOfOnV6KrK7y8nJuuukmxo8f71HerVs3AI4ePcr+/fsB6NWr1zm/Z+PGjXTt2pUePXq4y3r06EH37t29Mqxz//79dOvWDYPBUO/7Gzdu5Oqrr/Z4//rrr8fpdLJx40b3Mr5UpzNVV1cza9YsRo0axfXXXw/gF9vp4MGDPPXUU0yYMIGXXnqp3vgGDRpEZGSku2z48OEEBwezYcMG9zJBQUEMHz7cvUxkZCSDBw9212H37t2UlpZ6HIMajYYxY8awdetWqqurm6U+/fv3584770SrPX0ajImJISQkxD1kv7CwkLy8PHr37n3Of2fz5s3Y7XaP+hgMBkaNGtXo2+1CdWqs/cyX6nS2F154AaPRyMMPP+wu86XtdDHnbX87lnxVQ9rznJwcMjMz6/1MVlYWmZmZTRmyz2vIOi0vL+fWW2/lmmuu8Sg/c59vrS7nmtNqtfL4449zxx130LVr16YO1W80ZJ3u27eP7OxsJk2a5FF+55138s033xAYGNikMfuyhu6jVqsVs9nsURYeHk5xcXFThepXLvXapinaplaX5B89ehSbzUaXLl08yjt37gzAkSNHvBBV/UJDQ/n73//OoEGDPMq/+eYbwHVhvn//foKCgnjppZcYOnQo/fr1q3PfZkZGRp36AnTq1Mkr9d2/fz86nY4pU6YwYMAAhgwZwpNPPkl5eTnV1dX8/PPPdRq0yMhIzGazO15fq9OZli1bRl5eHk888YS7zB+2U2xsLGvXrmXGjBmYTKY672dkZNTZLjqdjri4OI/tEhcXh06n81juzDpkZGQA1HsMOhyOOvfEN1V97r//fm655RaPsm3btlFSUsIVV1wBwIEDBwDXfXyjR48mPj6eCRMmeCSFGRkZBAcHEx0dXac+J06coKKiolHqczF1aqz9zJfqdKZdu3axevVqHn74YY+LC1/aThdz3va3Y8lXNaQ9P986O9dnWpOGrNOOHTvy9NNPu5P6WuvWrSMgIKDe801rcTnXnPPmzcNut/PnP/+5KUP0Ow1Zp7U/gBuNRu677z4SEhIYMmQIzz77bKufN6Kh++jkyZP5/PPP2bBhA+Xl5Xz55Zd899133HTTTU0dsl+4lGsbaJq2qdUl+WVlZQB1fn0KDg4GqDPxka/ZvXs3CxcuZPTo0VgsFg4cOEBlZSWhoaHMmzePWbNmkZWVxe23305eXh7gqvPZ9QVXnRvzYv1iKKU4ePAgWVlZXHvttbz99ttMmzaNr776iqlTp1JSUgLU3T618dZuH1+q05msVivLli3jl7/8pfvABPxiO4WHh9OuXbtzvl9WVuY+Ts50qduldtmmPgYvVJ+zFRYWMnPmTNq2bcuECROA0xcG+fn5zJo1i7lz5xIVFcW0adP47rvvgPPXGRr3nHKhOjXWfuZLdTrTokWL6NChA7/61a88yn1tO53t7PO2vx1Lvqoh7XlrX2cX0ljXSGvXruWzzz7j1ltvJSwsrHGD9CMNXZ979uxhyZIlvPDCC+cc9dhaNWSdFhYWAvDAAw/Qo0cPFi5cyL333suHH37IjBkzmjhi39bQffSuu+5i0KBB3HvvvQwaNIjHHnuMCRMmcM899zRtwH7iUq9Bm6Jt0l/yJ/yc0+k87/tnDt31NTt37mTatGnExcXx/PPPA/D//t//45577mHw4MEAJCUlMXDgQMaNG8eyZct47LHHzjs7pkajaZbYaymleOutt4iMjHT3lg4ePJg2bdrw2GOPXXDmydp4falOZ0pJSSE/P7/OSc7ftlN9Lia+i1nGF4/BEydO8Ic//IETJ06wdOlS90l23LhxdOvWjZEjR7p7VIcPH85NN93EG2+8wYgRIy44m29z1qex9jNfqlOt3Nxc1q1bx/Tp09HrPZsuX95O9Z23W/Kx1JwaUv/Wvs4upDHWz5o1a3jkkUfcF/6tWUPWZ01NDdOnT+fOO+8kISGhqULzWw1ZpzabDYAxY8a498lhw4ahlOLVV1/lgQceaLW3RDRkfVqtVm6//Xby8/N55pln6NatG2lpabz11lsEBQXx97//vanCbbGaom1qdUl+SEgIQJ2e0XP9guIrVq1axfTp0+nSpQuLFi0iIiICqP/e244dO9K9e3f3EFaz2VxvT3B5ebl7fTQXrVbL0KFD65SPGjUKcN2TAnW3D3jG60t1OlNKSgpXXHFFne3ib9upPueLLyYmxr3MyZMn6yxTUVHhrsOZx+CZPTy1x2Bz1/XgwYNMmzaNiooKFi1aRP/+/d3vtW/fnvbt23ssHxAQQHJyMh988AFw/vUCzVufxtrPfKlOtdasWYNGo+GGG26o856vbqdznbdb6rHU3BrSnvvrNUBzudz1s3TpUl588UWGDBnCvHnzMBqNTROon2jI+nzttddwOp388Y9/xG63A6d/9LPb7eh0Op/44d9bGrJOa3tDa681a40YMYJXX32V/fv3t9okvyHrMyUlhQMHDvDvf/+bq666CoAhQ4ZgNpv5xz/+wW9/+1ssFksTR96yNEXb1Op+su7UqRM6nY6srCyP8tp7F7t37+6NsM5r8eLFPPzwwwwYMIDly5fTtm1bwHWy/+yzz0hLS6vzmerqavekTl27dq333szs7Oxmr29eXh4fffQRx44d8yivnSAqOjqamJiYOtunoKCAiooKd7y+VKdaNpuNjRs3uifbq+WP26k+9cXncDjIycnx2C45OTl1fpHMysryWKa27OxlAgIC6NixY1NVoY4tW7Zw2223oZRi+fLlde6jXr9+PSkpKXU+V1NT495u3bp1o7y83D0csFZWVhYdOnS4qHuxGkNj7me+UqczpaamkpSURJs2beq854vb6VznbWiZx5I3NKQ9P986O9dnWpOGXiMppZg1axbPP/88v/zlL3n77bdb/Q8m0LD1mZKSwpEjR0hMTCQ+Pp74+Hi2b9/O9u3biY+Pv7znZrcADVmntfc5n33/fW0Pf2v+Maoh67P2Gn7gwIEe5bWjCNPT05si1BatKdqmVpfkG41GkpKSWLt2rcdwyJSUFEJCQnxuaNQHH3zASy+9xLhx41i0aJFHz4xer2fu3Ll1Zm388ccfyc7OdveYDx8+nIyMDI+DLj09nYyMDJKTk5unIqc4HA5mzpzJhx9+6FG+atUqdDodSUlJJCcnk5qa6nEyTklJQafTMWzYMMC36lTr0KFDVFVV1UkU/XE71Sc5OZnt27d7JEkbN26ksrLSHd/w4cOpqKhw3wcNrnvhduzY4V4mMTGRoKAgj6RMKcXatWsZMmRIs91/uG/fPqZNm0ZsbCwffvih+/aRM61evZoZM2Z4zBZbWVlJamqqe7vV/oq9evVq9zJWq5XU1NRm3W6NuZ/5Sp1qKaXYs2dPnQuKWr62nc533oaWdyx5S0Pa886dOxMXF1fnR6E1a9bQpUsX4uLimjxuX9bQa6TZs2fz7rvvcvfdd/PKK6+0+H3vYjVkfb711lt88sknHn+1yf4nn3zC6NGjm7MKPqch6zQpKYmgoCBWrlzpUf7tt9+i1+tJTExs8rh9VUPWZ+0kmzt27PAo//777wFa/Xm0IZqkbWrQg/f83KZNm1TPnj3Vgw8+qFJTU9WcOXNUz5491cKFC70dmocTJ06ohIQENXr0aLV9+3aVlpbm8VdQUKA+++wzZbFY1GOPPaY2btyoPvroI5WcnKwmTpyo7Ha7Usr1LOixY8eqUaNGqRUrVqgVK1aoUaNGqfHjxyubzdbs9Zo+fbqKj49X8+bNU5s2bVJvvvmmio+PV7NmzVJKKZWenq769eun7rjjDvXtt9+qJUuWqL59+6qnnnrK/R2+ViellPrPf/6jLBaLysvLq/Oev22nLVu21HmmZ0FBgRo6dKj61a9+pdasWaM++ugjNXjwYHXPPfd4fHbSpElq8ODB6qOPPlJr1qxRN954oxoxYoQqLi52L/PGG2+onj17qjlz5qjU1FT14IMPqj59+rifEd4c9ZkwYYKKj49Xq1evrnNsZWVlKaVc++KAAQPULbfcotauXatSUlLULbfcopKSklR2drb7u/7617+qvn37qiVLlqhvv/1W3XHHHSoxMVFlZmY2SX3OVafG3M98pU5KKZWTk6MsFotasWJFvZ/zpe10Medtfz6WfM2F2vOysjL3eq/16aefKovFop566im1fv169eSTTyqLxaJWrlzprWr4lEtdp/v27VM9e/ZUN998c539PS0tTZWVlXmzOl7XkH30bJMmTZLnj5+hIet0yZIlymKxqKefflpt2rRJzZ07V8XHx6sXXnjBW9XwGZe6Pu12u/rNb36jhg0bppYvX642b96sFixYoAYMGKCmTZvmzar4pPqubZqjbWqVSb5SSq1Zs0aNHz9excfHq2uuuUYtXrzY2yHV8fHHHyuLxXLOv08//VQppdTKlSvVxIkTVf/+/dWwYcPUzJkzVVFRkcd3HTt2TP3pT39SAwYMUIMHD1Z/+ctf6k1Gm0NNTY2aN2+euu6661Tfvn3VL37xC7VgwQLlcDjcy2zfvl395je/UX379lUjRoxQr7zyirJarR7f40t1UkqphQsXKovFoqqrq+t935+207mSrYMHD6o777xTJSQkqCuvvFLNnDmzzgVccXGxmj59ukpKSlIDBw5U99xzj8rIyPBYxuFwqHnz5qmrr75a9evXT02cOFGlpqY2W32ys7PPe2z99a9/dX/2hx9+UFOmTFFDhgxRAwYMUPfee686ePCgx/fX1NSoZ599Vl155ZWqf//+6rbbblO7du1qsvrUV6dajbWf+VKddu/erSwWi1q/fv05P+sr2+liz9v+eiz5ovO157X7VO16r/X++++rMWPGqL59+6px48apzz77rJmj9m2Xsk5fe+218+7zZx/PrVFD9tEzSZJfV0PW6SeffKJuuOEGFR8fr0aPHq3mz5/vce3Zml3q+iwrK1P/+Mc/VHJysvs8umDBAlVTU+ON8H1afdc2zdE2aZS6wJTDQgghhBBCCCGE8Aut7p58IYQQQgghhBCipZIkXwghhBBCCCGEaCEkyRdCCCGEEEIIIVoISfKFEEIIIYQQQogWQpJ8IYQQQgghhBCihZAkXwghhBBCCCGEaCEkyRdCCCGEEEIIIVoISfKFEEIIIYQQQogWQpJ8IYQQQgghhBCihZAkXwghhBBCCCGEaCEkyRdCCCGEEEIIIVoISfKFEEIIIYQQQogWQpJ8IYQQQgghhBCihfj/KMmLCVpmFX8AAAAASUVORK5CYII=",
          "text/plain": "<Figure size 1200x600 with 2 Axes>"
         },
         "metadata": {},
         "output_type": "display_data"
        }
       ],
       "tabbable": null,
       "tooltip": null
      }
     },
     "d5b0ffd155e2464fbbd961061a930c4b": {
      "model_module": "@jupyter-widgets/controls",
      "model_module_version": "2.0.0",
      "model_name": "IntSliderModel",
      "state": {
       "_dom_classes": [],
       "_model_module": "@jupyter-widgets/controls",
       "_model_module_version": "2.0.0",
       "_model_name": "IntSliderModel",
       "_view_count": null,
       "_view_module": "@jupyter-widgets/controls",
       "_view_module_version": "2.0.0",
       "_view_name": "IntSliderView",
       "behavior": "drag-tap",
       "continuous_update": true,
       "description": "sd",
       "description_allow_html": false,
       "disabled": false,
       "layout": "IPY_MODEL_4e012e4b9268419d9e649d06b24c82dd",
       "max": 400,
       "min": 1,
       "orientation": "horizontal",
       "readout": true,
       "readout_format": "d",
       "step": 1,
       "style": "IPY_MODEL_0310d3d7d6ad4902a60064a4a80b7abf",
       "tabbable": null,
       "tooltip": null,
       "value": 200
      }
     },
     "f71d409e7aa54bb9bfd32c45fdaf242a": {
      "model_module": "@jupyter-widgets/controls",
      "model_module_version": "2.0.0",
      "model_name": "VBoxModel",
      "state": {
       "_dom_classes": [
        "widget-interact"
       ],
       "_model_module": "@jupyter-widgets/controls",
       "_model_module_version": "2.0.0",
       "_model_name": "VBoxModel",
       "_view_count": null,
       "_view_module": "@jupyter-widgets/controls",
       "_view_module_version": "2.0.0",
       "_view_name": "VBoxView",
       "box_style": "",
       "children": [
        "IPY_MODEL_a4c7e6a7b0374e9d8a80c55a0ea0439f",
        "IPY_MODEL_c61c24d74e744add8f0ca135219946ab"
       ],
       "layout": "IPY_MODEL_936dae40b77b4c029e4e19c81545dd53",
       "tabbable": null,
       "tooltip": null
      }
     }
    },
    "version_major": 2,
    "version_minor": 0
   }
  }
 },
 "nbformat": 4,
 "nbformat_minor": 4
}