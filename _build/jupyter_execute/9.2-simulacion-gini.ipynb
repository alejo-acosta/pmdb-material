{
 "cells": [
  {
   "cell_type": "markdown",
   "metadata": {},
   "source": [
    "# Ejemplo: Simulación Gini\n",
    "\n",
    "Elaborado por: Alejandro Acosta"
   ]
  },
  {
   "cell_type": "code",
   "execution_count": 1,
   "metadata": {},
   "outputs": [],
   "source": [
    "import pandas as pd\n",
    "import numpy as np\n",
    "import matplotlib.pyplot as plt\n",
    "import seaborn as sns\n",
    "\n",
    "from ipywidgets import interact, interactive, fixed, interact_manual\n",
    "import ipywidgets as widgets\n",
    "\n",
    "plt.rcParams['figure.dpi'] = 120\n",
    "plt.rcParams['savefig.dpi'] = 120\n",
    "\n",
    "sns.set_style(\"whitegrid\")"
   ]
  },
  {
   "cell_type": "code",
   "execution_count": 2,
   "metadata": {},
   "outputs": [],
   "source": [
    "def simul_income(mean=1000, sd=50, size=10000):\n",
    "    return sorted(np.random.normal(mean, sd, size).clip(0))\n",
    "\n",
    "\n"
   ]
  },
  {
   "cell_type": "code",
   "execution_count": 3,
   "metadata": {},
   "outputs": [],
   "source": [
    "def plot_income(**kwargs):\n",
    "    income = simul_income(**kwargs)\n",
    "    fig = plt.figure()\n",
    "    sns.histplot(income, stat='frequency', element='poly', bins=30)\n",
    "    plt.xlim(0,2000)\n",
    "    plt.ylim(0,80)\n",
    "    plt.close(fig)\n",
    "    return fig"
   ]
  },
  {
   "cell_type": "code",
   "execution_count": 4,
   "metadata": {},
   "outputs": [],
   "source": [
    "def plot_gini(**kwargs):\n",
    "    income = simul_income(**kwargs)\n",
    "    total_income = sum(income)\n",
    "    bins = np.linspace(0,100, 20)\n",
    "    x = [np.percentile(income, i) for i in bins]\n",
    "    x2 = [i/100 for i in bins]\n",
    "    y = [np.round(sum(income*np.array([i<=x[j] for i in income]))/total_income,2) for j in range(len(bins))]\n",
    "\n",
    "    fig=plt.figure()\n",
    "    sns.lineplot(x=x2,y=x2)\n",
    "    sns.lineplot(x=x2,y=y, color='red')\n",
    "    plt.fill_between(x2,x2,y, color='red', alpha=0.25)\n",
    "    plt.ylim(0,1)\n",
    "    plt.xlim(0,1)\n",
    "    plt.close(fig)\n",
    "    return fig"
   ]
  },
  {
   "cell_type": "code",
   "execution_count": 5,
   "metadata": {},
   "outputs": [],
   "source": [
    "def plot_both(**kwargs):\n",
    "    income = simul_income(**kwargs)\n",
    "    total_income = sum(income)\n",
    "    bins = np.linspace(0, 100, 20)\n",
    "    xaux = [np.percentile(income, i) for i in bins]\n",
    "    x = [i/100 for i in bins]\n",
    "    y = [np.round(sum(income*np.array([i <= xaux[j] for i in income])\n",
    "                      )/total_income, 2) for j in range(len(bins))]\n",
    "\n",
    "    fig, ax = plt.subplots(1, 2, sharex=False, sharey=False, figsize=(10,5))\n",
    "    sns.histplot(income, stat='frequency', element='poly', bins=30, ax=ax[0])\n",
    "    ax[0].set_xlim([0, 2000])\n",
    "    ax[0].set_ylim([0, 80])\n",
    "\n",
    "    \n",
    "    sns.lineplot(x=x, y=x, ax=ax[1])\n",
    "    sns.lineplot(x=x, y=y, color='red', ax=ax[1])\n",
    "    plt.fill_between(x, x, y, color='red', alpha=0.25)\n",
    "    ax[1].set_xlim([0, 1])\n",
    "    ax[1].set_ylim([0, 1])\n",
    "\n",
    "    plt.close(fig)\n",
    "\n",
    "    return fig\n"
   ]
  },
  {
   "cell_type": "code",
   "execution_count": 6,
   "metadata": {},
   "outputs": [
    {
     "data": {
      "application/vnd.jupyter.widget-view+json": {
       "model_id": "6974173a017b4f58b6419dc2861391d8",
       "version_major": 2,
       "version_minor": 0
      },
      "text/plain": [
       "interactive(children=(IntSlider(value=200, description='sd', max=400, min=1), Output()), _dom_classes=('widget…"
      ]
     },
     "metadata": {},
     "output_type": "display_data"
    },
    {
     "data": {
      "text/plain": [
       "<function __main__.plot_income(**kwargs)>"
      ]
     },
     "execution_count": 6,
     "metadata": {},
     "output_type": "execute_result"
    }
   ],
   "source": [
    "interact(plot_income, sd=(1,400))"
   ]
  },
  {
   "cell_type": "code",
   "execution_count": 7,
   "metadata": {},
   "outputs": [
    {
     "data": {
      "application/vnd.jupyter.widget-view+json": {
       "model_id": "040f638a96c044e6aafbe3ce95c9ed7b",
       "version_major": 2,
       "version_minor": 0
      },
      "text/plain": [
       "interactive(children=(IntSlider(value=400, description='sd', max=800, min=1), Output()), _dom_classes=('widget…"
      ]
     },
     "metadata": {},
     "output_type": "display_data"
    },
    {
     "data": {
      "text/plain": [
       "<function __main__.plot_both(**kwargs)>"
      ]
     },
     "execution_count": 7,
     "metadata": {},
     "output_type": "execute_result"
    }
   ],
   "source": [
    "interact(plot_both, sd=(1,800))"
   ]
  },
  {
   "cell_type": "code",
   "execution_count": null,
   "metadata": {},
   "outputs": [],
   "source": []
  }
 ],
 "metadata": {
  "kernelspec": {
   "display_name": "Python 3 (ipykernel)",
   "language": "python",
   "name": "python3"
  },
  "language_info": {
   "codemirror_mode": {
    "name": "ipython",
    "version": 3
   },
   "file_extension": ".py",
   "mimetype": "text/x-python",
   "name": "python",
   "nbconvert_exporter": "python",
   "pygments_lexer": "ipython3",
   "version": "3.11.4"
  },
  "vscode": {
   "interpreter": {
    "hash": "0d9db2acd79fc802845d33905a24c499b3c5b632a8047d75c602e59109c51bd3"
   }
  },
  "widgets": {
   "application/vnd.jupyter.widget-state+json": {
    "state": {
     "040f638a96c044e6aafbe3ce95c9ed7b": {
      "model_module": "@jupyter-widgets/controls",
      "model_module_version": "2.0.0",
      "model_name": "VBoxModel",
      "state": {
       "_dom_classes": [
        "widget-interact"
       ],
       "_model_module": "@jupyter-widgets/controls",
       "_model_module_version": "2.0.0",
       "_model_name": "VBoxModel",
       "_view_count": null,
       "_view_module": "@jupyter-widgets/controls",
       "_view_module_version": "2.0.0",
       "_view_name": "VBoxView",
       "box_style": "",
       "children": [
        "IPY_MODEL_d5c46987dc1f47e48e6f63146de51cd6",
        "IPY_MODEL_7d6a69d9ec674aa1abe7cacc8ee3895b"
       ],
       "layout": "IPY_MODEL_d5b590d65a4d40fd9bdb5c1fa2e2a647",
       "tabbable": null,
       "tooltip": null
      }
     },
     "0a0f18a329ad41ebbf5c07a76d2096f8": {
      "model_module": "@jupyter-widgets/base",
      "model_module_version": "2.0.0",
      "model_name": "LayoutModel",
      "state": {
       "_model_module": "@jupyter-widgets/base",
       "_model_module_version": "2.0.0",
       "_model_name": "LayoutModel",
       "_view_count": null,
       "_view_module": "@jupyter-widgets/base",
       "_view_module_version": "2.0.0",
       "_view_name": "LayoutView",
       "align_content": null,
       "align_items": null,
       "align_self": null,
       "border_bottom": null,
       "border_left": null,
       "border_right": null,
       "border_top": null,
       "bottom": null,
       "display": null,
       "flex": null,
       "flex_flow": null,
       "grid_area": null,
       "grid_auto_columns": null,
       "grid_auto_flow": null,
       "grid_auto_rows": null,
       "grid_column": null,
       "grid_gap": null,
       "grid_row": null,
       "grid_template_areas": null,
       "grid_template_columns": null,
       "grid_template_rows": null,
       "height": null,
       "justify_content": null,
       "justify_items": null,
       "left": null,
       "margin": null,
       "max_height": null,
       "max_width": null,
       "min_height": null,
       "min_width": null,
       "object_fit": null,
       "object_position": null,
       "order": null,
       "overflow": null,
       "padding": null,
       "right": null,
       "top": null,
       "visibility": null,
       "width": null
      }
     },
     "4f9288ada70e480096e64d7624899d2e": {
      "model_module": "@jupyter-widgets/controls",
      "model_module_version": "2.0.0",
      "model_name": "SliderStyleModel",
      "state": {
       "_model_module": "@jupyter-widgets/controls",
       "_model_module_version": "2.0.0",
       "_model_name": "SliderStyleModel",
       "_view_count": null,
       "_view_module": "@jupyter-widgets/base",
       "_view_module_version": "2.0.0",
       "_view_name": "StyleView",
       "description_width": "",
       "handle_color": null
      }
     },
     "6974173a017b4f58b6419dc2861391d8": {
      "model_module": "@jupyter-widgets/controls",
      "model_module_version": "2.0.0",
      "model_name": "VBoxModel",
      "state": {
       "_dom_classes": [
        "widget-interact"
       ],
       "_model_module": "@jupyter-widgets/controls",
       "_model_module_version": "2.0.0",
       "_model_name": "VBoxModel",
       "_view_count": null,
       "_view_module": "@jupyter-widgets/controls",
       "_view_module_version": "2.0.0",
       "_view_name": "VBoxView",
       "box_style": "",
       "children": [
        "IPY_MODEL_91b300c83ced493d9c53ba8974c471ba",
        "IPY_MODEL_8b160de24e484313bcf8dc5fa5e2d101"
       ],
       "layout": "IPY_MODEL_a9ae417a3c784f3399a6993458d1f2a1",
       "tabbable": null,
       "tooltip": null
      }
     },
     "7d6a69d9ec674aa1abe7cacc8ee3895b": {
      "model_module": "@jupyter-widgets/output",
      "model_module_version": "1.0.0",
      "model_name": "OutputModel",
      "state": {
       "_dom_classes": [],
       "_model_module": "@jupyter-widgets/output",
       "_model_module_version": "1.0.0",
       "_model_name": "OutputModel",
       "_view_count": null,
       "_view_module": "@jupyter-widgets/output",
       "_view_module_version": "1.0.0",
       "_view_name": "OutputView",
       "layout": "IPY_MODEL_e2b32f1639cb4b62be2f1a84364b2f01",
       "msg_id": "",
       "outputs": [
        {
         "data": {
          "image/png": "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",
          "text/plain": "<Figure size 1200x600 with 2 Axes>"
         },
         "metadata": {},
         "output_type": "display_data"
        }
       ],
       "tabbable": null,
       "tooltip": null
      }
     },
     "8b160de24e484313bcf8dc5fa5e2d101": {
      "model_module": "@jupyter-widgets/output",
      "model_module_version": "1.0.0",
      "model_name": "OutputModel",
      "state": {
       "_dom_classes": [],
       "_model_module": "@jupyter-widgets/output",
       "_model_module_version": "1.0.0",
       "_model_name": "OutputModel",
       "_view_count": null,
       "_view_module": "@jupyter-widgets/output",
       "_view_module_version": "1.0.0",
       "_view_name": "OutputView",
       "layout": "IPY_MODEL_d4c31574f29548588a858998d512e57b",
       "msg_id": "",
       "outputs": [
        {
         "data": {
          "image/png": "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",
          "text/plain": "<Figure size 768x576 with 1 Axes>"
         },
         "metadata": {},
         "output_type": "display_data"
        }
       ],
       "tabbable": null,
       "tooltip": null
      }
     },
     "91b300c83ced493d9c53ba8974c471ba": {
      "model_module": "@jupyter-widgets/controls",
      "model_module_version": "2.0.0",
      "model_name": "IntSliderModel",
      "state": {
       "_dom_classes": [],
       "_model_module": "@jupyter-widgets/controls",
       "_model_module_version": "2.0.0",
       "_model_name": "IntSliderModel",
       "_view_count": null,
       "_view_module": "@jupyter-widgets/controls",
       "_view_module_version": "2.0.0",
       "_view_name": "IntSliderView",
       "behavior": "drag-tap",
       "continuous_update": true,
       "description": "sd",
       "description_allow_html": false,
       "disabled": false,
       "layout": "IPY_MODEL_d9006cd7365c4052bc08bf0df79ce90f",
       "max": 400,
       "min": 1,
       "orientation": "horizontal",
       "readout": true,
       "readout_format": "d",
       "step": 1,
       "style": "IPY_MODEL_d664b154f6be4caca3ce2e57af612acb",
       "tabbable": null,
       "tooltip": null,
       "value": 200
      }
     },
     "a9ae417a3c784f3399a6993458d1f2a1": {
      "model_module": "@jupyter-widgets/base",
      "model_module_version": "2.0.0",
      "model_name": "LayoutModel",
      "state": {
       "_model_module": "@jupyter-widgets/base",
       "_model_module_version": "2.0.0",
       "_model_name": "LayoutModel",
       "_view_count": null,
       "_view_module": "@jupyter-widgets/base",
       "_view_module_version": "2.0.0",
       "_view_name": "LayoutView",
       "align_content": null,
       "align_items": null,
       "align_self": null,
       "border_bottom": null,
       "border_left": null,
       "border_right": null,
       "border_top": null,
       "bottom": null,
       "display": null,
       "flex": null,
       "flex_flow": null,
       "grid_area": null,
       "grid_auto_columns": null,
       "grid_auto_flow": null,
       "grid_auto_rows": null,
       "grid_column": null,
       "grid_gap": null,
       "grid_row": null,
       "grid_template_areas": null,
       "grid_template_columns": null,
       "grid_template_rows": null,
       "height": null,
       "justify_content": null,
       "justify_items": null,
       "left": null,
       "margin": null,
       "max_height": null,
       "max_width": null,
       "min_height": null,
       "min_width": null,
       "object_fit": null,
       "object_position": null,
       "order": null,
       "overflow": null,
       "padding": null,
       "right": null,
       "top": null,
       "visibility": null,
       "width": null
      }
     },
     "d4c31574f29548588a858998d512e57b": {
      "model_module": "@jupyter-widgets/base",
      "model_module_version": "2.0.0",
      "model_name": "LayoutModel",
      "state": {
       "_model_module": "@jupyter-widgets/base",
       "_model_module_version": "2.0.0",
       "_model_name": "LayoutModel",
       "_view_count": null,
       "_view_module": "@jupyter-widgets/base",
       "_view_module_version": "2.0.0",
       "_view_name": "LayoutView",
       "align_content": null,
       "align_items": null,
       "align_self": null,
       "border_bottom": null,
       "border_left": null,
       "border_right": null,
       "border_top": null,
       "bottom": null,
       "display": null,
       "flex": null,
       "flex_flow": null,
       "grid_area": null,
       "grid_auto_columns": null,
       "grid_auto_flow": null,
       "grid_auto_rows": null,
       "grid_column": null,
       "grid_gap": null,
       "grid_row": null,
       "grid_template_areas": null,
       "grid_template_columns": null,
       "grid_template_rows": null,
       "height": null,
       "justify_content": null,
       "justify_items": null,
       "left": null,
       "margin": null,
       "max_height": null,
       "max_width": null,
       "min_height": null,
       "min_width": null,
       "object_fit": null,
       "object_position": null,
       "order": null,
       "overflow": null,
       "padding": null,
       "right": null,
       "top": null,
       "visibility": null,
       "width": null
      }
     },
     "d5b590d65a4d40fd9bdb5c1fa2e2a647": {
      "model_module": "@jupyter-widgets/base",
      "model_module_version": "2.0.0",
      "model_name": "LayoutModel",
      "state": {
       "_model_module": "@jupyter-widgets/base",
       "_model_module_version": "2.0.0",
       "_model_name": "LayoutModel",
       "_view_count": null,
       "_view_module": "@jupyter-widgets/base",
       "_view_module_version": "2.0.0",
       "_view_name": "LayoutView",
       "align_content": null,
       "align_items": null,
       "align_self": null,
       "border_bottom": null,
       "border_left": null,
       "border_right": null,
       "border_top": null,
       "bottom": null,
       "display": null,
       "flex": null,
       "flex_flow": null,
       "grid_area": null,
       "grid_auto_columns": null,
       "grid_auto_flow": null,
       "grid_auto_rows": null,
       "grid_column": null,
       "grid_gap": null,
       "grid_row": null,
       "grid_template_areas": null,
       "grid_template_columns": null,
       "grid_template_rows": null,
       "height": null,
       "justify_content": null,
       "justify_items": null,
       "left": null,
       "margin": null,
       "max_height": null,
       "max_width": null,
       "min_height": null,
       "min_width": null,
       "object_fit": null,
       "object_position": null,
       "order": null,
       "overflow": null,
       "padding": null,
       "right": null,
       "top": null,
       "visibility": null,
       "width": null
      }
     },
     "d5c46987dc1f47e48e6f63146de51cd6": {
      "model_module": "@jupyter-widgets/controls",
      "model_module_version": "2.0.0",
      "model_name": "IntSliderModel",
      "state": {
       "_dom_classes": [],
       "_model_module": "@jupyter-widgets/controls",
       "_model_module_version": "2.0.0",
       "_model_name": "IntSliderModel",
       "_view_count": null,
       "_view_module": "@jupyter-widgets/controls",
       "_view_module_version": "2.0.0",
       "_view_name": "IntSliderView",
       "behavior": "drag-tap",
       "continuous_update": true,
       "description": "sd",
       "description_allow_html": false,
       "disabled": false,
       "layout": "IPY_MODEL_0a0f18a329ad41ebbf5c07a76d2096f8",
       "max": 800,
       "min": 1,
       "orientation": "horizontal",
       "readout": true,
       "readout_format": "d",
       "step": 1,
       "style": "IPY_MODEL_4f9288ada70e480096e64d7624899d2e",
       "tabbable": null,
       "tooltip": null,
       "value": 400
      }
     },
     "d664b154f6be4caca3ce2e57af612acb": {
      "model_module": "@jupyter-widgets/controls",
      "model_module_version": "2.0.0",
      "model_name": "SliderStyleModel",
      "state": {
       "_model_module": "@jupyter-widgets/controls",
       "_model_module_version": "2.0.0",
       "_model_name": "SliderStyleModel",
       "_view_count": null,
       "_view_module": "@jupyter-widgets/base",
       "_view_module_version": "2.0.0",
       "_view_name": "StyleView",
       "description_width": "",
       "handle_color": null
      }
     },
     "d9006cd7365c4052bc08bf0df79ce90f": {
      "model_module": "@jupyter-widgets/base",
      "model_module_version": "2.0.0",
      "model_name": "LayoutModel",
      "state": {
       "_model_module": "@jupyter-widgets/base",
       "_model_module_version": "2.0.0",
       "_model_name": "LayoutModel",
       "_view_count": null,
       "_view_module": "@jupyter-widgets/base",
       "_view_module_version": "2.0.0",
       "_view_name": "LayoutView",
       "align_content": null,
       "align_items": null,
       "align_self": null,
       "border_bottom": null,
       "border_left": null,
       "border_right": null,
       "border_top": null,
       "bottom": null,
       "display": null,
       "flex": null,
       "flex_flow": null,
       "grid_area": null,
       "grid_auto_columns": null,
       "grid_auto_flow": null,
       "grid_auto_rows": null,
       "grid_column": null,
       "grid_gap": null,
       "grid_row": null,
       "grid_template_areas": null,
       "grid_template_columns": null,
       "grid_template_rows": null,
       "height": null,
       "justify_content": null,
       "justify_items": null,
       "left": null,
       "margin": null,
       "max_height": null,
       "max_width": null,
       "min_height": null,
       "min_width": null,
       "object_fit": null,
       "object_position": null,
       "order": null,
       "overflow": null,
       "padding": null,
       "right": null,
       "top": null,
       "visibility": null,
       "width": null
      }
     },
     "e2b32f1639cb4b62be2f1a84364b2f01": {
      "model_module": "@jupyter-widgets/base",
      "model_module_version": "2.0.0",
      "model_name": "LayoutModel",
      "state": {
       "_model_module": "@jupyter-widgets/base",
       "_model_module_version": "2.0.0",
       "_model_name": "LayoutModel",
       "_view_count": null,
       "_view_module": "@jupyter-widgets/base",
       "_view_module_version": "2.0.0",
       "_view_name": "LayoutView",
       "align_content": null,
       "align_items": null,
       "align_self": null,
       "border_bottom": null,
       "border_left": null,
       "border_right": null,
       "border_top": null,
       "bottom": null,
       "display": null,
       "flex": null,
       "flex_flow": null,
       "grid_area": null,
       "grid_auto_columns": null,
       "grid_auto_flow": null,
       "grid_auto_rows": null,
       "grid_column": null,
       "grid_gap": null,
       "grid_row": null,
       "grid_template_areas": null,
       "grid_template_columns": null,
       "grid_template_rows": null,
       "height": null,
       "justify_content": null,
       "justify_items": null,
       "left": null,
       "margin": null,
       "max_height": null,
       "max_width": null,
       "min_height": null,
       "min_width": null,
       "object_fit": null,
       "object_position": null,
       "order": null,
       "overflow": null,
       "padding": null,
       "right": null,
       "top": null,
       "visibility": null,
       "width": null
      }
     }
    },
    "version_major": 2,
    "version_minor": 0
   }
  }
 },
 "nbformat": 4,
 "nbformat_minor": 4
}