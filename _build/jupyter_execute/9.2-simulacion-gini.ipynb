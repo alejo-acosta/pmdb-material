{
 "cells": [
  {
   "cell_type": "markdown",
   "metadata": {},
   "source": [
    "# Ejemplo: Simulación Gini\n",
    "\n",
    "Elaborado por: Alejandro Acosta"
   ]
  },
  {
   "cell_type": "code",
   "execution_count": 1,
   "metadata": {},
   "outputs": [],
   "source": [
    "import pandas as pd\n",
    "import numpy as np\n",
    "import matplotlib.pyplot as plt\n",
    "import seaborn as sns\n",
    "\n",
    "from ipywidgets import interact, interactive, fixed, interact_manual\n",
    "import ipywidgets as widgets\n",
    "\n",
    "plt.rcParams['figure.dpi'] = 120\n",
    "plt.rcParams['savefig.dpi'] = 120\n",
    "\n",
    "sns.set_style(\"whitegrid\")"
   ]
  },
  {
   "cell_type": "code",
   "execution_count": 2,
   "metadata": {},
   "outputs": [],
   "source": [
    "def simul_income(mean=1000, sd=50, size=10000):\n",
    "    return sorted(np.random.normal(mean, sd, size).clip(0))\n",
    "\n",
    "\n"
   ]
  },
  {
   "cell_type": "code",
   "execution_count": 3,
   "metadata": {},
   "outputs": [],
   "source": [
    "def plot_income(**kwargs):\n",
    "    income = simul_income(**kwargs)\n",
    "    fig = plt.figure()\n",
    "    sns.histplot(income, stat='frequency', element='poly', bins=30)\n",
    "    plt.xlim(0,2000)\n",
    "    plt.ylim(0,80)\n",
    "    plt.close(fig)\n",
    "    return fig"
   ]
  },
  {
   "cell_type": "code",
   "execution_count": 4,
   "metadata": {},
   "outputs": [],
   "source": [
    "def plot_gini(**kwargs):\n",
    "    income = simul_income(**kwargs)\n",
    "    total_income = sum(income)\n",
    "    bins = np.linspace(0,100, 20)\n",
    "    x = [np.percentile(income, i) for i in bins]\n",
    "    x2 = [i/100 for i in bins]\n",
    "    y = [np.round(sum(income*np.array([i<=x[j] for i in income]))/total_income,2) for j in range(len(bins))]\n",
    "\n",
    "    fig=plt.figure()\n",
    "    sns.lineplot(x=x2,y=x2)\n",
    "    sns.lineplot(x=x2,y=y, color='red')\n",
    "    plt.fill_between(x2,x2,y, color='red', alpha=0.25)\n",
    "    plt.ylim(0,1)\n",
    "    plt.xlim(0,1)\n",
    "    plt.close(fig)\n",
    "    return fig"
   ]
  },
  {
   "cell_type": "code",
   "execution_count": 5,
   "metadata": {},
   "outputs": [],
   "source": [
    "def plot_both(**kwargs):\n",
    "    income = simul_income(**kwargs)\n",
    "    total_income = sum(income)\n",
    "    bins = np.linspace(0, 100, 20)\n",
    "    xaux = [np.percentile(income, i) for i in bins]\n",
    "    x = [i/100 for i in bins]\n",
    "    y = [np.round(sum(income*np.array([i <= xaux[j] for i in income])\n",
    "                      )/total_income, 2) for j in range(len(bins))]\n",
    "\n",
    "    fig, ax = plt.subplots(1, 2, sharex=False, sharey=False, figsize=(10,5))\n",
    "    sns.histplot(income, stat='frequency', element='poly', bins=30, ax=ax[0])\n",
    "    ax[0].set_xlim([0, 2000])\n",
    "    ax[0].set_ylim([0, 80])\n",
    "\n",
    "    \n",
    "    sns.lineplot(x=x, y=x, ax=ax[1])\n",
    "    sns.lineplot(x=x, y=y, color='red', ax=ax[1])\n",
    "    plt.fill_between(x, x, y, color='red', alpha=0.25)\n",
    "    ax[1].set_xlim([0, 1])\n",
    "    ax[1].set_ylim([0, 1])\n",
    "\n",
    "    plt.close(fig)\n",
    "\n",
    "    return fig\n"
   ]
  },
  {
   "cell_type": "code",
   "execution_count": 6,
   "metadata": {},
   "outputs": [
    {
     "data": {
      "application/vnd.jupyter.widget-view+json": {
       "model_id": "e13b6754d5154e1db905235b8b8947c4",
       "version_major": 2,
       "version_minor": 0
      },
      "text/plain": [
       "interactive(children=(IntSlider(value=200, description='sd', max=400, min=1), Output()), _dom_classes=('widget…"
      ]
     },
     "metadata": {},
     "output_type": "display_data"
    },
    {
     "data": {
      "text/plain": [
       "<function __main__.plot_income(**kwargs)>"
      ]
     },
     "execution_count": 6,
     "metadata": {},
     "output_type": "execute_result"
    }
   ],
   "source": [
    "interact(plot_income, sd=(1,400))"
   ]
  },
  {
   "cell_type": "code",
   "execution_count": 7,
   "metadata": {},
   "outputs": [
    {
     "data": {
      "application/vnd.jupyter.widget-view+json": {
       "model_id": "c58ce7f345f446dcaf35fb6796897e53",
       "version_major": 2,
       "version_minor": 0
      },
      "text/plain": [
       "interactive(children=(IntSlider(value=400, description='sd', max=800, min=1), Output()), _dom_classes=('widget…"
      ]
     },
     "metadata": {},
     "output_type": "display_data"
    },
    {
     "data": {
      "text/plain": [
       "<function __main__.plot_both(**kwargs)>"
      ]
     },
     "execution_count": 7,
     "metadata": {},
     "output_type": "execute_result"
    }
   ],
   "source": [
    "interact(plot_both, sd=(1,800))"
   ]
  },
  {
   "cell_type": "code",
   "execution_count": null,
   "metadata": {},
   "outputs": [],
   "source": []
  }
 ],
 "metadata": {
  "kernelspec": {
   "display_name": "Python 3 (ipykernel)",
   "language": "python",
   "name": "python3"
  },
  "language_info": {
   "codemirror_mode": {
    "name": "ipython",
    "version": 3
   },
   "file_extension": ".py",
   "mimetype": "text/x-python",
   "name": "python",
   "nbconvert_exporter": "python",
   "pygments_lexer": "ipython3",
   "version": "3.11.4"
  },
  "vscode": {
   "interpreter": {
    "hash": "0d9db2acd79fc802845d33905a24c499b3c5b632a8047d75c602e59109c51bd3"
   }
  },
  "widgets": {
   "application/vnd.jupyter.widget-state+json": {
    "state": {
     "1ce4bedc3db64d47a4ec634c424b7037": {
      "model_module": "@jupyter-widgets/base",
      "model_module_version": "2.0.0",
      "model_name": "LayoutModel",
      "state": {
       "_model_module": "@jupyter-widgets/base",
       "_model_module_version": "2.0.0",
       "_model_name": "LayoutModel",
       "_view_count": null,
       "_view_module": "@jupyter-widgets/base",
       "_view_module_version": "2.0.0",
       "_view_name": "LayoutView",
       "align_content": null,
       "align_items": null,
       "align_self": null,
       "border_bottom": null,
       "border_left": null,
       "border_right": null,
       "border_top": null,
       "bottom": null,
       "display": null,
       "flex": null,
       "flex_flow": null,
       "grid_area": null,
       "grid_auto_columns": null,
       "grid_auto_flow": null,
       "grid_auto_rows": null,
       "grid_column": null,
       "grid_gap": null,
       "grid_row": null,
       "grid_template_areas": null,
       "grid_template_columns": null,
       "grid_template_rows": null,
       "height": null,
       "justify_content": null,
       "justify_items": null,
       "left": null,
       "margin": null,
       "max_height": null,
       "max_width": null,
       "min_height": null,
       "min_width": null,
       "object_fit": null,
       "object_position": null,
       "order": null,
       "overflow": null,
       "padding": null,
       "right": null,
       "top": null,
       "visibility": null,
       "width": null
      }
     },
     "3f9b9de80f3d48c2bb614155a0b7b20c": {
      "model_module": "@jupyter-widgets/base",
      "model_module_version": "2.0.0",
      "model_name": "LayoutModel",
      "state": {
       "_model_module": "@jupyter-widgets/base",
       "_model_module_version": "2.0.0",
       "_model_name": "LayoutModel",
       "_view_count": null,
       "_view_module": "@jupyter-widgets/base",
       "_view_module_version": "2.0.0",
       "_view_name": "LayoutView",
       "align_content": null,
       "align_items": null,
       "align_self": null,
       "border_bottom": null,
       "border_left": null,
       "border_right": null,
       "border_top": null,
       "bottom": null,
       "display": null,
       "flex": null,
       "flex_flow": null,
       "grid_area": null,
       "grid_auto_columns": null,
       "grid_auto_flow": null,
       "grid_auto_rows": null,
       "grid_column": null,
       "grid_gap": null,
       "grid_row": null,
       "grid_template_areas": null,
       "grid_template_columns": null,
       "grid_template_rows": null,
       "height": null,
       "justify_content": null,
       "justify_items": null,
       "left": null,
       "margin": null,
       "max_height": null,
       "max_width": null,
       "min_height": null,
       "min_width": null,
       "object_fit": null,
       "object_position": null,
       "order": null,
       "overflow": null,
       "padding": null,
       "right": null,
       "top": null,
       "visibility": null,
       "width": null
      }
     },
     "63139f402edd4cfc982bb96485936a7a": {
      "model_module": "@jupyter-widgets/controls",
      "model_module_version": "2.0.0",
      "model_name": "IntSliderModel",
      "state": {
       "_dom_classes": [],
       "_model_module": "@jupyter-widgets/controls",
       "_model_module_version": "2.0.0",
       "_model_name": "IntSliderModel",
       "_view_count": null,
       "_view_module": "@jupyter-widgets/controls",
       "_view_module_version": "2.0.0",
       "_view_name": "IntSliderView",
       "behavior": "drag-tap",
       "continuous_update": true,
       "description": "sd",
       "description_allow_html": false,
       "disabled": false,
       "layout": "IPY_MODEL_d17f427043324488b707578d9e6d097c",
       "max": 400,
       "min": 1,
       "orientation": "horizontal",
       "readout": true,
       "readout_format": "d",
       "step": 1,
       "style": "IPY_MODEL_e6f867950272443da97777711e6dce09",
       "tabbable": null,
       "tooltip": null,
       "value": 200
      }
     },
     "7c549577aa124b89b76e48bad3c3bc83": {
      "model_module": "@jupyter-widgets/controls",
      "model_module_version": "2.0.0",
      "model_name": "SliderStyleModel",
      "state": {
       "_model_module": "@jupyter-widgets/controls",
       "_model_module_version": "2.0.0",
       "_model_name": "SliderStyleModel",
       "_view_count": null,
       "_view_module": "@jupyter-widgets/base",
       "_view_module_version": "2.0.0",
       "_view_name": "StyleView",
       "description_width": "",
       "handle_color": null
      }
     },
     "7dad3a2cadc24f5c928de82c9e670ce4": {
      "model_module": "@jupyter-widgets/base",
      "model_module_version": "2.0.0",
      "model_name": "LayoutModel",
      "state": {
       "_model_module": "@jupyter-widgets/base",
       "_model_module_version": "2.0.0",
       "_model_name": "LayoutModel",
       "_view_count": null,
       "_view_module": "@jupyter-widgets/base",
       "_view_module_version": "2.0.0",
       "_view_name": "LayoutView",
       "align_content": null,
       "align_items": null,
       "align_self": null,
       "border_bottom": null,
       "border_left": null,
       "border_right": null,
       "border_top": null,
       "bottom": null,
       "display": null,
       "flex": null,
       "flex_flow": null,
       "grid_area": null,
       "grid_auto_columns": null,
       "grid_auto_flow": null,
       "grid_auto_rows": null,
       "grid_column": null,
       "grid_gap": null,
       "grid_row": null,
       "grid_template_areas": null,
       "grid_template_columns": null,
       "grid_template_rows": null,
       "height": null,
       "justify_content": null,
       "justify_items": null,
       "left": null,
       "margin": null,
       "max_height": null,
       "max_width": null,
       "min_height": null,
       "min_width": null,
       "object_fit": null,
       "object_position": null,
       "order": null,
       "overflow": null,
       "padding": null,
       "right": null,
       "top": null,
       "visibility": null,
       "width": null
      }
     },
     "89dc3e123f024acda6445815ca22a4c5": {
      "model_module": "@jupyter-widgets/base",
      "model_module_version": "2.0.0",
      "model_name": "LayoutModel",
      "state": {
       "_model_module": "@jupyter-widgets/base",
       "_model_module_version": "2.0.0",
       "_model_name": "LayoutModel",
       "_view_count": null,
       "_view_module": "@jupyter-widgets/base",
       "_view_module_version": "2.0.0",
       "_view_name": "LayoutView",
       "align_content": null,
       "align_items": null,
       "align_self": null,
       "border_bottom": null,
       "border_left": null,
       "border_right": null,
       "border_top": null,
       "bottom": null,
       "display": null,
       "flex": null,
       "flex_flow": null,
       "grid_area": null,
       "grid_auto_columns": null,
       "grid_auto_flow": null,
       "grid_auto_rows": null,
       "grid_column": null,
       "grid_gap": null,
       "grid_row": null,
       "grid_template_areas": null,
       "grid_template_columns": null,
       "grid_template_rows": null,
       "height": null,
       "justify_content": null,
       "justify_items": null,
       "left": null,
       "margin": null,
       "max_height": null,
       "max_width": null,
       "min_height": null,
       "min_width": null,
       "object_fit": null,
       "object_position": null,
       "order": null,
       "overflow": null,
       "padding": null,
       "right": null,
       "top": null,
       "visibility": null,
       "width": null
      }
     },
     "a8cb1d50e54b471599b96dd52cf0edd2": {
      "model_module": "@jupyter-widgets/controls",
      "model_module_version": "2.0.0",
      "model_name": "IntSliderModel",
      "state": {
       "_dom_classes": [],
       "_model_module": "@jupyter-widgets/controls",
       "_model_module_version": "2.0.0",
       "_model_name": "IntSliderModel",
       "_view_count": null,
       "_view_module": "@jupyter-widgets/controls",
       "_view_module_version": "2.0.0",
       "_view_name": "IntSliderView",
       "behavior": "drag-tap",
       "continuous_update": true,
       "description": "sd",
       "description_allow_html": false,
       "disabled": false,
       "layout": "IPY_MODEL_1ce4bedc3db64d47a4ec634c424b7037",
       "max": 800,
       "min": 1,
       "orientation": "horizontal",
       "readout": true,
       "readout_format": "d",
       "step": 1,
       "style": "IPY_MODEL_7c549577aa124b89b76e48bad3c3bc83",
       "tabbable": null,
       "tooltip": null,
       "value": 400
      }
     },
     "c58ce7f345f446dcaf35fb6796897e53": {
      "model_module": "@jupyter-widgets/controls",
      "model_module_version": "2.0.0",
      "model_name": "VBoxModel",
      "state": {
       "_dom_classes": [
        "widget-interact"
       ],
       "_model_module": "@jupyter-widgets/controls",
       "_model_module_version": "2.0.0",
       "_model_name": "VBoxModel",
       "_view_count": null,
       "_view_module": "@jupyter-widgets/controls",
       "_view_module_version": "2.0.0",
       "_view_name": "VBoxView",
       "box_style": "",
       "children": [
        "IPY_MODEL_a8cb1d50e54b471599b96dd52cf0edd2",
        "IPY_MODEL_f57c5089675941d9a60954f5e5287af6"
       ],
       "layout": "IPY_MODEL_3f9b9de80f3d48c2bb614155a0b7b20c",
       "tabbable": null,
       "tooltip": null
      }
     },
     "cef6ca15eeb84891aa6d6b7453472d6c": {
      "model_module": "@jupyter-widgets/output",
      "model_module_version": "1.0.0",
      "model_name": "OutputModel",
      "state": {
       "_dom_classes": [],
       "_model_module": "@jupyter-widgets/output",
       "_model_module_version": "1.0.0",
       "_model_name": "OutputModel",
       "_view_count": null,
       "_view_module": "@jupyter-widgets/output",
       "_view_module_version": "1.0.0",
       "_view_name": "OutputView",
       "layout": "IPY_MODEL_7dad3a2cadc24f5c928de82c9e670ce4",
       "msg_id": "",
       "outputs": [
        {
         "data": {
          "image/png": "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",
          "text/plain": "<Figure size 768x576 with 1 Axes>"
         },
         "metadata": {},
         "output_type": "display_data"
        }
       ],
       "tabbable": null,
       "tooltip": null
      }
     },
     "d17f427043324488b707578d9e6d097c": {
      "model_module": "@jupyter-widgets/base",
      "model_module_version": "2.0.0",
      "model_name": "LayoutModel",
      "state": {
       "_model_module": "@jupyter-widgets/base",
       "_model_module_version": "2.0.0",
       "_model_name": "LayoutModel",
       "_view_count": null,
       "_view_module": "@jupyter-widgets/base",
       "_view_module_version": "2.0.0",
       "_view_name": "LayoutView",
       "align_content": null,
       "align_items": null,
       "align_self": null,
       "border_bottom": null,
       "border_left": null,
       "border_right": null,
       "border_top": null,
       "bottom": null,
       "display": null,
       "flex": null,
       "flex_flow": null,
       "grid_area": null,
       "grid_auto_columns": null,
       "grid_auto_flow": null,
       "grid_auto_rows": null,
       "grid_column": null,
       "grid_gap": null,
       "grid_row": null,
       "grid_template_areas": null,
       "grid_template_columns": null,
       "grid_template_rows": null,
       "height": null,
       "justify_content": null,
       "justify_items": null,
       "left": null,
       "margin": null,
       "max_height": null,
       "max_width": null,
       "min_height": null,
       "min_width": null,
       "object_fit": null,
       "object_position": null,
       "order": null,
       "overflow": null,
       "padding": null,
       "right": null,
       "top": null,
       "visibility": null,
       "width": null
      }
     },
     "d954a566fb2c4153beebc56a149e7b7c": {
      "model_module": "@jupyter-widgets/base",
      "model_module_version": "2.0.0",
      "model_name": "LayoutModel",
      "state": {
       "_model_module": "@jupyter-widgets/base",
       "_model_module_version": "2.0.0",
       "_model_name": "LayoutModel",
       "_view_count": null,
       "_view_module": "@jupyter-widgets/base",
       "_view_module_version": "2.0.0",
       "_view_name": "LayoutView",
       "align_content": null,
       "align_items": null,
       "align_self": null,
       "border_bottom": null,
       "border_left": null,
       "border_right": null,
       "border_top": null,
       "bottom": null,
       "display": null,
       "flex": null,
       "flex_flow": null,
       "grid_area": null,
       "grid_auto_columns": null,
       "grid_auto_flow": null,
       "grid_auto_rows": null,
       "grid_column": null,
       "grid_gap": null,
       "grid_row": null,
       "grid_template_areas": null,
       "grid_template_columns": null,
       "grid_template_rows": null,
       "height": null,
       "justify_content": null,
       "justify_items": null,
       "left": null,
       "margin": null,
       "max_height": null,
       "max_width": null,
       "min_height": null,
       "min_width": null,
       "object_fit": null,
       "object_position": null,
       "order": null,
       "overflow": null,
       "padding": null,
       "right": null,
       "top": null,
       "visibility": null,
       "width": null
      }
     },
     "e13b6754d5154e1db905235b8b8947c4": {
      "model_module": "@jupyter-widgets/controls",
      "model_module_version": "2.0.0",
      "model_name": "VBoxModel",
      "state": {
       "_dom_classes": [
        "widget-interact"
       ],
       "_model_module": "@jupyter-widgets/controls",
       "_model_module_version": "2.0.0",
       "_model_name": "VBoxModel",
       "_view_count": null,
       "_view_module": "@jupyter-widgets/controls",
       "_view_module_version": "2.0.0",
       "_view_name": "VBoxView",
       "box_style": "",
       "children": [
        "IPY_MODEL_63139f402edd4cfc982bb96485936a7a",
        "IPY_MODEL_cef6ca15eeb84891aa6d6b7453472d6c"
       ],
       "layout": "IPY_MODEL_d954a566fb2c4153beebc56a149e7b7c",
       "tabbable": null,
       "tooltip": null
      }
     },
     "e6f867950272443da97777711e6dce09": {
      "model_module": "@jupyter-widgets/controls",
      "model_module_version": "2.0.0",
      "model_name": "SliderStyleModel",
      "state": {
       "_model_module": "@jupyter-widgets/controls",
       "_model_module_version": "2.0.0",
       "_model_name": "SliderStyleModel",
       "_view_count": null,
       "_view_module": "@jupyter-widgets/base",
       "_view_module_version": "2.0.0",
       "_view_name": "StyleView",
       "description_width": "",
       "handle_color": null
      }
     },
     "f57c5089675941d9a60954f5e5287af6": {
      "model_module": "@jupyter-widgets/output",
      "model_module_version": "1.0.0",
      "model_name": "OutputModel",
      "state": {
       "_dom_classes": [],
       "_model_module": "@jupyter-widgets/output",
       "_model_module_version": "1.0.0",
       "_model_name": "OutputModel",
       "_view_count": null,
       "_view_module": "@jupyter-widgets/output",
       "_view_module_version": "1.0.0",
       "_view_name": "OutputView",
       "layout": "IPY_MODEL_89dc3e123f024acda6445815ca22a4c5",
       "msg_id": "",
       "outputs": [
        {
         "data": {
          "image/png": "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",
          "text/plain": "<Figure size 1200x600 with 2 Axes>"
         },
         "metadata": {},
         "output_type": "display_data"
        }
       ],
       "tabbable": null,
       "tooltip": null
      }
     }
    },
    "version_major": 2,
    "version_minor": 0
   }
  }
 },
 "nbformat": 4,
 "nbformat_minor": 4
}