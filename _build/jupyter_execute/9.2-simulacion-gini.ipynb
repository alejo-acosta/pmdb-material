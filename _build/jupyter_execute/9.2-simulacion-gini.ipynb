{
 "cells": [
  {
   "cell_type": "markdown",
   "metadata": {},
   "source": [
    "# Ejemplo: Simulación Gini\n",
    "\n",
    "Elaborado por: Alejandro Acosta"
   ]
  },
  {
   "cell_type": "code",
   "execution_count": 1,
   "metadata": {},
   "outputs": [],
   "source": [
    "import pandas as pd\n",
    "import numpy as np\n",
    "import matplotlib.pyplot as plt\n",
    "import seaborn as sns\n",
    "\n",
    "from ipywidgets import interact, interactive, fixed, interact_manual\n",
    "import ipywidgets as widgets\n",
    "\n",
    "plt.rcParams['figure.dpi'] = 120\n",
    "plt.rcParams['savefig.dpi'] = 120\n",
    "\n",
    "sns.set_style(\"whitegrid\")"
   ]
  },
  {
   "cell_type": "code",
   "execution_count": 2,
   "metadata": {},
   "outputs": [],
   "source": [
    "def simul_income(mean=1000, sd=50, size=10000):\n",
    "    return sorted(np.random.normal(mean, sd, size).clip(0))\n",
    "\n",
    "\n"
   ]
  },
  {
   "cell_type": "code",
   "execution_count": 3,
   "metadata": {},
   "outputs": [],
   "source": [
    "def plot_income(**kwargs):\n",
    "    income = simul_income(**kwargs)\n",
    "    fig = plt.figure()\n",
    "    sns.histplot(income, stat='frequency', element='poly', bins=30)\n",
    "    plt.xlim(0,2000)\n",
    "    plt.ylim(0,80)\n",
    "    plt.close(fig)\n",
    "    return fig"
   ]
  },
  {
   "cell_type": "code",
   "execution_count": 4,
   "metadata": {},
   "outputs": [],
   "source": [
    "def plot_gini(**kwargs):\n",
    "    income = simul_income(**kwargs)\n",
    "    total_income = sum(income)\n",
    "    bins = np.linspace(0,100, 20)\n",
    "    x = [np.percentile(income, i) for i in bins]\n",
    "    x2 = [i/100 for i in bins]\n",
    "    y = [np.round(sum(income*np.array([i<=x[j] for i in income]))/total_income,2) for j in range(len(bins))]\n",
    "\n",
    "    fig=plt.figure()\n",
    "    sns.lineplot(x=x2,y=x2)\n",
    "    sns.lineplot(x=x2,y=y, color='red')\n",
    "    plt.fill_between(x2,x2,y, color='red', alpha=0.25)\n",
    "    plt.ylim(0,1)\n",
    "    plt.xlim(0,1)\n",
    "    plt.close(fig)\n",
    "    return fig"
   ]
  },
  {
   "cell_type": "code",
   "execution_count": 5,
   "metadata": {},
   "outputs": [],
   "source": [
    "def plot_both(**kwargs):\n",
    "    income = simul_income(**kwargs)\n",
    "    total_income = sum(income)\n",
    "    bins = np.linspace(0, 100, 20)\n",
    "    xaux = [np.percentile(income, i) for i in bins]\n",
    "    x = [i/100 for i in bins]\n",
    "    y = [np.round(sum(income*np.array([i <= xaux[j] for i in income])\n",
    "                      )/total_income, 2) for j in range(len(bins))]\n",
    "\n",
    "    fig, ax = plt.subplots(1, 2, sharex=False, sharey=False, figsize=(10,5))\n",
    "    sns.histplot(income, stat='frequency', element='poly', bins=30, ax=ax[0])\n",
    "    ax[0].set_xlim([0, 2000])\n",
    "    ax[0].set_ylim([0, 80])\n",
    "\n",
    "    \n",
    "    sns.lineplot(x=x, y=x, ax=ax[1])\n",
    "    sns.lineplot(x=x, y=y, color='red', ax=ax[1])\n",
    "    plt.fill_between(x, x, y, color='red', alpha=0.25)\n",
    "    ax[1].set_xlim([0, 1])\n",
    "    ax[1].set_ylim([0, 1])\n",
    "\n",
    "    plt.close(fig)\n",
    "\n",
    "    return fig\n"
   ]
  },
  {
   "cell_type": "code",
   "execution_count": 6,
   "metadata": {},
   "outputs": [
    {
     "data": {
      "application/vnd.jupyter.widget-view+json": {
       "model_id": "a328a9cc4815448fb792b3aca96264fe",
       "version_major": 2,
       "version_minor": 0
      },
      "text/plain": [
       "interactive(children=(IntSlider(value=200, description='sd', max=400, min=1), Output()), _dom_classes=('widget…"
      ]
     },
     "metadata": {},
     "output_type": "display_data"
    },
    {
     "data": {
      "text/plain": [
       "<function __main__.plot_income(**kwargs)>"
      ]
     },
     "execution_count": 6,
     "metadata": {},
     "output_type": "execute_result"
    }
   ],
   "source": [
    "interact(plot_income, sd=(1,400))"
   ]
  },
  {
   "cell_type": "code",
   "execution_count": 7,
   "metadata": {},
   "outputs": [
    {
     "data": {
      "application/vnd.jupyter.widget-view+json": {
       "model_id": "df07a54d19ba4845abee00c1d5b92e12",
       "version_major": 2,
       "version_minor": 0
      },
      "text/plain": [
       "interactive(children=(IntSlider(value=400, description='sd', max=800, min=1), Output()), _dom_classes=('widget…"
      ]
     },
     "metadata": {},
     "output_type": "display_data"
    },
    {
     "data": {
      "text/plain": [
       "<function __main__.plot_both(**kwargs)>"
      ]
     },
     "execution_count": 7,
     "metadata": {},
     "output_type": "execute_result"
    }
   ],
   "source": [
    "interact(plot_both, sd=(1,800))"
   ]
  },
  {
   "cell_type": "code",
   "execution_count": null,
   "metadata": {},
   "outputs": [],
   "source": []
  }
 ],
 "metadata": {
  "kernelspec": {
   "display_name": "Python 3 (ipykernel)",
   "language": "python",
   "name": "python3"
  },
  "language_info": {
   "codemirror_mode": {
    "name": "ipython",
    "version": 3
   },
   "file_extension": ".py",
   "mimetype": "text/x-python",
   "name": "python",
   "nbconvert_exporter": "python",
   "pygments_lexer": "ipython3",
   "version": "3.10.12"
  },
  "vscode": {
   "interpreter": {
    "hash": "0d9db2acd79fc802845d33905a24c499b3c5b632a8047d75c602e59109c51bd3"
   }
  },
  "widgets": {
   "application/vnd.jupyter.widget-state+json": {
    "state": {
     "00b8622501e04f6b89aed29a71dc7cdf": {
      "model_module": "@jupyter-widgets/controls",
      "model_module_version": "2.0.0",
      "model_name": "IntSliderModel",
      "state": {
       "_dom_classes": [],
       "_model_module": "@jupyter-widgets/controls",
       "_model_module_version": "2.0.0",
       "_model_name": "IntSliderModel",
       "_view_count": null,
       "_view_module": "@jupyter-widgets/controls",
       "_view_module_version": "2.0.0",
       "_view_name": "IntSliderView",
       "behavior": "drag-tap",
       "continuous_update": true,
       "description": "sd",
       "description_allow_html": false,
       "disabled": false,
       "layout": "IPY_MODEL_cf6c6a7307fe43efb0120b31a1bc2fd6",
       "max": 400,
       "min": 1,
       "orientation": "horizontal",
       "readout": true,
       "readout_format": "d",
       "step": 1,
       "style": "IPY_MODEL_9e0c4584f3134760a431fb04f47aa157",
       "tabbable": null,
       "tooltip": null,
       "value": 200
      }
     },
     "360db0911de94b44bad2efe575d92dd2": {
      "model_module": "@jupyter-widgets/base",
      "model_module_version": "2.0.0",
      "model_name": "LayoutModel",
      "state": {
       "_model_module": "@jupyter-widgets/base",
       "_model_module_version": "2.0.0",
       "_model_name": "LayoutModel",
       "_view_count": null,
       "_view_module": "@jupyter-widgets/base",
       "_view_module_version": "2.0.0",
       "_view_name": "LayoutView",
       "align_content": null,
       "align_items": null,
       "align_self": null,
       "border_bottom": null,
       "border_left": null,
       "border_right": null,
       "border_top": null,
       "bottom": null,
       "display": null,
       "flex": null,
       "flex_flow": null,
       "grid_area": null,
       "grid_auto_columns": null,
       "grid_auto_flow": null,
       "grid_auto_rows": null,
       "grid_column": null,
       "grid_gap": null,
       "grid_row": null,
       "grid_template_areas": null,
       "grid_template_columns": null,
       "grid_template_rows": null,
       "height": null,
       "justify_content": null,
       "justify_items": null,
       "left": null,
       "margin": null,
       "max_height": null,
       "max_width": null,
       "min_height": null,
       "min_width": null,
       "object_fit": null,
       "object_position": null,
       "order": null,
       "overflow": null,
       "padding": null,
       "right": null,
       "top": null,
       "visibility": null,
       "width": null
      }
     },
     "4cbfaab3e31d4e93b1e58b4caaf1d335": {
      "model_module": "@jupyter-widgets/base",
      "model_module_version": "2.0.0",
      "model_name": "LayoutModel",
      "state": {
       "_model_module": "@jupyter-widgets/base",
       "_model_module_version": "2.0.0",
       "_model_name": "LayoutModel",
       "_view_count": null,
       "_view_module": "@jupyter-widgets/base",
       "_view_module_version": "2.0.0",
       "_view_name": "LayoutView",
       "align_content": null,
       "align_items": null,
       "align_self": null,
       "border_bottom": null,
       "border_left": null,
       "border_right": null,
       "border_top": null,
       "bottom": null,
       "display": null,
       "flex": null,
       "flex_flow": null,
       "grid_area": null,
       "grid_auto_columns": null,
       "grid_auto_flow": null,
       "grid_auto_rows": null,
       "grid_column": null,
       "grid_gap": null,
       "grid_row": null,
       "grid_template_areas": null,
       "grid_template_columns": null,
       "grid_template_rows": null,
       "height": null,
       "justify_content": null,
       "justify_items": null,
       "left": null,
       "margin": null,
       "max_height": null,
       "max_width": null,
       "min_height": null,
       "min_width": null,
       "object_fit": null,
       "object_position": null,
       "order": null,
       "overflow": null,
       "padding": null,
       "right": null,
       "top": null,
       "visibility": null,
       "width": null
      }
     },
     "8284c0ea6e5a4735a0b70af5acf599be": {
      "model_module": "@jupyter-widgets/controls",
      "model_module_version": "2.0.0",
      "model_name": "SliderStyleModel",
      "state": {
       "_model_module": "@jupyter-widgets/controls",
       "_model_module_version": "2.0.0",
       "_model_name": "SliderStyleModel",
       "_view_count": null,
       "_view_module": "@jupyter-widgets/base",
       "_view_module_version": "2.0.0",
       "_view_name": "StyleView",
       "description_width": "",
       "handle_color": null
      }
     },
     "849b91d1d9864f6b94636ffca01283ee": {
      "model_module": "@jupyter-widgets/output",
      "model_module_version": "1.0.0",
      "model_name": "OutputModel",
      "state": {
       "_dom_classes": [],
       "_model_module": "@jupyter-widgets/output",
       "_model_module_version": "1.0.0",
       "_model_name": "OutputModel",
       "_view_count": null,
       "_view_module": "@jupyter-widgets/output",
       "_view_module_version": "1.0.0",
       "_view_name": "OutputView",
       "layout": "IPY_MODEL_4cbfaab3e31d4e93b1e58b4caaf1d335",
       "msg_id": "",
       "outputs": [
        {
         "data": {
          "image/png": "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",
          "text/plain": "<Figure size 768x576 with 1 Axes>"
         },
         "metadata": {},
         "output_type": "display_data"
        }
       ],
       "tabbable": null,
       "tooltip": null
      }
     },
     "8597b51e87714247a994cd54c7e14c07": {
      "model_module": "@jupyter-widgets/base",
      "model_module_version": "2.0.0",
      "model_name": "LayoutModel",
      "state": {
       "_model_module": "@jupyter-widgets/base",
       "_model_module_version": "2.0.0",
       "_model_name": "LayoutModel",
       "_view_count": null,
       "_view_module": "@jupyter-widgets/base",
       "_view_module_version": "2.0.0",
       "_view_name": "LayoutView",
       "align_content": null,
       "align_items": null,
       "align_self": null,
       "border_bottom": null,
       "border_left": null,
       "border_right": null,
       "border_top": null,
       "bottom": null,
       "display": null,
       "flex": null,
       "flex_flow": null,
       "grid_area": null,
       "grid_auto_columns": null,
       "grid_auto_flow": null,
       "grid_auto_rows": null,
       "grid_column": null,
       "grid_gap": null,
       "grid_row": null,
       "grid_template_areas": null,
       "grid_template_columns": null,
       "grid_template_rows": null,
       "height": null,
       "justify_content": null,
       "justify_items": null,
       "left": null,
       "margin": null,
       "max_height": null,
       "max_width": null,
       "min_height": null,
       "min_width": null,
       "object_fit": null,
       "object_position": null,
       "order": null,
       "overflow": null,
       "padding": null,
       "right": null,
       "top": null,
       "visibility": null,
       "width": null
      }
     },
     "9e0c4584f3134760a431fb04f47aa157": {
      "model_module": "@jupyter-widgets/controls",
      "model_module_version": "2.0.0",
      "model_name": "SliderStyleModel",
      "state": {
       "_model_module": "@jupyter-widgets/controls",
       "_model_module_version": "2.0.0",
       "_model_name": "SliderStyleModel",
       "_view_count": null,
       "_view_module": "@jupyter-widgets/base",
       "_view_module_version": "2.0.0",
       "_view_name": "StyleView",
       "description_width": "",
       "handle_color": null
      }
     },
     "a328a9cc4815448fb792b3aca96264fe": {
      "model_module": "@jupyter-widgets/controls",
      "model_module_version": "2.0.0",
      "model_name": "VBoxModel",
      "state": {
       "_dom_classes": [
        "widget-interact"
       ],
       "_model_module": "@jupyter-widgets/controls",
       "_model_module_version": "2.0.0",
       "_model_name": "VBoxModel",
       "_view_count": null,
       "_view_module": "@jupyter-widgets/controls",
       "_view_module_version": "2.0.0",
       "_view_name": "VBoxView",
       "box_style": "",
       "children": [
        "IPY_MODEL_00b8622501e04f6b89aed29a71dc7cdf",
        "IPY_MODEL_849b91d1d9864f6b94636ffca01283ee"
       ],
       "layout": "IPY_MODEL_8597b51e87714247a994cd54c7e14c07",
       "tabbable": null,
       "tooltip": null
      }
     },
     "a6c1736d64f746e09d40ec4039360bcc": {
      "model_module": "@jupyter-widgets/controls",
      "model_module_version": "2.0.0",
      "model_name": "IntSliderModel",
      "state": {
       "_dom_classes": [],
       "_model_module": "@jupyter-widgets/controls",
       "_model_module_version": "2.0.0",
       "_model_name": "IntSliderModel",
       "_view_count": null,
       "_view_module": "@jupyter-widgets/controls",
       "_view_module_version": "2.0.0",
       "_view_name": "IntSliderView",
       "behavior": "drag-tap",
       "continuous_update": true,
       "description": "sd",
       "description_allow_html": false,
       "disabled": false,
       "layout": "IPY_MODEL_360db0911de94b44bad2efe575d92dd2",
       "max": 800,
       "min": 1,
       "orientation": "horizontal",
       "readout": true,
       "readout_format": "d",
       "step": 1,
       "style": "IPY_MODEL_8284c0ea6e5a4735a0b70af5acf599be",
       "tabbable": null,
       "tooltip": null,
       "value": 400
      }
     },
     "beb9626a5a054573953557352f945fe9": {
      "model_module": "@jupyter-widgets/base",
      "model_module_version": "2.0.0",
      "model_name": "LayoutModel",
      "state": {
       "_model_module": "@jupyter-widgets/base",
       "_model_module_version": "2.0.0",
       "_model_name": "LayoutModel",
       "_view_count": null,
       "_view_module": "@jupyter-widgets/base",
       "_view_module_version": "2.0.0",
       "_view_name": "LayoutView",
       "align_content": null,
       "align_items": null,
       "align_self": null,
       "border_bottom": null,
       "border_left": null,
       "border_right": null,
       "border_top": null,
       "bottom": null,
       "display": null,
       "flex": null,
       "flex_flow": null,
       "grid_area": null,
       "grid_auto_columns": null,
       "grid_auto_flow": null,
       "grid_auto_rows": null,
       "grid_column": null,
       "grid_gap": null,
       "grid_row": null,
       "grid_template_areas": null,
       "grid_template_columns": null,
       "grid_template_rows": null,
       "height": null,
       "justify_content": null,
       "justify_items": null,
       "left": null,
       "margin": null,
       "max_height": null,
       "max_width": null,
       "min_height": null,
       "min_width": null,
       "object_fit": null,
       "object_position": null,
       "order": null,
       "overflow": null,
       "padding": null,
       "right": null,
       "top": null,
       "visibility": null,
       "width": null
      }
     },
     "cf6c6a7307fe43efb0120b31a1bc2fd6": {
      "model_module": "@jupyter-widgets/base",
      "model_module_version": "2.0.0",
      "model_name": "LayoutModel",
      "state": {
       "_model_module": "@jupyter-widgets/base",
       "_model_module_version": "2.0.0",
       "_model_name": "LayoutModel",
       "_view_count": null,
       "_view_module": "@jupyter-widgets/base",
       "_view_module_version": "2.0.0",
       "_view_name": "LayoutView",
       "align_content": null,
       "align_items": null,
       "align_self": null,
       "border_bottom": null,
       "border_left": null,
       "border_right": null,
       "border_top": null,
       "bottom": null,
       "display": null,
       "flex": null,
       "flex_flow": null,
       "grid_area": null,
       "grid_auto_columns": null,
       "grid_auto_flow": null,
       "grid_auto_rows": null,
       "grid_column": null,
       "grid_gap": null,
       "grid_row": null,
       "grid_template_areas": null,
       "grid_template_columns": null,
       "grid_template_rows": null,
       "height": null,
       "justify_content": null,
       "justify_items": null,
       "left": null,
       "margin": null,
       "max_height": null,
       "max_width": null,
       "min_height": null,
       "min_width": null,
       "object_fit": null,
       "object_position": null,
       "order": null,
       "overflow": null,
       "padding": null,
       "right": null,
       "top": null,
       "visibility": null,
       "width": null
      }
     },
     "df07a54d19ba4845abee00c1d5b92e12": {
      "model_module": "@jupyter-widgets/controls",
      "model_module_version": "2.0.0",
      "model_name": "VBoxModel",
      "state": {
       "_dom_classes": [
        "widget-interact"
       ],
       "_model_module": "@jupyter-widgets/controls",
       "_model_module_version": "2.0.0",
       "_model_name": "VBoxModel",
       "_view_count": null,
       "_view_module": "@jupyter-widgets/controls",
       "_view_module_version": "2.0.0",
       "_view_name": "VBoxView",
       "box_style": "",
       "children": [
        "IPY_MODEL_a6c1736d64f746e09d40ec4039360bcc",
        "IPY_MODEL_f3ba3a03436c48d9a2f93fa9e18fda95"
       ],
       "layout": "IPY_MODEL_beb9626a5a054573953557352f945fe9",
       "tabbable": null,
       "tooltip": null
      }
     },
     "f3ba3a03436c48d9a2f93fa9e18fda95": {
      "model_module": "@jupyter-widgets/output",
      "model_module_version": "1.0.0",
      "model_name": "OutputModel",
      "state": {
       "_dom_classes": [],
       "_model_module": "@jupyter-widgets/output",
       "_model_module_version": "1.0.0",
       "_model_name": "OutputModel",
       "_view_count": null,
       "_view_module": "@jupyter-widgets/output",
       "_view_module_version": "1.0.0",
       "_view_name": "OutputView",
       "layout": "IPY_MODEL_ff24e8d93ef94fa5af6e439c3aa9b07d",
       "msg_id": "",
       "outputs": [
        {
         "data": {
          "image/png": "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",
          "text/plain": "<Figure size 1200x600 with 2 Axes>"
         },
         "metadata": {},
         "output_type": "display_data"
        }
       ],
       "tabbable": null,
       "tooltip": null
      }
     },
     "ff24e8d93ef94fa5af6e439c3aa9b07d": {
      "model_module": "@jupyter-widgets/base",
      "model_module_version": "2.0.0",
      "model_name": "LayoutModel",
      "state": {
       "_model_module": "@jupyter-widgets/base",
       "_model_module_version": "2.0.0",
       "_model_name": "LayoutModel",
       "_view_count": null,
       "_view_module": "@jupyter-widgets/base",
       "_view_module_version": "2.0.0",
       "_view_name": "LayoutView",
       "align_content": null,
       "align_items": null,
       "align_self": null,
       "border_bottom": null,
       "border_left": null,
       "border_right": null,
       "border_top": null,
       "bottom": null,
       "display": null,
       "flex": null,
       "flex_flow": null,
       "grid_area": null,
       "grid_auto_columns": null,
       "grid_auto_flow": null,
       "grid_auto_rows": null,
       "grid_column": null,
       "grid_gap": null,
       "grid_row": null,
       "grid_template_areas": null,
       "grid_template_columns": null,
       "grid_template_rows": null,
       "height": null,
       "justify_content": null,
       "justify_items": null,
       "left": null,
       "margin": null,
       "max_height": null,
       "max_width": null,
       "min_height": null,
       "min_width": null,
       "object_fit": null,
       "object_position": null,
       "order": null,
       "overflow": null,
       "padding": null,
       "right": null,
       "top": null,
       "visibility": null,
       "width": null
      }
     }
    },
    "version_major": 2,
    "version_minor": 0
   }
  }
 },
 "nbformat": 4,
 "nbformat_minor": 4
}