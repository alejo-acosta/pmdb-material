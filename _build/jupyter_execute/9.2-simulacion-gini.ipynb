{
 "cells": [
  {
   "cell_type": "markdown",
   "metadata": {},
   "source": [
    "# Ejemplo: Simulación Gini\n",
    "\n",
    "Elaborado por: Alejandro Acosta"
   ]
  },
  {
   "cell_type": "code",
   "execution_count": 1,
   "metadata": {},
   "outputs": [],
   "source": [
    "import pandas as pd\n",
    "import numpy as np\n",
    "import matplotlib.pyplot as plt\n",
    "import seaborn as sns\n",
    "\n",
    "from ipywidgets import interact, interactive, fixed, interact_manual\n",
    "import ipywidgets as widgets\n",
    "\n",
    "plt.rcParams['figure.dpi'] = 120\n",
    "plt.rcParams['savefig.dpi'] = 120\n",
    "\n",
    "sns.set_style(\"whitegrid\")"
   ]
  },
  {
   "cell_type": "code",
   "execution_count": 2,
   "metadata": {},
   "outputs": [],
   "source": [
    "def simul_income(mean=1000, sd=50, size=10000):\n",
    "    return sorted(np.random.normal(mean, sd, size).clip(0))\n",
    "\n",
    "\n"
   ]
  },
  {
   "cell_type": "code",
   "execution_count": 3,
   "metadata": {},
   "outputs": [],
   "source": [
    "def plot_income(**kwargs):\n",
    "    income = simul_income(**kwargs)\n",
    "    fig = plt.figure()\n",
    "    sns.histplot(income, stat='frequency', element='poly', bins=30)\n",
    "    plt.xlim(0,2000)\n",
    "    plt.ylim(0,80)\n",
    "    plt.close(fig)\n",
    "    return fig"
   ]
  },
  {
   "cell_type": "code",
   "execution_count": 4,
   "metadata": {},
   "outputs": [],
   "source": [
    "def plot_gini(**kwargs):\n",
    "    income = simul_income(**kwargs)\n",
    "    total_income = sum(income)\n",
    "    bins = np.linspace(0,100, 20)\n",
    "    x = [np.percentile(income, i) for i in bins]\n",
    "    x2 = [i/100 for i in bins]\n",
    "    y = [np.round(sum(income*np.array([i<=x[j] for i in income]))/total_income,2) for j in range(len(bins))]\n",
    "\n",
    "    fig=plt.figure()\n",
    "    sns.lineplot(x=x2,y=x2)\n",
    "    sns.lineplot(x=x2,y=y, color='red')\n",
    "    plt.fill_between(x2,x2,y, color='red', alpha=0.25)\n",
    "    plt.ylim(0,1)\n",
    "    plt.xlim(0,1)\n",
    "    plt.close(fig)\n",
    "    return fig"
   ]
  },
  {
   "cell_type": "code",
   "execution_count": 5,
   "metadata": {},
   "outputs": [],
   "source": [
    "def plot_both(**kwargs):\n",
    "    income = simul_income(**kwargs)\n",
    "    total_income = sum(income)\n",
    "    bins = np.linspace(0, 100, 20)\n",
    "    xaux = [np.percentile(income, i) for i in bins]\n",
    "    x = [i/100 for i in bins]\n",
    "    y = [np.round(sum(income*np.array([i <= xaux[j] for i in income])\n",
    "                      )/total_income, 2) for j in range(len(bins))]\n",
    "\n",
    "    fig, ax = plt.subplots(1, 2, sharex=False, sharey=False, figsize=(10,5))\n",
    "    sns.histplot(income, stat='frequency', element='poly', bins=30, ax=ax[0])\n",
    "    ax[0].set_xlim([0, 2000])\n",
    "    ax[0].set_ylim([0, 80])\n",
    "\n",
    "    \n",
    "    sns.lineplot(x=x, y=x, ax=ax[1])\n",
    "    sns.lineplot(x=x, y=y, color='red', ax=ax[1])\n",
    "    plt.fill_between(x, x, y, color='red', alpha=0.25)\n",
    "    ax[1].set_xlim([0, 1])\n",
    "    ax[1].set_ylim([0, 1])\n",
    "\n",
    "    plt.close(fig)\n",
    "\n",
    "    return fig\n"
   ]
  },
  {
   "cell_type": "code",
   "execution_count": 6,
   "metadata": {},
   "outputs": [
    {
     "data": {
      "application/vnd.jupyter.widget-view+json": {
       "model_id": "f020408056ef40f3a1d023403dbcf32f",
       "version_major": 2,
       "version_minor": 0
      },
      "text/plain": [
       "interactive(children=(IntSlider(value=200, description='sd', max=400, min=1), Output()), _dom_classes=('widget…"
      ]
     },
     "metadata": {},
     "output_type": "display_data"
    },
    {
     "data": {
      "text/plain": [
       "<function __main__.plot_income(**kwargs)>"
      ]
     },
     "execution_count": 6,
     "metadata": {},
     "output_type": "execute_result"
    }
   ],
   "source": [
    "interact(plot_income, sd=(1,400))"
   ]
  },
  {
   "cell_type": "code",
   "execution_count": 7,
   "metadata": {},
   "outputs": [
    {
     "data": {
      "application/vnd.jupyter.widget-view+json": {
       "model_id": "849c69eb9d1e4b4ba36d3fb7fac70c8d",
       "version_major": 2,
       "version_minor": 0
      },
      "text/plain": [
       "interactive(children=(IntSlider(value=400, description='sd', max=800, min=1), Output()), _dom_classes=('widget…"
      ]
     },
     "metadata": {},
     "output_type": "display_data"
    },
    {
     "data": {
      "text/plain": [
       "<function __main__.plot_both(**kwargs)>"
      ]
     },
     "execution_count": 7,
     "metadata": {},
     "output_type": "execute_result"
    }
   ],
   "source": [
    "interact(plot_both, sd=(1,800))"
   ]
  },
  {
   "cell_type": "code",
   "execution_count": null,
   "metadata": {},
   "outputs": [],
   "source": []
  }
 ],
 "metadata": {
  "kernelspec": {
   "display_name": "Python 3 (ipykernel)",
   "language": "python",
   "name": "python3"
  },
  "language_info": {
   "codemirror_mode": {
    "name": "ipython",
    "version": 3
   },
   "file_extension": ".py",
   "mimetype": "text/x-python",
   "name": "python",
   "nbconvert_exporter": "python",
   "pygments_lexer": "ipython3",
   "version": "3.11.4"
  },
  "vscode": {
   "interpreter": {
    "hash": "0d9db2acd79fc802845d33905a24c499b3c5b632a8047d75c602e59109c51bd3"
   }
  },
  "widgets": {
   "application/vnd.jupyter.widget-state+json": {
    "state": {
     "03d51d624eb64be6988cc36ccbdb5579": {
      "model_module": "@jupyter-widgets/base",
      "model_module_version": "2.0.0",
      "model_name": "LayoutModel",
      "state": {
       "_model_module": "@jupyter-widgets/base",
       "_model_module_version": "2.0.0",
       "_model_name": "LayoutModel",
       "_view_count": null,
       "_view_module": "@jupyter-widgets/base",
       "_view_module_version": "2.0.0",
       "_view_name": "LayoutView",
       "align_content": null,
       "align_items": null,
       "align_self": null,
       "border_bottom": null,
       "border_left": null,
       "border_right": null,
       "border_top": null,
       "bottom": null,
       "display": null,
       "flex": null,
       "flex_flow": null,
       "grid_area": null,
       "grid_auto_columns": null,
       "grid_auto_flow": null,
       "grid_auto_rows": null,
       "grid_column": null,
       "grid_gap": null,
       "grid_row": null,
       "grid_template_areas": null,
       "grid_template_columns": null,
       "grid_template_rows": null,
       "height": null,
       "justify_content": null,
       "justify_items": null,
       "left": null,
       "margin": null,
       "max_height": null,
       "max_width": null,
       "min_height": null,
       "min_width": null,
       "object_fit": null,
       "object_position": null,
       "order": null,
       "overflow": null,
       "padding": null,
       "right": null,
       "top": null,
       "visibility": null,
       "width": null
      }
     },
     "15da41a5f79f43ba85ebb8f1d606c688": {
      "model_module": "@jupyter-widgets/controls",
      "model_module_version": "2.0.0",
      "model_name": "SliderStyleModel",
      "state": {
       "_model_module": "@jupyter-widgets/controls",
       "_model_module_version": "2.0.0",
       "_model_name": "SliderStyleModel",
       "_view_count": null,
       "_view_module": "@jupyter-widgets/base",
       "_view_module_version": "2.0.0",
       "_view_name": "StyleView",
       "description_width": "",
       "handle_color": null
      }
     },
     "3517d65ac864480bb25751dd10677344": {
      "model_module": "@jupyter-widgets/controls",
      "model_module_version": "2.0.0",
      "model_name": "SliderStyleModel",
      "state": {
       "_model_module": "@jupyter-widgets/controls",
       "_model_module_version": "2.0.0",
       "_model_name": "SliderStyleModel",
       "_view_count": null,
       "_view_module": "@jupyter-widgets/base",
       "_view_module_version": "2.0.0",
       "_view_name": "StyleView",
       "description_width": "",
       "handle_color": null
      }
     },
     "35a94c424f634d56a3fe26afb1d74776": {
      "model_module": "@jupyter-widgets/base",
      "model_module_version": "2.0.0",
      "model_name": "LayoutModel",
      "state": {
       "_model_module": "@jupyter-widgets/base",
       "_model_module_version": "2.0.0",
       "_model_name": "LayoutModel",
       "_view_count": null,
       "_view_module": "@jupyter-widgets/base",
       "_view_module_version": "2.0.0",
       "_view_name": "LayoutView",
       "align_content": null,
       "align_items": null,
       "align_self": null,
       "border_bottom": null,
       "border_left": null,
       "border_right": null,
       "border_top": null,
       "bottom": null,
       "display": null,
       "flex": null,
       "flex_flow": null,
       "grid_area": null,
       "grid_auto_columns": null,
       "grid_auto_flow": null,
       "grid_auto_rows": null,
       "grid_column": null,
       "grid_gap": null,
       "grid_row": null,
       "grid_template_areas": null,
       "grid_template_columns": null,
       "grid_template_rows": null,
       "height": null,
       "justify_content": null,
       "justify_items": null,
       "left": null,
       "margin": null,
       "max_height": null,
       "max_width": null,
       "min_height": null,
       "min_width": null,
       "object_fit": null,
       "object_position": null,
       "order": null,
       "overflow": null,
       "padding": null,
       "right": null,
       "top": null,
       "visibility": null,
       "width": null
      }
     },
     "35e77701f088490783d5289361ab4790": {
      "model_module": "@jupyter-widgets/base",
      "model_module_version": "2.0.0",
      "model_name": "LayoutModel",
      "state": {
       "_model_module": "@jupyter-widgets/base",
       "_model_module_version": "2.0.0",
       "_model_name": "LayoutModel",
       "_view_count": null,
       "_view_module": "@jupyter-widgets/base",
       "_view_module_version": "2.0.0",
       "_view_name": "LayoutView",
       "align_content": null,
       "align_items": null,
       "align_self": null,
       "border_bottom": null,
       "border_left": null,
       "border_right": null,
       "border_top": null,
       "bottom": null,
       "display": null,
       "flex": null,
       "flex_flow": null,
       "grid_area": null,
       "grid_auto_columns": null,
       "grid_auto_flow": null,
       "grid_auto_rows": null,
       "grid_column": null,
       "grid_gap": null,
       "grid_row": null,
       "grid_template_areas": null,
       "grid_template_columns": null,
       "grid_template_rows": null,
       "height": null,
       "justify_content": null,
       "justify_items": null,
       "left": null,
       "margin": null,
       "max_height": null,
       "max_width": null,
       "min_height": null,
       "min_width": null,
       "object_fit": null,
       "object_position": null,
       "order": null,
       "overflow": null,
       "padding": null,
       "right": null,
       "top": null,
       "visibility": null,
       "width": null
      }
     },
     "70f01f71a5984baa9cdf78686a03cd25": {
      "model_module": "@jupyter-widgets/controls",
      "model_module_version": "2.0.0",
      "model_name": "IntSliderModel",
      "state": {
       "_dom_classes": [],
       "_model_module": "@jupyter-widgets/controls",
       "_model_module_version": "2.0.0",
       "_model_name": "IntSliderModel",
       "_view_count": null,
       "_view_module": "@jupyter-widgets/controls",
       "_view_module_version": "2.0.0",
       "_view_name": "IntSliderView",
       "behavior": "drag-tap",
       "continuous_update": true,
       "description": "sd",
       "description_allow_html": false,
       "disabled": false,
       "layout": "IPY_MODEL_35e77701f088490783d5289361ab4790",
       "max": 400,
       "min": 1,
       "orientation": "horizontal",
       "readout": true,
       "readout_format": "d",
       "step": 1,
       "style": "IPY_MODEL_15da41a5f79f43ba85ebb8f1d606c688",
       "tabbable": null,
       "tooltip": null,
       "value": 200
      }
     },
     "849c69eb9d1e4b4ba36d3fb7fac70c8d": {
      "model_module": "@jupyter-widgets/controls",
      "model_module_version": "2.0.0",
      "model_name": "VBoxModel",
      "state": {
       "_dom_classes": [
        "widget-interact"
       ],
       "_model_module": "@jupyter-widgets/controls",
       "_model_module_version": "2.0.0",
       "_model_name": "VBoxModel",
       "_view_count": null,
       "_view_module": "@jupyter-widgets/controls",
       "_view_module_version": "2.0.0",
       "_view_name": "VBoxView",
       "box_style": "",
       "children": [
        "IPY_MODEL_e928ddcbd906435daf43ead8ad9f913c",
        "IPY_MODEL_b39e710c6bd543e38db60abe4a0b0cc7"
       ],
       "layout": "IPY_MODEL_03d51d624eb64be6988cc36ccbdb5579",
       "tabbable": null,
       "tooltip": null
      }
     },
     "8b337c6206e944a4abb5fdee1629caa2": {
      "model_module": "@jupyter-widgets/base",
      "model_module_version": "2.0.0",
      "model_name": "LayoutModel",
      "state": {
       "_model_module": "@jupyter-widgets/base",
       "_model_module_version": "2.0.0",
       "_model_name": "LayoutModel",
       "_view_count": null,
       "_view_module": "@jupyter-widgets/base",
       "_view_module_version": "2.0.0",
       "_view_name": "LayoutView",
       "align_content": null,
       "align_items": null,
       "align_self": null,
       "border_bottom": null,
       "border_left": null,
       "border_right": null,
       "border_top": null,
       "bottom": null,
       "display": null,
       "flex": null,
       "flex_flow": null,
       "grid_area": null,
       "grid_auto_columns": null,
       "grid_auto_flow": null,
       "grid_auto_rows": null,
       "grid_column": null,
       "grid_gap": null,
       "grid_row": null,
       "grid_template_areas": null,
       "grid_template_columns": null,
       "grid_template_rows": null,
       "height": null,
       "justify_content": null,
       "justify_items": null,
       "left": null,
       "margin": null,
       "max_height": null,
       "max_width": null,
       "min_height": null,
       "min_width": null,
       "object_fit": null,
       "object_position": null,
       "order": null,
       "overflow": null,
       "padding": null,
       "right": null,
       "top": null,
       "visibility": null,
       "width": null
      }
     },
     "9978e7be616b41fe81775541a5091b5d": {
      "model_module": "@jupyter-widgets/output",
      "model_module_version": "1.0.0",
      "model_name": "OutputModel",
      "state": {
       "_dom_classes": [],
       "_model_module": "@jupyter-widgets/output",
       "_model_module_version": "1.0.0",
       "_model_name": "OutputModel",
       "_view_count": null,
       "_view_module": "@jupyter-widgets/output",
       "_view_module_version": "1.0.0",
       "_view_name": "OutputView",
       "layout": "IPY_MODEL_e7b0d0e7b5b848e1b13fc601ab382211",
       "msg_id": "",
       "outputs": [
        {
         "data": {
          "image/png": "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",
          "text/plain": "<Figure size 768x576 with 1 Axes>"
         },
         "metadata": {},
         "output_type": "display_data"
        }
       ],
       "tabbable": null,
       "tooltip": null
      }
     },
     "b39e710c6bd543e38db60abe4a0b0cc7": {
      "model_module": "@jupyter-widgets/output",
      "model_module_version": "1.0.0",
      "model_name": "OutputModel",
      "state": {
       "_dom_classes": [],
       "_model_module": "@jupyter-widgets/output",
       "_model_module_version": "1.0.0",
       "_model_name": "OutputModel",
       "_view_count": null,
       "_view_module": "@jupyter-widgets/output",
       "_view_module_version": "1.0.0",
       "_view_name": "OutputView",
       "layout": "IPY_MODEL_8b337c6206e944a4abb5fdee1629caa2",
       "msg_id": "",
       "outputs": [
        {
         "data": {
          "image/png": "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",
          "text/plain": "<Figure size 1200x600 with 2 Axes>"
         },
         "metadata": {},
         "output_type": "display_data"
        }
       ],
       "tabbable": null,
       "tooltip": null
      }
     },
     "c8fe5fe6737e48538250edfc80fcc84e": {
      "model_module": "@jupyter-widgets/base",
      "model_module_version": "2.0.0",
      "model_name": "LayoutModel",
      "state": {
       "_model_module": "@jupyter-widgets/base",
       "_model_module_version": "2.0.0",
       "_model_name": "LayoutModel",
       "_view_count": null,
       "_view_module": "@jupyter-widgets/base",
       "_view_module_version": "2.0.0",
       "_view_name": "LayoutView",
       "align_content": null,
       "align_items": null,
       "align_self": null,
       "border_bottom": null,
       "border_left": null,
       "border_right": null,
       "border_top": null,
       "bottom": null,
       "display": null,
       "flex": null,
       "flex_flow": null,
       "grid_area": null,
       "grid_auto_columns": null,
       "grid_auto_flow": null,
       "grid_auto_rows": null,
       "grid_column": null,
       "grid_gap": null,
       "grid_row": null,
       "grid_template_areas": null,
       "grid_template_columns": null,
       "grid_template_rows": null,
       "height": null,
       "justify_content": null,
       "justify_items": null,
       "left": null,
       "margin": null,
       "max_height": null,
       "max_width": null,
       "min_height": null,
       "min_width": null,
       "object_fit": null,
       "object_position": null,
       "order": null,
       "overflow": null,
       "padding": null,
       "right": null,
       "top": null,
       "visibility": null,
       "width": null
      }
     },
     "e7b0d0e7b5b848e1b13fc601ab382211": {
      "model_module": "@jupyter-widgets/base",
      "model_module_version": "2.0.0",
      "model_name": "LayoutModel",
      "state": {
       "_model_module": "@jupyter-widgets/base",
       "_model_module_version": "2.0.0",
       "_model_name": "LayoutModel",
       "_view_count": null,
       "_view_module": "@jupyter-widgets/base",
       "_view_module_version": "2.0.0",
       "_view_name": "LayoutView",
       "align_content": null,
       "align_items": null,
       "align_self": null,
       "border_bottom": null,
       "border_left": null,
       "border_right": null,
       "border_top": null,
       "bottom": null,
       "display": null,
       "flex": null,
       "flex_flow": null,
       "grid_area": null,
       "grid_auto_columns": null,
       "grid_auto_flow": null,
       "grid_auto_rows": null,
       "grid_column": null,
       "grid_gap": null,
       "grid_row": null,
       "grid_template_areas": null,
       "grid_template_columns": null,
       "grid_template_rows": null,
       "height": null,
       "justify_content": null,
       "justify_items": null,
       "left": null,
       "margin": null,
       "max_height": null,
       "max_width": null,
       "min_height": null,
       "min_width": null,
       "object_fit": null,
       "object_position": null,
       "order": null,
       "overflow": null,
       "padding": null,
       "right": null,
       "top": null,
       "visibility": null,
       "width": null
      }
     },
     "e928ddcbd906435daf43ead8ad9f913c": {
      "model_module": "@jupyter-widgets/controls",
      "model_module_version": "2.0.0",
      "model_name": "IntSliderModel",
      "state": {
       "_dom_classes": [],
       "_model_module": "@jupyter-widgets/controls",
       "_model_module_version": "2.0.0",
       "_model_name": "IntSliderModel",
       "_view_count": null,
       "_view_module": "@jupyter-widgets/controls",
       "_view_module_version": "2.0.0",
       "_view_name": "IntSliderView",
       "behavior": "drag-tap",
       "continuous_update": true,
       "description": "sd",
       "description_allow_html": false,
       "disabled": false,
       "layout": "IPY_MODEL_c8fe5fe6737e48538250edfc80fcc84e",
       "max": 800,
       "min": 1,
       "orientation": "horizontal",
       "readout": true,
       "readout_format": "d",
       "step": 1,
       "style": "IPY_MODEL_3517d65ac864480bb25751dd10677344",
       "tabbable": null,
       "tooltip": null,
       "value": 400
      }
     },
     "f020408056ef40f3a1d023403dbcf32f": {
      "model_module": "@jupyter-widgets/controls",
      "model_module_version": "2.0.0",
      "model_name": "VBoxModel",
      "state": {
       "_dom_classes": [
        "widget-interact"
       ],
       "_model_module": "@jupyter-widgets/controls",
       "_model_module_version": "2.0.0",
       "_model_name": "VBoxModel",
       "_view_count": null,
       "_view_module": "@jupyter-widgets/controls",
       "_view_module_version": "2.0.0",
       "_view_name": "VBoxView",
       "box_style": "",
       "children": [
        "IPY_MODEL_70f01f71a5984baa9cdf78686a03cd25",
        "IPY_MODEL_9978e7be616b41fe81775541a5091b5d"
       ],
       "layout": "IPY_MODEL_35a94c424f634d56a3fe26afb1d74776",
       "tabbable": null,
       "tooltip": null
      }
     }
    },
    "version_major": 2,
    "version_minor": 0
   }
  }
 },
 "nbformat": 4,
 "nbformat_minor": 4
}