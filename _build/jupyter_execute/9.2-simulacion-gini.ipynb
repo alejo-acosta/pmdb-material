{
 "cells": [
  {
   "cell_type": "markdown",
   "metadata": {},
   "source": [
    "# Ejemplo: Simulación Gini\n",
    "\n",
    "Elaborado por: Alejandro Acosta"
   ]
  },
  {
   "cell_type": "code",
   "execution_count": 1,
   "metadata": {},
   "outputs": [],
   "source": [
    "import pandas as pd\n",
    "import numpy as np\n",
    "import matplotlib.pyplot as plt\n",
    "import seaborn as sns\n",
    "\n",
    "from ipywidgets import interact, interactive, fixed, interact_manual\n",
    "import ipywidgets as widgets\n",
    "\n",
    "plt.rcParams['figure.dpi'] = 120\n",
    "plt.rcParams['savefig.dpi'] = 120\n",
    "\n",
    "sns.set_style(\"whitegrid\")"
   ]
  },
  {
   "cell_type": "code",
   "execution_count": 2,
   "metadata": {},
   "outputs": [],
   "source": [
    "def simul_income(mean=1000, sd=50, size=10000):\n",
    "    return sorted(np.random.normal(mean, sd, size).clip(0))\n",
    "\n",
    "\n"
   ]
  },
  {
   "cell_type": "code",
   "execution_count": 3,
   "metadata": {},
   "outputs": [],
   "source": [
    "def plot_income(**kwargs):\n",
    "    income = simul_income(**kwargs)\n",
    "    fig = plt.figure()\n",
    "    sns.histplot(income, stat='frequency', element='poly', bins=30)\n",
    "    plt.xlim(0,2000)\n",
    "    plt.ylim(0,80)\n",
    "    plt.close(fig)\n",
    "    return fig"
   ]
  },
  {
   "cell_type": "code",
   "execution_count": 4,
   "metadata": {},
   "outputs": [],
   "source": [
    "def plot_gini(**kwargs):\n",
    "    income = simul_income(**kwargs)\n",
    "    total_income = sum(income)\n",
    "    bins = np.linspace(0,100, 20)\n",
    "    x = [np.percentile(income, i) for i in bins]\n",
    "    x2 = [i/100 for i in bins]\n",
    "    y = [np.round(sum(income*np.array([i<=x[j] for i in income]))/total_income,2) for j in range(len(bins))]\n",
    "\n",
    "    fig=plt.figure()\n",
    "    sns.lineplot(x=x2,y=x2)\n",
    "    sns.lineplot(x=x2,y=y, color='red')\n",
    "    plt.fill_between(x2,x2,y, color='red', alpha=0.25)\n",
    "    plt.ylim(0,1)\n",
    "    plt.xlim(0,1)\n",
    "    plt.close(fig)\n",
    "    return fig"
   ]
  },
  {
   "cell_type": "code",
   "execution_count": 5,
   "metadata": {},
   "outputs": [],
   "source": [
    "def plot_both(**kwargs):\n",
    "    income = simul_income(**kwargs)\n",
    "    total_income = sum(income)\n",
    "    bins = np.linspace(0, 100, 20)\n",
    "    xaux = [np.percentile(income, i) for i in bins]\n",
    "    x = [i/100 for i in bins]\n",
    "    y = [np.round(sum(income*np.array([i <= xaux[j] for i in income])\n",
    "                      )/total_income, 2) for j in range(len(bins))]\n",
    "\n",
    "    fig, ax = plt.subplots(1, 2, sharex=False, sharey=False, figsize=(10,5))\n",
    "    sns.histplot(income, stat='frequency', element='poly', bins=30, ax=ax[0])\n",
    "    ax[0].set_xlim([0, 2000])\n",
    "    ax[0].set_ylim([0, 80])\n",
    "\n",
    "    \n",
    "    sns.lineplot(x=x, y=x, ax=ax[1])\n",
    "    sns.lineplot(x=x, y=y, color='red', ax=ax[1])\n",
    "    plt.fill_between(x, x, y, color='red', alpha=0.25)\n",
    "    ax[1].set_xlim([0, 1])\n",
    "    ax[1].set_ylim([0, 1])\n",
    "\n",
    "    plt.close(fig)\n",
    "\n",
    "    return fig\n"
   ]
  },
  {
   "cell_type": "code",
   "execution_count": 6,
   "metadata": {},
   "outputs": [
    {
     "data": {
      "application/vnd.jupyter.widget-view+json": {
       "model_id": "10d579f1c1094d0fbab31bc309df6b09",
       "version_major": 2,
       "version_minor": 0
      },
      "text/plain": [
       "interactive(children=(IntSlider(value=200, description='sd', max=400, min=1), Output()), _dom_classes=('widget…"
      ]
     },
     "metadata": {},
     "output_type": "display_data"
    },
    {
     "data": {
      "text/plain": [
       "<function __main__.plot_income(**kwargs)>"
      ]
     },
     "execution_count": 6,
     "metadata": {},
     "output_type": "execute_result"
    }
   ],
   "source": [
    "interact(plot_income, sd=(1,400))"
   ]
  },
  {
   "cell_type": "code",
   "execution_count": 7,
   "metadata": {},
   "outputs": [
    {
     "data": {
      "application/vnd.jupyter.widget-view+json": {
       "model_id": "8ff13c886c304dba950c1a2b6bac9da6",
       "version_major": 2,
       "version_minor": 0
      },
      "text/plain": [
       "interactive(children=(IntSlider(value=400, description='sd', max=800, min=1), Output()), _dom_classes=('widget…"
      ]
     },
     "metadata": {},
     "output_type": "display_data"
    },
    {
     "data": {
      "text/plain": [
       "<function __main__.plot_both(**kwargs)>"
      ]
     },
     "execution_count": 7,
     "metadata": {},
     "output_type": "execute_result"
    }
   ],
   "source": [
    "interact(plot_both, sd=(1,800))"
   ]
  },
  {
   "cell_type": "code",
   "execution_count": null,
   "metadata": {},
   "outputs": [],
   "source": []
  }
 ],
 "metadata": {
  "kernelspec": {
   "display_name": "Python 3 (ipykernel)",
   "language": "python",
   "name": "python3"
  },
  "language_info": {
   "codemirror_mode": {
    "name": "ipython",
    "version": 3
   },
   "file_extension": ".py",
   "mimetype": "text/x-python",
   "name": "python",
   "nbconvert_exporter": "python",
   "pygments_lexer": "ipython3",
   "version": "3.11.4"
  },
  "vscode": {
   "interpreter": {
    "hash": "0d9db2acd79fc802845d33905a24c499b3c5b632a8047d75c602e59109c51bd3"
   }
  },
  "widgets": {
   "application/vnd.jupyter.widget-state+json": {
    "state": {
     "10d579f1c1094d0fbab31bc309df6b09": {
      "model_module": "@jupyter-widgets/controls",
      "model_module_version": "2.0.0",
      "model_name": "VBoxModel",
      "state": {
       "_dom_classes": [
        "widget-interact"
       ],
       "_model_module": "@jupyter-widgets/controls",
       "_model_module_version": "2.0.0",
       "_model_name": "VBoxModel",
       "_view_count": null,
       "_view_module": "@jupyter-widgets/controls",
       "_view_module_version": "2.0.0",
       "_view_name": "VBoxView",
       "box_style": "",
       "children": [
        "IPY_MODEL_7508124659bc4aef95ecc2a144eb269b",
        "IPY_MODEL_d0a6474aea564de49dc89849395145ef"
       ],
       "layout": "IPY_MODEL_3b81be1b681543049f0b8f76459d761e",
       "tabbable": null,
       "tooltip": null
      }
     },
     "10f7d2590c8643b4a05b12fdd3324cbb": {
      "model_module": "@jupyter-widgets/base",
      "model_module_version": "2.0.0",
      "model_name": "LayoutModel",
      "state": {
       "_model_module": "@jupyter-widgets/base",
       "_model_module_version": "2.0.0",
       "_model_name": "LayoutModel",
       "_view_count": null,
       "_view_module": "@jupyter-widgets/base",
       "_view_module_version": "2.0.0",
       "_view_name": "LayoutView",
       "align_content": null,
       "align_items": null,
       "align_self": null,
       "border_bottom": null,
       "border_left": null,
       "border_right": null,
       "border_top": null,
       "bottom": null,
       "display": null,
       "flex": null,
       "flex_flow": null,
       "grid_area": null,
       "grid_auto_columns": null,
       "grid_auto_flow": null,
       "grid_auto_rows": null,
       "grid_column": null,
       "grid_gap": null,
       "grid_row": null,
       "grid_template_areas": null,
       "grid_template_columns": null,
       "grid_template_rows": null,
       "height": null,
       "justify_content": null,
       "justify_items": null,
       "left": null,
       "margin": null,
       "max_height": null,
       "max_width": null,
       "min_height": null,
       "min_width": null,
       "object_fit": null,
       "object_position": null,
       "order": null,
       "overflow": null,
       "padding": null,
       "right": null,
       "top": null,
       "visibility": null,
       "width": null
      }
     },
     "2a56aeebc2764bbfb049cc71421cabfa": {
      "model_module": "@jupyter-widgets/controls",
      "model_module_version": "2.0.0",
      "model_name": "SliderStyleModel",
      "state": {
       "_model_module": "@jupyter-widgets/controls",
       "_model_module_version": "2.0.0",
       "_model_name": "SliderStyleModel",
       "_view_count": null,
       "_view_module": "@jupyter-widgets/base",
       "_view_module_version": "2.0.0",
       "_view_name": "StyleView",
       "description_width": "",
       "handle_color": null
      }
     },
     "3b81be1b681543049f0b8f76459d761e": {
      "model_module": "@jupyter-widgets/base",
      "model_module_version": "2.0.0",
      "model_name": "LayoutModel",
      "state": {
       "_model_module": "@jupyter-widgets/base",
       "_model_module_version": "2.0.0",
       "_model_name": "LayoutModel",
       "_view_count": null,
       "_view_module": "@jupyter-widgets/base",
       "_view_module_version": "2.0.0",
       "_view_name": "LayoutView",
       "align_content": null,
       "align_items": null,
       "align_self": null,
       "border_bottom": null,
       "border_left": null,
       "border_right": null,
       "border_top": null,
       "bottom": null,
       "display": null,
       "flex": null,
       "flex_flow": null,
       "grid_area": null,
       "grid_auto_columns": null,
       "grid_auto_flow": null,
       "grid_auto_rows": null,
       "grid_column": null,
       "grid_gap": null,
       "grid_row": null,
       "grid_template_areas": null,
       "grid_template_columns": null,
       "grid_template_rows": null,
       "height": null,
       "justify_content": null,
       "justify_items": null,
       "left": null,
       "margin": null,
       "max_height": null,
       "max_width": null,
       "min_height": null,
       "min_width": null,
       "object_fit": null,
       "object_position": null,
       "order": null,
       "overflow": null,
       "padding": null,
       "right": null,
       "top": null,
       "visibility": null,
       "width": null
      }
     },
     "458a124c242e4806a417948d5da63659": {
      "model_module": "@jupyter-widgets/base",
      "model_module_version": "2.0.0",
      "model_name": "LayoutModel",
      "state": {
       "_model_module": "@jupyter-widgets/base",
       "_model_module_version": "2.0.0",
       "_model_name": "LayoutModel",
       "_view_count": null,
       "_view_module": "@jupyter-widgets/base",
       "_view_module_version": "2.0.0",
       "_view_name": "LayoutView",
       "align_content": null,
       "align_items": null,
       "align_self": null,
       "border_bottom": null,
       "border_left": null,
       "border_right": null,
       "border_top": null,
       "bottom": null,
       "display": null,
       "flex": null,
       "flex_flow": null,
       "grid_area": null,
       "grid_auto_columns": null,
       "grid_auto_flow": null,
       "grid_auto_rows": null,
       "grid_column": null,
       "grid_gap": null,
       "grid_row": null,
       "grid_template_areas": null,
       "grid_template_columns": null,
       "grid_template_rows": null,
       "height": null,
       "justify_content": null,
       "justify_items": null,
       "left": null,
       "margin": null,
       "max_height": null,
       "max_width": null,
       "min_height": null,
       "min_width": null,
       "object_fit": null,
       "object_position": null,
       "order": null,
       "overflow": null,
       "padding": null,
       "right": null,
       "top": null,
       "visibility": null,
       "width": null
      }
     },
     "4faea6284d9345a38412e3cf8c53a4fd": {
      "model_module": "@jupyter-widgets/output",
      "model_module_version": "1.0.0",
      "model_name": "OutputModel",
      "state": {
       "_dom_classes": [],
       "_model_module": "@jupyter-widgets/output",
       "_model_module_version": "1.0.0",
       "_model_name": "OutputModel",
       "_view_count": null,
       "_view_module": "@jupyter-widgets/output",
       "_view_module_version": "1.0.0",
       "_view_name": "OutputView",
       "layout": "IPY_MODEL_10f7d2590c8643b4a05b12fdd3324cbb",
       "msg_id": "",
       "outputs": [
        {
         "data": {
          "image/png": "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",
          "text/plain": "<Figure size 1200x600 with 2 Axes>"
         },
         "metadata": {},
         "output_type": "display_data"
        }
       ],
       "tabbable": null,
       "tooltip": null
      }
     },
     "7508124659bc4aef95ecc2a144eb269b": {
      "model_module": "@jupyter-widgets/controls",
      "model_module_version": "2.0.0",
      "model_name": "IntSliderModel",
      "state": {
       "_dom_classes": [],
       "_model_module": "@jupyter-widgets/controls",
       "_model_module_version": "2.0.0",
       "_model_name": "IntSliderModel",
       "_view_count": null,
       "_view_module": "@jupyter-widgets/controls",
       "_view_module_version": "2.0.0",
       "_view_name": "IntSliderView",
       "behavior": "drag-tap",
       "continuous_update": true,
       "description": "sd",
       "description_allow_html": false,
       "disabled": false,
       "layout": "IPY_MODEL_982d149c13844123a56225e0436b16d4",
       "max": 400,
       "min": 1,
       "orientation": "horizontal",
       "readout": true,
       "readout_format": "d",
       "step": 1,
       "style": "IPY_MODEL_2a56aeebc2764bbfb049cc71421cabfa",
       "tabbable": null,
       "tooltip": null,
       "value": 200
      }
     },
     "8ff13c886c304dba950c1a2b6bac9da6": {
      "model_module": "@jupyter-widgets/controls",
      "model_module_version": "2.0.0",
      "model_name": "VBoxModel",
      "state": {
       "_dom_classes": [
        "widget-interact"
       ],
       "_model_module": "@jupyter-widgets/controls",
       "_model_module_version": "2.0.0",
       "_model_name": "VBoxModel",
       "_view_count": null,
       "_view_module": "@jupyter-widgets/controls",
       "_view_module_version": "2.0.0",
       "_view_name": "VBoxView",
       "box_style": "",
       "children": [
        "IPY_MODEL_bcebbc4ca49d48c8a7cc5afa547baa16",
        "IPY_MODEL_4faea6284d9345a38412e3cf8c53a4fd"
       ],
       "layout": "IPY_MODEL_458a124c242e4806a417948d5da63659",
       "tabbable": null,
       "tooltip": null
      }
     },
     "982d149c13844123a56225e0436b16d4": {
      "model_module": "@jupyter-widgets/base",
      "model_module_version": "2.0.0",
      "model_name": "LayoutModel",
      "state": {
       "_model_module": "@jupyter-widgets/base",
       "_model_module_version": "2.0.0",
       "_model_name": "LayoutModel",
       "_view_count": null,
       "_view_module": "@jupyter-widgets/base",
       "_view_module_version": "2.0.0",
       "_view_name": "LayoutView",
       "align_content": null,
       "align_items": null,
       "align_self": null,
       "border_bottom": null,
       "border_left": null,
       "border_right": null,
       "border_top": null,
       "bottom": null,
       "display": null,
       "flex": null,
       "flex_flow": null,
       "grid_area": null,
       "grid_auto_columns": null,
       "grid_auto_flow": null,
       "grid_auto_rows": null,
       "grid_column": null,
       "grid_gap": null,
       "grid_row": null,
       "grid_template_areas": null,
       "grid_template_columns": null,
       "grid_template_rows": null,
       "height": null,
       "justify_content": null,
       "justify_items": null,
       "left": null,
       "margin": null,
       "max_height": null,
       "max_width": null,
       "min_height": null,
       "min_width": null,
       "object_fit": null,
       "object_position": null,
       "order": null,
       "overflow": null,
       "padding": null,
       "right": null,
       "top": null,
       "visibility": null,
       "width": null
      }
     },
     "ad9fa00d7d234a498c318247b5d741d5": {
      "model_module": "@jupyter-widgets/base",
      "model_module_version": "2.0.0",
      "model_name": "LayoutModel",
      "state": {
       "_model_module": "@jupyter-widgets/base",
       "_model_module_version": "2.0.0",
       "_model_name": "LayoutModel",
       "_view_count": null,
       "_view_module": "@jupyter-widgets/base",
       "_view_module_version": "2.0.0",
       "_view_name": "LayoutView",
       "align_content": null,
       "align_items": null,
       "align_self": null,
       "border_bottom": null,
       "border_left": null,
       "border_right": null,
       "border_top": null,
       "bottom": null,
       "display": null,
       "flex": null,
       "flex_flow": null,
       "grid_area": null,
       "grid_auto_columns": null,
       "grid_auto_flow": null,
       "grid_auto_rows": null,
       "grid_column": null,
       "grid_gap": null,
       "grid_row": null,
       "grid_template_areas": null,
       "grid_template_columns": null,
       "grid_template_rows": null,
       "height": null,
       "justify_content": null,
       "justify_items": null,
       "left": null,
       "margin": null,
       "max_height": null,
       "max_width": null,
       "min_height": null,
       "min_width": null,
       "object_fit": null,
       "object_position": null,
       "order": null,
       "overflow": null,
       "padding": null,
       "right": null,
       "top": null,
       "visibility": null,
       "width": null
      }
     },
     "bcebbc4ca49d48c8a7cc5afa547baa16": {
      "model_module": "@jupyter-widgets/controls",
      "model_module_version": "2.0.0",
      "model_name": "IntSliderModel",
      "state": {
       "_dom_classes": [],
       "_model_module": "@jupyter-widgets/controls",
       "_model_module_version": "2.0.0",
       "_model_name": "IntSliderModel",
       "_view_count": null,
       "_view_module": "@jupyter-widgets/controls",
       "_view_module_version": "2.0.0",
       "_view_name": "IntSliderView",
       "behavior": "drag-tap",
       "continuous_update": true,
       "description": "sd",
       "description_allow_html": false,
       "disabled": false,
       "layout": "IPY_MODEL_ad9fa00d7d234a498c318247b5d741d5",
       "max": 800,
       "min": 1,
       "orientation": "horizontal",
       "readout": true,
       "readout_format": "d",
       "step": 1,
       "style": "IPY_MODEL_c31ffe8302cc4584a715812a1c71487e",
       "tabbable": null,
       "tooltip": null,
       "value": 400
      }
     },
     "bece5fb63fec4726a2f7237f23b36159": {
      "model_module": "@jupyter-widgets/base",
      "model_module_version": "2.0.0",
      "model_name": "LayoutModel",
      "state": {
       "_model_module": "@jupyter-widgets/base",
       "_model_module_version": "2.0.0",
       "_model_name": "LayoutModel",
       "_view_count": null,
       "_view_module": "@jupyter-widgets/base",
       "_view_module_version": "2.0.0",
       "_view_name": "LayoutView",
       "align_content": null,
       "align_items": null,
       "align_self": null,
       "border_bottom": null,
       "border_left": null,
       "border_right": null,
       "border_top": null,
       "bottom": null,
       "display": null,
       "flex": null,
       "flex_flow": null,
       "grid_area": null,
       "grid_auto_columns": null,
       "grid_auto_flow": null,
       "grid_auto_rows": null,
       "grid_column": null,
       "grid_gap": null,
       "grid_row": null,
       "grid_template_areas": null,
       "grid_template_columns": null,
       "grid_template_rows": null,
       "height": null,
       "justify_content": null,
       "justify_items": null,
       "left": null,
       "margin": null,
       "max_height": null,
       "max_width": null,
       "min_height": null,
       "min_width": null,
       "object_fit": null,
       "object_position": null,
       "order": null,
       "overflow": null,
       "padding": null,
       "right": null,
       "top": null,
       "visibility": null,
       "width": null
      }
     },
     "c31ffe8302cc4584a715812a1c71487e": {
      "model_module": "@jupyter-widgets/controls",
      "model_module_version": "2.0.0",
      "model_name": "SliderStyleModel",
      "state": {
       "_model_module": "@jupyter-widgets/controls",
       "_model_module_version": "2.0.0",
       "_model_name": "SliderStyleModel",
       "_view_count": null,
       "_view_module": "@jupyter-widgets/base",
       "_view_module_version": "2.0.0",
       "_view_name": "StyleView",
       "description_width": "",
       "handle_color": null
      }
     },
     "d0a6474aea564de49dc89849395145ef": {
      "model_module": "@jupyter-widgets/output",
      "model_module_version": "1.0.0",
      "model_name": "OutputModel",
      "state": {
       "_dom_classes": [],
       "_model_module": "@jupyter-widgets/output",
       "_model_module_version": "1.0.0",
       "_model_name": "OutputModel",
       "_view_count": null,
       "_view_module": "@jupyter-widgets/output",
       "_view_module_version": "1.0.0",
       "_view_name": "OutputView",
       "layout": "IPY_MODEL_bece5fb63fec4726a2f7237f23b36159",
       "msg_id": "",
       "outputs": [
        {
         "data": {
          "image/png": "iVBORw0KGgoAAAANSUhEUgAAArEAAAH0CAYAAAAqp3VvAAAAOXRFWHRTb2Z0d2FyZQBNYXRwbG90bGliIHZlcnNpb24zLjcuMiwgaHR0cHM6Ly9tYXRwbG90bGliLm9yZy8pXeV/AAAACXBIWXMAABJ0AAASdAHeZh94AABR+UlEQVR4nO3de1xUdf7H8fcwwzAwAyqieEELTCytvJHWYma1mZldt+y2ZpoZXTa3zGr7rWv3XN3SrbQ2tVq7a7lZaZnVquEtxTQt8wII4l0QuTPAnN8fKOuIlxGQmQOv5+PBA/2ec+Z85vM4M7w5fOcci2EYhgAAAAATCfJ3AQAAAMCpIsQCAADAdAixAAAAMB1CLAAAAEyHEAsAAADTIcQCAADAdAixAAAAMB1CLAAAAEyHEAsAAADTIcQCAADAdAixAAAAMJ2AC7GzZs3S1VdfrW7duumqq67S+++/L8MwqpZnZGQoKSlJCQkJ6t27t8aNG6eCggI/VgwAAID6ZvN3AUeaPXu2xo4dqyFDhujyyy/X6tWr9eyzz6q0tFTDhw9XXl6ehg4dqqioKI0fP145OTmaOHGisrKyNGPGDH+XDwAAgHoSUCH2008/Vc+ePfXXv/5VknTRRRcpPT1d7733noYPH64PP/xQubm5mjNnjiIjIyVJ0dHRGjlypFJSUtSzZ09/lg8AAIB6ElDTCUpLS+VyubzGmjZtqtzcXElScnKyevbsWRVgJalPnz5yOp1asmRJfZYKAAAAPwqoEHvnnXcqOTlZc+fOVX5+vn744Qf95z//0XXXXSdJSk1NVWxsrNc2VqtVMTExSk9P90fJAAAA8IOAmk5w9dVX68cff9Rjjz1WNdanTx89+eSTkqT8/Hw5nc5q2zmdzhp9uKu8vFz5+fmy2+0KCgqoPA8AABDwPB6P3G63wsPDZbPVb6wMqBB7//33KyUlRWPGjNH555+vzZs369VXX9WoUaM0ZcoUr6sUHM1isZzy/vLz85WWllabkgEAABq9uLg4NWvWrF73GTAhds2aNfrhhx/03HPP6eabb5Yk9erVS+3atdPIkSO1aNEiuVwuFRYWVtu2oKBA0dHRp7xPu90uqfLDYcc6w4tKbrdbWVlZiomJqeoZjo1e+YY++YY++Y5e+YY++Y5e+aawsFB79uzxS48CJsTu3LlTktSjRw+v8YSEBEnSli1bFBsbq8zMTK/lFRUVysrKUv/+/U95n4enEDidznr/7cFMiouLJUkREREKDQ31czWBjV75hj75hj75jl75hj75jl6dGn9MywyYiaBxcXGSpNWrV3uNr1mzRpLUrl07JSYmatWqVcrJyalanpycrKKiIiUmJtZfsQAAAPCrgDkT27lzZ1155ZUaP368Dh48qK5du2rr1q169dVX1aVLF11xxRXq3bu33nvvPQ0bNkwPPvigcnNzNXHiRPXt27faGVwAAAA0XAETYiXpH//4h15//XV99NFHeuWVV9SmTRvdeOONeuCBB2Sz2RQZGamZM2fqhRde0KOPPiqn06kBAwZ4Xc0AAAAADV9AhVi73a5Ro0Zp1KhRx10nPj5e77zzTv0VBQAAgIATMHNiAQAAAF8RYgEAAGA6hFgAAACYDiEWAAAApkOIBQAAgOkQYgEAAGA6hFgAAACYDiEWAAAApkOIBQAAgOkQYgEAAGA6hFgAAACYDiEWAAAApkOIBQAAgOkQYgEAAGA6hFgAAACYDiEWAAAApkOIBQAAgOkQYgEAAGA6hFgAAACYDiEWAAAApkOIBQAAgOkQYgEAAGA6hFgAAACYDiEWAAAApkOIBQAAgOkQYgEAAGA6hFgAAACYDiEWAAAApkOIBQAAgOkQYgEAAGA6hFgAAACYDiEWAAAApkOIBQAAgOkQYgEAAGA6hFgAAACYDiEWAAAApkOIBQAAgOkQYgEAAGA6hFgAAACYDiEWAAAApkOIBQAAgOkQYgEAAGA6Nn8XcNjKlSt15513Hnf5n/70Jz344IPKyMjQiy++qNWrV8tqtWrAgAEaM2aMXC5XPVYLAAAAfwqYENulSxd9/PHH1cYnT56s9evX6+qrr1ZeXp6GDh2qqKgojR8/Xjk5OZo4caKysrI0Y8YMP1QNAAAAfwiYEOtyudStWzevse+++07Lly/XP//5T8XGxupf//qXcnNzNWfOHEVGRkqSoqOjNXLkSKWkpKhnz55+qBwAAAD1LWDnxJaUlOi5555Tv379NGDAAElScnKyevbsWRVgJalPnz5yOp1asmSJv0oFAABAPQvYEDtz5kzt2bNHTz75ZNVYamqqYmNjvdazWq2KiYlRenp6fZcIAAAAPwmY6QRHcrvdmjlzpgYOHKgzzjijajw/P19Op7Pa+k6nUwUFBbXaX3FxcY23b+hKSkq8vuP46JVv6JNv6JPv6JVv6JPv6JVv3G633/YdkCF2wYIF2rdvn0aMGOE1bhjGcbexWCw13l9WVlaNt21M0tLS/F2CadAr39An39An39Er39An39GrwBWwIbZjx446++yzvcZdLpcKCwurrV9QUKDo6Oga7y8mJkYRERE13r6hKykpUVpamuLi4uRwOPxdTkCjV76hT76hT76jV76hT76jV77Jy8vz28nAgAuxZWVlSk5OrnYWVpJiY2OVmZnpNVZRUaGsrCz179+/xvu02+0KDQ2t8faNhcPhoE8+ole+oU++oU++o1e+oU++o1cn5s/pFgH3wa7NmzeruLj4mJfLSkxM1KpVq5STk1M1lpycrKKiIiUmJtZnmQAAAPCjgAyxktShQ4dqy26//XaFhIRo2LBhWrhwoWbPnq0xY8aob9++6tGjR32XCgAAAD8JuBC7f/9+SVKTJk2qLYuMjNTMmTPVrFkzPfroo5o0aZIGDBigSZMm1XeZAAAA8KOAmxN7zz336J577jnu8vj4eL3zzjv1VxAAAAACTsCdiQUAAABOhhALAAAA0yHEAgAAwHQIsQAAADAdQiwAAABMhxALAAAA0yHEAgAAwHQIsQAAADAdQiwAAABMhxALAAAA0yHEAgAAwHQIsQAAADAdQiwAAABMhxALAAAA0yHEAgAAwHQIsQAAADAdQiwAAABMhxALAAAA0yHEAgAAwHQIsQAAADAdQiwAAABMhxALAAAA0yHEAgAAwHQIsQAAADAdQiwAAABMhxALAAAA0yHEAgAAwHQIsQAAADAdQiwAAABMhxALAAAA0yHEAgAAwHQIsQAAADAdQiwAAABMhxALAAAA0yHEAgAAwHQIsQAAADAdQiwAAABMhxALAAAA0yHEAgAAwHQIsQAAADAdQiwAAABMhxALAAAA0yHEAgAAwHQCLsSuXbtWQ4YMUbdu3fS73/1Ojz/+uLKzs6uWZ2RkKCkpSQkJCerdu7fGjRungoICP1YMAACA+hZQIXbDhg2688475XQ69dprr+nRRx/V0qVL9cADD0iS8vLyNHToUO3fv1/jx4/X6NGjNX/+fI0aNcrPlQMAAKA+2fxdwJEmTpyozp07a+rUqQoKqszXLpdLzz//vLZv36758+crNzdXc+bMUWRkpCQpOjpaI0eOVEpKinr27OnP8gEAAFBPAuZM7IEDB/Tjjz/qtttuqwqwktS/f38tXrxY7dq1U3Jysnr27FkVYCWpT58+cjqdWrJkiT/KBgAAgB8ETIjdtGmTPB6PIiMjNXr0aHXv3l3du3fXY489pry8PElSamqqYmNjvbazWq2KiYlRenq6P8oGAACAHwTMdIKcnBxJ0pNPPqm+fftq6tSp2rZtm15++WVt375dH3zwgfLz8+V0Oqtt63Q6a/XhLrfbreLi4hpv39CVlJR4fcfx0Svf0Cff0Cff0Svf0Cff0SvfuN1uv+07YEJsWVmZJKlLly56/vnnJUkXXXSRIiIi9Mgjj2jp0qUyDOO421sslhrvOysrq8bbNiZpaWn+LsE06JVv6JNv6JPv6JVv6JPv6FXgCpgQe/gM66WXXuo1fvHFF0uSfv31V7lcLhUWFlbbtqCgQNHR0TXed0xMjCIiImq8fUNXUlKitLQ0xcXFyeFw+LucgEavfEOffEOffEevfEOffEevfJOXl+e3k4EBE2LPPPNMSdVPS5eXl0uSHA6HYmNjlZmZ6bW8oqJCWVlZ6t+/f433bbfbFRoaWuPtGwuHw0GffESvfEOffEOffEevfEOffEevTsyf0y0C5oNdHTp0UNu2bTVv3jyvaQPfffedJCkhIUGJiYlatWpV1fxZSUpOTlZRUZESExPrvWYAAAD4R8CEWIvFoscee0xr167Vww8/rGXLlmnmzJl64YUXdOWVV6pz5866/fbbFRISomHDhmnhwoWaPXu2xowZo759+6pHjx7+fgoAAACoJwEznUCSBgwYoNdff11TpkzRvffeqyZNmujWW2/Vww8/LEmKjIysCraPPvqonE6nBgwYoMcee8zPlQMAAKA+BVSIlSo/2HX0h7uOFB8fr3feeaf+CgIAAEDACZjpBAAAAICvCLEAAAAwHUIsAAAATIcQCwAAANMhxAIAAMB0CLEAAAAwHUIsAAAATIcQCwAAANMhxAIAAMB0CLEAAAAwHUIsAAAATIcQCwAAANMhxAIAAMB0CLEAAAAwHUIsAAAATIcQCwAAANMhxAIAAMB0CLEAAAAwHUIsAAAATIcQCwAAANMhxAIAAMB0CLEAAAAwHUIsAAAATIcQCwAAANMhxAIAAMB0CLEAAAAwHUIsAAAATIcQCwAAANMhxAIAAMB0CLEAAAAwHUIsAAAATIcQCwAAANMhxAIAAMB0CLEAAAAwHUIsAAAATIcQCwAAANMhxAIAAMB0CLEAAAAwHUIsAAAATIcQCwAAANMhxAIAAMB0CLEAAAAwHZu/CzhSaWmpevToofLycq/xsLAw/fTTT5Kk9evXa8KECdqwYYOcTqduvPFGPfjgg7Lb7f4oGQAAAH4QUCF28+bNKi8v18SJE9W+ffuq8aCgyhPG27dv17Bhw9StWzdNnjxZqampmjRpknJzc/XMM8/4q2wAAADUs4AKsb/99ptsNpsGDBhwzDOr06ZNk9Pp1NSpU2W323XJJZfI4XDo2WefVVJSktq0aeOHqgEAAFDfAmpO7MaNGxUXF3fcqQHJycm65JJLvJYPGDBAHo9HycnJ9VUmAAAA/CzgQqzVatXw4cPVrVs39erVS3/7299UUFCgkpIS7dixQ7GxsV7bREZGyuVyKT093U9VAwAAoL4FzHQCwzC0adMmGYahm2++Wffdd5/Wr1+v1157TVu3btWkSZMkSS6Xq9q2TqdTBQUFNd632+1WcXFxjbdv6EpKSry+4/jolW/ok2/ok+/olW/ok+/olW/cbrff9h1QIfb1119XZGSkOnbsKEm64IILFBUVpTFjxmjlypUn3N5isdR431lZWTXetjFJS0vzdwmmQa98Q598Q598R698Q598R68CV8CE2KCgIPXu3bvaeL9+/ST9L2gWFhZWW6egoEDh4eE13ndMTIwiIiJqvH1DV1JSorS0NMXFxcnhcPi7nIBGr3xDn3xDn3xHr3xDn3xHr3yTl5fnt5OBARNi9+zZo8WLF6tPnz5eVxk4fBq/RYsWio6OVkZGhtd22dnZKiwsVIcOHWq8b7vdrtDQ0Bpv31g4HA765CN65Rv65Bv65Dt65Rv65Dt6dWL+nG4RMB/sqqio0NixY/Xxxx97jc+fP19Wq1UJCQlKTEzUokWLvOZfLFiwQFarVRdeeGF9lwwAAAA/CZgzsW3atNGNN96oGTNmKCQkRN27d1dKSoreeOMN3XHHHYqNjdWIESM0b948jRgxQsOGDdO2bdv08ssva/DgwVwjFgAAoBEJmBArSU8//bTatWunuXPn6vXXX1erVq300EMPacSIEZKkDh066K233tKECRP00EMPqVmzZrrrrrv00EMP+blyAAAA1KeACrF2u13333+/7r///uOuk5CQoFmzZtVjVQAAAAg0ATMnFgAAAPAVIRYAAACmQ4gFAACA6RBiAQAAYDqEWAAAAJgOIRYAAACmQ4gFAACA6RBiAQAAYDqEWAAAAJgOIRYAAACmQ4gFAACA6RBiAQAAYDq1CrFffvml3G53XdUCAAAA+KRWIfaxxx5TYmKinnrqKf388891VRMAAABwQrUKsd9//72GDx+uFStW6JZbbtHAgQM1Y8YM7du3r67qAwAAAKqpVYht1aqV7rvvPn399dd6//33lZCQoGnTpunSSy9VUlKSvvnmG5WXl9dVrQAAAIAkyVZXD9SjRw/16NFDN998syZMmKBFixZp0aJFioqK0tChQzV8+HBZrda62h0AAAAasToJsTt27NDcuXM1d+5cZWZmqn379nrkkUfUr18/LVq0SFOmTNHWrVv197//vS52BwAAgEauViF29uzZmjt3rtasWaOQkBANGDBAzz//vBISEqrWiY+P14EDB/TRRx8RYgEAAFAnahVix44dq65du+qpp57SwIED5XK5jrlep06ddMstt9RmVwAAAECVWoXYL7/8UmeddZYqKiqq5ruWlJSorKxM4eHhVetdf/31tSoSAAAAOFKtrk5w5plnaty4cRo8eHDV2Jo1a3TRRRfp73//uzweT60LBAAAAI5WqxD7yiuv6PPPP9egQYOqxjp37qxHH31Us2bN0vTp02tdIAAAAHC0Wk0n+OKLL/T444/r1ltvrRpr2rSp7rrrLtlsNs2cOVMjR46sdZEAAADAkWp1JvbAgQNq167dMZfFxcVp9+7dtXl4AAAA4JhqFWLj4uK0YMGCYy77/vvvdcYZZ9Tm4QEAAIBjqtV0gjvvvFNPPPGEcnNz9fvf/17NmzdXTk6O/vvf/+qrr77Siy++WFd1AgAAAFVqFWKvv/56FRYWaurUqfrmm2+qxps1a6axY8dyaS0AAACcFrW+7ewdd9yh22+/Xenp6crNzVVERITi4uIUFFSrmQoAAADAcdU6xEqSxWJRXFxcXTwUAAAAcFK1CrE5OTl6/vnntWjRIhUXF8swDK/lFotFv/76a60KBAAAAI5WqxD7zDPP6L///a+uvvpqtWrViikEAAAAqBe1CrFLlizRk08+qVtuuaWu6gEAAABOqlanToODg497swMAAADgdKlViL3iiiv05Zdf1lUtAAAAgE9qNZ2gc+fOmjx5srZv366uXbvK4XB4LbdYLHrggQdqVSAAAABwtFp/sEuSVq1apVWrVlVbTogFAADA6VCrEPvbb7/VVR0AAACAz+rsmlj5+flKTU2V2+1WRUVFXT0sAAAAUE2tQ+zKlSt18803q1evXrrmmmu0ZcsWjR49WuPHj6+L+gAAAIBqahVily9frrvvvlsOh0OPPvpo1R27zj77bM2cOVNvv/12nRQJAAAAHKlWIXby5Mm6/PLL9e6772ro0KFVITYpKUkjRozQ7Nmz66RIAAAA4Ei1CrEbN27UH/7wB0mVVyI4UmJionbs2FGbhwcAAACOqVYhNjw8XPv27Tvmsl27dik8PLw2D68HH3xQl112mddYRkaGkpKSlJCQoN69e2vcuHEqKCio1X4AAABgLrUKsZdffrkmTZqk9evXV41ZLBbt3r1bb7zxhvr161fjx547d64WLlzoNZaXl6ehQ4dq//79Gj9+vEaPHq358+dr1KhRNd4PAAAAzKdW14kdPXq01q1bp8GDBysqKkqS9Mgjj2j37t1q3bq1HnnkkRo97p49e/T888+rVatWXuMffvihcnNzNWfOHEVGRkqSoqOjNXLkSKWkpKhnz561eToAAAAwiVqF2CZNmmj27Nn67LPPtGLFCuXm5io8PFxDhgzRjTfeqNDQ0Bo97l//+lclJiYqJCREP/74Y9V4cnKyevbsWRVgJalPnz5yOp1asmQJIRYAAKCRqFWIlSS73a7Bgwdr8ODBdVGPZs+erV9++UVffvmlJkyY4LUsNTVVAwcO9BqzWq2KiYlRenp6newfAAAAga9WIfazzz476TrXX3+9z4+3Y8cOvfjii3rxxRe9zrYelp+fL6fTWW3c6XTW6sNdbrdbxcXFNd6+oSspKfH6juOjV76hT76hT76jV76hT76jV75xu91+23etQuwTTzxxzHGLxSKr1Sqr1epziDUMQ08++aQuueQSXXnllcdd53iOvsTXqcjKyqrxto1JWlqav0swDXrlG/rkG/rkO3rlG/rkO3oVuGoVYr/77rtqY0VFRVq9erWmTZumKVOm+PxY77//vjZt2qQvvvhC5eXlkv4XWsvLyxUUFCSXy6XCwsJq2xYUFCg6OrqGz0KKiYlRREREjbdv6EpKSpSWlqa4uDg5HA5/lxPQ6JVv6JNv6JPv6JVv6JPv6JVv8vLy/HYysFYhtm3btscc79ixo8rKyvTss8/qgw8+8OmxFixYoAMHDqhPnz7VlnXp0kUPPvigYmNjlZmZ6bWsoqJCWVlZ6t+//6k/gUPsdnuNP4TWmDgcDvrkI3rlG/rkG/rkO3rlG/rkO3p1Yv6cblHrD3YdT6dOnfTSSy/5vP7TTz9d7SzrlClTtGHDBr3++utq2bKlLBaLZsyYoZycnKo5s8nJySoqKlJiYmKd1g8AAIDAdVpCrNvt1ieffKLmzZv7vE1cXFy1saZNm8put+u8886TJN1+++167733NGzYMD344IPKzc3VxIkT1bdvX/Xo0aPO6gcAAEBgq1WIveyyy6p9oMrj8ejAgQMqLS3V448/XqvijhYZGamZM2fqhRde0KOPPiqn06kBAwboscceq9P9AAAAILDVKsT26tXrmFcFcLlcuvTSS/W73/2uNg+v8ePHVxuLj4/XO++8U6vHBQAAgLnVKsQeK2QCAAAAp1utQuzOnTtPaf02bdrUZncAAACApNMwJ/ZENm7cWJvdAQAAAJJqGWInT56scePGqUuXLrr22msVHR2tAwcO6Pvvv9dXX32l++6777jXkgUAAABqqlYhdu7cubr00kurzY0dOHCgmjdvrjVr1ujBBx+sVYEAAADA0YJqs/Hy5cs1aNCgYy7r27evUlJSavPwAAAAwDHVKsQ2a9ZM69atO+ay5cuXKzo6ujYPDwAAABxTraYT3HTTTXr99ddVXFysyy67TJGRkdq/f7++/vprffjhhxo7dmxd1QkAAABUqVWIvf/++5Wfn6933nlHM2bMkCQZhqHQ0FA9/PDDuvXWW+ukSAAAAOBItQqxFotFTzzxhO6//36tXbtWBw8eVLNmzdStWze5XK66qhEAAADwUqsQe5jL5VLLli0lSd26dVN5eXldPCwAAABwTLUOsXPnztVLL72kffv2yWKxaPbs2Xr11VcVHBysl156SXa7vS7qBAAAAKrU6uoE8+fP1+OPP64LL7xQL7/8sjwejyTpiiuu0OLFizV16tQ6KRIAAAA4Uq3OxL7xxhu69dZb9dRTT6mioqJq/A9/+INycnI0a9Ys/fnPf65tjQAAAICXWp2JTU9P1xVXXHHMZV27dtWePXtq8/AAAADAMdUqxDZv3lypqanHXJaamqrmzZvX5uEBAACAY6pViB04cKBeeeUVff3113K73ZIqL7u1YcMGTZ06VQMGDKiTIgEAAIAj1WpO7J///Gdt3rxZf/7znxUUVJmHhwwZoqKiIiUkJGjUqFF1UiQAAABwpFqFWLvdrunTp2vp0qVasWKFcnNzFR4erl69eumSSy6RxWKpqzoBAACAKrUKsXfffbdGjBihxMREJSYm1lVNAAAAwAnVak7smjVrONsKAACAelerEHvxxRfr888/V1lZWV3VAwAAAJxUraYThISE6PPPP9dXX32lDh06KCwszGu5xWLRv//971oVCAAAABytViF29+7d6t69e9X/DcPwWn70/wEAAIC6cMoh9ptvvtGFF16oiIgIvfvuu6ejJgAAAOCETnlO7KhRo7Rt2zavsWnTpik7O7uuagIAAABO6JRD7NFTBCoqKvTyyy9r9+7ddVYUAAAAcCK1ujrBYcx9BQAAQH2qkxALAAAA1CdCLAAAAEynzkIsd+4CAABAfanRdWIfeOAB2e12r7GkpCQFBwd7jVksFn377bc1rw4AAAA4hlMOsTfccMPpqAMAAADw2SmH2BdffPF01AEAAAD4jA92AQAAwHQIsQAAADAdQiwAAABMhxALAAAA0yHEAgAAwHQIsQAAADAdQiwAAABMhxALAAAA0wmoEOvxeDRjxgz1799f559/vq699lp9/vnnXuusX79eQ4YMUffu3dWnTx+9/PLLcrvdfqoYAAAA/nDKd+w6nf75z39qxowZeuihh3Teeedp8eLFGjNmjIKCgjRo0CBt375dw4YNU7du3TR58mSlpqZq0qRJys3N1TPPPOPv8gEAAFBPAibEFhcXa+bMmRoyZIhGjhwpSbrooov0yy+/6N1339WgQYM0bdo0OZ1OTZ06VXa7XZdccokcDoeeffZZJSUlqU2bNn5+FgAAAKgPATOdwG6368MPP9Tw4cO9xoODg1VaWipJSk5O1iWXXCK73V61fMCAAfJ4PEpOTq7XegEAAOA/AXMm1mq16uyzz5YkGYah7OxszZkzR8uWLdMzzzyjkpIS7dixQ7GxsV7bRUZGyuVyKT093R9lAwAAwA8CJsQead68eRo9erQkqV+/frr22muVn58vSXK5XNXWdzqdKigoqPH+3G63iouLa7x9Q1dSUuL1HcdHr3xDn3xDn3xHr3xDn3xHr3zjzw/XB2SIPf/88/Xee+9p06ZN+uc//6kRI0bopZdeOuE2FoulxvvLysqq8baNSVpamr9LMA165Rv65Bv65Dt65Rv65Dt6FbgCMsS2b99e7du31wUXXCCXy6XHH39cmZmZkqTCwsJq6xcUFCg8PLzG+4uJiVFERESNt2/oSkpKlJaWpri4ODkcDn+XE9DolW/ok2/ok+/olW/ok+/olW/y8vL8djIwYEJsTk6OlixZoosvvljNmzevGu/cubMkae/evYqOjlZGRobXdtnZ2SosLFSHDh1qvG+73a7Q0NAab99YOBwO+uQjeuUb+uQb+uQ7euUb+uQ7enVi/pxuETBXJygpKdHjjz+uTz75xGt86dKlkqROnTopMTFRixYt8pp/sWDBAlmtVl144YX1Wi8AAAD8J2DOxLZp00Z/+MMfNGXKFNlsNnXu3FmrV6/Wm2++qZtuuklnnXWWRowYoXnz5mnEiBEaNmyYtm3bppdfflmDBw/mGrEAAACNSMCEWEl66qmn1K5dO82aNUs7duxQ69at9dBDD+nuu++WJHXo0EFvvfWWJkyYoIceekjNmjXTXXfdpYceesjPlQMAAKA+BVSItdvtuu+++3Tfffcdd52EhATNmjWrHqsCAABAoAmYObEAAACArwixAAAAMB1CLAAAAEyHEAsAAADTIcQCAADAdAixAAAAMB1CLAAAAEyHEAsAAADTIcQCAADAdAixAAAAMB1CLAAAAEyHEAsAAADTIcQCAADAdAixAAAAMB1CLAAAAEyHEAsAAADTIcQCAADAdAixAAAAMB1CLAAAAEyHEAsAAADTIcQCAADAdAixAAAAMB1CLAAAAEyHEAsAAADTIcQCAADAdAixAAAAMB1CLAAAAEyHEAsAAADTIcQCAADAdAixAAAAMB1CLAAAAEyHEAsAAADTIcQCAADAdAixAAAAMB1CLAAAAEyHEAsAAADTIcQCAADAdAixAAAAMB1CLAAAAEyHEAsAAADTIcQCAADAdAixAAAAMB1CLAAAAEwnoEKsx+PRhx9+qGuuuUbdu3fX5ZdfrhdeeEEFBQVV62RkZCgpKUkJCQnq3bu3xo0b57UcAAAADZ/N3wUcafr06Zo8ebLuvvtuXXTRRUpPT9crr7yiLVu26K233lJ+fr6GDh2qqKgojR8/Xjk5OZo4caKysrI0Y8YMf5cPAACAehIwIdbj8WjatGm65ZZbNHr0aEnS7373OzVr1kwPP/ywNmzYoGXLlik3N1dz5sxRZGSkJCk6OlojR45USkqKevbs6c+nAAAAgHoSMNMJCgoKdN1112nQoEFe43FxcZKk7du3Kzk5WT179qwKsJLUp08fOZ1OLVmypF7rBQAAgP8EzJnYiIgI/fWvf602/u2330qSzjrrLKWmpmrgwIFey61Wq2JiYpSenl7jfbvdbhUXF9d4+4aupKTE6zuOj175hj75hj75jl75hj75jl75xu12+23fARNij2XdunV68803demllyo+Pl75+flyOp3V1nM6nbX6cFdWVlZtymw00tLS/F2CadAr39An39An39Er39An39GrwBWwITYlJUVJSUmKiYnRiy++KEkyDOO461sslhrvKyYmRhERETXevqErKSlRWlqa4uLi5HA4/F1OQKNXvqFPvqFPvqNXvqFPvqNXvsnLy/PbycCADLHz58/XE088oTPPPFPTp09Xs2bNJEkul0uFhYXV1i8oKFB0dHSN92e32xUaGlrj7RsLh8NBn3xEr3xDn3xzsj7tzS9R8pb9WrJ5n5K37lerCIeevu5c9TyjWT1WGRg4pnxDn3xHr07Mn9MtAi7EzpgxQxMnTlSvXr00ZcoUhYeHVy2LjY1VZmam1/oVFRXKyspS//7967tUAPCLkrIKrd52QEu27NOSzfv02+78qmWhwVb9sitPN72+TLf1bq/HrzxbTcKC/VgtAJweARViP/roI02YMEEDBw7U3//+d9ntdq/liYmJmjFjhnJycqquUJCcnKyioiIlJib6o2QAOO0Mw9DmPflasnmflmzZr5Vp2Sot90iSgq0WRbnsahIarCahwbLbglTsrlD6/kJ9sDJTX2/Yrb8N6qzrurWp1bQrAAg0ARNi9+3bpxdffFFt27bVHXfcoV9//dVrefv27XX77bfrvffe07Bhw/Tggw8qNzdXEydOVN++fdWjRw8/VQ4AdS+n0K3vf9mteWsOasNXS7WvoPITwEEWyeWwKToiRE1CgxVmt1YLp6F2q85pHa79BW5l5hTpzx+v1ScpWXr2+nMVG1X9w7EAYEYBE2IXL16skpIS7dixQ3fccUe15S+++KJuvPFGzZw5Uy+88IIeffRROZ1ODRgwQI899pgfKgaAulHkLte2/UVK31+oDTsPKnnLPm3YkafDH2UNDQ5Sq4gQNQ0LVrgjWNagk59RtVgsahFeuU1mTpGSt+7XlZOW6IFLz1JSvziF2Kyn90kBwGkWMCH2pptu0k033XTS9eLj4/XOO++c/oIAoA6VV3iUdaBY6fsLlba/UOn7C5S+v1Cpewu1O8/7gxHBVosinXZFOKwKNsrVNMKpoKCa3Zsm2BqkDi1cauEq07bsIk36drM+W7tDz99wrn7XIaounhoA+EXAhFgAMDvDMLQvv/RQSK38SttXGVgzsotU7vG+TKA1yCKHLUjNnXY5goMUarcqNNhaNUXA4/GosLCiTmqLCA3WuW0jtCu3RBnZhbp92krd2L2tnrz6HEW5QupkHwBQnwixAFAH5v28S0998Yv25Zd6jVskOYKDFO6wyRFsrQyrwVY5gq0Ktlrq9cNWQRaL2jYLVXOXXdv2F2nOTzv07cY9+svAc3RLQjsF+TBNAQACBSEWAGohu6BUY+du0Pz1uxVstahleIhC7f8LqyG2oIC7KoAj2KpOrVzKKSxTRk6R/jJnvT5NydLzN5ynTq3CT/4AABAACLEAUEPzft6lv362XgeKyhTpDFZslFPB1prNXa1vFotFzV12NQmzaXtOsVZnHNDAV37QPRfHadTlHRVq54NfAAKbOd5tASCAZBeU6oH31+iBD9aooLRcZ7V0qmNLl2kC7JFsQUGKjXLq3LYRctiC9MbiVP3+5cVKycjxd2kAcELme8cFAD+av36Xfv/yYs1bv0uRYcE6r20TRblCAm7KwKlyhdh0btsIndE8TLvzSnTbmys17+dd/i4LAI6L6QQA4IPsglL97fNfNO/nXQq2WnRWS6eaO+2mD69Hslgsat3EoQiHTZv2FOiBD9Zo+4GzdW/fuAb1PAE0DIRYADiJr9bv0v/9Z71yisrULKxy7qvd1nD/kOUMsalLm3Bt2l2g8V/9pozsIj17XRfZTDhdAkDDRYgFgOPIKXTrb3M36MsGfPb1eEJsVnVuE64tewr04Y+Z2pFbrCm3d1e4I9jfpQGAJObEAsAxfbV+l37/0iJ9+fMuNWtAc19PhS0oSJ1ahatleIiWbN6nm99Yrl0Hi/1dFgBIIsQCgJecQrf+9OFPuu/9Nco/dOWB+GhXg54+cCJBFotio8LUrlmoftudr+teW6pfdh70d1kAQIgFgMO+3rBbv395sb5Yt7PRnn09FsuhO32d1dKp/QWluun15frvb3v9XRaARo4QC6DRq/AY+sucn5X0XoryS8p0VovGffb1eKJcITqndbjKPR7d/e9Venf5Nn+XBKAR4x0aQKNWXuHRwx+v1Yc/bleTUFvl2ddwzr4eT7gjWJ3bRMhus2rs3F/0/Lxf5fEY/i4LQCNEiAXQaLnLPfrThz/p80PTBzq1Cufsqw9Cg63q0iZc4SE2TfshXfe/v0bF7gp/lwWgkeHdGkCjVFpeofvfT9FXG3arudOujtEuBXH21WfB1iCd0zpczZ12ff3Lbt02bYX2F5T6uywAjQghFkCjU1JWoXtmpujbjXsV5bLrrJZOAmwNBAVVXju3TVOH1m7P1fVTlmrr3gJ/lwWgkSDEAmhUitzlGvb2Ki3ZvE8tw0PUoYWT+a+1YLFY1D4yTHFRYdpxoFg3TF2qFWnZ/i4LQCNAiAXQaBSUlmvoWz9qeVq2oiNCFBsVRoCtIy0jHOrUKlzF7gr9cfpK/eenLH+XBKCBI8QCaBQOFpdpyPSVWrXtgFo1CdGZzQmwda1pWLA6twmXNciihz9ep+9/2+PvkgA0YIRYAA1ebpFbd0xfoZ+256pNU4fOiCTAni5hdpvOaR2uYKtFoz5aq237C/1dEoAGihALoEHLLijVrW+u0IYdeYppFqp2zUIJsKeZI9iqDi1cyi8p173vpqjIXe7vkgA0QIRYAA3W3vwS3fLmCv22O1/tIkMVQ4CtN03DgtWuWag27cnXX+asl2FwQwQAdYsQC6BB2n2wRIP/tVxb9xbojMgwtW0a6u+SGp02TR1qFhasuWt36u2l2/xdDoAGhhALoMHJOlCkm99Ypm37i3Rm8zC1burwd0mNksViUYeWLoUGW/X8/I1ayaW3ANQhQiyABiUju1A3v7Fc2w8UKy4qTK2aEGD9yRZkUcdolyTp/g/WaPfBEj9XBKChIMQCaDBS9xVo8L+Wa/fBEnVo4VTLCAJsIAizWxUX5VR2gVv3vZcid7nH3yUBaAAIsQAahC178jX4X8u1N69UHVo61SI8xN8l4QjNXXa1buLQT9tz9eyXv/q7HAANACEWgOlt3VsZYA8UutUx2qUoFwE2ELWPDFWEw6Z3V2TokxTu6AWgdgixAEwtv6RM98xMUW5RmTq2dCnSafd3STgOi6VyfmyILUhP/me9Nuw46O+SAJgYIRaAaRmGocc++Vnp+wvVPjJMzQiwAS/YGqSOLV0qr/Bo5LurdaDQ7e+SAJgUIRaAaU3/IV1fbditSKddrZowhcAsXA6bzmwepp25JXroo59U4eFGCABOHSEWgCmtTMvWi19tVGiwVR1aOLkTl8m0jHCoZXiIftiyXy8v3OTvcgCYECEWgOnszSvR/R+skcViUXy0S9YgAqwZndk8TK4Qq6b8N1ULftnt73IAmAwhFoCplFV4dP8Ha5Rd4FZcVJhC7VZ/l4QaCjp0I4Rgq0WPfLxWqfsK/F0SABMhxAIwlfFf/abV2w6oVUSImnMpLdMLsVl1VkuXitwVGjlztQpKy/1dEgCTIMQCMI0vf96pGcnpCnfY1L55mL/LQR1pEhqsdpGhSt1XqMc+WSfD4INeAE6OEAvAFLbuzddjn/ws+6FLNAXxQa4GpXUThyKdwZq/frfeXJLm73IAmAAhFkDAKywt173vpqjYXaGzWjplt/HW1dBYLBZ1aOFSqN2qv3/9m5Zt3e/vkgAEOH4SAAhohmHosU9/Vuq+QrWLDFVEaLC/S8JpYg2yKP7QWfYHPlijHbnF/i4JQAAjxAIIaG8t3aZ5P+9SZFiwWjdx+LscnGahdqviWjh1oKhMd731o/bll/q7JAABihALIGCt2pajF+ZX3tAgrqWLGxo0EpFOu86IDNWWvQW65c3l2ptX4u+SAASggA2xu3fvVkJCglauXOk1npGRoaSkJCUkJKh3794aN26cCgq4tiDQ0OzNL9H976+RJHWMdsrGDQ0aldZNQ3VG8zCl7SvU4H8t166DTC0A4C0gQ+yuXbs0fPhw5efne43n5eVp6NCh2r9/v8aPH6/Ro0dr/vz5GjVqlJ8qBXA6lFd49KcPftK+/FLFRoUpzG7zd0nwg9ZNHDozKkzbsos0+I3lyjpQ5O+SAASQgPrJ4PF49Nlnn+nvf//7MZd/+OGHys3N1Zw5cxQZGSlJio6O1siRI5WSkqKePXvWZ7kATpMJCzZpZXqOWkWEKIobGjRqrSIcCpKUtr9Ig/+1XB/dcxHXCAYgKcDOxG7atEnjxo3T9ddfrwkTJlRbnpycrJ49e1YFWEnq06ePnE6nlixZUp+lAjhNvlq/S28uSZMrhBsaoFLLCIc6tHBqZ26JBv9rudL3F/q7JAABIKBCbOvWrbVw4UL95S9/kcNR/VPIqampio2N9RqzWq2KiYlRenp6fZUJ4DRJ3VegR2evU7DVoo7R3NAA/9MiPERntXRqT15lkN26l89CAI1dQE0naNq06QmX5+fny+l0Vht3Op21+nCX2+1WcTEfGjiekpISr+84Pnrlm2P1qchdoXtnrlKRu0Kdop0KDqqcYtSYHX7+jb0Ph0WGBUstwpS6r0iD/7VM79zZXR1buiTx2vMVffIdvfKN2+32274DKsSezInup12bS+9kZWXVeNvGJC2NW0H6il755nCfDMPQ5JUHtXVfiVo6rbJ6ylRYWObn6gJHcTE/RA8LkRQTYVNWXpnumLFKT10SqTOb/u8GGLz2fEOffEevApepQqzL5VJhYfW5UAUFBYqOjq7x48bExCgiIqI2pTVoJSUlSktLU1xc3DGneeB/6JVvju7Teyu3K3n7HjUNtemMKCfXgz3E4/GouLhEoaEOBQUF1Owvv3I6JYejTKn7CvX0Dwf11p3d1aFZMK89H/Ae5Tt65Zu8vDy/nQw0VYiNjY1VZmam11hFRYWysrLUv3//Gj+u3W5XaGhobctr8BwOB33yEb3yjcPh0OLUg3pxwRY5gq06K9olK2GtmqCgIELsUZq7QmQNsmjzngINm/mTZvyxm6zitecr+uQ7enVi/pxuYap3xcTERK1atUo5OTlVY8nJySoqKlJiYqIfKwNQE//dvF8PfrBGtqAgdYp2yUZQwyloGmZXp+hwFZVWaNjMn7Qp239z8wDUP1P9xLj99tsVEhKiYcOGaeHChZo9e7bGjBmjvn37qkePHv4uD8Ap+Gl3qUbNWi+LRTq7tUuhdqu/S4IJNQkLVqdWLpWUe/T04gNanZHr75IA1BNThdjIyEjNnDlTzZo106OPPqpJkyZpwIABmjRpkr9LA3AKVqTn6O9LD8gwpLNbhXNHLtRKRGiw4ls6Ve4xdM97a7Usdb+/SwJQDwL2J0fv3r21adOmauPx8fF655136r8gAHXix/Qc3ffBz/IY0tmtnHKGBOzbEEwk3GFT+yY2bc+r0LC3V2n60ARd3LGFv8sCcBqZ6kwsAHNLyTigu97+UWUeQ+2b2AiwqFNhwUGKj3bKYxi6+53V+u+mvf4uCcBpRIgFUC/Wbc/VnW+tVGm5R/EtnQoL5u0Hdc8VYtPZrcJlyNDImas1d+0Of5cE4DThpwiA027DjoP644yVKnF7FB/tUriDM7A4fZwhNp3TOlxBFotGfbRWE77+TR7P8W+WA8CcCLEATqvfdufpj9NXqrC0XB2jXWoSGnzyjYBaCrPb1KVNhFwhNk1dlKqR765WQWm5v8sCUIcIsQBOm61783Xbmyt0sKRMHaNdahpGgEX9sduC1Ll1uKJcdn27ca9umLJUmdlF/i4LQB0hxAI4LdL2FejWN1cot7hMHVu61CzM7u+S0AgFBVnUoYVT7SNDtWVvga55LZlLcAENBCEWQJ3LzC7SbdNWKLvArbNauBTpJMDCfywWi9o0DVWnVi4VlpZryIwf9e6KDH+XBaCWCLEA6lTWgSLdOm259uaVqkNLp5q7CLAIDM3C7OrSJkLBVovGfrZB//ef9Sqr8Pi7LAA1RIgFUGd2HSzWbW+u0M7cEsW1cCrKFeLvkgAvoXarzm0ToSahwXp/ZaaGzFipnEK3v8sCUAOEWAB1Ym9eiW57c4W2HyhWXFSYWoQTYBGYbNYgdWrlUquIEK1Iy9G1ryVr0+58f5cF4BQRYgHU2v6CUt02bYW2ZRfpzOZhahnh8HdJwAkFWSw6M8qp2Kgw7cgt1g1Tl2rhr3v8XRaAU0CIBVArOYVu3TFtpVL3FeqM5mFq1YQAC/OIjnDonFbhKqvwaOTM1Zry360yDG6MAJgBIRZAjVR4DH28KlP9Jy3Wpj35ah8ZqtYEWJhQRGiwurSJUKjdqokLNmnUR2tVUlbh77IAnAT3fgRwypal7tdzX27Ur7vyFGy1KK6FUy2ZAwsTcwRb1aVNhLbuLdDn63YqbX+Bpt95AX9ZAAIYIRaAz9L3F+qF+Ru18Nc9CrJIbZo41KaZQ7Yg/qgD87MGWRQf7VLWgWJt2JGnQa/+oGl3Jqh7+2b+Lg3AMRBiAZzUwaIyvfL9Fv172TaVewxFOu1qHxkqR7DV36UBdcpisahdZJhC7Val7yvSzW8s16NXdtI9F8fJGmTxd3kAjkCIBXBc5RUeffBjpl7+ZrNyi8vkDLEqvnmYIhzB/i4NOK2iXCEKDbZq695Cjf/qN/33t716+ZZuats01N+lATiEvwECOKb/btqrKycv0d/m/qKisgp1aOHUuW0iCLBoNJwhNp3bNkLRESFamZ6jKyct0dy1O/xdFoBDOBMLwMvmPfl6bt5GLdm8T1aLRW2bOtSmaSh/SkWjZA2yKDbKqaZhwUrfV6hRH63V97/t1TPXnasmofxCB/gTIRaAJCm7oFSTvt2sD1ZmymNIUS672kWGKcTGH2yAZmF2uWJsSttXqLlrd+rH9BxNuqWbLoxr7u/SgEaLEAs0cqXlFfr3sm165butKigtV3iITWc0D5PLwdsDcKRga5Dio13am1+qzJxi3fbmCt17SQc9ckW87PyyB9Q7fkoBjdja7bl66MOflJlTpBBbkDq2dCnSGSyLhakDwLFYLBZFRzgUERqs1L0FemNxqpZs3qd/3tpNHaPD/V0e0KjwqyPQSH2SkqXBbyxX1oEitYsMVdeYJmrushNgAR+EBlvVuU2E2jZ1aOOuPF39arL+vWwbt6wF6hEhFmhkyis8euaLX/Xo7HWyWKQubSLUtmmogvjgFnBKgg5dU7Zzm3AFWaRxn/+iu95epb15Jf4uDWgUCLFAI3Kg0K2hb/2ot5amK9xRefkgZwizioDaCHcE67y2TdTCZdfizft05eQlWvDLbn+XBTR4hFigkfhtd56ueS1ZS1OzFR0RonNahyvYylsAUBesQRZ1aOlSx5YuFZSW6953U/TEpz+rsLTc36UBDRY/wYBG4OsNu3TDlGXamVus2KgwxUY5FcTcV6DONXfZdV7bJmoSatNHq7brqn/+oLXbc/1dFtAgEWKBBszjMfTyws1Kem+NKjyGzm4drugIh7/LAho0uy1IZ7cK1xnNw5R1oEg3vb5MM5LT+dAXUMcIsUADVVBarnvfS9Er322RM8SqLm3DuWUsUE8sFotaN3GoS5sIBVuD9OyXv+red1N0sKjM36UBDQYhFmiAtu0v1A1Tlmrhr3sU5bKrS+sIhdis/i4LaHScIZUfoGzutOubX/do4Cs/aB3TC4A6QYgFGpglm/fpmteStXVvgdpHhqpDCyeXzwL8yBpk0VktnYqNCtOug8X6w+vL9PZSphcAtUWIBRoIwzA0/Yc03fX2jyp2V6hTK5faNA3l5gVAADh8p6/D0wue/uJXJb2XooPFTC8AaooQCzQAJWUVemTWOj03b6NCgq3q0jZCTcPs/i4LwFGcITZ1OTS9YMEve3Q10wuAGiPEAia362Cxbn5juf7z0w41CwtWlzYRCg1m/isQqGxHTC/YmVs5veAdphcAp4wQC5iUYRhaunW/Br2arPU7DqptU4fio12yMf8VCHhHTi+wWYP01Be/6v731yivhOkFgK+43yRgIoZhaP2Og5q3fpfm/bxLWQeKZQ2yqGNLl5q7mD4AmM3hqxek7SvUVxt2a8OOg5p6R0+dF9PE36UBAY8QCwQ4wzC0YUeevly/syq4SlKILUitmoQoOtyhUDvTBwCzsgVZ1LGlU3vybcrMLtKNry/VX6/urDsvOoMPZgInQIgFAtDh4Fp5xnWnth8VXJs77XKF2PgBBzQQFotFrSIcCg+xacveAo37/BetTM/W+D+cz01KgOMgxAIBwjAM/bIzT1/+fIzgGhGi5i6CK9DQVU4vaKK0fYWav3631mcd1Ot/7Klz2zK9ADgaIRbwo8PBdd76Xfpy3f+Cq53gCjRaVdML8mzKzCnSdVOW6qK45urfJVq/PydabZqG+rtEICAQYoF65PEYSt1XoJ+252rt9lwlb9mvzJwiSZxxBfA/FotFrZo4FO6wafuBYi1L3a/krfv1t7m/6Ly2Ebqicyv17xKtTtHhvFeg0SLEAqfRvvxSrd2eq7XbD2jt9lyt235QBaXlVcsJrgBOxBli09mtwlXhMZRbVKYDRW5t3JWv9Tvy9PLCzYppFqr+hwJtwhnNZLNy5Uw0HoRYoI6UlFVoTWauvtlcqGm/btD6HXnakVtStdxqsSgsxKrWTRxyhdjkclhltwYRXAGclDXIouYuu5q77PIYhvJLynWg0K19+aV6a2m63lqariahwbr8nJbq37mV+sZHKczOj3g0bKY9wpOTkzVp0iRt3bpVzZs31x133KHhw4cTCFAvSssrlJldpHVZByvPsmbmauPufFV4Dt9xJ1+hdqtauOxyOWxyhdgUZrdyfAKotSCLRU1Cg9UkNFhnGIaK3BU6UFSmA4VuzVmzQ3PW7FCILUgXd4zSFZ2jdfk50Ypyhfi7bKDOmTLErl27VklJSbrqqqs0atQopaSkaOLEiaqoqNDIkSP9XR4aiNLyCm3PKda2/YXall35lZFdpPR9hdp5sFieI+4QabcGKcJhk9NuldUoV1QTp4JtXLsVwOllsVjkDLHJGWJTTLNQlZZVKOdQoP1u4159u3GvLFqvM6OciggNljPYIsNdpLZbN6qZy6FwR7DCHTZFHPp++P9NQiu/u0JsTFFAwDJliH311Vd1zjnnaOLEiZKkvn37qry8XG+88YbuvPNOORwOP1cIs3CXe5SZU+RTUJUqpwSEBAepaViwHMFWOe1WuUJsstsqpwV4PB4VFhbJyq1fAfhBSLBVrZtUTlsqr/BUnqEtcmv3wRLtzC1Wuceo/ItR1i6fHzM02KqIUJtahjsUHeFQ6yYOtWriUKuIQ98P/dsZYspIARMz3RHndru1cuVKPfTQQ17jV155paZPn66UlBQlJib6qTqcDoZhqLTco2J3hYrKKlTsLlex26PisgqVHP4q96ikrEKlZRWHxj2HlnlUUl5xaJn3NnvzSk8eVG1WOYKtcgQHyRFsVbDVwpQAAKZgswapRXiIWoT/byqBx+NRQUGhHKGh8siiikOh9nC4Pfa/PSooLVduUb427Dgo4zj7c4XYvAJu6yYORTc59D3CoRbhIXLabQoNtiqIX/RRB0wXYrdv366ysjKdeeaZXuNnnHGGJCk9Pd3nEOvxeCRJhYWFdVpjICsoLVdJmUceo/INyqPKyz5V/r8yMFYY/xvzGIZK3WXas9+tfb9mKchqq1zHI3lkeG1bub73thWGZHgOfTcMVRiGPB7JXVGhkjJDpeWVAbT0UOAsLfccEUgr/+2u8Mg43rvmKbJYpCBJQRYpNMiic1o4ZLdWhla7zaoQq0U2q0UWnegN9vjFeAxDYYZVjhBDQZY6KroBok++oU++o1e+qeyTTQ6HRUGWU58mYMhQeYWhMo+hsnJP5fcKj8oqDJVVGCovL1Xm3hJt23Pixwm2WhRiC5LDVnmCIOTQiYLDYyHB1srvR/4/OEi2Ogi/1iCLbEEWBVuD/vfdKtmCgmQ7NGazWmRUlCmnuEKZe7IV5gg5tLxyW49R2QuPIenQzzdDlf2VJOOI5cah5ZKqTpo0C2s4d2E7nKEOZ6r6ZLoQm5+fL0lyuVxe406nU5JUUFDg82O53W5J0p49J3m1NSIWVT8owiQ1i7JLypMqjlp4+D2wVtM/g454oIaAC5H7hj75hj75jl75xix98hz6Oo0MSeWHvo5w+L+RoVYVZO+R78nCNwfq+PECgdvtrspi9cV0IfZkST8oyPcwFB4erri4ONnt9lPaDgAAAJW5zO12Kzw8vN73bboQe7hJR08BOHwG9ugztCdis9nUrFmzuisOAACgkanvM7CHme70Y/v27WW1WpWRkeE1npmZKUnq0KGDP8oCAABAPTJdiA0JCVFCQoIWLlxYNVFakhYsWKDw8HCdf/75fqwOAAAA9cF0IVaS7rvvPq1bt06jRo3S4sWLNXnyZM2YMUP33nuvQkPNMmEdAAAANWUxjLq6eFH9WrhwoV555RWlp6crOjq66razAAAAaPhMG2IBAADQeJlyOgEAAAAaN0IsAAAATIcQCwAAANMhxAIAAMB0Gm2ITU5O1h/+8Ad17dpVl112mWbMmKHG9Bk3j8ejDz/8UNdcc426d++uyy+/XC+88ELVnc8k6bbbblOnTp2qfa1fv75qnf3792v06NHq3bu3evbsqUceeUR79+71x1M6LUpLS9WlS5dqPejevXvVOuvXr9eQIUPUvXt39enTRy+//LLcbrfX4zT0Pq1cufKYx8rhr9dee00Sx9Tu3buVkJCglStXeo1nZGQoKSlJCQkJ6t27t8aNG+f1WpQq71L49NNPKzExUd27d9c999yjtLS0avv497//rSuuuELnn3++brjhBi1evPi0PqfT4Xh9Wr58uf74xz/qggsuUGJiov70pz9V3ejmsEmTJh3zGJsxY0bVOuXl5Zo8ebIuueQSde3aVbfffrvWrVtXL8+trh2vV3X1WmsovTpWn070njVkyJCq9Rr6MeVLHgjU9yjT3Xa2Lqxdu1ZJSUm66qqrNGrUKKWkpGjixImqqKjQyJEj/V1evZg+fbomT56su+++WxdddJHS09P1yiuvaMuWLXrrrbckSZs2bdKwYcM0YMAAr20P3xWtvLxc99xzjwoKCvTUU0+pvLxcL730ku6++27NmTNHwcHB9f686trmzZtVXl6uiRMnqn379lXjQUGVv/9t375dw4YNU7du3TR58mSlpqZq0qRJys3N1TPPPCOpcfSpS5cu+vjjj6uNT548WevXr9fVV18twzAa9TG1a9cu3X333crPz/caz8vL09ChQxUVFaXx48crJydHEydOVFZWltcPydGjR2vdunUaM2aMXC6XXnvtNd15552aN2+emjRpIkl6++23NXHiRD3wwAM699xz9emnn+q+++7TzJkzlZCQUK/Pt6aO16eUlBTdfffduvzyy/WPf/xDRUVFmjp1qm677TZ98cUXioyMlCT99ttv6tWrl0aPHu21fZs2bar+PX78eH3yyScaPXq02rZtq7ffflt33XWXPvvsM51xxhmn/0nWkeP1qi5faw2hV8fr07Hes7755hvNmDFDt912W9VYQz+mTpYH8vPzA/c9ymiEhg8fbtx0001eYxMmTDC6d+9uFBcX+6mq+lNRUWEkJCQYTz31lNf4vHnzjPj4eOPnn382tm3bZsTHxxvLli077uN88cUXRnx8vLFly5aqsS1bthidOnUy5s6de9rqr0+zZs0yOnfubJSWlh5z+dixY42+fft6LX///feNs88+29ixY4dhGI2jT8fy7bffGvHx8cZXX31lGIbRaI+piooK49NPPzV69epl9OrVy4iPjzdWrFhRtfyNN94wunbtamRnZ1eNLVq0yIiPjzdWr15tGIZhrFmzxoiPjzcWLVpUtU52drbRrVs3Y+rUqYZhGEZxcbGRkJBgTJgwoWodj8djDB482LjrrrtO99OstZP16d577zUGDRpkVFRUVI3t3r3bOPvss43p06dXjV188cXGpEmTjrufnTt3Gp07dzbef//9qrHS0lKjX79+xv/93//V7ZM6TU7Wq7p6rZm9Vyfr09F27txpJCQkGE8//bTXeEM+pnzJA4H8HtXophO43W6tXLlSV1xxhdf4lVdeqcLCQqWkpPipsvpTUFCg6667ToMGDfIaj4uLk1R5dnHjxo2SpLPPPvu4j5OcnKzY2FidddZZVWNnnXWWOnToYMo/YR7Lxo0bFRcXJ7vdfszlycnJuuSSS7yWDxgwQB6PR8nJyVXrNPQ+Ha2kpETPPfec+vXrV3UmqLEeU5s2bdK4ceN0/fXXa8KECdWWJycnq2fPnlVnEiWpT58+cjqdWrJkSdU6YWFh6tOnT9U6kZGRuuCCC6r6sm7dOuXl5Xm9t1ksFl1xxRVauXKlSkpKTtdTrBMn61PXrl01dOjQqr+CSFJ0dLTCw8OrphTk5ORoz549Ouecc467n+XLl6u8vNyrT3a7Xf369TPNMXayXtXVa83svTpZn442fvx4hYSE6JFHHqkaa+jHlC95IJDfoxpdiN2+fbvKysp05plneo0fPt2fnp7uh6rqV0REhP7617+qZ8+eXuPffvutpMo3so0bNyosLEwTJkxQ7969dd5551Wb35Kamlqtj5LUvn37BtPHjRs3ymq1avjw4erWrZt69eqlv/3tbyooKFBJSYl27Nih2NhYr20iIyPlcrmqetAY+nS0mTNnas+ePXryySerxhrrMdW6dWstXLhQf/nLX+RwOKotT01NrXYMWa1WxcTEeB1DMTExslqtXusd2ZfU1FRJOuZ7W0VFRbW5o4HmZH267777dNNNN3mN/fjjjzp48KA6duwoqfLPvpK0aNEiXXrpperSpYuuv/56ryCRmpoqp9OpFi1aeD3WGWecob1796qwsLCun1qdO1mv6uq1ZvZenaxPR1q7dq2+/vprPfLII3K5XFXjDf2Y8iUPBPJ7VKMLsYfnxBx5kEqS0+mUpGoTlRuLdevW6c0339Sll16q+Ph4/fbbbyoqKlJERISmTJmi5557ThkZGbrjjju0Z88eSZW9PLqPUmUvA/lF6yvj0LyyjIwMXX755Zo2bZqSkpL05ZdfauTIkTp48KCk6seSVNmDw8dSQ+/T0dxut2bOnKmBAwd6zQVrrMdU06ZN1apVq+Muz8/Pr3r/OdKpHkOH1zXre9vJ+nS0nJwcjR07Vi1bttT1118v6X9nIPft26fnnntOr732mpo3b66kpCT98MMPkk7cSynw+ySdvFd19Voze69O5ZiaPn262rZtq2uvvdZrvLEcU0c6Og8E8ntUo/tgl8fjOeHyI/9U1VikpKQoKSlJMTExevHFFyVJDz/8sEaMGKELLrhAkpSQkKAePXroqquu0syZMzVmzJgTXs3BYrHUS+2nk2EYev311xUZGVl1pueCCy5QVFSUxowZU+3TwEc73IOG3qejLViwQPv27dOIESO8xjmmjs2X5+zLOo3pvW3v3r26++67tXfvXr3zzjtVPxSvuuoqxcXFqW/fvlVnhPr06aPrrrtOr7zyii6++OKTXoWmIfSprl5rjaFXUuWVC7777js98cQTstm8Y1FjO6aOlQcC+T2q0YXY8PBwSap2Vud4vyE0dPPnz9cTTzyhM888U9OnT1ezZs0kHXsuVbt27dShQ4eqP6+4XK5jnh0rKCio6rOZBQUFqXfv3tXG+/XrJ0nKysqSVP1Ykrx70ND7dLQFCxaoY8eO1Y4hjqljO9Fzjo6Orlpn//791dYpLCys6suR722HPwl8+HGOXG52mzZtUlJSkgoLCzV9+nR17dq1almbNm28PjEuScHBwUpMTNRHH30k6cT9lhpGn+rqtdYYeiVVXpHAYrHo6quvrrasMR1Tx8sDgfweZZ5fD+pI+/btZbValZGR4TV+eC7G4cuPNAYzZszQI488om7duun9999Xy5YtJVVeeuU///mPfvrpp2rblJSUVE3ujo2NPeYclszMzAbRxz179mjWrFnauXOn1/jhyectWrRQdHR0tWMpOztbhYWFVT1o6H06UllZmZKTk6td1odj6viO9ZwrKiqUlZXldQxlZWVVO5ORkZHhtc7hsaPXCQ4OVrt27U7XU6g3K1as0O233y7DMPT+++9Xm8e3ePFiLViwoNp2paWlVcdYXFycCgoKlJOT47VORkaG2rZte9K5k4GuLl9rDb1Xhy1atEgJCQmKioqqtqyxHFPHywNSYL9HNboQGxISooSEBC1cuNDr9PeCBQsUHh6u888/34/V1Z+PPvpIEyZM0FVXXaXp06d7/QZks9n02muvVfs05y+//KLMzMyqs5N9+vRRamqqtm7dWrXO1q1blZqaqsTExPp5IqdRRUWFxo4dW+1agvPnz5fValVCQoISExO1aNEir5sbLFiwQFarVRdeeKGkht+nI23evFnFxcXVwgXH1PElJiZq1apVXj8Ak5OTVVRUVPWc+/Tpo8LCwqo5eFLlnNDVq1dXrdO9e3eFhYV5/cA1DEMLFy5Ur169jnuFDbP49ddflZSUpNatW+vjjz+umuJzpK+//lp/+ctflJubWzVWVFSkRYsWVR1jv/vd76rWPcztdmvRokUN4hiry9daQ++VVPka+fnnn9WjR49jLm8Mx9SJ8oAU4O9RNbowl8ktW7bM6NSpk/GnP/3JWLRokTFp0iSjU6dOxptvvunv0urF3r17jfPPP9+49NJLjVWrVhk//fST11d2drbxn//8x4iPjzfGjBljJCcnG7NmzTISExONG264wSgvLzcMo/I6eFdeeaXRr18/44svvjC++OILo1+/fsagQYOMsrIyPz/LuvHEE08YXbp0MaZMmWIsW7bMePXVV40uXboYzz33nGEYhrF161bjvPPOM4YMGWJ8//33xltvvWWce+65xrhx46oeozH06bA5c+YY8fHxxp49e6ot45gyjBUrVlS7VmV2drbRu3dv49prrzW++eYbY9asWcYFF1xgjBgxwmvbP/7xj8YFF1xgzJo1y/jmm2+Ma665xrj44ouN3NzcqnVeeeUVo1OnTsakSZOMRYsWGX/605+Mzp07V13L0SyO1afrr7/e6NKli/H1119Xe8/KyMgwDKPy9ditWzfjpptuMhYuXGgsWLDAuOmmm4yEhAQjMzOz6rEef/xx49xzzzXeeust4/vvvzeGDBlidO/e3di2bVu9P9faOlav6vK11lB6daw+GYZhZGVlGfHx8cYXX3xxzO0a+jHlSx4I5PeoRhliDcMwvvnmG2PQoEFGly5djMsuu8yYMWOGv0uqN7Nnzzbi4+OP+/Xpp58ahlF5seMbbrjB6Nq1q3HhhRcaY8eONQ4cOOD1WDt37jQeeOABo1u3bsYFF1xg/PnPfz5mgDGr0tJSY8qUKUb//v2Nc8891/j9739v/Otf//K64PqqVauMm2++2Tj33HONiy++2PjHP/5huN1ur8dp6H067M033zTi4+ONkpKSYy5v7MfU8X6Qbtq0yRg6dKhx/vnnGxdddJExduxYIz8/32ud3Nxc44knnjASEhKMHj16GCNGjDBSU1O91qmoqDCmTJliXHLJJcZ5551n3HDDDV4XHzeLo/uUmZl5wvesxx9/vGrbDRs2GMOHDzd69epldOvWzbjnnnuMTZs2eT1+aWmp8fzzzxsXXXSR0bVrV+P222831q5dW6/Psa4c75iqq9daQ+nV8fq0bt06Iz4+3li8ePFxt23Ix5SveSBQ36MshnGSj9UBAAAAAabRzYkFAACA+RFiAQAAYDqEWAAAAJgOIRYAAACmQ4gFAACA6RBiAQAAYDqEWAAAAJgOIRYAAACmQ4gFAACA6RBiAQAAYDqEWAAAAJgOIRYAAACmQ4gFAACA6RBiAQAAYDr/D3U8BxOOBx5VAAAAAElFTkSuQmCC",
          "text/plain": "<Figure size 768x576 with 1 Axes>"
         },
         "metadata": {},
         "output_type": "display_data"
        }
       ],
       "tabbable": null,
       "tooltip": null
      }
     }
    },
    "version_major": 2,
    "version_minor": 0
   }
  }
 },
 "nbformat": 4,
 "nbformat_minor": 4
}