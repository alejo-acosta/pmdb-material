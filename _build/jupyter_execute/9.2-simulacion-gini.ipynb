{
 "cells": [
  {
   "cell_type": "markdown",
   "metadata": {},
   "source": [
    "# Ejemplo: Simulación Gini\n",
    "\n",
    "Elaborado por: Alejandro Acosta"
   ]
  },
  {
   "cell_type": "code",
   "execution_count": 1,
   "metadata": {},
   "outputs": [],
   "source": [
    "import pandas as pd\n",
    "import numpy as np\n",
    "import matplotlib.pyplot as plt\n",
    "import seaborn as sns\n",
    "\n",
    "from ipywidgets import interact, interactive, fixed, interact_manual\n",
    "import ipywidgets as widgets\n",
    "\n",
    "plt.rcParams['figure.dpi'] = 120\n",
    "plt.rcParams['savefig.dpi'] = 120\n",
    "\n",
    "sns.set_style(\"whitegrid\")"
   ]
  },
  {
   "cell_type": "code",
   "execution_count": 2,
   "metadata": {},
   "outputs": [],
   "source": [
    "def simul_income(mean=1000, sd=50, size=10000):\n",
    "    return sorted(np.random.normal(mean, sd, size).clip(0))\n",
    "\n",
    "\n"
   ]
  },
  {
   "cell_type": "code",
   "execution_count": 3,
   "metadata": {},
   "outputs": [],
   "source": [
    "def plot_income(**kwargs):\n",
    "    income = simul_income(**kwargs)\n",
    "    fig = plt.figure()\n",
    "    sns.histplot(income, stat='frequency', element='poly', bins=30)\n",
    "    plt.xlim(0,2000)\n",
    "    plt.ylim(0,80)\n",
    "    plt.close(fig)\n",
    "    return fig"
   ]
  },
  {
   "cell_type": "code",
   "execution_count": 4,
   "metadata": {},
   "outputs": [],
   "source": [
    "def plot_gini(**kwargs):\n",
    "    income = simul_income(**kwargs)\n",
    "    total_income = sum(income)\n",
    "    bins = np.linspace(0,100, 20)\n",
    "    x = [np.percentile(income, i) for i in bins]\n",
    "    x2 = [i/100 for i in bins]\n",
    "    y = [np.round(sum(income*np.array([i<=x[j] for i in income]))/total_income,2) for j in range(len(bins))]\n",
    "\n",
    "    fig=plt.figure()\n",
    "    sns.lineplot(x=x2,y=x2)\n",
    "    sns.lineplot(x=x2,y=y, color='red')\n",
    "    plt.fill_between(x2,x2,y, color='red', alpha=0.25)\n",
    "    plt.ylim(0,1)\n",
    "    plt.xlim(0,1)\n",
    "    plt.close(fig)\n",
    "    return fig"
   ]
  },
  {
   "cell_type": "code",
   "execution_count": 5,
   "metadata": {},
   "outputs": [],
   "source": [
    "def plot_both(**kwargs):\n",
    "    income = simul_income(**kwargs)\n",
    "    total_income = sum(income)\n",
    "    bins = np.linspace(0, 100, 20)\n",
    "    xaux = [np.percentile(income, i) for i in bins]\n",
    "    x = [i/100 for i in bins]\n",
    "    y = [np.round(sum(income*np.array([i <= xaux[j] for i in income])\n",
    "                      )/total_income, 2) for j in range(len(bins))]\n",
    "\n",
    "    fig, ax = plt.subplots(1, 2, sharex=False, sharey=False, figsize=(10,5))\n",
    "    sns.histplot(income, stat='frequency', element='poly', bins=30, ax=ax[0])\n",
    "    ax[0].set_xlim([0, 2000])\n",
    "    ax[0].set_ylim([0, 80])\n",
    "\n",
    "    \n",
    "    sns.lineplot(x=x, y=x, ax=ax[1])\n",
    "    sns.lineplot(x=x, y=y, color='red', ax=ax[1])\n",
    "    plt.fill_between(x, x, y, color='red', alpha=0.25)\n",
    "    ax[1].set_xlim([0, 1])\n",
    "    ax[1].set_ylim([0, 1])\n",
    "\n",
    "    plt.close(fig)\n",
    "\n",
    "    return fig\n"
   ]
  },
  {
   "cell_type": "code",
   "execution_count": 6,
   "metadata": {},
   "outputs": [
    {
     "data": {
      "application/vnd.jupyter.widget-view+json": {
       "model_id": "0d6dbeaa203e449fa3b1a631823d3b67",
       "version_major": 2,
       "version_minor": 0
      },
      "text/plain": [
       "interactive(children=(IntSlider(value=200, description='sd', max=400, min=1), Output()), _dom_classes=('widget…"
      ]
     },
     "metadata": {},
     "output_type": "display_data"
    },
    {
     "data": {
      "text/plain": [
       "<function __main__.plot_income(**kwargs)>"
      ]
     },
     "execution_count": 6,
     "metadata": {},
     "output_type": "execute_result"
    }
   ],
   "source": [
    "interact(plot_income, sd=(1,400))"
   ]
  },
  {
   "cell_type": "code",
   "execution_count": 7,
   "metadata": {},
   "outputs": [
    {
     "data": {
      "application/vnd.jupyter.widget-view+json": {
       "model_id": "4f2be717ba914cd99e1dd220299efd12",
       "version_major": 2,
       "version_minor": 0
      },
      "text/plain": [
       "interactive(children=(IntSlider(value=400, description='sd', max=800, min=1), Output()), _dom_classes=('widget…"
      ]
     },
     "metadata": {},
     "output_type": "display_data"
    },
    {
     "data": {
      "text/plain": [
       "<function __main__.plot_both(**kwargs)>"
      ]
     },
     "execution_count": 7,
     "metadata": {},
     "output_type": "execute_result"
    }
   ],
   "source": [
    "interact(plot_both, sd=(1,800))"
   ]
  },
  {
   "cell_type": "code",
   "execution_count": null,
   "metadata": {},
   "outputs": [],
   "source": []
  }
 ],
 "metadata": {
  "kernelspec": {
   "display_name": "Python 3 (ipykernel)",
   "language": "python",
   "name": "python3"
  },
  "language_info": {
   "codemirror_mode": {
    "name": "ipython",
    "version": 3
   },
   "file_extension": ".py",
   "mimetype": "text/x-python",
   "name": "python",
   "nbconvert_exporter": "python",
   "pygments_lexer": "ipython3",
   "version": "3.10.12"
  },
  "vscode": {
   "interpreter": {
    "hash": "0d9db2acd79fc802845d33905a24c499b3c5b632a8047d75c602e59109c51bd3"
   }
  },
  "widgets": {
   "application/vnd.jupyter.widget-state+json": {
    "state": {
     "07d7c300a9eb48cc91e468764f8a67ab": {
      "model_module": "@jupyter-widgets/controls",
      "model_module_version": "2.0.0",
      "model_name": "IntSliderModel",
      "state": {
       "_dom_classes": [],
       "_model_module": "@jupyter-widgets/controls",
       "_model_module_version": "2.0.0",
       "_model_name": "IntSliderModel",
       "_view_count": null,
       "_view_module": "@jupyter-widgets/controls",
       "_view_module_version": "2.0.0",
       "_view_name": "IntSliderView",
       "behavior": "drag-tap",
       "continuous_update": true,
       "description": "sd",
       "description_allow_html": false,
       "disabled": false,
       "layout": "IPY_MODEL_9900663ea37149c38859c27248a3e15b",
       "max": 400,
       "min": 1,
       "orientation": "horizontal",
       "readout": true,
       "readout_format": "d",
       "step": 1,
       "style": "IPY_MODEL_e6d3e9bb0ffa438eb99b6f365e38129a",
       "tabbable": null,
       "tooltip": null,
       "value": 200
      }
     },
     "0d6dbeaa203e449fa3b1a631823d3b67": {
      "model_module": "@jupyter-widgets/controls",
      "model_module_version": "2.0.0",
      "model_name": "VBoxModel",
      "state": {
       "_dom_classes": [
        "widget-interact"
       ],
       "_model_module": "@jupyter-widgets/controls",
       "_model_module_version": "2.0.0",
       "_model_name": "VBoxModel",
       "_view_count": null,
       "_view_module": "@jupyter-widgets/controls",
       "_view_module_version": "2.0.0",
       "_view_name": "VBoxView",
       "box_style": "",
       "children": [
        "IPY_MODEL_07d7c300a9eb48cc91e468764f8a67ab",
        "IPY_MODEL_64d0e79778684f3498b6328cfe21bb95"
       ],
       "layout": "IPY_MODEL_cd40b310034749ea848303d370643069",
       "tabbable": null,
       "tooltip": null
      }
     },
     "1d60043982204a5ea1325a756a934088": {
      "model_module": "@jupyter-widgets/base",
      "model_module_version": "2.0.0",
      "model_name": "LayoutModel",
      "state": {
       "_model_module": "@jupyter-widgets/base",
       "_model_module_version": "2.0.0",
       "_model_name": "LayoutModel",
       "_view_count": null,
       "_view_module": "@jupyter-widgets/base",
       "_view_module_version": "2.0.0",
       "_view_name": "LayoutView",
       "align_content": null,
       "align_items": null,
       "align_self": null,
       "border_bottom": null,
       "border_left": null,
       "border_right": null,
       "border_top": null,
       "bottom": null,
       "display": null,
       "flex": null,
       "flex_flow": null,
       "grid_area": null,
       "grid_auto_columns": null,
       "grid_auto_flow": null,
       "grid_auto_rows": null,
       "grid_column": null,
       "grid_gap": null,
       "grid_row": null,
       "grid_template_areas": null,
       "grid_template_columns": null,
       "grid_template_rows": null,
       "height": null,
       "justify_content": null,
       "justify_items": null,
       "left": null,
       "margin": null,
       "max_height": null,
       "max_width": null,
       "min_height": null,
       "min_width": null,
       "object_fit": null,
       "object_position": null,
       "order": null,
       "overflow": null,
       "padding": null,
       "right": null,
       "top": null,
       "visibility": null,
       "width": null
      }
     },
     "1e5b62a91fe9402b9a71debfb98015c6": {
      "model_module": "@jupyter-widgets/base",
      "model_module_version": "2.0.0",
      "model_name": "LayoutModel",
      "state": {
       "_model_module": "@jupyter-widgets/base",
       "_model_module_version": "2.0.0",
       "_model_name": "LayoutModel",
       "_view_count": null,
       "_view_module": "@jupyter-widgets/base",
       "_view_module_version": "2.0.0",
       "_view_name": "LayoutView",
       "align_content": null,
       "align_items": null,
       "align_self": null,
       "border_bottom": null,
       "border_left": null,
       "border_right": null,
       "border_top": null,
       "bottom": null,
       "display": null,
       "flex": null,
       "flex_flow": null,
       "grid_area": null,
       "grid_auto_columns": null,
       "grid_auto_flow": null,
       "grid_auto_rows": null,
       "grid_column": null,
       "grid_gap": null,
       "grid_row": null,
       "grid_template_areas": null,
       "grid_template_columns": null,
       "grid_template_rows": null,
       "height": null,
       "justify_content": null,
       "justify_items": null,
       "left": null,
       "margin": null,
       "max_height": null,
       "max_width": null,
       "min_height": null,
       "min_width": null,
       "object_fit": null,
       "object_position": null,
       "order": null,
       "overflow": null,
       "padding": null,
       "right": null,
       "top": null,
       "visibility": null,
       "width": null
      }
     },
     "4111a19143db417db244de0c72a6d54b": {
      "model_module": "@jupyter-widgets/output",
      "model_module_version": "1.0.0",
      "model_name": "OutputModel",
      "state": {
       "_dom_classes": [],
       "_model_module": "@jupyter-widgets/output",
       "_model_module_version": "1.0.0",
       "_model_name": "OutputModel",
       "_view_count": null,
       "_view_module": "@jupyter-widgets/output",
       "_view_module_version": "1.0.0",
       "_view_name": "OutputView",
       "layout": "IPY_MODEL_1e5b62a91fe9402b9a71debfb98015c6",
       "msg_id": "",
       "outputs": [
        {
         "data": {
          "image/png": "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",
          "text/plain": "<Figure size 1200x600 with 2 Axes>"
         },
         "metadata": {},
         "output_type": "display_data"
        }
       ],
       "tabbable": null,
       "tooltip": null
      }
     },
     "49e1d87eb96f4d76adf7e582c1e2cf06": {
      "model_module": "@jupyter-widgets/base",
      "model_module_version": "2.0.0",
      "model_name": "LayoutModel",
      "state": {
       "_model_module": "@jupyter-widgets/base",
       "_model_module_version": "2.0.0",
       "_model_name": "LayoutModel",
       "_view_count": null,
       "_view_module": "@jupyter-widgets/base",
       "_view_module_version": "2.0.0",
       "_view_name": "LayoutView",
       "align_content": null,
       "align_items": null,
       "align_self": null,
       "border_bottom": null,
       "border_left": null,
       "border_right": null,
       "border_top": null,
       "bottom": null,
       "display": null,
       "flex": null,
       "flex_flow": null,
       "grid_area": null,
       "grid_auto_columns": null,
       "grid_auto_flow": null,
       "grid_auto_rows": null,
       "grid_column": null,
       "grid_gap": null,
       "grid_row": null,
       "grid_template_areas": null,
       "grid_template_columns": null,
       "grid_template_rows": null,
       "height": null,
       "justify_content": null,
       "justify_items": null,
       "left": null,
       "margin": null,
       "max_height": null,
       "max_width": null,
       "min_height": null,
       "min_width": null,
       "object_fit": null,
       "object_position": null,
       "order": null,
       "overflow": null,
       "padding": null,
       "right": null,
       "top": null,
       "visibility": null,
       "width": null
      }
     },
     "4f2be717ba914cd99e1dd220299efd12": {
      "model_module": "@jupyter-widgets/controls",
      "model_module_version": "2.0.0",
      "model_name": "VBoxModel",
      "state": {
       "_dom_classes": [
        "widget-interact"
       ],
       "_model_module": "@jupyter-widgets/controls",
       "_model_module_version": "2.0.0",
       "_model_name": "VBoxModel",
       "_view_count": null,
       "_view_module": "@jupyter-widgets/controls",
       "_view_module_version": "2.0.0",
       "_view_name": "VBoxView",
       "box_style": "",
       "children": [
        "IPY_MODEL_97d84ea6256f4babb7bf081678f3ddb6",
        "IPY_MODEL_4111a19143db417db244de0c72a6d54b"
       ],
       "layout": "IPY_MODEL_ed17f10db5c84030a5d2fd598250ab1f",
       "tabbable": null,
       "tooltip": null
      }
     },
     "64d0e79778684f3498b6328cfe21bb95": {
      "model_module": "@jupyter-widgets/output",
      "model_module_version": "1.0.0",
      "model_name": "OutputModel",
      "state": {
       "_dom_classes": [],
       "_model_module": "@jupyter-widgets/output",
       "_model_module_version": "1.0.0",
       "_model_name": "OutputModel",
       "_view_count": null,
       "_view_module": "@jupyter-widgets/output",
       "_view_module_version": "1.0.0",
       "_view_name": "OutputView",
       "layout": "IPY_MODEL_1d60043982204a5ea1325a756a934088",
       "msg_id": "",
       "outputs": [
        {
         "data": {
          "image/png": "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",
          "text/plain": "<Figure size 768x576 with 1 Axes>"
         },
         "metadata": {},
         "output_type": "display_data"
        }
       ],
       "tabbable": null,
       "tooltip": null
      }
     },
     "97d84ea6256f4babb7bf081678f3ddb6": {
      "model_module": "@jupyter-widgets/controls",
      "model_module_version": "2.0.0",
      "model_name": "IntSliderModel",
      "state": {
       "_dom_classes": [],
       "_model_module": "@jupyter-widgets/controls",
       "_model_module_version": "2.0.0",
       "_model_name": "IntSliderModel",
       "_view_count": null,
       "_view_module": "@jupyter-widgets/controls",
       "_view_module_version": "2.0.0",
       "_view_name": "IntSliderView",
       "behavior": "drag-tap",
       "continuous_update": true,
       "description": "sd",
       "description_allow_html": false,
       "disabled": false,
       "layout": "IPY_MODEL_49e1d87eb96f4d76adf7e582c1e2cf06",
       "max": 800,
       "min": 1,
       "orientation": "horizontal",
       "readout": true,
       "readout_format": "d",
       "step": 1,
       "style": "IPY_MODEL_c85db67b382147b2bf3cfb4dc1cf51f9",
       "tabbable": null,
       "tooltip": null,
       "value": 400
      }
     },
     "9900663ea37149c38859c27248a3e15b": {
      "model_module": "@jupyter-widgets/base",
      "model_module_version": "2.0.0",
      "model_name": "LayoutModel",
      "state": {
       "_model_module": "@jupyter-widgets/base",
       "_model_module_version": "2.0.0",
       "_model_name": "LayoutModel",
       "_view_count": null,
       "_view_module": "@jupyter-widgets/base",
       "_view_module_version": "2.0.0",
       "_view_name": "LayoutView",
       "align_content": null,
       "align_items": null,
       "align_self": null,
       "border_bottom": null,
       "border_left": null,
       "border_right": null,
       "border_top": null,
       "bottom": null,
       "display": null,
       "flex": null,
       "flex_flow": null,
       "grid_area": null,
       "grid_auto_columns": null,
       "grid_auto_flow": null,
       "grid_auto_rows": null,
       "grid_column": null,
       "grid_gap": null,
       "grid_row": null,
       "grid_template_areas": null,
       "grid_template_columns": null,
       "grid_template_rows": null,
       "height": null,
       "justify_content": null,
       "justify_items": null,
       "left": null,
       "margin": null,
       "max_height": null,
       "max_width": null,
       "min_height": null,
       "min_width": null,
       "object_fit": null,
       "object_position": null,
       "order": null,
       "overflow": null,
       "padding": null,
       "right": null,
       "top": null,
       "visibility": null,
       "width": null
      }
     },
     "c85db67b382147b2bf3cfb4dc1cf51f9": {
      "model_module": "@jupyter-widgets/controls",
      "model_module_version": "2.0.0",
      "model_name": "SliderStyleModel",
      "state": {
       "_model_module": "@jupyter-widgets/controls",
       "_model_module_version": "2.0.0",
       "_model_name": "SliderStyleModel",
       "_view_count": null,
       "_view_module": "@jupyter-widgets/base",
       "_view_module_version": "2.0.0",
       "_view_name": "StyleView",
       "description_width": "",
       "handle_color": null
      }
     },
     "cd40b310034749ea848303d370643069": {
      "model_module": "@jupyter-widgets/base",
      "model_module_version": "2.0.0",
      "model_name": "LayoutModel",
      "state": {
       "_model_module": "@jupyter-widgets/base",
       "_model_module_version": "2.0.0",
       "_model_name": "LayoutModel",
       "_view_count": null,
       "_view_module": "@jupyter-widgets/base",
       "_view_module_version": "2.0.0",
       "_view_name": "LayoutView",
       "align_content": null,
       "align_items": null,
       "align_self": null,
       "border_bottom": null,
       "border_left": null,
       "border_right": null,
       "border_top": null,
       "bottom": null,
       "display": null,
       "flex": null,
       "flex_flow": null,
       "grid_area": null,
       "grid_auto_columns": null,
       "grid_auto_flow": null,
       "grid_auto_rows": null,
       "grid_column": null,
       "grid_gap": null,
       "grid_row": null,
       "grid_template_areas": null,
       "grid_template_columns": null,
       "grid_template_rows": null,
       "height": null,
       "justify_content": null,
       "justify_items": null,
       "left": null,
       "margin": null,
       "max_height": null,
       "max_width": null,
       "min_height": null,
       "min_width": null,
       "object_fit": null,
       "object_position": null,
       "order": null,
       "overflow": null,
       "padding": null,
       "right": null,
       "top": null,
       "visibility": null,
       "width": null
      }
     },
     "e6d3e9bb0ffa438eb99b6f365e38129a": {
      "model_module": "@jupyter-widgets/controls",
      "model_module_version": "2.0.0",
      "model_name": "SliderStyleModel",
      "state": {
       "_model_module": "@jupyter-widgets/controls",
       "_model_module_version": "2.0.0",
       "_model_name": "SliderStyleModel",
       "_view_count": null,
       "_view_module": "@jupyter-widgets/base",
       "_view_module_version": "2.0.0",
       "_view_name": "StyleView",
       "description_width": "",
       "handle_color": null
      }
     },
     "ed17f10db5c84030a5d2fd598250ab1f": {
      "model_module": "@jupyter-widgets/base",
      "model_module_version": "2.0.0",
      "model_name": "LayoutModel",
      "state": {
       "_model_module": "@jupyter-widgets/base",
       "_model_module_version": "2.0.0",
       "_model_name": "LayoutModel",
       "_view_count": null,
       "_view_module": "@jupyter-widgets/base",
       "_view_module_version": "2.0.0",
       "_view_name": "LayoutView",
       "align_content": null,
       "align_items": null,
       "align_self": null,
       "border_bottom": null,
       "border_left": null,
       "border_right": null,
       "border_top": null,
       "bottom": null,
       "display": null,
       "flex": null,
       "flex_flow": null,
       "grid_area": null,
       "grid_auto_columns": null,
       "grid_auto_flow": null,
       "grid_auto_rows": null,
       "grid_column": null,
       "grid_gap": null,
       "grid_row": null,
       "grid_template_areas": null,
       "grid_template_columns": null,
       "grid_template_rows": null,
       "height": null,
       "justify_content": null,
       "justify_items": null,
       "left": null,
       "margin": null,
       "max_height": null,
       "max_width": null,
       "min_height": null,
       "min_width": null,
       "object_fit": null,
       "object_position": null,
       "order": null,
       "overflow": null,
       "padding": null,
       "right": null,
       "top": null,
       "visibility": null,
       "width": null
      }
     }
    },
    "version_major": 2,
    "version_minor": 0
   }
  }
 },
 "nbformat": 4,
 "nbformat_minor": 4
}