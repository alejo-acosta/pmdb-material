{
 "cells": [
  {
   "cell_type": "markdown",
   "metadata": {},
   "source": [
    "# Ejemplo: Simulación Gini\n",
    "\n",
    "Elaborado por: Alejandro Acosta"
   ]
  },
  {
   "cell_type": "code",
   "execution_count": 1,
   "metadata": {},
   "outputs": [],
   "source": [
    "import pandas as pd\n",
    "import numpy as np\n",
    "import matplotlib.pyplot as plt\n",
    "import seaborn as sns\n",
    "\n",
    "from ipywidgets import interact, interactive, fixed, interact_manual\n",
    "import ipywidgets as widgets\n",
    "\n",
    "plt.rcParams['figure.dpi'] = 120\n",
    "plt.rcParams['savefig.dpi'] = 120\n",
    "\n",
    "sns.set_style(\"whitegrid\")"
   ]
  },
  {
   "cell_type": "code",
   "execution_count": 2,
   "metadata": {},
   "outputs": [],
   "source": [
    "def simul_income(mean=1000, sd=50, size=10000):\n",
    "    return sorted(np.random.normal(mean, sd, size).clip(0))\n",
    "\n",
    "\n"
   ]
  },
  {
   "cell_type": "code",
   "execution_count": 3,
   "metadata": {},
   "outputs": [],
   "source": [
    "def plot_income(**kwargs):\n",
    "    income = simul_income(**kwargs)\n",
    "    fig = plt.figure()\n",
    "    sns.histplot(income, stat='frequency', element='poly', bins=30)\n",
    "    plt.xlim(0,2000)\n",
    "    plt.ylim(0,80)\n",
    "    plt.close(fig)\n",
    "    return fig"
   ]
  },
  {
   "cell_type": "code",
   "execution_count": 4,
   "metadata": {},
   "outputs": [],
   "source": [
    "def plot_gini(**kwargs):\n",
    "    income = simul_income(**kwargs)\n",
    "    total_income = sum(income)\n",
    "    bins = np.linspace(0,100, 20)\n",
    "    x = [np.percentile(income, i) for i in bins]\n",
    "    x2 = [i/100 for i in bins]\n",
    "    y = [np.round(sum(income*np.array([i<=x[j] for i in income]))/total_income,2) for j in range(len(bins))]\n",
    "\n",
    "    fig=plt.figure()\n",
    "    sns.lineplot(x=x2,y=x2)\n",
    "    sns.lineplot(x=x2,y=y, color='red')\n",
    "    plt.fill_between(x2,x2,y, color='red', alpha=0.25)\n",
    "    plt.ylim(0,1)\n",
    "    plt.xlim(0,1)\n",
    "    plt.close(fig)\n",
    "    return fig"
   ]
  },
  {
   "cell_type": "code",
   "execution_count": 5,
   "metadata": {},
   "outputs": [],
   "source": [
    "def plot_both(**kwargs):\n",
    "    income = simul_income(**kwargs)\n",
    "    total_income = sum(income)\n",
    "    bins = np.linspace(0, 100, 20)\n",
    "    xaux = [np.percentile(income, i) for i in bins]\n",
    "    x = [i/100 for i in bins]\n",
    "    y = [np.round(sum(income*np.array([i <= xaux[j] for i in income])\n",
    "                      )/total_income, 2) for j in range(len(bins))]\n",
    "\n",
    "    fig, ax = plt.subplots(1, 2, sharex=False, sharey=False, figsize=(10,5))\n",
    "    sns.histplot(income, stat='frequency', element='poly', bins=30, ax=ax[0])\n",
    "    ax[0].set_xlim([0, 2000])\n",
    "    ax[0].set_ylim([0, 80])\n",
    "\n",
    "    \n",
    "    sns.lineplot(x=x, y=x, ax=ax[1])\n",
    "    sns.lineplot(x=x, y=y, color='red', ax=ax[1])\n",
    "    plt.fill_between(x, x, y, color='red', alpha=0.25)\n",
    "    ax[1].set_xlim([0, 1])\n",
    "    ax[1].set_ylim([0, 1])\n",
    "\n",
    "    plt.close(fig)\n",
    "\n",
    "    return fig\n"
   ]
  },
  {
   "cell_type": "code",
   "execution_count": 6,
   "metadata": {},
   "outputs": [
    {
     "data": {
      "application/vnd.jupyter.widget-view+json": {
       "model_id": "7d106bec18844dd88b8921dc223d7d8a",
       "version_major": 2,
       "version_minor": 0
      },
      "text/plain": [
       "interactive(children=(IntSlider(value=200, description='sd', max=400, min=1), Output()), _dom_classes=('widget…"
      ]
     },
     "metadata": {},
     "output_type": "display_data"
    },
    {
     "data": {
      "text/plain": [
       "<function __main__.plot_income(**kwargs)>"
      ]
     },
     "execution_count": 6,
     "metadata": {},
     "output_type": "execute_result"
    }
   ],
   "source": [
    "interact(plot_income, sd=(1,400))"
   ]
  },
  {
   "cell_type": "code",
   "execution_count": 7,
   "metadata": {},
   "outputs": [
    {
     "data": {
      "application/vnd.jupyter.widget-view+json": {
       "model_id": "3573db318b5e455d9c52b48b6761892a",
       "version_major": 2,
       "version_minor": 0
      },
      "text/plain": [
       "interactive(children=(IntSlider(value=400, description='sd', max=800, min=1), Output()), _dom_classes=('widget…"
      ]
     },
     "metadata": {},
     "output_type": "display_data"
    },
    {
     "data": {
      "text/plain": [
       "<function __main__.plot_both(**kwargs)>"
      ]
     },
     "execution_count": 7,
     "metadata": {},
     "output_type": "execute_result"
    }
   ],
   "source": [
    "interact(plot_both, sd=(1,800))"
   ]
  },
  {
   "cell_type": "code",
   "execution_count": null,
   "metadata": {},
   "outputs": [],
   "source": []
  }
 ],
 "metadata": {
  "kernelspec": {
   "display_name": "Python 3 (ipykernel)",
   "language": "python",
   "name": "python3"
  },
  "language_info": {
   "codemirror_mode": {
    "name": "ipython",
    "version": 3
   },
   "file_extension": ".py",
   "mimetype": "text/x-python",
   "name": "python",
   "nbconvert_exporter": "python",
   "pygments_lexer": "ipython3",
   "version": "3.11.4"
  },
  "vscode": {
   "interpreter": {
    "hash": "0d9db2acd79fc802845d33905a24c499b3c5b632a8047d75c602e59109c51bd3"
   }
  },
  "widgets": {
   "application/vnd.jupyter.widget-state+json": {
    "state": {
     "02907de5f27a4015960056a09b5dc9bb": {
      "model_module": "@jupyter-widgets/controls",
      "model_module_version": "2.0.0",
      "model_name": "SliderStyleModel",
      "state": {
       "_model_module": "@jupyter-widgets/controls",
       "_model_module_version": "2.0.0",
       "_model_name": "SliderStyleModel",
       "_view_count": null,
       "_view_module": "@jupyter-widgets/base",
       "_view_module_version": "2.0.0",
       "_view_name": "StyleView",
       "description_width": "",
       "handle_color": null
      }
     },
     "0a6be8ac8b01476cb0ef1b16e1b87ccf": {
      "model_module": "@jupyter-widgets/base",
      "model_module_version": "2.0.0",
      "model_name": "LayoutModel",
      "state": {
       "_model_module": "@jupyter-widgets/base",
       "_model_module_version": "2.0.0",
       "_model_name": "LayoutModel",
       "_view_count": null,
       "_view_module": "@jupyter-widgets/base",
       "_view_module_version": "2.0.0",
       "_view_name": "LayoutView",
       "align_content": null,
       "align_items": null,
       "align_self": null,
       "border_bottom": null,
       "border_left": null,
       "border_right": null,
       "border_top": null,
       "bottom": null,
       "display": null,
       "flex": null,
       "flex_flow": null,
       "grid_area": null,
       "grid_auto_columns": null,
       "grid_auto_flow": null,
       "grid_auto_rows": null,
       "grid_column": null,
       "grid_gap": null,
       "grid_row": null,
       "grid_template_areas": null,
       "grid_template_columns": null,
       "grid_template_rows": null,
       "height": null,
       "justify_content": null,
       "justify_items": null,
       "left": null,
       "margin": null,
       "max_height": null,
       "max_width": null,
       "min_height": null,
       "min_width": null,
       "object_fit": null,
       "object_position": null,
       "order": null,
       "overflow": null,
       "padding": null,
       "right": null,
       "top": null,
       "visibility": null,
       "width": null
      }
     },
     "142de140c4e64f8490e1fec6da86885e": {
      "model_module": "@jupyter-widgets/output",
      "model_module_version": "1.0.0",
      "model_name": "OutputModel",
      "state": {
       "_dom_classes": [],
       "_model_module": "@jupyter-widgets/output",
       "_model_module_version": "1.0.0",
       "_model_name": "OutputModel",
       "_view_count": null,
       "_view_module": "@jupyter-widgets/output",
       "_view_module_version": "1.0.0",
       "_view_name": "OutputView",
       "layout": "IPY_MODEL_5e795c1ae8cb4e4d880ab3cdf91a9be0",
       "msg_id": "",
       "outputs": [
        {
         "data": {
          "image/png": "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",
          "text/plain": "<Figure size 1200x600 with 2 Axes>"
         },
         "metadata": {},
         "output_type": "display_data"
        }
       ],
       "tabbable": null,
       "tooltip": null
      }
     },
     "201251f015c5469fb70faed9cbaa773c": {
      "model_module": "@jupyter-widgets/base",
      "model_module_version": "2.0.0",
      "model_name": "LayoutModel",
      "state": {
       "_model_module": "@jupyter-widgets/base",
       "_model_module_version": "2.0.0",
       "_model_name": "LayoutModel",
       "_view_count": null,
       "_view_module": "@jupyter-widgets/base",
       "_view_module_version": "2.0.0",
       "_view_name": "LayoutView",
       "align_content": null,
       "align_items": null,
       "align_self": null,
       "border_bottom": null,
       "border_left": null,
       "border_right": null,
       "border_top": null,
       "bottom": null,
       "display": null,
       "flex": null,
       "flex_flow": null,
       "grid_area": null,
       "grid_auto_columns": null,
       "grid_auto_flow": null,
       "grid_auto_rows": null,
       "grid_column": null,
       "grid_gap": null,
       "grid_row": null,
       "grid_template_areas": null,
       "grid_template_columns": null,
       "grid_template_rows": null,
       "height": null,
       "justify_content": null,
       "justify_items": null,
       "left": null,
       "margin": null,
       "max_height": null,
       "max_width": null,
       "min_height": null,
       "min_width": null,
       "object_fit": null,
       "object_position": null,
       "order": null,
       "overflow": null,
       "padding": null,
       "right": null,
       "top": null,
       "visibility": null,
       "width": null
      }
     },
     "24e2afcd258c4f0b84fc4dba231ec07f": {
      "model_module": "@jupyter-widgets/output",
      "model_module_version": "1.0.0",
      "model_name": "OutputModel",
      "state": {
       "_dom_classes": [],
       "_model_module": "@jupyter-widgets/output",
       "_model_module_version": "1.0.0",
       "_model_name": "OutputModel",
       "_view_count": null,
       "_view_module": "@jupyter-widgets/output",
       "_view_module_version": "1.0.0",
       "_view_name": "OutputView",
       "layout": "IPY_MODEL_201251f015c5469fb70faed9cbaa773c",
       "msg_id": "",
       "outputs": [
        {
         "data": {
          "image/png": "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",
          "text/plain": "<Figure size 768x576 with 1 Axes>"
         },
         "metadata": {},
         "output_type": "display_data"
        }
       ],
       "tabbable": null,
       "tooltip": null
      }
     },
     "3573db318b5e455d9c52b48b6761892a": {
      "model_module": "@jupyter-widgets/controls",
      "model_module_version": "2.0.0",
      "model_name": "VBoxModel",
      "state": {
       "_dom_classes": [
        "widget-interact"
       ],
       "_model_module": "@jupyter-widgets/controls",
       "_model_module_version": "2.0.0",
       "_model_name": "VBoxModel",
       "_view_count": null,
       "_view_module": "@jupyter-widgets/controls",
       "_view_module_version": "2.0.0",
       "_view_name": "VBoxView",
       "box_style": "",
       "children": [
        "IPY_MODEL_6f2a648df6a44b4388ff38b7dcd75fc0",
        "IPY_MODEL_142de140c4e64f8490e1fec6da86885e"
       ],
       "layout": "IPY_MODEL_ad8d6b4b900f4c50a6c5d3581b88d532",
       "tabbable": null,
       "tooltip": null
      }
     },
     "5e795c1ae8cb4e4d880ab3cdf91a9be0": {
      "model_module": "@jupyter-widgets/base",
      "model_module_version": "2.0.0",
      "model_name": "LayoutModel",
      "state": {
       "_model_module": "@jupyter-widgets/base",
       "_model_module_version": "2.0.0",
       "_model_name": "LayoutModel",
       "_view_count": null,
       "_view_module": "@jupyter-widgets/base",
       "_view_module_version": "2.0.0",
       "_view_name": "LayoutView",
       "align_content": null,
       "align_items": null,
       "align_self": null,
       "border_bottom": null,
       "border_left": null,
       "border_right": null,
       "border_top": null,
       "bottom": null,
       "display": null,
       "flex": null,
       "flex_flow": null,
       "grid_area": null,
       "grid_auto_columns": null,
       "grid_auto_flow": null,
       "grid_auto_rows": null,
       "grid_column": null,
       "grid_gap": null,
       "grid_row": null,
       "grid_template_areas": null,
       "grid_template_columns": null,
       "grid_template_rows": null,
       "height": null,
       "justify_content": null,
       "justify_items": null,
       "left": null,
       "margin": null,
       "max_height": null,
       "max_width": null,
       "min_height": null,
       "min_width": null,
       "object_fit": null,
       "object_position": null,
       "order": null,
       "overflow": null,
       "padding": null,
       "right": null,
       "top": null,
       "visibility": null,
       "width": null
      }
     },
     "6f2a648df6a44b4388ff38b7dcd75fc0": {
      "model_module": "@jupyter-widgets/controls",
      "model_module_version": "2.0.0",
      "model_name": "IntSliderModel",
      "state": {
       "_dom_classes": [],
       "_model_module": "@jupyter-widgets/controls",
       "_model_module_version": "2.0.0",
       "_model_name": "IntSliderModel",
       "_view_count": null,
       "_view_module": "@jupyter-widgets/controls",
       "_view_module_version": "2.0.0",
       "_view_name": "IntSliderView",
       "behavior": "drag-tap",
       "continuous_update": true,
       "description": "sd",
       "description_allow_html": false,
       "disabled": false,
       "layout": "IPY_MODEL_d31485f19b74490081c8d8055bdb7479",
       "max": 800,
       "min": 1,
       "orientation": "horizontal",
       "readout": true,
       "readout_format": "d",
       "step": 1,
       "style": "IPY_MODEL_e78954489470477995237d65435f39ca",
       "tabbable": null,
       "tooltip": null,
       "value": 400
      }
     },
     "7d106bec18844dd88b8921dc223d7d8a": {
      "model_module": "@jupyter-widgets/controls",
      "model_module_version": "2.0.0",
      "model_name": "VBoxModel",
      "state": {
       "_dom_classes": [
        "widget-interact"
       ],
       "_model_module": "@jupyter-widgets/controls",
       "_model_module_version": "2.0.0",
       "_model_name": "VBoxModel",
       "_view_count": null,
       "_view_module": "@jupyter-widgets/controls",
       "_view_module_version": "2.0.0",
       "_view_name": "VBoxView",
       "box_style": "",
       "children": [
        "IPY_MODEL_ca06f6cea398429fb88112ddadee244d",
        "IPY_MODEL_24e2afcd258c4f0b84fc4dba231ec07f"
       ],
       "layout": "IPY_MODEL_0a6be8ac8b01476cb0ef1b16e1b87ccf",
       "tabbable": null,
       "tooltip": null
      }
     },
     "ad8d6b4b900f4c50a6c5d3581b88d532": {
      "model_module": "@jupyter-widgets/base",
      "model_module_version": "2.0.0",
      "model_name": "LayoutModel",
      "state": {
       "_model_module": "@jupyter-widgets/base",
       "_model_module_version": "2.0.0",
       "_model_name": "LayoutModel",
       "_view_count": null,
       "_view_module": "@jupyter-widgets/base",
       "_view_module_version": "2.0.0",
       "_view_name": "LayoutView",
       "align_content": null,
       "align_items": null,
       "align_self": null,
       "border_bottom": null,
       "border_left": null,
       "border_right": null,
       "border_top": null,
       "bottom": null,
       "display": null,
       "flex": null,
       "flex_flow": null,
       "grid_area": null,
       "grid_auto_columns": null,
       "grid_auto_flow": null,
       "grid_auto_rows": null,
       "grid_column": null,
       "grid_gap": null,
       "grid_row": null,
       "grid_template_areas": null,
       "grid_template_columns": null,
       "grid_template_rows": null,
       "height": null,
       "justify_content": null,
       "justify_items": null,
       "left": null,
       "margin": null,
       "max_height": null,
       "max_width": null,
       "min_height": null,
       "min_width": null,
       "object_fit": null,
       "object_position": null,
       "order": null,
       "overflow": null,
       "padding": null,
       "right": null,
       "top": null,
       "visibility": null,
       "width": null
      }
     },
     "ca06f6cea398429fb88112ddadee244d": {
      "model_module": "@jupyter-widgets/controls",
      "model_module_version": "2.0.0",
      "model_name": "IntSliderModel",
      "state": {
       "_dom_classes": [],
       "_model_module": "@jupyter-widgets/controls",
       "_model_module_version": "2.0.0",
       "_model_name": "IntSliderModel",
       "_view_count": null,
       "_view_module": "@jupyter-widgets/controls",
       "_view_module_version": "2.0.0",
       "_view_name": "IntSliderView",
       "behavior": "drag-tap",
       "continuous_update": true,
       "description": "sd",
       "description_allow_html": false,
       "disabled": false,
       "layout": "IPY_MODEL_e143d4a360c94f2ebe0a6776bb742d10",
       "max": 400,
       "min": 1,
       "orientation": "horizontal",
       "readout": true,
       "readout_format": "d",
       "step": 1,
       "style": "IPY_MODEL_02907de5f27a4015960056a09b5dc9bb",
       "tabbable": null,
       "tooltip": null,
       "value": 200
      }
     },
     "d31485f19b74490081c8d8055bdb7479": {
      "model_module": "@jupyter-widgets/base",
      "model_module_version": "2.0.0",
      "model_name": "LayoutModel",
      "state": {
       "_model_module": "@jupyter-widgets/base",
       "_model_module_version": "2.0.0",
       "_model_name": "LayoutModel",
       "_view_count": null,
       "_view_module": "@jupyter-widgets/base",
       "_view_module_version": "2.0.0",
       "_view_name": "LayoutView",
       "align_content": null,
       "align_items": null,
       "align_self": null,
       "border_bottom": null,
       "border_left": null,
       "border_right": null,
       "border_top": null,
       "bottom": null,
       "display": null,
       "flex": null,
       "flex_flow": null,
       "grid_area": null,
       "grid_auto_columns": null,
       "grid_auto_flow": null,
       "grid_auto_rows": null,
       "grid_column": null,
       "grid_gap": null,
       "grid_row": null,
       "grid_template_areas": null,
       "grid_template_columns": null,
       "grid_template_rows": null,
       "height": null,
       "justify_content": null,
       "justify_items": null,
       "left": null,
       "margin": null,
       "max_height": null,
       "max_width": null,
       "min_height": null,
       "min_width": null,
       "object_fit": null,
       "object_position": null,
       "order": null,
       "overflow": null,
       "padding": null,
       "right": null,
       "top": null,
       "visibility": null,
       "width": null
      }
     },
     "e143d4a360c94f2ebe0a6776bb742d10": {
      "model_module": "@jupyter-widgets/base",
      "model_module_version": "2.0.0",
      "model_name": "LayoutModel",
      "state": {
       "_model_module": "@jupyter-widgets/base",
       "_model_module_version": "2.0.0",
       "_model_name": "LayoutModel",
       "_view_count": null,
       "_view_module": "@jupyter-widgets/base",
       "_view_module_version": "2.0.0",
       "_view_name": "LayoutView",
       "align_content": null,
       "align_items": null,
       "align_self": null,
       "border_bottom": null,
       "border_left": null,
       "border_right": null,
       "border_top": null,
       "bottom": null,
       "display": null,
       "flex": null,
       "flex_flow": null,
       "grid_area": null,
       "grid_auto_columns": null,
       "grid_auto_flow": null,
       "grid_auto_rows": null,
       "grid_column": null,
       "grid_gap": null,
       "grid_row": null,
       "grid_template_areas": null,
       "grid_template_columns": null,
       "grid_template_rows": null,
       "height": null,
       "justify_content": null,
       "justify_items": null,
       "left": null,
       "margin": null,
       "max_height": null,
       "max_width": null,
       "min_height": null,
       "min_width": null,
       "object_fit": null,
       "object_position": null,
       "order": null,
       "overflow": null,
       "padding": null,
       "right": null,
       "top": null,
       "visibility": null,
       "width": null
      }
     },
     "e78954489470477995237d65435f39ca": {
      "model_module": "@jupyter-widgets/controls",
      "model_module_version": "2.0.0",
      "model_name": "SliderStyleModel",
      "state": {
       "_model_module": "@jupyter-widgets/controls",
       "_model_module_version": "2.0.0",
       "_model_name": "SliderStyleModel",
       "_view_count": null,
       "_view_module": "@jupyter-widgets/base",
       "_view_module_version": "2.0.0",
       "_view_name": "StyleView",
       "description_width": "",
       "handle_color": null
      }
     }
    },
    "version_major": 2,
    "version_minor": 0
   }
  }
 },
 "nbformat": 4,
 "nbformat_minor": 4
}