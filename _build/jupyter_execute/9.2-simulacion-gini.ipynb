{
 "cells": [
  {
   "cell_type": "markdown",
   "metadata": {},
   "source": [
    "# Ejemplo: Simulación Gini\n",
    "\n",
    "Elaborado por: Alejandro Acosta"
   ]
  },
  {
   "cell_type": "code",
   "execution_count": 1,
   "metadata": {},
   "outputs": [],
   "source": [
    "import pandas as pd\n",
    "import numpy as np\n",
    "import matplotlib.pyplot as plt\n",
    "import seaborn as sns\n",
    "\n",
    "from ipywidgets import interact, interactive, fixed, interact_manual\n",
    "import ipywidgets as widgets\n",
    "\n",
    "plt.rcParams['figure.dpi'] = 120\n",
    "plt.rcParams['savefig.dpi'] = 120\n",
    "\n",
    "sns.set_style(\"whitegrid\")"
   ]
  },
  {
   "cell_type": "code",
   "execution_count": 2,
   "metadata": {},
   "outputs": [],
   "source": [
    "def simul_income(mean=1000, sd=50, size=10000):\n",
    "    return sorted(np.random.normal(mean, sd, size).clip(0))\n",
    "\n",
    "\n"
   ]
  },
  {
   "cell_type": "code",
   "execution_count": 3,
   "metadata": {},
   "outputs": [],
   "source": [
    "def plot_income(**kwargs):\n",
    "    income = simul_income(**kwargs)\n",
    "    fig = plt.figure()\n",
    "    sns.histplot(income, stat='frequency', element='poly', bins=30)\n",
    "    plt.xlim(0,2000)\n",
    "    plt.ylim(0,80)\n",
    "    plt.close(fig)\n",
    "    return fig"
   ]
  },
  {
   "cell_type": "code",
   "execution_count": 4,
   "metadata": {},
   "outputs": [],
   "source": [
    "def plot_gini(**kwargs):\n",
    "    income = simul_income(**kwargs)\n",
    "    total_income = sum(income)\n",
    "    bins = np.linspace(0,100, 20)\n",
    "    x = [np.percentile(income, i) for i in bins]\n",
    "    x2 = [i/100 for i in bins]\n",
    "    y = [np.round(sum(income*np.array([i<=x[j] for i in income]))/total_income,2) for j in range(len(bins))]\n",
    "\n",
    "    fig=plt.figure()\n",
    "    sns.lineplot(x=x2,y=x2)\n",
    "    sns.lineplot(x=x2,y=y, color='red')\n",
    "    plt.fill_between(x2,x2,y, color='red', alpha=0.25)\n",
    "    plt.ylim(0,1)\n",
    "    plt.xlim(0,1)\n",
    "    plt.close(fig)\n",
    "    return fig"
   ]
  },
  {
   "cell_type": "code",
   "execution_count": 5,
   "metadata": {},
   "outputs": [],
   "source": [
    "def plot_both(**kwargs):\n",
    "    income = simul_income(**kwargs)\n",
    "    total_income = sum(income)\n",
    "    bins = np.linspace(0, 100, 20)\n",
    "    xaux = [np.percentile(income, i) for i in bins]\n",
    "    x = [i/100 for i in bins]\n",
    "    y = [np.round(sum(income*np.array([i <= xaux[j] for i in income])\n",
    "                      )/total_income, 2) for j in range(len(bins))]\n",
    "\n",
    "    fig, ax = plt.subplots(1, 2, sharex=False, sharey=False, figsize=(10,5))\n",
    "    sns.histplot(income, stat='frequency', element='poly', bins=30, ax=ax[0])\n",
    "    ax[0].set_xlim([0, 2000])\n",
    "    ax[0].set_ylim([0, 80])\n",
    "\n",
    "    \n",
    "    sns.lineplot(x=x, y=x, ax=ax[1])\n",
    "    sns.lineplot(x=x, y=y, color='red', ax=ax[1])\n",
    "    plt.fill_between(x, x, y, color='red', alpha=0.25)\n",
    "    ax[1].set_xlim([0, 1])\n",
    "    ax[1].set_ylim([0, 1])\n",
    "\n",
    "    plt.close(fig)\n",
    "\n",
    "    return fig\n"
   ]
  },
  {
   "cell_type": "code",
   "execution_count": 6,
   "metadata": {},
   "outputs": [
    {
     "data": {
      "application/vnd.jupyter.widget-view+json": {
       "model_id": "85ffe8edf1d74e229eddd668a0ed0839",
       "version_major": 2,
       "version_minor": 0
      },
      "text/plain": [
       "interactive(children=(IntSlider(value=200, description='sd', max=400, min=1), Output()), _dom_classes=('widget…"
      ]
     },
     "metadata": {},
     "output_type": "display_data"
    },
    {
     "data": {
      "text/plain": [
       "<function __main__.plot_income(**kwargs)>"
      ]
     },
     "execution_count": 6,
     "metadata": {},
     "output_type": "execute_result"
    }
   ],
   "source": [
    "interact(plot_income, sd=(1,400))"
   ]
  },
  {
   "cell_type": "code",
   "execution_count": 7,
   "metadata": {},
   "outputs": [
    {
     "data": {
      "application/vnd.jupyter.widget-view+json": {
       "model_id": "db8b1f0e045c4f9494aa111b59fe7895",
       "version_major": 2,
       "version_minor": 0
      },
      "text/plain": [
       "interactive(children=(IntSlider(value=400, description='sd', max=800, min=1), Output()), _dom_classes=('widget…"
      ]
     },
     "metadata": {},
     "output_type": "display_data"
    },
    {
     "data": {
      "text/plain": [
       "<function __main__.plot_both(**kwargs)>"
      ]
     },
     "execution_count": 7,
     "metadata": {},
     "output_type": "execute_result"
    }
   ],
   "source": [
    "interact(plot_both, sd=(1,800))"
   ]
  },
  {
   "cell_type": "code",
   "execution_count": null,
   "metadata": {},
   "outputs": [],
   "source": []
  }
 ],
 "metadata": {
  "kernelspec": {
   "display_name": "Python 3 (ipykernel)",
   "language": "python",
   "name": "python3"
  },
  "language_info": {
   "codemirror_mode": {
    "name": "ipython",
    "version": 3
   },
   "file_extension": ".py",
   "mimetype": "text/x-python",
   "name": "python",
   "nbconvert_exporter": "python",
   "pygments_lexer": "ipython3",
   "version": "3.11.4"
  },
  "vscode": {
   "interpreter": {
    "hash": "0d9db2acd79fc802845d33905a24c499b3c5b632a8047d75c602e59109c51bd3"
   }
  },
  "widgets": {
   "application/vnd.jupyter.widget-state+json": {
    "state": {
     "00c74a63536d454985ce4c39944955c4": {
      "model_module": "@jupyter-widgets/controls",
      "model_module_version": "2.0.0",
      "model_name": "SliderStyleModel",
      "state": {
       "_model_module": "@jupyter-widgets/controls",
       "_model_module_version": "2.0.0",
       "_model_name": "SliderStyleModel",
       "_view_count": null,
       "_view_module": "@jupyter-widgets/base",
       "_view_module_version": "2.0.0",
       "_view_name": "StyleView",
       "description_width": "",
       "handle_color": null
      }
     },
     "1461523a0380425cb743b728a2cff3bc": {
      "model_module": "@jupyter-widgets/controls",
      "model_module_version": "2.0.0",
      "model_name": "IntSliderModel",
      "state": {
       "_dom_classes": [],
       "_model_module": "@jupyter-widgets/controls",
       "_model_module_version": "2.0.0",
       "_model_name": "IntSliderModel",
       "_view_count": null,
       "_view_module": "@jupyter-widgets/controls",
       "_view_module_version": "2.0.0",
       "_view_name": "IntSliderView",
       "behavior": "drag-tap",
       "continuous_update": true,
       "description": "sd",
       "description_allow_html": false,
       "disabled": false,
       "layout": "IPY_MODEL_bd17ad9fb0454a1abec3ac6d21528104",
       "max": 400,
       "min": 1,
       "orientation": "horizontal",
       "readout": true,
       "readout_format": "d",
       "step": 1,
       "style": "IPY_MODEL_00c74a63536d454985ce4c39944955c4",
       "tabbable": null,
       "tooltip": null,
       "value": 200
      }
     },
     "3050b9a371f343a4b0db109e95549b22": {
      "model_module": "@jupyter-widgets/controls",
      "model_module_version": "2.0.0",
      "model_name": "SliderStyleModel",
      "state": {
       "_model_module": "@jupyter-widgets/controls",
       "_model_module_version": "2.0.0",
       "_model_name": "SliderStyleModel",
       "_view_count": null,
       "_view_module": "@jupyter-widgets/base",
       "_view_module_version": "2.0.0",
       "_view_name": "StyleView",
       "description_width": "",
       "handle_color": null
      }
     },
     "445b3e5d3fe44d05bdc9f0f7d80b8deb": {
      "model_module": "@jupyter-widgets/base",
      "model_module_version": "2.0.0",
      "model_name": "LayoutModel",
      "state": {
       "_model_module": "@jupyter-widgets/base",
       "_model_module_version": "2.0.0",
       "_model_name": "LayoutModel",
       "_view_count": null,
       "_view_module": "@jupyter-widgets/base",
       "_view_module_version": "2.0.0",
       "_view_name": "LayoutView",
       "align_content": null,
       "align_items": null,
       "align_self": null,
       "border_bottom": null,
       "border_left": null,
       "border_right": null,
       "border_top": null,
       "bottom": null,
       "display": null,
       "flex": null,
       "flex_flow": null,
       "grid_area": null,
       "grid_auto_columns": null,
       "grid_auto_flow": null,
       "grid_auto_rows": null,
       "grid_column": null,
       "grid_gap": null,
       "grid_row": null,
       "grid_template_areas": null,
       "grid_template_columns": null,
       "grid_template_rows": null,
       "height": null,
       "justify_content": null,
       "justify_items": null,
       "left": null,
       "margin": null,
       "max_height": null,
       "max_width": null,
       "min_height": null,
       "min_width": null,
       "object_fit": null,
       "object_position": null,
       "order": null,
       "overflow": null,
       "padding": null,
       "right": null,
       "top": null,
       "visibility": null,
       "width": null
      }
     },
     "4578c41abf6448c7a556eadc2dfd79ed": {
      "model_module": "@jupyter-widgets/base",
      "model_module_version": "2.0.0",
      "model_name": "LayoutModel",
      "state": {
       "_model_module": "@jupyter-widgets/base",
       "_model_module_version": "2.0.0",
       "_model_name": "LayoutModel",
       "_view_count": null,
       "_view_module": "@jupyter-widgets/base",
       "_view_module_version": "2.0.0",
       "_view_name": "LayoutView",
       "align_content": null,
       "align_items": null,
       "align_self": null,
       "border_bottom": null,
       "border_left": null,
       "border_right": null,
       "border_top": null,
       "bottom": null,
       "display": null,
       "flex": null,
       "flex_flow": null,
       "grid_area": null,
       "grid_auto_columns": null,
       "grid_auto_flow": null,
       "grid_auto_rows": null,
       "grid_column": null,
       "grid_gap": null,
       "grid_row": null,
       "grid_template_areas": null,
       "grid_template_columns": null,
       "grid_template_rows": null,
       "height": null,
       "justify_content": null,
       "justify_items": null,
       "left": null,
       "margin": null,
       "max_height": null,
       "max_width": null,
       "min_height": null,
       "min_width": null,
       "object_fit": null,
       "object_position": null,
       "order": null,
       "overflow": null,
       "padding": null,
       "right": null,
       "top": null,
       "visibility": null,
       "width": null
      }
     },
     "46aa33bd721c46f8b30ed5f9a518e525": {
      "model_module": "@jupyter-widgets/output",
      "model_module_version": "1.0.0",
      "model_name": "OutputModel",
      "state": {
       "_dom_classes": [],
       "_model_module": "@jupyter-widgets/output",
       "_model_module_version": "1.0.0",
       "_model_name": "OutputModel",
       "_view_count": null,
       "_view_module": "@jupyter-widgets/output",
       "_view_module_version": "1.0.0",
       "_view_name": "OutputView",
       "layout": "IPY_MODEL_71c900eb425748168511e6b25d4d7fc8",
       "msg_id": "",
       "outputs": [
        {
         "data": {
          "image/png": "iVBORw0KGgoAAAANSUhEUgAAA/kAAAIGCAYAAAAP9k90AAAAOXRFWHRTb2Z0d2FyZQBNYXRwbG90bGliIHZlcnNpb24zLjcuMiwgaHR0cHM6Ly9tYXRwbG90bGliLm9yZy8pXeV/AAAACXBIWXMAABJ0AAASdAHeZh94AACySUlEQVR4nOzdd3wUdf7H8Vd6DxCQJBBaQBBQSkBRsXsoh+1+cpbTAwQBQRBQip4ngoqAREBFEIRQQlNQBAuKqIeKhRKKFKkJJXQI6dlssju/P0bQCCoku5nN5v18PHzkO7M7O+/vGpJ8dmY+42MYhoGIiIiIiIiIVHi+VgcQEREREREREddQkS8iIiIiIiLiJVTki4iIiIiIiHgJFfkiIiIiIiIiXkJFvoiIiIiIiIiXUJEvIiIiIiIi4iVU5IuIiIiIiIh4CRX5IiIiIiIiIl5CRb6IiIiIiIiIl1CRLyIiIiIiIuIlVOSLiIiIiIiIeAmPK/IXLVrEHXfcQatWrfj73//O/PnzMQzj7OP79++nT58+tG3blnbt2jFixAhyc3MtTCwiIiIX4ujRo7Rt25Y1a9b85XM//vhj7rjjDlq0aMHf//53Pvjgg3JIKCIiUvH5Wx3gtxYvXszw4cPp0qULt956K+vXr+ell16isLCQHj16kJ2dTbdu3ahRowZjx44lIyODxMRE0tPTSUpKsjq+iIiI/IEjR47w6KOPkpOT85fPXbFiBUOGDKFr165cf/31fPHFFzzzzDMEBgZyxx13lENaERGRisujivz333+fNm3a8NxzzwFwzTXXkJaWxrx58+jRowcLFy4kMzOTJUuWEBUVBUB0dDS9e/cmJSWFNm3aWBlfREREfsfpdLJ06VJeeeWVC95mwoQJdOzYkWeffRaA66+/nqysLF5//XUV+SIiIn/Bo07XLywsJDw8vMS6qlWrkpmZCcDq1atp06bN2QIf4LrrriMsLIxvvvmmPKOKiIjIBdi5cycjRozgH//4B+PGjfvL56enp7Nv3z46dOhQYv3tt9/O/v372bdvn5uSioiIeAePOpLftWtX/vvf/7Js2TJuueUWNm3axAcffMA//vEPAPbu3UunTp1KbOPn50dcXBxpaWkXvb/i4mJycnIIDAzE19ejPu8QEZFKyul0YrfbiYiIwN/fo35Nl0psbCwrV64kJibmgq7F37t3LwD169cvsb5evXoApKWlnfPYn9HvehER8TTu/l3vUX893HHHHaxdu5Zhw4adXXfdddedPV0vJyeHsLCwc7YLCwsrVfO9nJwcUlNTSx9YRETETeLj46lWrZrVMcqsatWqF/X8M7/Pf39m35nf/xf7+16/60VExFO563e9RxX5jz/+OCkpKQwdOpQWLVqwa9cuJk2axMCBA5k8eXKJLvu/5+Pjc9H7CwwMBMzr+s/34UFFZLfbSU9PJy4u7uz8Kjpvm5O3zQc0p4pCc6oY8vLyOHbsmNfM52I5nc4/ffxij8Z74+96q3njvzsr6f10Pb2nrqX30zWyCop4ddYqxs76L0W1a5E6YYLb3k+PKfI3bNjAt99+y6hRo7jvvvsAuOqqq6hTpw69e/dm1apVhIeHk5eXd862ubm5REdHX/Q+z/yhEBYW5hVHSwAKCgoAiIyMJCQkxOI0ruFtc/K2+YDmVFFoThVLZT21PCIiAuCc3/d/dIT/r3jj73qrefO/Oyvo/XQ9vaeupfez7HILi3li3o/8a/FMwvfuocAwP9B21+96j/kL4vDhwwAkJCSUWN+2bVsAdu/eTYMGDThw4ECJxx0OB+np6TRs2LB8goqIiIjbNGjQAID9+/eXWH9mWb/vRUSkIiksdtA7eT0nft7LP7d8CYCjRQu37tNjivz4+HgA1q9fX2L9hg0bAKhTpw7t27dn3bp1ZGRknH189erV5Ofn0759+/ILKyIiIm5Rr1494uLiWLFiRYn1n3/+OfXr1ycuLs6iZCIiIhfH4TR48t1NfL/3FI+tfZ9AZ7G5vmtXt+7XY07Xb9asGbfffjtjx44lKyuLli1bsmfPHiZNmkTz5s3p0KED7dq1Y968eXTv3p3+/fuTmZlJYmIiN9xwwzlnAIiIiIjny83NZc+ePdStW/fsLXL79evHf/7zH6pWrcott9zCl19+yaeffsrEiRMtTisiInJhDMNg+LKtLN9ylOp5mTy0+ZcPrxMScF5/PfzujDVX8pgiH+DVV1/lrbfe4p133uGNN96gVq1a3HvvvfTr1w9/f3+ioqJITk5m9OjRDBkyhLCwMDp27FiiG7+IiIhUHNu2baNr166MGTOGe++9F4B7770Xu93OzJkzef/996lTpw6vvPLKObfRFRER8VQTv9jNgjXmpebDNiwhqNhuPjB4MPj5uXXfHlXkBwYGMnDgQAYOHPiHz2ncuDGzZ88uv1AiIiLiEu3atWPnzp1/uQ7gwQcf5MEHHyyvaCIiIi4z+7s03vhyNwBNizK5b+On5gPNmkHnzpCf79b9e8w1+SIiIiIiIiIV2bJNhxj50XYAqvs5WZD2Ib6/3KGAp56CoCC3Z1CRLyIiIiIiIlJGX+86weBFmwEI93UyN/YU1b78zHywUSN4+OFyyaEiX0RERERERKQMNh44Td95KRQ7DQJ9DN6uk0OzbWsgO9t8whNPQHBwuWRRkS8iIiIiIiJSSnuO59B99jry7Q58MXgjNptrG0TBu++aT6hTBx59tNzyqMgXERERERERKYXDmQV0SVpLZn4RAKMuyaLj5THw6adw+rT5pH79ICys3DKpyBcRERERERG5SKfz7HRJWsORLBsAQ6pl8VCrGHA6fz2KHxMDffqUay4V+SIiIiIiIiIXIa+wmEdmr2PviTwAukfm0K91DfDzg5Ur4dgx84mPPQZVqpRrNhX5IiIiIiIiIhfIXuykz7wUNh/MBOCe0DyGJ1TFJzAQHA5YsMB8YvXq0L9/uedTkS8iIiIiIiJyAZxOg8GLN/Pt7pMA3BhSQGKbcHzPdM7/+mtITzfHjz4KNWqUe0YV+SIiIiIiIiJ/wTAMXvhoGx9tPgxA66BC3moVTGBYqPkEpxPmzzfHVarAoEGW5FSRLyIiIiIiIvIXJn21hzk/7Afg0oAiZl3hR2iV8F+f8MMPkJpqjrt0gdhYC1KqyBcRERERERH5U/N+3M+ElbsAqOXvILmZg6o1ftNQzzBg3jxzHBYGQ4ZYkNKkIl9ERERERETkDyzfcoThy7YCUM3PSfKlNmJjq5d8UkoK7Nhhjh98EOrVK+eUv1KRLyIiIiIiInIe3+05yaB3NmEYEOprMKt+Ho3q1Tz3iWeO4gcHw7Bh5Rvyd1Tki4iIiIiIiPzOT+mZ9E5ej93hJMDHYFrtbFo1ij73iVu2wObN5rhzZ7j00vIN+jsq8kVERERERER+I/VELo/MWkee3YEPBhNjsri+WSz4+Jz75DNH8QMC4Omnz/+ccqQiX0REREREROQXR7NsdElaS0aeHYAXa2Rx5+Ux5y/ed+6EtWvN8V13weWXl2PS81ORLyIiIiIiIgJk5tvpOnMNhzILABhYNZsurWPAz+/8G8yfb37184NnnrH8KD6oyBcRERERERGhwO7g0Tnr2XUsF4B/R+QyqHXUHxf4aWnw7bfm+PbboW3bckr651Tki4iIiIiISKVW5HDy+PwUUvafBuCO0DxeSIjEJyjojzdasMD86uPjMUfxQUW+iIiIiIiIVGJOp8Gw937ifztPAHBdsI0JCWH4hYT88UaHDsFXX5njm2+G9u3LIemFUZEvIiIiIiIilZJhGLy8/Gc+2HgIgJaBdqa2DCQoPOzPN1y4EJxOc/z00+DrOaW15yQRERERERERKUdTv04laXUaAPEBRcy8wofwahF/vtHx47BihTm+9lq49VY3p7w4KvJFRERERESk0nl33QFe+WwHADH+DpIvc1D9kqoXsOG7UFxsjocO/ePGfBZRkS8iIiIiIiKVyoptR/nPki0AVPF1ktzQRlzt6n+9YUYGfPKJOU5IgDvvdGPK0lGRLyIiIiIiIpXGj6mneGLhRpwGhPgYzKyfS+MGNS9s4/feg8JCczxkCPj7uy9oKanIFxERERERkUph2+Eses1Zj73YiT8GU2pn0+bSmAvbOCcHli0zx82bw733ui9oGajIFxEREREREa+3/1Qe3WauI6fQvJ7+1egsbm4Wc+H3t1+yBPLzzfGTT0JQkJuSlo2KfBEREREREfFqx7NtdElay8lc81T756tn8Y8WMRd+67v8fLPIB2jUCB5+2E1Jy05FvoiIiIiIiHitrIIius1ax4EM8yh8vyrZ9Ghd8+K64n/4IWRnm+MBAyA42A1JXUNFvoiIiIiIiHglW5GDXsnr+fmIWaD/KzyXIQlRF9cwr7AQFi0yx3XrQo8ebkjqOiryRURERERExOsUO5w8sXAja9MyAOgYms+oNpH4XOy19MuXw+nT5vjxxyEszMVJXUtFvoiIiIiIiHgVwzB49oMtrNx+DICrg2281joUv5CQi3uhoiJ45x1zHBMDffq4OKnrqcgXERERERERr/LKZztZtD4dgOaBdqa3CCA4ohRH4FeuhOPHzXGfPlCligtTuoeKfBEREREREfEa079JZerXewGoH1DM7MshIiry4l/I4YCFC81x9erQr58LU7qPinwRERERERHxCu+npPPy8p8BuMTPwdwmRVxSs1rpXuzrryHdPBuARx+FGjVclNK9VOSLiIiIiIhIhffVjmMMe/8nACJ8nSQ3slEnrpSFudMJ8+aZ4ypVYNAg14QsByryRUREREREpEJbvy+Dx+dvwOE0CPIxSKqbS9MGNUv/gt9/D2lp5rhrV4iNdU3QcqAiX0RERERERCqsnUdz6DF7HbYiJ34YTK6VxVVNYkr/gkVFMGOGOQ4Lg8GDXRO0nKjIFxERERERkQrpYEY+XZLWkG0rBuCVmln8rXks+PiU/kXffx/27zfHPXpAvXouSFp+VOSLiIiIiIhIhXMyt5CuM9dyPKcQgGejsvhnyxjwLUOZe+IEzJljjuPiYOTIsgctZyryRUREREREpELJsRXxyKy1pJ3MA+CxKjn0TqgJfn5le+HJk8FmM8ejRkFUVBmTlj8V+SIiIiIiIlJhFBY7eGxuClsPZQNwX3guzyRUA3//sr3w+vXmbfMAbrkFHn64jEmtoSJfREREREREKgSH02DQO5v4fu8pAP4Wks+YhAh8goLK9sJ2O7zxhjkODoZXXy37hwYWUZEvIiIiIiIiHs8wDIYv28qnW48CcGVQIW+2CsE/NLTsL/7ee3DwoDl+7DFo3brsr2kRj/loYs2aNXTt2vUPH3/iiSfo378/+/fvZ8yYMaxfvx4/Pz86duzI0KFDCQ8PL8e0IiIiIiIiUp4mrtzFgjUHALgs0M6MFn4EV3FBHXjsGMyda47r1oURI8r+mhbymCK/efPmvPvuu+esf+2119iyZQt33HEH2dnZdOvWjRo1ajB27FgyMjJITEwkPT2dpKQkC1KLiIiIiIiIu83+Lo03vtoDQB3/YpKbGVSpXsU1Lz5lyq/N9kaPhmrVXPO6FvGYIj88PJxWrVqVWPfll1/yww8/8Prrr9OgQQOmTZtGZmYmS5YsIeqXLofR0dH07t2blJQU2rRpY0FyERERERERcZdlmw4x8qPtANTwczK3SRE1Y2q45sXXroVvvjHHf/sbPPCAa17XQh57Tb7NZmPUqFHcdNNNdOzYEYDVq1fTpk2bswU+wHXXXUdYWBjfnPkfIyIiIiIiIl5h1c7jDF60GYBwXyez4/OoX8dFBb7dDpMmmeOQkArdbO+3PHYGycnJHDt2jNmzZ59dt3fvXjp16lTieX5+fsTFxZGWllbqfdntdgoKCkq9vSex/XKayZmv3sDb5uRt8wHNqaLQnCoGu91udQQRERGPsPHAafrO20Cx0yDQx2B6nRwub1jLdTtYtAjS081x377QsqXrXttCHlnk2+12kpOT6dSpE/Xq1Tu7Picnh7CwsHOeHxYWRm5ubqn3l37mf6wXSU1NtTqCy3nbnLxtPqA5VRSak4iIiHi6Pcdz6D57HQVFDnwxeCM2i2suc2GBf/QozJtnjuvVg+HDXffaFvPIIn/FihWcOHGCnj17llhvGMYfbuPj41Pq/cXFxREZGVnq7T2JzWYjNTWV+Ph4goODrY7jEt42J2+bD2hOFYXmVDFkZ2d75YfPIiIiF+pQZgFdktaSmV8EwOhLsuh4eSyUoeY7x+TJUFhojseMgapVXffaFvPYIv/SSy/lsssuK7E+PDycvLy8c56fm5tLdHR0qfcXGBhISEhIqbf3RMHBwZqTh/O2+YDmVFFoTp7Nmy49EBERuVgZeXa6Jq3hSJb5+3BotSwebBUDvi5sJ/fjj7B6tTnu0AHuu891r+0BPK7xXlFREatXrz7bbO+3GjRowIEDB0qsczgcpKen07Bhw/KKKCIiIiIiIi6WV1hM99nr2HvCPLDbIzKHx1vXAD8/1+3kt832QkNhwgSvaLb3Wx5X5O/atYuCgoLz3g6vffv2rFu3joyMjLPrVq9eTX5+Pu3bty/PmCIiIiIiIuIi9mInfealsPlgJgD/CMvjuYSq+AQGunZH77wDhw+b43794PLLXfv6HsAji3zgvEfmH3roIYKCgujevTsrV65k8eLFDB06lBtuuIGEhITyjioiIiIiIiJl5HQaDF68mW93nwTgppACEhPC8XV1v50jR2D+fHPcoAH897+ufX0P4XFF/smT5v/YKlWqnPNYVFQUycnJVKtWjSFDhjBx4kQ6duzIxIkTyzumiIiIiIiIlJFhGLzw0TY+2mweXU8IKmRKq2ACwkJdv7M33zRP1wez2d55ak5v4HEXH/Tq1YtevXr94eONGzdm9uzZ5RdIRERERERE3GLSV3uY88N+AC4NKGLmFX6EVgl3/Y5++AG+/94cd+wI//yn6/fhITzuSL6IiIiIiIh4v3k/7mfCSvNy7dr+xSQ3c1C1hhuOrhcWlmy2l5jo2mZ+HkZFvoiIiIiIiJSrT346wvBlWwGI8nOSfGkhsbHV3bOzd94xr8cHGDDAK5vt/ZaKfBERERERESk3q3efZNC7GzEMCPU1mFU/j4b1arpnZ4cP/9psLz4e/vMf9+zHg6jIFxERERERkXLxU3omj81dT5HDIMDH4O24HFo2inbPzgzDPE2/qMhcHjsWIiPdsy8PoiJfRERERERE3C71RC6PzFpHnt2BDwYTY7K4rmkM+Pi4Z4fffw8//miOO3WCe+91z348jIp8ERERERERcaujWTa6JK0lI8+8hd2LNbK483I3Fvg226/N9sLC4NVXvbrZ3m+pyBcRERERERG3ycy303XmGg5lFgAwqGoWXVrHuLfoXrAAjh0zx4MGQdOm7tuXh1GRLyIiIiIiIm5RYHfQY/Y6dh3LBaBrRA4DW1d3b4F/6JDZUR+gUSN4+mn37csDqcgXERERERERlytyOHl8fgobDmQCcGdoHiMTquATFOS+nf6+2d64cRAR4b79eSAV+SIiIiIiIuJSTqfBsPd+4n87TwBwfXABExLC8A0Jce+Ov/sO1qwxx3fdBXff7d79eSAV+SIiIiIiIuIyhmEw6pOf+WDjIQBaBtp5q2UQgeFh7t2xzQZvvmmOw8MhMbHSNNv7LRX5IiIiIiIi4jJvfb2Xmd+lARAfUMTMK3wIr1YOp8zPn1+y2V6TJu7fpwdSkS8iIiIiIiIu8c7aA4z7bCcAMf4O5l7moPolVd2/44MH4d13zfGll1a6Znu/pSJfREREREREyuyzrUd59oMtAFTxdTK3kY3atau7f8eGAW+8YTbb8/Exm+2Fh7t/vx5KRb6IiIiIiIiUyQ97TzHgnY04DQjxMZhZP5dL69csn51/8w2sX2+O777bbLhXianIFxERERERkVLbeiiLXsnrsRc78cdgSu1s2lwaUz47LyiAyZPNcUSEeRS/Ejbb+y0V+SIiIiIiIlIq+07m8cisteQWFgPwanQWNzeLMU+bLw9z58IJ8zZ9PPUUNG5cPvv1YCryRURERERE5KIdz7bRZeYaTubaARhRPYt/tIgB33IqM3fs+LXZXpMmMHRo+ezXw6nIFxERERERkYuSVVBE15lrOZhRAED/Ktl0b12z/E6VLyyE0aPB6TT3OXEihIWVz749nIp8ERERERERuWC2Ige95qxnx9EcAP4VnsvghCjw9y+/ENOnm7fNA3jsMejYsfz27eFU5IuIiIiIiMgFKXY46b9gI2v3ZQDQMTSfUW0i8QkKKr8QGzbA+++b46ZNYcyY8usBUAGoyBcRERG3Wr16NZ07d6Zly5bccsstJCUlYRjGHz6/uLiYt99+m9tuu41WrVpxzz33sHz58nJMLCIi52MYBs8s2cIXPx8D4JpgG6+1DsUvJKT8QuTmwiuvmOOgIJg2DSIjy2//FYCKfBEREXGbTZs20adPH+Lj45k0aRJ33XUXiYmJTJ8+/Q+3mTRpEhMnTuTuu+/mrbfeok2bNjz55JOsWLGiHJOLiMjvjf1sB++lpAPQPNDO2y0CCI4o5+vgJ02C48fN8eDBcN115bv/CqAcL5oQERGRymbSpEk0bdqUxMREAG644QaKi4uZOnUqXbt2JTg4+Jxt3n//fe6880769+8PwDXXXMO2bduYN28et99+e7nmFxER08zvDzDt61QA6gcUM/tyiIgq5yPo33wDn39ujq+8Ep57Tqfpn4eO5IuIiIhb2O121qxZQ4cOHUqsv/3228nLyyMlJeUPtwsPDy+xrmrVqmRmZrorqoiI/In/7SsgceUeAC7xczC3SRGX1KxWviEyMmDCBHMcHm6epl+elwlUICryRURExC0OHjxIUVER9evXL7G+Xr16AKSlpZ13u65du7J06VK++eYbcnNz+fDDD/n222+555573B1ZRER+5387TzJlfRYAEb5OkhvZqBNXo3xDGAaMHw9ZZg6efx5aty7fDBWITtcXERERt8jJMW+t9Puj8mG/3Mc4Nzf3vNs98sgjbNq0iV69ep1d17lzZ3r27FnqLHa7nYKCglJvL7+y2WwlvkrZ6P10Pb2nrpNyIJMn39uC04AgH4NptU4TXyuawsLCcs3h+/nnBHz/PQCOG2/E/thjUIF/ptvtdre+vop8ERERcQun0/mnj/v6nntCod1u5+GHH+bEiRO88MILxMfHs3HjRt566y1CQ0N57rnnSpUlPT29VNvJH0tNTbU6glfR++l6ek/LZl9mEcNXZVBYbOCLwfN+u6nuH8K+ffvKNYf/yZPUnzIFgOLISH4eOBD77t3lmqGiUZEvIiIibhEREQFAXl5eifVnjuD//gg/wIoVK9ixYwezZs3i2muvBeCqq64iPDycF198kfvvv5/GjRtfdJa4uDgidYsll7DZbKSmphIfH3/exolycfR+up7e07JLP13A2E9TyC8yb3c6zG8vd18ZT2B5v59OJwGTJ+P7y1kZztGjadSxY/lmcIPs7Gy3fvisIl9ERETcom7duvj5+bF///4S6w8cOABAw4YNz9nm8OHDACQkJJRYf+WVVwKwZ8+eUhX5gYGBhKhBk0sFBwfrPXUhvZ+up/e0dE7kFNJr/mZO5JqnlD9dJYObqwYSGBxMUFBQ+YZZtAi2bDHH//gHgY89Bv4Vv4R196UkarwnIiIibhEUFETbtm1ZuXIlhmGcXb9ixQoiIiJo0aLFOdvEx8cDsH79+hLrN2zYAJhH5EVExD1ybEU8Mmst+07lA/BYlRx6tIiC81xe5XZpaTBjhjmOjYVJk7yiwC8PepdERETEbfr27Uv37t0ZOHAgnTt3ZuPGjSQlJTF48GBCQkLIzc1lz5491K1bl6ioKG655RZatmzJ0KFDeeKJJ4iPj+enn37irbfe4pZbbjnvBwMiIlJ2tiIHvZNT2HY4G4D7wnN5JqEa7m0R9weKimDMGPOrjw9MnAj6kPeC6Ui+iIiIuM0111zDpEmTSEtLo1+/fnz00UcMGzbsbOf8bdu28cADD7Bq1SoA/Pz8mDlzJp06dWLKlCn06tWLpUuX0rdvX15//XULZyIi4r0cToNB72zih9RTAPwtJJ8xCRH4lPfp+WfMnQtnmuv9+99w333W5KigdCRfRERE3KpDhw506NDhvI+1a9eOnTt3llgXHh7O8OHDGT58eHnEExGp1AzD4LmlW/hs21EArgqy8WarEPxDQ60JtH07zJ9vjhs0gAkTrLlcoALTuyUiIiIiIlJJjf98FwvXHgTgskA701v4E1zl3LuflAubDcaOBacT/PxgyhSoUcOaLBWYinwREREREZFKaObqNN783x4A6vgXk9zMoEr1KtYFevttOGh+4EDfvnD77dZlqcBU5IuIiIiIiFQySzce4sWPtwNQw8/J3CZF1IyJsi5QSgp88IE5bt4cRo82m+7JRVORLyIiIiIiUon8b+dxhizeDECEr5PZ8XnUr2PhafG5ufDKK+Y4KAimTYOICOvyVHAq8kVERERERCqJlP2n6TsvhWKnQaCPwdt1cri8YYy1od54A06cMMdDh8K111qbp4JTkS8iIiIiIlIJ7DqWQ4/Z67AVOfHF4I3YLK65LNbaUF9/DStXmuOrroL//len6ZeRinwREREREREvdyizgK5Ja8kqKAJg9CVZdLw81tqCOiPDvEUeQHg4TJ8OwcHW5fESKvJFRERERES8WEaenS5JaziabQNgaLUsHmwVY+395w0DXn0VsrPN5ZEjoUUL6/J4ERX5IiIiIiIiXiq3sJjus9aSeiIPgEcjc3i8dQ3zPvRWWr4cfvjBHN96KwwYYG0eL6IiX0RERERExAsVFjvoMzeFzelZAPxfWB7/TaiKT2CgtcGOHIHJk81xVBRMnQoBAdZm8iIeV+Rv2rSJLl260KpVK6699lqefvppTp06dfbx/fv306dPH9q2bUu7du0YMWIEubm5FiYWERERERHxLA6nweBFm1m95yQAN4UUMC4hHF+rr3l3OGDsWCgoMJfHjYNGjazN5GU8qsjfunUrXbt2JSwsjDfffJMhQ4bw3Xff0a9fPwCys7Pp1q0bJ0+eZOzYsQwePJjly5czcOBAi5OLiIiIiIh4BsMweOGjbXz80xEAEoIKmdIqmICwUIuTAe+9Bz/9ZI7/7/+gWzdr83ghf6sD/FZiYiLNmjVjypQp+P7SBCI8PJyXX36ZgwcPsnz5cjIzM1myZAlRUVEAREdH07t3b1JSUmjTpo2V8UVERERERCz3xpd7SP5hPwCNA4qYeYUfoVXCLU4FpKVBUpI5jo2FSZPA36NKUq/gMUfyT58+zdq1a/nXv/51tsAHuO222/j666+pU6cOq1evpk2bNmcLfIDrrruOsLAwvvnmGytii4iIiIiIeIy5P+5n4he7AKjtX0xycydVa1SxOBVQVASjR5tffXzg9dehdm2rU3kljynyd+7cidPpJCoqisGDB9O6dWtat27NsGHDyP7ltgp79+6lQYMGJbbz8/MjLi6OtLQ0K2KLiIiIiIh4hI9/Oszzy7YCEOXnJLmxnZiYqL/YqpwkJ8OePea4a1fo3NnaPF7MY86NyMjIAODZZ5/lhhtuYMqUKezbt48JEyZw8OBBFixYQE5ODmFhYedsGxYWVqbme3a7nYIzjR8qOJvNVuKrN/C2OXnbfEBzqig0p4rBbrdbHUFERCqg1btP8uS7mzAMCPM1mF0/j4Z1Y6yOZdq9GxYsMMfx8TB+PPh6zPFmr+MxRX5RUREAzZs35+WXXwbgmmuuITIykqeeeorvvvsOwzD+cHsfH59S7zs9Pb3U23qq1NRUqyO4nLfNydvmA5pTRaE5iYiIeJfNBzPpPXc9RQ6DQB+Dt+OyaXFpLatjmZxO89R8pxP8/GDKFKhe3epUXs1jivwzR+hvvvnmEuuvv/56ALZv3054eDh5eXnnbJubm0t0dHSp9x0XF0dkZGSpt/ckNpuN1NRU4uPjCbb69hgu4m1z8rb5gOZUUWhOFUN2drZXfvgsIiLusfdELt1nryPf7sAHg4kxWbRv6iEFPsCKFbBtmzl+8EHo0MHaPJWAxxT59evXB849TbG4uBiA4OBgGjRowIEDB0o87nA4SE9P57bbbiv1vgMDAwkJCSn19p4oODhYc/Jw3jYf0JwqCs3Js3nTpQciIuJeR7IK6Jq0low8s4Z6sUYWd1weYza28wQ5OTBtmjmuXt1svKfT9N3OY97hhg0bUrt2bT755JMSp+V/+eWXALRt25b27duzbt26s9fvA6xevZr8/Hzat29f7plFRERERESskJlvp2vSWg5lmr3FnqyaRZfWMeYp8Z4iKQmysszxs89C3brW5qkkPKbI9/HxYdiwYWzatIknn3yS77//nuTkZEaPHs3tt99Os2bNeOihhwgKCqJ79+6sXLmSxYsXM3ToUG644QYSEhKsnoKIiIiIiIjb5duL6TF7HbuPm83Hu0XkMKB1dc8q8HfuhA8/NMetW8Pjj1ubpxLxmNP1ATp27Mhbb73F5MmTeeyxx6hSpQoPPvggTz75JABRUVFnC/8hQ4YQFhZGx44dGTZsmMXJRURERERE3K/I4eTx+RvYcCATgLvC8hjRpio+QUHWBvutM832DMP84GH8ePCS3jkVgUcV+WA23vt9873faty4MbNnzy6/QCIiIiIiIh7A6TQYungzq3aeAOD64ALGtw7D19MK6E8/hZ9/NscPPQQ33WRpnMrGY07XFxERERERkfMzDIOXPtnO0k2HAWgZZGdq62ACw8MsTvY72dnw9tvm+EyzPU9pBFhJqMgXERERERHxcFNW7WXWd/sAaBhQxKzLfQirEm5tqPNJSjILfYDnnoO4OGvzVEIq8kVERERERDzYO2sPkLhiJwCx/g6SmzqIuqSqtaHOZ+dO+Ogjc9ymDfTta22eSkpFvoiIiIiIiIf6bOsRnv1gCwBVfZ0kN7JRu1Z1i1Odh9MJr732a7O9CRPAk5oBViIq8kVERERERDzQ93tPMmDhJpwGhPgYzGyQx6X1a1od6/yWL4cdO8zxv/8N119vbZ5KTEW+iIiIiIiIh9l6KIveySnYHU78MZgal01Co2irY51fVhZMn26OL7lEzfYspiJfRERERETEg6SdzOORWWvJLSwGYHxMFjc2jfHcwnn69F+b7Q0fDrVqWZunklORLyIiIiIi4iGOZdvokrSGk7l2AEZWz+SeK2LA10NLt+3bzVP1Aa68Enr3tjaPqMgXERERERHxBFkFRXSbuZb00wUADKiazSOto81Gdp7I4YDXXzeb7fn7w/jxarbnAVTki4iIiIiIWMxW5KDnnHXsOJoDwEPhOTzZOsosnj3VJ5/Arl3muGtXuO46a/MIoCJfRERERETEUsUOJ/0XbGDdvtMA/D00n5faVMHHk4+KZ2bCjBnmuGZNGDXKc3sGVDIq8kVERERERCxiGAZPv7+FL34+DsC1wTZeSwjFLyTE4mR/Yfp0yDHPOuD55yE21to8cpaKfBEREREREYuM/XQH729IB+CKQDtvtwwkKDzM4lR/4bfN9tq1g549rc0jJajIFxERERERscC0r/cy7ZtUABoEFDPrcgivFmFxqr/gcMBrr5njgAA12/NAKvJFRERERETK2aL1Bxnz6Q4Aavo5SG5SRI2a1SxOdQE++gh27zbH3brBtddam0fOoSJfRERERESkHK3cfoz/LNkCQKSvk7mNbNSJq2Fxqgtw+jQkJZnj6Gg12/NQKvJFRERERETKydq0DPov2IDDaRDsYzCzXi5NGtS0OtaFefttyM01xyNHmoW+eBwV+SIiIiIiIuVg++FsHp2zjsJiJ34YTKmdTdvGMVbHuiA+27bBZ5+ZC9dcA48+am0g+UMq8kVERERERNzswKl8us1aS46tGIDEmlnc0iymYpzu7nDgP3myOQ4IgAkTzK/ikVTki4iIiIiIuNGJnEK6zFzDiZxCAJ6LyuTeljHgWzHKsarffINvqnkXALp3N2+bJx6rYnxXiYiIiIiIVEDZtiK6zVzL/lP5APStkk3PhGjw87M42QU6fZoay5aZ45gYeOmlinH2QSWmIl9ERERERMQNbEUOes1Zz/Yj2QDcH57LsIQo8Pe3ONmF809Kws9mMxdGjoSaFaRJYCWmIl9ERERERMTFih1OBr6zkTVpGQDcFpLP6IQIfIKCLE52EX76Cb8vvgDAcc010KOHxYHkQqjIFxERERERcSHDMHhu6VZWbDsGQLvgQt5ICMU/NNTiZBfB4YDXXwfAGRBA0ZgxarZXQajIFxERERERcaHEFTt5Z91BAJoG2pnewp/giDCLU12kDz6AX5rtnbznHowrr7Q4kFwoFfkiIiIiIiIuMuPbVKas2gtAXf9i5jQziIyKtDjVRTp1CmbPBsAZE8Phxx5Ts70KREW+iIiIiIiIC3ywMZ1Rn/wMQA0/B3MvK6JmTJTFqUph2jTIywOg+PnncVSrZnEguRgq8kVERERERMrofzuOM3TxTwBE+DpJblhAvbgaFqcqhc2bYeVKc3z99TgeftjaPHLRVOSLiIiIiIiUQcr+DPrOT6HYaRDoYzCjTg7N4qOtjnXxiovPNtsjMBDGj1ezvQpIRb6IiIiIiEgp7TyaQ/dZ67AVOfHF4M3YLNpdFmt1rNKZORPS0sxxr17Qtq21eaRUVOSLiIiIiIiUQvrpfLrOXEO2rRiAsTWzuO3y2IrZpO5//4OFC81xvXowcmTFnIeoyBcREREREblYp3IL6Zq0lmPZhQA8XS2L+1vGgG8FLLH27oVx48xxWBjMmwc1KmA/AQFU5IuIiIiIiFyU3MJius9eR+pJswN9r8hs+rSuAX5+FicrhawsGD4cbDbzyP3EiXDddVankjJQkS8iIiIiInKBCosdPDZ3PT+lZwFwb1gu/2kThU9goMXJSsHhgFGj4MgRc7lfP3j0UWszSZmpyBcREREREbkADqfBk+9u4rs9pwC4JaSAVxIi8A0KsjhZKU2fDuvXm+ObbzZP2a+IlxtICfo/KCIiIiIi8hcMw+D5ZVtZvuUoAG2CCpncKpiAsFCLk5XSl1/Cu++a4wYNYO5cCAmxNpO4hIp8ERERERGRvzDxi93MX3MAgCYBRcxs4UdIlXCLU5XS7t2QmGiOw8PNRnu1a1ubSVxGRb6IiIiIiMifmPP9Pt74cjcAtf2LSW7upEr1KhanKqUzjfYKC81Ge6+/Dtdea3UqcSEV+SIiIiIiIn/gw82HGfnRNgCq+zmZ29hOdEyUxalKyeGAF16AY8fM5SeegEcesTSSuJ6KfBERERERkfP4ZtcJBi/ahGFAmK/B7AZ5xNe9xOpYpTd1KmzcaI5vvRVeeUWN9ryQ/o+KiIiIiIj8zqaDmfSZl0KRwyDQx2B6nWyuaBRjdazS+/xzeO89cxwfbzbaCw62NpO4hYp8ERERERGR39hzPIfus9aSb3fgg8Hrsdlce1ms1bFKb+dOGD/eHEdEwIIFEFuB5yN/SkW+iIiIiIjILw5nFtA1aS2n84sAGFUji79fHmM2qauITp+G558Hu908NX/SJGjXzupU4kYq8kVERERERIDTeXa6zlzL4SwbAIOrZvFw65iKe916cTGMHAnHj5vLgwZBly5WJpJyUEG/W0VERERERFwn315M99nr2HM8F4BHInLon1AD/PwsTlYGU6bATz+Z4w4d4OWXK+4HFnLB/K0O8FuFhYUkJCRQXFxcYn1oaCgbf+kCuWXLFsaNG8fWrVsJCwvj3nvvpX///gQGBloRWUREREREKjh7sZM+8zaw6WAmAHeH5fF8m6r4VOQa47PP4IMPzHGjRpCcrEZ7lYRHFfm7du2iuLiYxMRE6tate3a97y+fNh08eJDu3bvTqlUrXnvtNfbu3cvEiRPJzMzkxRdftCq2iIiIiIhUUE6nwZDFm/lm1wkAbggu4NWEcHwrckH8888wYYI5jow0G+3FVOA7A8hF8agif8eOHfj7+9OxY8fzHpmfPn06YWFhTJkyhcDAQG688UaCg4N56aWX6NOnD7Vq1bIgtYiIiIiIVESGYfDix9v5cPNhAFoFFTK1dTCBYaEWJyuDjAyz0V5RkXlq/ptvwpVXWp1KypFHXZDx888/Ex8f/4en3q9evZobb7yxxOMdO3bE6XSyevXq8oopIiIiIiJeYPL/9jD7+30ANAwoYtYVfoRWCbc2VFkUFZmN9k6eNJcHD4aHH7Y0kpQ/jyvy/fz86NGjB61ateKqq67i+eefJzc3F5vNxqFDh2jQoEGJbaKioggPDyctLc2i1CIiIiIiUtHMX7OfVz/fBUCsv4O5TR1Uq1HF4lRl9OabsGWLOe7YEV56SY32KiGPOV3fMAx27tyJYRjcd9999O3bly1btvDmm2+yZ88eJk6cCEB4+LmfrIWFhZGbm1vqfdvtdgoKCkq9vSex2WwlvnoDb5uTt80HNKeKQnOqGOx2u9URRES83vItR3hu6VYAqvk5mXupjVq1alqcqow++QQ+/NAcN24Mc+ZAUJC1mcQSHlXkv/XWW0RFRXHppZcCcOWVV1KjRg2GDh3KmjVr/nR7Hx+fUu87PT291Nt6qtTUVKsjuJy3zcnb5gOaU0WhOYmISGX2/Z6TDHpnE4YBob4Gs+rn0aheBW9Kt307vP66Oa5SxWy0V7OCf2ghpeYxRb6vry/t2rU7Z/1NN90E/FqI5+XlnfOc3NxcIiIiSr3vuLg4IiMjS729J7HZbKSmphIfH09wRe4I+hveNidvmw9oThWF5lQxZGdne+WHzyIinmBLeha9ktdjdzgJ8DGYWjubVo1irY5VNqdO/dpoz88PpkyBNm2sTiUW8pgi/9ixY3z99ddcd911JbrknzkF85JLLiE6Opr9+/eX2O7UqVPk5eXRsGHDUu87MDCQkJCQUm/viYKDgzUnD+dt8wHNqaLQnDybN116ICLiSdJO5vHIrLXk2R34YPBqdBY3NKsFZTgj2HJ2O4wYYRb6AEOGwIMPWptJLOcxXRgcDgfDhw/n3XffLbF++fLl+Pn50bZtW9q3b8+qVatKXK+4YsUK/Pz8uPrqq8s7soiIiIiIVADHsm10SVrDqTyzjhhZPYt7roip2AU+wKRJsG2bOe7UCV54QY32xHOO5NeqVYt7772XpKQkgoKCaN26NSkpKUydOpWHH36YBg0a0LNnTz755BN69uxJ9+7d2bdvHxMmTOD+++8vcfRfREREREQEICu/iK5Ja0k/bTbaHlA1m26to81T2yuyDz+Ejz82x5ddBrNnq9GeAB5U5AO88MIL1KlTh2XLlvHWW28RExPDgAED6NmzJwANGzZk5syZjBs3jgEDBlCtWjUeeeQRBgwYYHFyERERERHxNAV2B4/OWcfOYzkAPByRy5Oto8Dfo8qgi7d1q3kUH6BaNbPR3iWXWJtJPIZHfXcHBgby+OOP8/jjj//hc9q2bcuiRYvKMZWIiIiUxerVq5k4cSJ79uyhevXqPPzww/To0eNP74yzatUq3nzzTXbt2kXVqlW57bbbeOqppwgNDS3H5CJSkRU5nAx6dwPr958GoFNoPi8mROJT0Y925+XByy9DcfGvjfZat7Y6lXgQXbAhIiIibrNp0yb69OlDfHw8kyZN4q677iIxMZHp06f/4TZfffUVffv25dJLL2XatGn07t2bJUuWMHz48HJMLiIVmdMwGP7RDr7acRyA9sE2JiaE4ucNTVqnTIGjR83xoEHwwAOWxhHP41FH8kVERMS7TJo0iaZNm5KYmAjADTfcQHFxMVOnTqVr167nvfXhmDFjuP322xkzZgwA11xzDQ6Hg7lz51JQUOA1d1IQEfcwDIO5P+Xw4a58AK4ItDOtZSBB4WEWJ3OB77+H5cvNcevW8OKLFb95oLicjuSLiIiIW9jtdtasWUOHDh1KrL/99tvJy8sjJSXlnG22b9/OgQMH+Pe//11ifbdu3fjiiy9U4IvIX0r6/sDZAj8+oIjZV/gQXi3C4lQukJkJr75qjkND4e23za8iv6Mj+SIiIuIWBw8epKioiPr165dYX69ePQDS0tJo3759icd+/vlnAIKCgnjsscf44YcfCA4O5p577mHo0KEEBgaWKovdbqegoKBU20pJNputxFcpG72frvX+xsOM/2IvADV9i5nesIDwyCgKCwstTlZGhoH/q6/id9rsL2AfNgxH8+ZQDj/X9D3qer+9Jbw7qMgXERERt8jJMbtZh4eHl1gfFmaeMpubm3vONhkZGQD079+fO++8k+7du7NlyxYmTZpERkYG48ePL1WW9PT0Um0nfyw1NdXqCF5F72fZrTtsY9x3mQBEUMzo4D0UF4azb1+2tcFcIPLHH4n97jsAclq3Zvdtt2Fs316uGfQ9WnGoyBcRERG3cDqdf/q4r++5Vw0WFRUB0KFDB4YOHQrA1VdfjWEYjB8/nv79+9OgQYOLzhIXF0dkZORFbyfnstlspKamEh8ff96eCnJx9H66xrr9p5m4ZjNOINjHycuBe2jXunGpz/7xKCdOEPjL3cWMKlXwT0qi6WWXldvu9T3qetnZ2W798FlFvoiIiLhFRIR5DWxeXl6J9WeO4P/+CD/8epT/pptuKrH++uuvZ/z48fz888+lKvIDAwN1Pb+LBQcH6z11Ib2fpbf9cDb9Fm6hsNiJHwZvRGdQLziMwMBAgir67fKcTpg4EfLNHgM+L79MiEW3y9P3qOu4+9IHNd4TERERt6hbty5+fn7s37+/xPoDBw4A0LBhw3O2OXP9/u+vVzxzhL/C/8EuIi514FQ+XWeuJaewGIDE6CxubFLTezrOL10KGzaY406d4LHHLI0jFYOKfBEREXGLoKAg2rZty8qVKzEM4+z6FStWEBERQYsWLc7Zpm3btoSGhvLJJ5+UWP/VV1/h7+9Pa4uOYImI5zmeY6PLzDWczDWb6j1XPYt7W8TAeS4FqpAOHIBp08xxzZowZQr460Rs+Wv6LhERERG36du3L927d2fgwIF07tyZjRs3kpSUxODBgwkJCSE3N5c9e/ZQt25doqKiCAsLY8CAAYwdO5bIyEhuu+02NmzYwIwZM+jatStRUVFWT0lEPEC2rYhHZq5j/ynzNPbHq2TTs3VN8POD4mKL07mAwwFjxoDdbp6VMGEC/HJnEpG/4iUfc4mIiIgnuuaaa5g0aRJpaWn069ePjz76iGHDhtGrVy8Atm3bxgMPPMCqVavObtO9e3dGjx7NunXr6NWrF++//z5PPPHE2UZ8IlK52Yoc9Jqznu1HzK75D4TnMjQhyruOcs+fDzt2mOMHHzT/E7lAXvQvQURERDxRhw4d6NChw3kfa9euHTt37jxnfefOnencubO7o4lIBVPscDJg4UbWpJm327wtNJ+XEyLw8aZ+HTt3QnKyOa5bF157zTxDQeQC6Ui+iIiIiIh4PMMw+O8HW/l8+zEA2gUX8kbrUPxDQy1O5kKFheZp+g6HWdi/+aZ5Pb7IRVCRLyIiIiIiHi9xxU7eXX8QgGaBdqa38Cc4IsziVC42YwacuSNJr15wxx3W5pEKqUxF/scff3zOLW5ERERERERcaca3qUxZtReAuv7FzG4OkVGRFqdysY0b4b33zHGTJjB2rPfcKUDKVZm+a4YNG0b79u0ZOXIkP/30k6syiYiIiIiIALBkQzqjPvkZgEv8HMy7rIia0dUsTuVieXnwyivmODAQpk6FKlWszSQVVpmK/K+++ooePXrw448/8sADD9CpUyeSkpI4ceKEq/KJiIiIiEgl9dWOYwx9zzyYGOHrZE7DAurG1bA4lRu8+SYcM3sNMGgQ3HijpXGkYitTkR8TE0Pfvn357LPPmD9/Pm3btmX69OncfPPN9OnTh88//5xib7hPpYiIiIiIlKuU/Rk8Pn8DDqdBkI9BUt1cmsVHWx3L9Vavhs8+M8cJCTBiBPj4WJtJKjSX3UIvISGBhIQE7rvvPsaNG8eqVatYtWoVNWrUoFu3bvTo0QM/3fpBRERERET+ws6jOXSftQ5bkRM/DN6slcVVTWpZHcv1Tp+G8ePNcWgoTJ9ufhUpA5cU+YcOHWLZsmUsW7aMAwcOULduXZ566iluuukmVq1axeTJk9mzZw+vnLnORERERERE5DwOZuTTdeYasm3mGcFjambRoXms9x3dNgyYOBEyM83l4cPNI/kiZVSmIn/x4sUsW7aMDRs2EBQURMeOHXn55Zdp27bt2ec0btyY06dP884776jIFxERERGRP3Qyt5CuM9dyLLsQgGeisri/ZYx3dplfsQK+/dYc33gjPPmktXnEa5SpyB8+fDgtW7Zk5MiRdOrUifDw8PM+r0mTJjzwwANl2ZWIiIiIiHix3MJius9aR9rJPAB6R2bTp/Ul4I2X/B49ajbbA6haFaZNg6AgSyOJ9yhTkf/xxx/TqFEjHA7H2evtbTYbRUVFREREnH3eP/7xjzKFFBERERER71VY7OCxuevZcigLgM5huTzTJgoCAixO5gZOJ4wbZ942D2D0aGjSxNpM4lXKdN5L/fr1GTFiBPfff//ZdRs2bOCaa67hlVdewel0ljmgiIiIiIh4L4fT4Ml3N/HdnlMA3BpSwNiECHy99cj2kiWwcaM5vvNO6NXL2jzidcpU5L/xxht8+OGH3HnnnWfXNWvWjCFDhrBo0SJmzJhR5oAiIiIiIuKdDMNg+LKtLN9yFIC2QYW82SqYgDAv7TC/f7/ZQR8gOhomTwZ/l93wTAQo4+n6H330EU8//TQPPvjg2XVVq1blkUcewd/fn+TkZHr37l3mkCIiIiIi4n0mfrGbBWsOAHBZYBFJLfwIqXL+Pl8VXnExjBkDdrt5p4CJE6FuXatTiRcq05H806dPU6dOnfM+Fh8fz9GjR8vy8iIiIiIi4qXmfL+PN77cDUCcfzFzmjmpUr2KxancaP582LnTHD/0EKgxubhJmYr8+Ph4VqxYcd7HvvrqK+rVq1eWlxcRERERES+0bNMhRn60DYDqfk7mNrYTHRNlcSo32rEDkpPNcb165lF8b7wtoHiEMp2u37VrV5555hkyMzP529/+RvXq1cnIyOB///sfn376KWPGjHFVThERERER8QJf7zrB4EWbMQwI9zWY0yCPBnVjrI7lPoWFZgd9p9O8HeCUKXDJJVanEi9WpiL/H//4B3l5eUyZMoXPP//87Ppq1aoxfPhw3TpPRERERETO2njgNH3npVDsNAj0MXi7TjaXN6pldSz3mj4dDh40x489Bn//u7V5xOuVuZXjww8/zEMPPURaWhqZmZlERkYSHx+Pr04/ERERERGRX+w5nkOP2evItzvwxeCN2GyuvSzW6ljutWEDvP++OW7a1Gy85+NjbSbxei65X4OPjw/x8fGueCkREREREfEyhzML6Jq0ltP5RQCMuiSLjpfHenfBm5FhFvUAQUEwbRpERlqbSSqFMhX5GRkZvPzyy6xatYqCggIMwyjxuI+PD9u3by9TQBERERERqbhO59npOnMth7NsAAyplsVDrWK8u/FcURGMGAEnT5rLgwfDdddZm0kqjTIV+S+++CL/+9//uOOOO4iJidEp+iIiIiIiclZeYTHdZ69jz/FcAB6JzKFf6xpmAzpv9uabsHWrOf773+H55737rAXxKGUq8r/55hueffZZHtA9HkVERERE5DfsxU76zt/ApoOZANwTlsfzCVXxCQy0Npi7ffwxfPihOW7cGGbPNk/XFyknZTr0HhAQQJ06dVyVRUREREREvIDTaTBk8Wa+2XUCgBtDCkhMCMc3ONjiZG62bRu8/ro5rlIFFiyAmjWtzSSVTpmK/A4dOvDxxx+7KouIiIiIiFRwhmHw4sfb+XDzYQBaBRXyVqtgAsNCLU7mZidPmtfhFxeblyNMmQJt2lidSiqhMp2u36xZM1577TUOHjxIy5YtCf7dJ3M+Pj7069evTAFFRERERKTiePOrPcz+fh8AjQKKmHWFH6FVwq0N5W52u1ngnzplLg8dCv/6l7WZpNIqc+M9gHXr1rFu3bpzHleRLyIiIiJSecxfs5/xK3cBUMvfwdxmDqrVqG5xKjczDHjjDThzV7E77oCRI9VoTyxTpiJ/x44drsohIiIiIiIV2PItR3huqdlRvpqfk+RLbcTGVoLr0T/6CD75xBw3bapGe2I5l93zLicnh71792K323E4HK56WRERERER8XDf7znJoHc2YRgQ6mswq34ejepVggJ/yxaYNMkcV6tmNtqrUcPaTFLplbnIX7NmDffddx9XXXUVd911F7t372bw4MGMHTvWFflERERERMSDbUnPolfyeuwOJwE+BtNqZ9OqUbTVsdzvxImSjfamToVWraxOJVK2Iv+HH37g0UcfJTg4mCFDhmAYBgCXXXYZycnJzJo1yyUhRURERETE86SeyOWRWWvJszvwwWBiTBbXN4v1/uvR7XZ4/nk4fdpcfuYZuO8+azOJ/KJMRf5rr73Grbfeyty5c+nWrdvZIr9Pnz707NmTxYsXuySkiIiIiIh4lmPZNrokreVUnh2AF2tkceflMd5f4BsGvPYanOlPds895hF9b5+3VBhlKvJ//vlnOnfuDJid9H+rffv2HDp0qCwvLyIiIiIiHigrv4iuSWs5lFkAwMCq2XRpHWOetu7tli6FTz81x82aQVISBARYGknkt8pU5EdERHDixInzPnbkyBEiIiLK8vL079+fW265pcS6/fv306dPH9q2bUu7du0YMWIEubm5ZdqPiIiIiIhcmAK7gx5z1rHzWA4AXSJyGNQ6qnIU+Js3w+TJ5jgqChYuhOpefotAqXDKVOTfeuutTJw4kS1btpxd5+Pjw9GjR5k6dSo33XRTqV972bJlrFy5ssS67OxsunXrxsmTJxk7diyDBw9m+fLlDBw4sNT7ERERERGRC1PkcNJvwQZS9pvXot8RmsfIhCr4VIZbxh0/DiNHgsMB/v4wbRq0aGF1KpFz+Jdl48GDB7N582buv/9+avxyq4innnqKo0ePEhsby1NPPVWq1z127Bgvv/wyMTExJdYvXLiQzMxMlixZQlRUFADR0dH07t2blJQU2rRpU5bpiIiIiIjIH3A6DZ5+7ye+2nEcgOuCbUxICMMvJMTiZOWgsBCGD4fMTHP5v/+FXy5bFvE0ZSryq1SpwuLFi1m6dCk//vgjmZmZRERE0KVLF+69915CSvkP/rnnnqN9+/YEBQWxdu3as+tXr15NmzZtzhb4ANdddx1hYWF88803KvJFRERERNzAMAxGL/+ZJRvNnlstAu1MbRlIUHiYxcnKgWHAhAmwa5e5/H//Zxb5arQnHqpMRT5AYGAg999/P/fff78r8rB48WK2bdvGxx9/zLhx40o8tnfvXjp16lRinZ+fH3FxcaSlpZV6n3a7nYKCglJv70lsNluJr97A2+bkbfMBzami0JwqBrvdbnUEEZFzTP06lRmrzb+34wOKmHWFD+HVytZ/q8JYsgQ+/9wcX345zJihRnvi0cpU5C9duvQvn/OPf/zjgl/v0KFDjBkzhjFjxpQ4Wn9GTk4OYWHnfloYFhZWpuZ76enppd7WU6WmplodweW8bU7eNh/QnCoKzUlERC7Gu+sO8Mpn5u3iYvwdJF/moPollaTZ3MaNMGWKOa5e3Wy0d546RcSTlKnIf+aZZ8673sfHBz8/P/z8/C64yDcMg2effZYbb7yR22+//Q+f80d+fwu/ixEXF0dkZGSpt/ckNpuN1NRU4uPjCQ4OtjqOS3jbnLxtPqA5VRSaU8WQnZ3tlR8+i0jFtGLbUf6zxGyyXcXXSXJDG3G1a1qcqpwcPQovvABOp3nkfvp080i+iIcrU5H/5ZdfnrMuPz+f9evXM336dCafub3EBZg/fz47d+7ko48+ori4GPi1qC8uLsbX15fw8HDy8vLO2TY3N5fo6OhSzsK85KC0/QM8VXBwsObk4bxtPqA5VRSak2fzpksPRKRi+zH1FE8s3IjTgGAfg5n1c2ncINbqWOXDZoPnn4esLHN5+HC4iDOURaxUpiK/du3a511/6aWXUlRUxEsvvcSCBQsu6LVWrFjB6dOnue666855rHnz5vTv358GDRpw4MCBEo85HA7S09O57bbbLn4CIiIiIiJyjm2Hs+g1Zz32Yif+GLxVO5s2l1aSAt8wYPx42L3bXL7vPnjmGTXakwqjzI33/kiTJk0YP378BT//hRdeOOco/eTJk9m6dStvvfUWNWvWxMfHh6SkJDIyMs5es7969Wry8/Np3769S/OLiIiIiFRG+0/l0W3mOnIKzbNrX43O4uZmsZWnyF28GL74why3aAFvv61Ge1KhuKXIt9vtvPfee1SvfuENOeLj489ZV7VqVQIDA7niiisAeOihh5g3bx7du3enf//+ZGZmkpiYyA033EBCQoLL8ouIiIiIVEbHc2x0SVrLydxCAJ6vnsU/WsSAr6/FycpJSgpMm2aOL7kE3nkHqla1NJLIxSpTkX/LLbec0/DO6XRy+vRpCgsLefrpp8sU7veioqJITk5m9OjRDBkyhLCwMDp27MiwYcNcuh8RERERkcomq6CIbjPXcSAjH4B+VbLp0bom+PlZnKycHDkCL774a6O9GTOgaVOrU4lctDIV+VddddV5u9qHh4dz8803c+2115bl5Rk7duw56xo3bszs2bPL9LoiIiIiIvIrW5GDXsnr+flINgD/Cs9lSEIU+Lvt6l7PYrOZzfWyzfkzciTcdZelkURKq0z/as9XhIuIiIiISMVR7HDyxMKNrE3LAKBjaD6j2kTiExRkcbJyYhiQmAh795rLDzwAw4ZVnh4E4nXKVOQfPnz4op5fq1atsuxORERERERcyDAMnv1gCyu3HwPg6mAbr7UOxc9Lbkt6Qd59F776yhy3amVek19ZzmAQr+Tya/L/zM8//1yW3YmIiIiIiAu98tlOFq1PB6B5oJ3pLQIIjgizOFU5WrcOpk83xzVrwsKFUKWKtZlEyqhMRf5rr73GiBEjaN68OXfffTfR0dGcPn2ar776ik8//ZS+fftSu3ZtV2UVEREREREXmfFtKlO/Nk9Rrx9QzOzLISIq0uJU5ejQIXjpJbPRXmAgzJwJl11mdSqRMitTkb9s2TJuvvnmc67N79SpE9WrV2fDhg3079+/TAFFRERERMS13k9JZ9Qn5lm2l/g5mNukiEtq1rA4VTkqKIDnn4ecHHP5xRehUydrM4m4SJluePnDDz9w5513nvexG264gZSUlLK8vIiIiIiIuNhXO44x7P2fAIjwdZLcsIA6cZWowDcMeOUVSE01l//1Lxg8WI32xGuUqcivVq0amzdvPu9jP/zwA9HR0WV5eRERERERcaH1+zJ4fP4GHE6DIB+DpLq5NI2vZH+zL1wIX39tjhMSYOpUNdoTr1Km7+Z//vOfvPXWWxQUFHDLLbcQFRXFyZMn+eyzz1i4cCHDhw93VU4RERERESmDHUez6TF7HbYiJ34YTK6VxVVNKtndr9asgRkzzHF0NLzzDkRWoj4EUimUqch//PHHycnJYfbs2SQlJQHmbThCQkJ48sknefDBB10SUkRERERESu9gRj5dk9aSbSsGYGzNLP7WPLZynaJ+6BCMGmWerh8UBLNmwaWXWp1KxOXKVOT7+PjwzDPP8Pjjj7Np0yaysrKoVq0arVq1Ijw83FUZRURERESklE7mFtJ15lqO5xQC8GxUFve1jAHfMl25W7Hk58Nzz0Furrk8ahR07GhtJhE3ccnFJ+Hh4dSsWROAVq1aUVxc7IqXFRERERGRMsixFfHIrLWkncwD4LHIbHq3vgT8/CxOVo4MA8aOhX37zOUuXWDQoMp1FoNUKmUu8pctW8b48eM5ceIEPj4+LF68mEmTJhEQEMD48eMJDAx0RU4REREREbkIhcUOHpubwtZD2QD8MyyXZ9pEQUCAxcnK2fz58O235vjKK2HyZDXaE69WpnN0li9fztNPP83VV1/NhAkTcDqdAHTo0IGvv/6aKVOmuCSkiIiIiIhcOIfTYNA7m/h+7ykAbg0pYGybCHyCgixOVs5++AFmzjTHsbFmZ/2ICGszibhZmT7Cmjp1Kg8++CAjR47E4XCcXd+5c2cyMjJYtGgRgwYNKmtGERERERG5QIZhMHzZVj7dehSAK4MKmdwqGP/QUIuTlS+fgwfh5Zd/bbQ3ezY0bGh1LBG3K9OR/LS0NDp06HDex1q2bMmxY8fK8vIiIiIiInKRJq7cxYI1BwC4LMDOjBZ+BFepXE2xfQsK8H/xRcgzexEwdiz8Qd0i4m3KVORXr16dvXv3nvexvXv3Ur169bK8vIiIiIiIXITZ36Xxxld7AIjzLya5uUGV6lUsTlXOnE5iZs/G9+BBc/mRR+CJJ9RoTyqNMhX5nTp14o033uCzzz7DbrcD5m31tm7dypQpU+io21KIiIiIiJSLZZsOMfKj7QDU8HMyt7GdmjFRFqcqf34LFhCxebO50K4dTJpUue4mIJVema7JHzRoELt27WLQoEH4/nKfzS5dupCfn0/btm0ZOHCgS0KKiIiIiMgf+3rXCQYvMgvbcF8nsxvk0aBujMWpLPDdd/jPmweAMzYW3wULILxyXaogUqYiPzAwkBkzZvDdd9/x448/kpmZSUREBFdddRU33ngjPjolRkRERETErTYeOE2fuSkUOw0CfQzerpPD5Y1qWR2r/B04AKNHA+AMCqJoxgyC4uMtDiVS/spU5D/66KP07NmT9u3b0759e1dlEhERERGRC7DneA7dZ6+joMiBLwZvxGZz7WWxVscqf7m58NxzkJ8PQPoTT3DJzTdbHErEGmW6Jn/Dhg06Wi8iIiIiYoHDmQV0SVpLZn4RAC9fkkXHy2MqX4M5p9M8gv9Lo73iRx7hxH33WRxKxDplKvKvv/56PvzwQ4qKilyVR0RERERE/kJGnp0uSWs4kmUDYGi1LP7VKgZ8y/TnfcU0ezb88IM5vvZaihIT1WhPKrUyna4fFBTEhx9+yKeffkrDhg0JDQ0t8biPjw9z5swpU0AREREREflVXmEx3WevY+8J8x7w3SNyeLx1jcpZ2H77Lcyda47j4mD+fAgLszaTiMXKVOQfPXqU1q1bn102DKPE479fFhERERGR0rMXO+kzL4XNBzMB+EdYHsPbVMUnMNDaYFbYtw/GjDHHoaGQnAz160NBgZWpRCx30UX+559/ztVXX01kZCRzz3xqJiIiIiIibuV0GgxevJlvd58E4KaQAhITwvENDrY4mQXONNorKDB7ECQmghrtiQCluCZ/4MCB7Nu3r8S66dOnc+rUKVdlEhERERGR3zAMgxc+2sZHmw8D0DqokCmtggkIC/2LLb2QwwGjRsGhQ+Zyr17w2GPWZhLxIBdd5P/+FHyHw8GECRM4evSoy0KJiIiIiMivJn21hzk/7Afg0oAiZl3hR2iVcItTWWTWLFizxhxffz1MnFg5+xGI/AGXtN/UtfciIiIiIu4x78f9TFi5C4Da/sUkN3NQtUYVi1NZ5OuvzeZ6AHXrwrx55vX4InJWJbzHhoiIiIhIxbB8yxGGL9sKQJSfk+RLC4mNrW5xKovs2gVjx5rj0FCzq37dutZmEvFAKvJFRERERDzQd3tOMuidTRgGhPoazKqfR8N6Na2OZY20NBg6FGw2s9HehAlwww1WpxLxSC4r8n18fFz1UiIiIiIildpP6Zn0Tl6P3eEkwMdgWlwOLRtFWx3LGgcOwODBkJ1tLg8bBj17WptJxINd9C30APr160fg7+7F2adPHwICAkqs8/Hx4Ysvvih9OhERERGRSib1RC6PzFpHnt2BDwYTY7K4vmkt8wh2ZXP4sFngnz5tLg8caHbWV6M9kT900UX+//3f/7kjh4iIiIhIpXc0y0aXpLVk5NkBeLFGFndeHlM5C/zjx80C/+RJc7l3b0hMBP9SHacUqTQu+l/ImDFj3JFDREREvNTq1auZOHEie/bsoXr16jz88MP06NHjgi71Ky4u5sEHHyQkJIS5c+eWQ1oR62Tm2+k6cw2HMgsAGFQ1iy6tYyrnUetTp+Cpp+DMbbq7doU33oDfnTksIudS4z0RERFxm02bNtGnTx/i4+OZNGkSd911F4mJiUyfPv2Ctn/77bfZsmWLm1OKWK+gyMGjc9az61guAF0ichjYunrlLPAzM80j+IcOmcv33QfTpkFQkKWxRCoKnesiIiIibjNp0iSaNm1KYmIiADfccAPFxcVMnTqVrl27Ehwc/Ifb7tixg2nTpnHJJZeUV1wRSxQ7DQYt3krKfvO68ztD8xiZUAWfyljU5uSYXfT37zeX774b5syBP/lZISIl6Ui+iIiIuIXdbmfNmjV06NChxPrbb7+dvLw8UlJS/nTbYcOG0aVLFxo0aODuqCKWcRoGk9dl8c3uUwBcH2xjQkIYfiEhFiezQF6e2Tl/zx5z+fbbYcECqIzvhUgZqMgXERERtzh48CBFRUXUr1+/xPp69eoBkJaW9ofbTp48meLiYgYMGODOiCKWMgyDcZ/v4ZsDNgBaBtp5q2UggeFhFiezQEEBPPss7NhhLt90EyxaBGGV8L0QKSOdri8iIiJukZOTA0B4eHiJ9WG//NGem5t73u1++uknZs6cyfz588+5ZW9p2e12CgoKXPJalZ3NZivxVUpv+up9zPnxIAAN/OxMbWwnIDSUwsJCi5OVM7udgBEj8P3pJwAcV1+Nff58s8leKf7d6nvUtfR+up7dbnfr66vIFxEREbdwOp1/+riv77knFBYWFvLMM8/QrVs3WrRo4bIs6enpLnstMaWmplodoUL7IjWft1KyAaiBnVHhaWTnhZGdl2ltsPJWXEztadMI+qXBZl7Tpux+6SUcR47AkSNleml9j7qW3s+KQ0W+iIiIuEVERAQAeXl5JdafOYL/+yP8AK+99hpOp5PHH3+c4uJiwDylGczb6fn5+V3Qrfd+Ly4ujsjIyIveTs5ls9lITU0lPj7+Txsnyh/7YscJpm0wi9pIXwevhKTS4vLGLjtzpcJwOPAfMwa/Xwp85xVX4Lt0KU1iY8v0svoedS29n66XnZ3t1g+fVeSLiIiIW9StWxc/Pz/2n+mS/YsDBw4A0LBhw3O2WbFiBYcOHaJ169bnPNa8eXPGjBnDvffee9FZAgMDCVHzLpcKDg7We1oKP+w9xeD3t+E0IMTH4O24LKr5hRMYGEhQZeqm73BAYiKsXm0uN22K7yefEFKnjst2oe9R19L76TruvvRBRb6IiIi4RVBQEG3btmXlypU8+uijZ4/Ar1ixgoiIiPOejv/WW2+dc63iiBEjAHjhhReIi4tzf3ARN9l6KIteyeuxFzvxx+Ct2lm0jr+Efb/7IMzrOZ0wYQJ8+aW5fOmlsHw5uLDAF6nMVOSLiIiI2/Tt25fu3bszcOBAOnfuzMaNG0lKSmLw4MGEhISQm5vLnj17qFu3LlFRUTRp0uSc1zjTqO+KK64o7/giLrPvZB6PzFpLbqF5Gcr46CxuahZLYVGRxcnKmWHApElmUQ9Qvz58/LH5VURcQrfQExEREbe55pprmDRpEmlpafTr14+PPvqIYcOG0atXLwC2bdvGAw88wKpVq6wNKuJGx7NtdJm5hpO55lkqI6pncU+LGDhP80mvZhgwbRosXWou164NH30EjRtbGkvE23jUkXyn08msWbN49913OXr0KPXr16dnz57cfffdZ5+zZcsWxo0bx9atWwkLC+Pee++lf//+la9RiYiISAXRoUMHOnTocN7H2rVrx86dO/90+7lz57ojlki5yCooouvMtRzMMG8F179KNt1b1wQ/P4uTWWD2bHj3XXMcE2MW+JdfbmkkEW/kUUX+66+/TlJSEgMGDOCKK67g66+/ZujQofj6+nLnnXdy8OBBunfvTqtWrXjttdfYu3cvEydOJDMzkxdffNHq+CIiIiIiZ9mKHPSas54dR3MA+Fd4DoMTosDfo/4ELx8LFkBysjmuUcM8mn+eBpsiUnYe8xOmoKCA5ORkunTpQu/evQHzFL9t27Yxd+5c7rzzTqZPn05YWBhTpkwhMDCQG2+8keDgYF566SX69OlDrVq1LJ6FiIiIiAgUO5z0X7CRtfsyAOgYms+oNlXwqUwd9M947z2YPt0cV6sG778P7dpZm0nEi3nMhUCBgYEsXLiQHj16lFgfEBBAYWEhAKtXr+bGG28scWp+x44dcTqdrD5z+w0REREREQsZhsF/lmzhi5+PAXBNsI3XWofiVxlvP/bRRzB5sjmOjIRFi+CGG6zNJOLlPOZIvp+fH5dddhlg/mA8deoUS5Ys4fvvv+fFF1/EZrNx6NAhGjRoUGK7qKgowsPDSUtLK/W+7XY7BQUFZcrvKc7cc9Hd914sT942J2+bD2hOFYXmVDH8/vZxIlLxjP1sB4tT0gG4PNDO2y0DCY4IsziVBT7/HCZONMdhYeYp+3/7m7WZRCoBjynyf+uTTz5h8ODBANx0003cfffd5OSY1zKFh4ef8/ywsDByc3NLvb/09PRSb+upUlNTrY7gct42J2+bD2hOFYXmJCLiPm9/s5dpX5s/k+oHFDP7coioFmFxKgusWgWvvGJ21A8JgTlz4I47rE4lUil4ZJHfokUL5s2bx86dO3n99dfp2bMn48eP/9NtfHx8Sr2/uLg4IiMjS729J7HZbKSmphIfH09wcLDVcVzC2+bkbfMBzami0JwqhuzsbK/88FmkMngvJZ3Ry3cAUNPPwdwmRdSoWcPiVBb48UcYNQqcTggKghkzoHNnq1OJVBoeWeTXrVuXunXrcuWVVxIeHs7TTz/NgQMHAMjLyzvn+bm5uURElP4T0sDAQEK87Bqp4OBgzcnDedt8QHOqKDQnz+ZNlx6IVCZf/nyMp9//CYBIXyfJjWzUiatpcSoLHDgAL70EDgcEBMBbb8G//mV1KpFKxWMa72VkZLB06VJOnTpVYn2zZs0AOH78ONHR0ezfv7/E46dOnSIvL4+GDRuWW1YRERERkTPW7cvg8fkbcDgNgnwMkurmclmDSljg5+bCc89Bfr65PG4cPPIIlOGMWxG5eB5T5NtsNp5++mnee++9Euu/++47AJo0aUL79u1ZtWpViaZEK1aswM/Pj6uvvrpc84qIiIiI/Hwkmx6z11FY7MQPgym1sriySYzVscqf0wmjR8PBg+byo4/CE0+owBexgMecrl+rVi06d+7M5MmT8ff3p1mzZqxfv563336bf/7znzRq1IiePXvyySef0LNnT7p3786+ffuYMGEC999/P7Vq1bJ6CiIiIiJSiRzMyKfbzLXk2IoBGFczi1ubx1bOwnbOHPjhB3N8zTXw+uvg52dtJpFKymOKfICRI0dSp04dFi1axKFDh4iNjWXAgAE8+uijADRs2JCZM2cybtw4BgwYQLVq1XjkkUcYMGCAxclFREREpDI5kVNIl6Q1HM8pBOC/UVl0bhkDvh5zomz5+fZbSE42x3Fx5q3ywirhLQNFPIRHFfmBgYH07duXvn37/uFz2rZty6JFi8oxlYiIiIjIr3JsRTwyay37TpnXnj9WJYdeCTUr55HrfftgzBhzfOZWefXrW5lIpNKrhB81ioiIiIiUjq3IQe/kFLYdzgbg/vBcnkmoBv4edeysfOTmwvDhUFBgLo8bB7fcYm0mEVGRLyIiIiJyIRxOg0HvbOKHVPNuUH8LyWd0QgQ+QUEWJ7OAwwGjRkF6urncqxf8ydm4IlJ+VOSLiIiIiPwFwzB4bukWPtt2FICrgmy82ToU/9BQi5NZZNYsWLPGHF93HUycWDkvVxDxQCryRURERET+wvjPd7FwrXl7uKaBdqa3DCA4spI2l/v6a5g/3xzXqQPz5qnRnogHUZEvIiIiIvInZq5O483/7QGgrn8xc5oZVImKtDiVRdLSYOxYcxwaCnPnQr161mYSkRJU5IuIiIiI/IGlGw/x4sfbAajh52DuZUXUjImyOJVFsrPhuefAZgMfH3j1VbjxRqtTicjvqMgXERERETmP/+08zpDFmwGI8HUyO76AenE1LE5lEYcDXnoJDh82lx97DHr3tjaTiJyXinwRERERkd9J2X+avvNSKHYaBPoYTK+Tw+UNo62OZZ2kJFi/3hzfcANMmKBGeyIeSkW+iIiIiMhv7DqWQ4/Z67AVOfHFYFJsFldfFmt1LOt89RUsXGiO69UzG+2FhFibSUT+kIp8EREREZFfHMosoGvSWrIKigAYUzOL2y+PNa9Br4z27IHERHMcFmY22qtTx9pMIvKnVOSLiIiIiACncgvpkrSGo9k2AIZVy+KBljHgW0n/ZM7KguHDf220N2ECXH+91alE5C9U0p9YIiIiIiK/yi0spvvsdaSeyAPg0cgc+rauUXmvOz/TaO/oUXO5Xz/o2dPaTCJyQVTki4iIiEilVljsoM/cFH5KzwLg3rA8/ptQFZ/AQIuTWejttyElxRzffDOMG1d5z2gQqWD0L1VEREREKi2H02Dwos2s3nMSgJtDCnglIRzf4GCLk1noiy9g0SJzXL++eR2+Gu2JVBgq8kVERESkUjIMg5EfbuPjn44A0CaokCmtggkIC7U4mYV274ZXXzXH4eEwfz7Urm1tJhG5KCryRURERKRSev3L3cz9cT8AjQOKSLrCj5Aq4RanstCZRnuFhWajvddeg2uvtTqViFwkFfkiIiIiUunM/WEfr32xG4Da/sUkN3dStUYVi1NZyOGAF16AY8fM5SeegO7drc0kIqWiIl9EREREKpWPfzrM8x9uAyDKz8ncxnZiYqIsTmWxqVNh40ZzfOut8MorarQnUkHpX66IiIiIVBqrd5/kyXc3YRgQ5mswu34e8XUvsTqWtT7/HN57zxzHx5uN9ipz40GRCk5FvoiIiIhUCpsPZtJ77nqKHAaBPgZvx2XTolG01bGstXMnjB9vjiMizEZ7sbHWZhKRMlGRLyIiIiJeb8/xXB6ZtZZ8uwMfDF6LyaJ901izwVxldfo0PP882O3mqfmTJsHVV1udSkTKSEW+iIiIiHi1I1kFdJu5ltP5RQC8VCOLTpfHVO4Cv6DA7KR//Li5PGgQdOliaSQRcQ0V+SIiIiLitTLz7XRNWsuhzAIAnqqaxb9bx4Cfn8XJLFRYCP/9L2wzmw/SoQO8/LIa7Yl4Cf1LFhERERGvlG8vpvvsdew+ngtAt4gcnmhdvXIX+EVFMGLEr53027aFBQvUaE/Ei6jIFxERERGvU+Rw0nfeBjYeyATgrrA8RrSpik9QkLXBrORwwEsvwZo15nLLlvDhh1CjhrW5RMSlVOSLiIiIiFdxOg2GLt7M17tOAHB9cAHjW4fhW5mPVjscMHo0fPutudy0KXz0kTrpi3ghFfkiIiIi4jUMw+ClT7azdNNhAFoG2ZnaOpjA8DCLk1nI6YRXX4WvvjKXL70Uli+HOnWszSUibqEiX0RERES8xpRVe5n13T4AGgYUMetyH8KqhFsbykqGAW+8AZ99Zi7Xrw8ff2x+FRGvpCJfRERERLzCwrUHSFyxE4BYfwfJTR1EXVLV2lBWMgyYOhWWLTOX4+LMU/QbN7Y2l4i4lYp8EREREanwPtt6hP9+sAWAqr5O5jayUbtWdYtTWWzWLFi0yBzHxJhN9i6/3NpMIuJ2KvJFREREpEL7fu9JBizchNOAEB+DWQ3yaFS/ptWxrDV/Psyda45r1DCP5rdubW0mESkXKvJFREREpMLaeiiL3skp2B1O/DGYGpdN60bRVsey1nvvwYwZ5rhaNViyBK66ytpMIlJuVOSLiIiISIWUdjKPR2atJbewGIDxMVnc2DQGfHwsTmahDz+EyZPNcWSkebr+9ddbm0lEypWKfBERERGpcI5l2+iStIaTuXYARlTP5J4rYsC3Ev95+9lnMHGiOQ4Ph4UL4W9/szaTiJS7SvxTUEREREQqoqyCIrrNXEv66QIAnqiaTffW0eDnZ3EyC331FSQmmuOQEEhOhk6drM0kIpZQkS8iIiIiFYatyEHPOevYcTQHgIfCc3iqdRT4+1uczEKrV8Po0eB0QlCQeT3+//2f1alExCIq8kVERESkQih2OOm/YAPr9p0G4O+h+bzUpgo+QUEWJ7PQ2rXw4ovgcEBAAEydCv/6l9WpRMRCKvJFRERExOMZhsEzS7bwxc/HAbg22MZrCaH4hYRYnMxCmzbB8OFQVGReqjBpEnTrVrkbD4qIinwRERER8XxjP93BeynpAFweaGday0CCwsMsTmWhrVvhP/8Bu91sNjh+PPTurQJfRFTki4iIiIhnm/b1XqZ9kwpAg4BiZl8OEdUiLE5loZ074ZlnwGYzi/rRo+GJJ1TgiwigIl9EREREPNji9QcZ8+kOAGr6OUhuUkSNmtUsTmWhvXth2DDIyzOXn38ehg6t3LcOFJES9NNARERERDzSF9uP8cySLQBE+jpJbmSjTlwNi1NZ6MABs6DPzjaXn37avCZfBb6I/IZ+IoiIiIiIx1m3L4N+CzbgcBoE+RjMrJfLZQ1qWh3LOocOweDBcNq8swCDBsGoUWbDPRGR31CRLyIiIiIe5ecj2fSYvY7CYid+GLxVO5u2jWOsjmWdY8fMAv/kSXO5Tx8YNw78/a3NJSIeyaOKfKfTycKFC7nrrrto3bo1t956K6NHjyY3N/fsc/bv30+fPn1o27Yt7dq1Y8SIESUeFxEREZGK62BGPl1nriXHVgzAuJpZ3NIspvI2lTtwAJ56yiz0wbxF3uuvQ0CAtblExGN51Md/M2bM4LXXXuPRRx/lmmuuIS0tjTfeeIPdu3czc+ZMcnJy6NatGzVq1GDs2LFkZGSQmJhIeno6SUlJVscXERERkTI4kVNIl6Q1nMgpBOC5qCw6t4ypvNecr1sHL7zwa5O9Bx6AqVMhMNDaXCLi0TymyHc6nUyfPp0HHniAwYMHA3DttddSrVo1nnzySbZu3cr3339PZmYmS5YsISoqCoDo6Gh69+5NSkoKbdq0sXIKIiIiIlJK2bYiHpm1ln2n8gHoUyWbngk1K+c154YBH3wAkyeD02mue/RRmDQJgoOtzSYiHs9jPhbNzc3lnnvu4c477yyxPj4+HoCDBw+yevVq2rRpc7bAB7juuusICwvjm2++Kde8IiIiIuIatiIHvZPXs+2w2TX+/vBcnk6IqpzXnBcXw4QJZkHvdJqn5ScmmkfwQ0KsTiciFYDH/OSMjIzkueeeO2f9F198AUCjRo3Yu3cvnTp1KvG4n58fcXFxpKWllUtOEREREXEdh9Ng4Dsb+TE1A4AOIfmMTojAJyjI4mQWyMqCkSNh0yZzOSoKkpLgnnsqb08CEbloHlPkn8/mzZt5++23ufnmm2ncuDE5OTmEhYWd87ywsLAyNd+z2+0UFBSUJarHsNlsJb56A2+bk7fNBzSnikJzqhjsdrvVEUTKjWEYPLd0Cyu2mU3lrgouZFLrUPxDQy1OVv589u83r78/fNhc0bgxvPsutGplaS4RqXg8tshPSUmhT58+xMXFMWbMGMD8RfBHfMrw6WZ6enqpt/VUqampVkdwOW+bk7fNBzSnikJzEhFP8ernO1m49iAATQPtzGjhT3DkuQd0vF3Y1q0EzJwJ+WY/Am65BebPh5hKfNtAESk1jyzyly9fzjPPPEP9+vWZMWMG1apVAyA8PJy8M91FfyM3N5fo6OhS7y8uLo7IyMhSb+9JbDYbqampxMfHE+wljVm8bU7eNh/QnCoKzaliyM7O9soPn0V+L2l1GpP/txeAuv7FzGlmEBnlHX+PXTDDwO/996k9YwY+Zw5mPfYYTJyo6+9FpNQ8rshPSkoiMTGRq666ismTJxMREXH2sQYNGnDgwIESz3c4HKSnp3PbbbeVep+BgYGEeNkP0uDgYM3Jw3nbfEBzqig0J8/mTZceiPyRpRsP8dLH2wGo4edg7mVF1IypYXGqclZUBBMn4v/ppwAYgYH4jB0LAwZUzjsKiIjLeEx3fYB33nmHcePG8fe//50ZM2aUKPAB2rdvz7p168jIyDi7bvXq1eTn59O+ffvyjisiIiIiF+l/O48zZPFmACJ8ncxpWEC9uEpW4GdmwpAh8EuBX1SlCvYFC2DQIBX4IlJmHnMk/8SJE4wZM4batWvz8MMPs3379hKP161bl4ceeoh58+bRvXt3+vfvT2ZmJomJidxwww0kJCRYlFxERERELkTK/tP0nZdCsdMg0Mdgep0cmsfXsjpW+UpNhf/+F44eBcDZuDG7XniB+E6d1EFfRFzCY4r8r7/+GpvNxqFDh3j44YfPeXzMmDHce++9JCcnM3r0aIYMGUJYWBgdO3Zk2LBhFiQWERERkQu161gOPWavw1bkxBeDSbFZXH1ZJSvwv/8eRo2CM3d16tCBwunTsZ08aW0uEfEqHlPk//Of/+Sf//znXz6vcePGzJ492/2BRERERMQl0k/n0zVpLVkFRQCMqZnF7ZfHVp4j14YB77wD06ebYx8fePxxePVVc1lFvoi4kMcU+SIiIiLifU7lFtI1aS1Hs82mkk9Xy+KBljHg61GtodzHbofx4+Hzz83loCBITDSLfD+/X4/qi4i4iIp8EREREXGL3MJius9eR+pJ8xbIPSNz6NO6RuVpLpeRAc8/D9u2mcuXXAJz5kDHjpXnLAYRKXcq8kVERETE5QqLHfSZm8JP6VkA3BuWx7NtquETGGhxsnKyZ4/ZYO/4cXO5eXN4913zq4iIG1WS86REREREpLw4nAZPvbuZ1XvMa81vCSnglYRwfIOCLE5WTr79Fp544tcC/+9/h1WrVOCLSLnQkXwRERERcRnDMBj54TY+2XIEgDZBhUxuFUxAWKjFycqBYcD8+ZCUZC77+MCAATB2LAQHW5tNRCoNFfkiIiIi4jKvf7mbuT/uB6BJQBEzW/gRUiXc4lTlwG6HcePgyy/N5ZAQs+HeY49VniaDIuIRVOSLiIiIiEvM/WEfr32xG4Da/sXMae6kSvUoi1OVg+JiePFF+O47czk6GubOhQ4drM0lIpWSinwRERERKbOPNh/m+Q/NLvLV/ZzMbWwnJuYSi1OVA4cDRo/+tcBv2hSWLIHLLrM2l4hUWiryRURERKRMvt19gqcWbcIwIMzXYHaDPOLrxlgdy/2cTvOe9//7n7ncuDEsXw7161saS0QqN10gJCIiIiKltvlgJo/NTaHIYRDoYzC9TjZXNKoEBb5hwOuvw4oV5nJ8PHzyiQp8EbGcinwRERERKZU9x3N5ZNZa8u0OfDB4LTabay+LtTqW+xkGTJkCH35oLtepAx9/DI0aWZtLRAQV+SIiIuJmq1evpnPnzrRs2ZJbbrmFpKQkDMP4w+fb7XamTp1Kx44dadWqFbfffjtvvvkmdru9HFPLXzmabaNr0hpO5xcB8FKNLDpdHmPeNs7bJSXBe++Z49hYs8Bv2tTaTCIiv9A1+SIiIuI2mzZtok+fPvz9739n4MCBpKSkkJiYiMPhoHfv3ufdZtSoUXz44Yc8/vjjXHHFFWzZsoXJkydz+PBhRo8eXc4zkPPJKXQybO4mDmfZABhcNYt/t46pHLeKmzcP5s83xzVrwrJl0KKFtZlERH5DRb6IiIi4zaRJk2jatCmJiYkA3HDDDRQXFzN16lS6du1KcHBwieefPn2aRYsWMWTIEHr27AnANddcA8D48eMZMmQIUVGV4JZsHizf7mD06tPszTCP4D8SkUP/hBrg52dxsnKwaJF5FB8gKsrson/lldZmEhH5nUrwcauIiIhYwW63s2bNGjr87l7ht99+O3l5eaSkpJyzTW5uLg8++CC33HJLifXx8fEAHDx40H2B5S/Zi50MWryFXb8U+HeH5fF8m6r4BAZanKwcLF0Kb71ljqtUgcWLoX17SyOJiJyPjuSLiIiIWxw8eJCioiLq/67beL169QBIS0uj/e+KpDp16jBy5MhzXuvLL78kICDgnNe6UHa7nYKCglJtKyanYfD0B9v5dk8GAO0Dcnm5eRBFPj5QWGhxOvfy/fxzAl5/HQAjPBx7cjLOa64BF3xP2Wy2El+l7PSeupbeT9dzd48ZFfkiIiLiFjk5OQCEh4eXWB8WFgaYR+0vxMqVK/nggw/497//TZUqVUqVJT09vVTbickwDGZuymH5nnwAmpLD09WOcvhECJywOJybRaxbR+zMmQA4goNJHTmS7Nq1Yft2l+4nNTXVpa8nek9dTe9nxaEiX0RERNzC6XT+6eO+F9Ck7fPPP2fw4MG0adOGoUOHljpLXFwckZGRpd6+spv27T6W7zkGQLxfIaOqHqHBpY0I9PLT9H2/+w7/WbPwMQyMoCCKp08nrnNnl+7DZrORmppKfHz8OT0qpHT0nrqW3k/Xy87OduuHzyryRURExC0iIiIAyMvLK7H+zBH83x/h/73Zs2fzyiuvcNVVVzF58mSCgoJKnSUwMJCQkJBSb1+ZLVhzgNe+Mo/gxfo7mNmokMLCUAIDA8v0/8Tj/fgjjBkDTicEBODz9tsEPfyw224RGBwcrO9RF9N76lp6P13H3Zc+qPGeiIiIuEXdunXx8/Nj//79JdYfOHAAgIYNG553O8MwGDVqFGPGjKFTp05Mnz79Lz8QEPf4dMsRnlu6BYBqfk7mXmojNrYS3N0gJQWefx6Ki8HfHyZPhi5d3Fbgi4i4kop8ERERcYugoCDatm3LypUrMQzj7PoVK1YQERFBiz+4t/iECROYO3cu3bt359VXX/X6U8I91fd7TzLwnU04DQj1NZhVP49G9WpaHcv9tmyB556DoiLztoATJ0LPnirwRaTC0On6IiIi4jZ9+/ale/fuDBw4kM6dO7Nx40aSkpIYPHgwISEh5ObmsmfPHurWrUtUVBQ///wz06dP54orrqBjx45s3ry5xOs1atRIR/XLwdZDWfROTsHucBLgYzC1djatGsVaHcv9fv4ZnnkGbDazqB87Fh5/XAW+iFQoKvJFRETEba655homTZrEG2+8Qb9+/YiOjmbYsGH06NEDgG3bttG1a1fGjBnDvffey+eff45hGGzZsoUHHnjgnNdLTk6mXbt25T2NSiXtZB7dZq4lt7AYHwxejc7ihma1vL/Q3bMHhg2D/Hxzri++CE89BRfQIFJExJOoyBcRERG36tChAx06dDjvY+3atWPnzp1nlwcOHMjAgQPLK5r8zrFsG12S1nAqz7yH88jqWdxzRYz3F/j79sGQIXDmto7PPgv/+Y8KfBGpkPSTS0RERETIyi+ia9Ja0k8XADCgajbdWkeb16V7s/R0GDwYsrLM5cGDYeRI75+3iHgtFfkiIiIilVyB3cGjc9ax81gOAA9H5PJk6yizs7w3O3rULOozMszlfv3M6/C9fd4i4tVU5IuIiIhUYkUOJ/0XbGD9/tMAdArN58WESHyCgixO5mYnTpgF/vHj5vKjj5qd9FXgi0gFpyJfREREpJJyOg2efv8nvtxhFrrtg21MTAjFLyTE4mRulpFhFviHD5vL//oXTJ4MAQHW5hIRcQEV+SIiIiKV1NjPdrBkwyEArgi0M61lIEHhYRancrOsLLPJ3sGD5vK998LMmeDtZy6ISKWhIl9ERESkEpr29V7e/iYVgPiAYmZfDuHVIixO5WYHDpjX3aelmct33AFz50JwsLW5RERcSEW+iIiISCWzaP1Bxny6A4BoPwdzLiumes1qFqdys7Vr4fHH4ZB55gIdOsDChRAaam0uEREXU5EvIiIiUoms3H6MZ97/CYAqvk6SG9moU7u6xancyDDgvffM+97n5ZnrevaEpUshwsvPXBCRSkntQ0VEREQqiTWpp+i/YANOA4J9DGbWz6VJg1irY7lPURG8/jp88om5HBgIo0fDoEHg52dpNBERd1GRLyIiIlIJbD+cTc/k9RQWO/HD4K3a2bS51IsL/KwsGDECNm82l6OizAZ7d98NPj7WZhMRcSMV+SIiIiJe7sCpfLrNWkuOrRiAxJpZ3Nws1nuL3bQ0eO65X2+R17gxvPsutGplaSwRkfKga/JFREREvNjxHBtdZq7hRE4hAM9FZXJvyxjw9dI/A3/4Afr3/7XAv+UW+PprFfgiUmnoSL6IiIiIl8q2FfHIzHXsP5UPQN8q2fRMiPbO69ENAxYvhqlTzTFAnz4wYQKEhFibTUSkHKnIFxEREfFCtiIHveasZ/uRbAAeCM9lWEIU+Hvhn392O0ycCJ99Zi4HBcHYsfDEE975gYaIyJ/wwp/yIiIiIpVbscPJgIUbWZOWAcBtIfm8nBCBT1CQxcnc4PRps8Heli3mco0aMHs2dOrkvT0HRET+hIp8ERERES9iGAb//WArn28/BkC74ELeSAjFPzTU4mRukJoKzz4Lx8y50rSp2WDviiuszSUiYiEv7bgiIiIiUjklrtjJu+sPAtAs0M70Fv4ER4RZnMoNvvvObLB3psC/7TZYtUoFvohUejqSLyIiIuIlZnybypRVewGoF1DMnOYGkVGRFqdyMcOAd96B6dPNsY8P9OsHiYkQHGx1OhERy6nIFxEREfECSzakM+qTnwG4xM/B3CZFXBJdw+JULma3w/jx8Pnn5nJQELz6KvTtqwZ7IiK/UJEvIiIiUsF9teMYQ9/7CYAIXydzGhZQNy7a4lQulpEBzz8P27aZyzVrmg32OnZUgz0Rkd9QkS8iIiJSgaXsz+Dx+RtwOA0CfQxm1MmhWXwtq2O51p498N//wvHj5nLz5maDvebNrc0lIuKBPLbx3tGjR2nbti1r1qwpsX7//v306dOHtm3b0q5dO0aMGEFubq5FKUVERESss/NoDt1nrcNW5MQXgzdjs2h3WazVsVzrm2/M+92fKfA7dTIb7KnAFxE5L488kn/kyBEeffRRcnJySqzPzs6mW7du1KhRg7Fjx5KRkUFiYiLp6ekkJSVZlFZERESk/KWfzqfrzDVk24oBGFszi9suj/WeU9cNA+bPhzN/4/n4wIABMHasGuyJiPwJjyrynU4nS5cu5ZVXXjnv4wsXLiQzM5MlS5YQFRUFQHR0NL179yYlJYU2bdqUZ1yRCq2w2MHcH/bzY2oGbetX4+YmNWkcHY6Pt/xxKCLixU7lFtI1aS3HsgsBeKZaJve3jAFfjz1J8+KcOAFvvAGrV5vLISEwYQL07u09cxQRcROPKvJ37tzJiBEjeOihh7j22mvp3bt3icdXr15NmzZtzhb4ANdddx1hYWF88803KvJFLoDDabB04yHGr9zJ4UwbAF/8fIyxn+4gtkowN19Wk5ub1OTahtUJC/KoHxEiIgLkFhbzyKx1pJ7MA6BXZDaPtb7EO7rLOxywbJl59D4/31wXHQ1z50KHDtZmExGpIDzqL/jY2FhWrlxJTEzMOdfiA+zdu5dOnTqVWOfn50dcXBxpaWnlFVOkQjIMg1U7TzD20x3sPJaDv58PdaNCqBkRRG6hg8x8O5n5dhasOcCCNQcI8PPh6vjq3NSkJjc3uYQGNcJ0lF9ExGKFxQ4em7ueLYeyALg3LJf/tInCJzDQ4mQusGuXebR+585f191yC0yZAk2aWJdLRKSC8agiv2rVqn/6eE5ODmFhYeesDwsLK1PzPbvdTkFBQam39yQ2m63EV2/gbXOyYj6b07MY/8Ve1u3PxNcHYqsEERsZhL+fecpjZLAfkcEhQAi2IgeZBcVk5Rfx3Z6TfLv7JC99DHWqBXPjpTW44dLqXFmvKsEBvx4x8rb/R6A5VRTeOCe73W51BPFQDqfBk+9u4rs9pwC4JaSAVxIi8A0KsjhZGeXnw6xZsGQJOJ3muuhoePll6NYN/D3qz1UREY9XoX5qGobxh4+V5Qhjenp6qbf1VKmpqVZHcDlvm1N5zOdQTjELtuTw4yHzms2qwb7UDPUjwM+g0Gaj8A+2i/CDiAhfnOEB5NkNcuxOjmbZmLc2nXlr0wn0hSuig0iICSIhNpCaYf7lNqfypjlVDN44J5HfMgyD55dtZfmWowC0DSpkcqtgAsJCLU5WRqtXm9fenzhhLvv5wb//DWPGQKyX3SVARKScVKgiPzw8nLy8vHPW5+bmEh0dXerXjYuLIzIysizRPIbNZiM1NZX4+HiCvaTzrLfNqTzmczynkMmr0nhv40mcBlQLDSCuajAhgRd/vWYEEIP5B6atyElmQRGZBcVsOFJIypFC2AgNqodwRXUfbrq8Lm3qV6dmRAU/qoT3fd+B5lRRZGdne+WHz1I2E7/Yzfw1BwBoElBEUgs/QqqEW5yqDI4fN4v77777dV3z5v/f3n3HR1Wljx//TJ9JMmkkJEDoOAECCYFQ1gBiAWTVFX+6u64gCmvBXV33a1vYXSy72BUssIoCIsqq2EWQgLpRkF4EpRNSqAHS+7Tz+2PIwBBqTDIzyfN+veYFc+bO5Dm3nfvce+658NJLcOWVzecJAUII4QdBleR37tyZvLw8nzKXy8WBAwcYMWJEvX/XaDRisVh+aXgBxWw2S50CXGPUp7Tawazvspi9IpsapxurWU+HaAtWs6FBfj9UpyPUbKBdFDjditIqB0WVDg4WV5NdoPhi904AYq0mUhIiSUmIoHdCBCkJkUSFBuf9os1tvQOpU6BrTrceiIbx9qocXvlmDwDt9E7mJ7mJaBV9nm8FKJcLPv7Y0z2/dl0PC4MHH4RHHoGQIO+ZIIQQASCokvz09HTmzJlDYWGhd4T9lStXUllZSXp6up+jE8J/qh0u3l2Ty6vf7qWkykGIUUdiXBiRIYZGGyxPr9UQHWokOtSIy2WmsLQCl9ZApd1NRY2Tb3bk8/WOfO/0CVEWUtpHktwuguSESHonRBAmo/cLIcQ5fbHlEI8v2gZAK52bd2x24uJj/RxVPe3cCS++CHv3niwbPtxz9b5nT7+FJYQQzU1QHWHfcsstvPvuu4wfP557772X4uJinn/+eYYOHUrfvn39HZ4QTc77OLxluzhUUo1Jr6VrbCgxYcYmHQlfo9Fg1msJDTWhPfH8YrdbUWF3UVHjpLzGSUG5ncVbD7N462HPd4CusWEkJ0R4Xu0j6dkm3GdAPyGEaMm+332MBxf+iFIQplXM61xBlw7x/g7r4pWXw9y58NlnUDu+Ups28NRTnvvvZWA9IYRoUEG1V42Ojmb+/Pk89dRTPPTQQ4SGhnL11VfzyCOP+Ds0IZpUncfhaT2Pw4sPN6PVBsZ9jFqtBqtZj9V8cjfjdCsqTyT95TUuDhRVsvdYOZ9sPgiATqshMc5Kp5gQdFoteq0GnVaDTqNBp9Oc+b1G45lWd8pnWg16nQaTXkvnmDBscWFEhgTn7QJCiJZpc14RE9/diMOlMGoUb7QvpXe3tv4O6+IoBd9/DzNmwPHjnjKdDsaP94yc37q1f+MTQohmKmCT/IEDB7Lr1OeknmCz2Zg3b17TBySEHymlyCusZFNeEZvzilmXXcjOI2VoNdA20kzbCLP3cXiBTK/VEG4xEG45OUaAw+U+cbXfc9V/79Fyth8ubfC/HWs1kRhn5ZK4sBP/WrHFhTXYeAVCCNFQ9h4tY8K89VTaXWhQvNymlEu7B9lI80eOwMsvw5o1J8uSkz1d84cNk4H1hBCiEQVski9ES1ZR42TLgWI25xWzOa+ITXnFFFacfHa2QaehtdVEQpQFoz7wk/tzMei0RIYYiTxlrKXax2UqBQpQKM//T/Ty9L73vPF5r068R4FLKarsLqrsLirtTlZnFbBy73Gfv98mwkxivBVbXO0rjG6tw5DDTyGEPxwqrmLcnHUUVToAmBpTwqhebYInKXY64aOP4O23Tw6sZ7V6BtV78EFoJgNkCiFEIJMkXwg/c7sV2QUVbMotYvP+YjblFrE7vwz3iYRWA4SYdMSFm7Ca9YSZ9Jj02ia9576p1dbtZBXrX9eo004e1DjdnqTf4Un+S6ocfL/7GJm7jp38+0C7SDNtQhSph7NISogivVsMMWHB/2hAIUTgKqqwM27uOg6VeJLjByNLGJMaD9ogOZm7bRtMmwb79p0sGzUKpk+HxET/xSWEEC2MJPlCNLGyaic/Hqnhf8ey+flwOZtyiyitdno/N+q0RFoMhJn1npdRHzD32Qc7jUaD2aDDbNARdUq5Uopqh5sqh4tKu+dVUGHnYLGb9YdygVxMei1/GNCBiZd1JT6ieTyPXQgROCpqnIyft569R8sBuN1axr19Yzz3sAe68nJ4801YtOhkl6uEBHjmGbj55uCogxBCNCOS5AvRBMqqHXy44QAfbNjP7iNlnm7mFKHVQIhRR3yECavJk9Qbdc37Kn0g0mg0WIw6LEYd0aGeMrfbTVl5BTqjmSqHmyMl1cxblcOCtbn8Lq099wzrSkKUPM9ZCPHL2Z1u7lmwiR/3FwPwm9AKHu0XicYYBAOG7twJU6acHFjPYIAJE2DqVIiJ8W9sQgjRQkmSL0Qjyi2oYN6qHBau30+F3YVBpyEqxIBR4yY63EKY2YBWEvqApdVoCDHqCDMbiAkzUlzl4GBRNQvW5vH++v3c2LcdfxrWjU4xof4OVQgRpNxuxUMfbuH73Z5bhoaaq3ihbxhac+D3GNJ+953nuff2E2PGpKZ6BtsbPDh4xhAQQohmSJJ8IRqYUoo1+wqZ+0M2X2/PR+G5Wt8lxvP8elBUVFQSatJLgh9ENBoNUSFGIi0GSqucHCiuYuGGA3y08QC/SWnLvVd0o1trq7/DFEIEEaUU//pyO19sOQRAH1MNr6eaMYYGeC8ht5tWX3yBYckSz3uNxjOo3r//DUFwckIIIZo7SfKFaCDVDheLthxi7g/Z7DhcBkBUiIH4CDPhZr23C767dkQ9EZQ0Gg0RIQYiQgyUVjk4WFzFZz8e4vMfD/Hr3m2494pu9GgT7u8whRBBYMa3e5m3KgeAbgYHb/XWERIR5t+gzqeqCv1TTxGzcqXnfUgIvPIKjB8fPAMECiFEMydJvhC/0NGyahasyeOdNbkUVtjRaTXEh5uIizBjMchgQ81ZuMVAuMVAWbWTg8VVLP7pMIt/OszwnnH85YpL6J0Q4e8QhRABasHaXF5cvhuAtnoX83u4iIpp5eeozuPYMfjHP9Dt2QOAu00btAsWwOWX+zkwIYQQp5IkX4h6+vlgCW/9kMMXWw7icClMei0doy3EWk3odXI1oyWxmvV0j7dSUePkQFEVy7fns3x7PsMSY7nvikvo1zHq/D8ihGgxlvx0mH9+9jMAUTo38y+ppm3b1n6O6jy2b/cMsFdYCEBFYiLaDz/E0ru3nwMTQghxOknyhbgILrdi+fZ83vohm7XZngMdq1lP5xgzUSEGGRW/hQs16UmMt1Jpd3KwqJrMXcfI3HWMS7u24r4rLmFQl2hZR4Ro4VbtPc5f3/8RpSBEq3irUwXdOsb7O6xzW74cnn8eHA4AnNdfz+6//pXu3br5OTAhhBBnIkm+EBegtNrBwvX7mbcqhwNFVWg0EBNmpE2EmVCTbEbCV4hRzyVxYSTYXRwsrmJ1VgGrsgpI6xTFn4Z1ZcglsRikt4cQLc5PB0q4c/4G7C43Bo3i9Xal9OnWxt9hnZ3bDXPmwH//63mv1cIjj+CYPBn3iS77QgghAo9kJ0KcQ/bxCt5elcPCDfupPPEIvHaRZuLCzRj1kqSJc7MYdXRrHUZClItDxdVszCliwrwNWM16hveIY0RSPJfZYrEYZewGIZq7fcfKuf2tdVTYXWhQTIsvYWjPtoH7qLmqKnjqKagdYC8sDF59FcaNg5oa/8YmhBDinCTJF+I0SilW7j3OWz/k8L+dR08+Ai82lJhQI1ptgB6QiYBlNnjWn3ZRZo6X2SmssPPJ5oN8svkgJr2WYYmxjEyK58rucUSEGPwdrhCigeWXVnPrnHUUVHieJ/94TAnX9YoP3AT/yBH4xz9g3z7P+4QEWLAAhg71b1xCCCEuiCT5QpxQZXfxyeYDvPVDDnuPlgNnfgSeEPVl0utoF2WhXZSFaoeLokoHhRV2Mrblk7EtH51Ww6VdWzEyKZ4RPeNoHS7PmxYi2JVUOhg3Zx0Hi6sA+EtkKbf1iQNdgPbg+flnePRRKCryvE9Lgw8+gC5d/BuXEEKICyZJvmjxDhZXMX91Du+tzaO02oleq6FNhJm4cBNmeQSeaCRmg442ETraRJhxuNwUVdgprHDww97jrNhznCmf/Uxqh0iu7hXPyKR4OrYK9XfIQoiLVGV3MeHt9ezKLwNgjLWc/0uNBn2AHn5lZMCLL3oH2OO3v4U334QIeRyoEEIEkwBtZYRoXEopNuQW8dYP2Sz9+QhuBRaDjk6tQoi1mtBJl3zRhAw6La3DzbQON+N0K4orPQn/lgMlbMor5qklO+keb2Vkkifh79HGKj1LhAhwDpebP/93ExtzPVfErwmp4F99w9GYTH6O7AxcLpg9G95/3/Nep4PJkz1X9A1yC5EQQgQbSfJFi1LjdPHllsO89UM2Px8qBSDCYiA+wkSkRR6BJ/xPr9UQE2YiJsyE260oqfJ06c86Vs7L3+zh5W/20D7KwtW94rl5QAe6xob5O2QhxGncbsXfPtrKtzuPApBurmZa31B0FoufIzuDykqYOhVWr/a8t1rhP/+BW27xjKYvhBAi6EiSL1qEo2XVLFiTx7trcykot6PTaIgLNxEfbpaRzUXA0mo1RIUaiQo1opSitNpJUYWdo2U1vLkimzdXZHNVj9bcOaQLAzpHy0kqIQKAUoqnluzgk80HAehttDMrxYgpLABvuTl82DPAXna2532HDp7H5aWn+zcuIYQQv4gk+aJZ++lACW/9kM0XWw7hdCtMei0doi20tprQy3PKRRDRaDREWAxEWAx0VIqyaieHS6r5esdRvt5xlOR2Edw5tAujesXLui2EH73+3T5mr/QkzV0MDub11hAWZfVzVGewdaunO35Jief9wIGe7vqdOvk1LCGEEL+cJPmi2cktqCBj2xGW/HSEH/cXA2A162kTYSYqRLrki+Cn0WgItxgItxiocrg4UlLNz4dKuO+9zbSNNPPHwV34ff/2hJlkFy9EU/pgfR7PLt0JQJzOxfzuLlrFtvJzVGewZAlMnw5Op+f9H/4As2Z5uuoLIYQIenIEKIKeUopth0pZtu0IS7cdYXe+5/F3Oq2G2DAj8RFmQiXZEc2UxaCjc0woCVEW8ktryC+t5t9fbmf68t2MGdSB8Zd2Jj5CHsUnRGPL2HaEyZ/8BECE1s073apJaNfaz1GdxuXyJPMffuh5r9PBlCnw97/LAHtCCNGMSOYjgpLT5WZ9ThHLth9h2bYjHCyuBsCg0xBrNRIdYiTCYkAro+SLFsKg05IQZaFthJlj5TUcKalh1nf7mL0im+v7tOXOIV3oFCkH8UI0hjX7Crjvvc24FZg1irmdyrF1buPvsHwVFsJzz8HatZ734eHw+utw880gPdyEEKJZkSRfBI1qh4uV2flkbDvC1zvyKa70PMfXpNcSH2EiOsSI1ayX7viiRdNqNcSFm2ltNVFc6eBwSTWfbDrIJ5sOcmmXKK5sBz16KH+HKUSzse1QCXe+vQG7040exWvtSul3SQAl+G43LF4Mb7wB5Z6ebnTqBO+9B4MG+TU0IYQQjUOSfBHQSiodfLX1MJ+uL2LLpyuodroBCDHqaBdpJjrUSIhRJ4m9EKfRaE6OzF9e4+RwcTWr9xWxah+8v2sdd1/Wjd+ktMWol0H6hKiv3IIKbpu7nrIaz73tz8eVcHnPNoFzZTw7G158EbZtO1l22WUwf75nJH0hhBDNkiT5IuAcLqli+XbPFfs1WYW4lOeqo9WkIy48hKhQA2aDPPZOiAsVZtJzSVwYVXYnBwrK2Xe8koc+3MKzS3cyPr0Tf+jfgahQo7/DFCKoHC2r5tY56zheXgPAlFYl3JAcHxjPlq+uhnfegQ8+8NyHDxATA088AXfeKfffCyFEMydJvggINU4Xy7bl8966PFZlFQCg1UC4xUCURY8RJxHWULSBcPAkRJAy6bXEh+npGGPmeIWD/NIanlu6ixczdjOwSzQjesYxPCmedpEWf4cqREArrXZw29z15BVWAvCniFL+mNraM5Cdv61dCy+/DIcPe95rtfD733vux09I8G9sQgghmoQk+cKv9h0r5/31+/lww36KKh1oNBAdaqRVqJHIEAM6rQa3201FhcvfoQrRbOh1WtpGWoiPMFNYbqegws6afQWsyirg8UXbSWobzvCecYzoGU+PNla5HUaIU1Q7XNzx9gZ2HC4F4Pdh5TzcNxr0fj6kKiiAGTMgM/Nkmc0G06bBqFGB0cNACCFEk5AkXzS5aoeLjG1H+O/aPNZmFwJgMWjpEG0h1mrCoJMDESGaglajIcZqIsZqwuVWlFQ5KKywszu/jG2HSnnp6z20i7QwIsmT8PfvFIVetk/Rgjldbu57bzPrTrRdI0MqebKvFY3J5L+g3G5YtAjefBMqKjxlFgvcf7/n0XhWq/9iE0II4ReS5Ismsye/jPfW7efjTQcoqXKg1UCrMCOtrSbCZVR8IfxKp9UQHWokOtSIUorSaidFFXaOl9fw1g85vPVDDhEWA1f2aM2InnEMtcUSYpQmRLQcSin+/ulPLN+eD8BAUzUvp4agDwnxX1B793qu1O/YcbJs2DB46SVISfFXVEIIIfxMjtBEo6p2uFi89TDvrc9jQ04RABaDjo7RIcRYjXLVXogApNFoiLAYiLAY6KgUlXYXRZUOiirs3sfxmfRaBneLYURSHFf2iCMmzI9XMoVoAs9l7GLhhgMA9DTaeTPFgNka6p9gqqrg7bfhww89V/IBWreGf/8bxo+XgfWEEKKFkyRfNIqdR0p5/8RV+7JqJ1oNxIQZaR1uwmqSq/ZCBAuNRkOoSU+oSU9ClIUahyfhL6yw8+3Oo3yz8ygafqJfxyhGJsVzQ992kvCLZmf2in28lpkFQEe9k7d7QXh0uH+CWb3aM7BevqdHAVot3HILPPsstG3rn5iEEEIEFEnyRYOptDv5cuth3lubx+b9xYDnefYdW4UQG2aUe3mFaAZMBh3xETriI8w4XW7PFf5KO5v3F7Mht4hnl+5kVO82jB3YgQGdo+WEngh6H288wNTFnu7wsToX73R3ENs6pukDOXYMXn0VVqw4Wdajh6e7/ogRMrCeEEIIL0nyxS9SUF7Dyr3HWbHnOEt/PkJ5jROdRkPsiav2YXLVXohmS6/TEms1EWs14XYriirt5JfWsGjLIRZtOUS31mGMHdiBG/omEGGR7sMi+Hy7M59HPt4KgFXrZn7XKjokxDVtEC4XfPYZzJ0LlZ5H9hESAg88AJMmQaifbhkQQggRsCTJFxel2uFiQ04RK/YeY+We42w7VOr9LNSoo1OrEGLkqr0QLY5Wq6FVmIlWYSaq7C7yS6vJOV7B44u288zSnVyf0o4xgzqQnBDp71CFuCAbcgr504JNuNwKk0Yxp0M5Pbq0adogdu/2XKnftetk2ZVXegbW69WraWMRQggRNCTJF+eklGLnkTJW7jnO93uOsS67kBqnZ5Afg05Dq1CjZ4CuED0mvc7P0QohAoHFqKNTTCjto0MoqLBztLSGDzbs54MN+0luF8GYQR24LqWtjM4vAtbOI6VMmLeeaocbHYoZbUsYkNiE97tXVsJbb8Enn5wcWC8+Hp58EsaNA71sO0IIIc5OWglRx9HSalbsOc7KvZ7EvqDcDoBWA2FmPa3DTURaDIQYddIVXwhxVjqthtZWE62tJipqnOSX1rDtUCl/+/gn/v3lDm7ql8CYgR24JE6e4y0Cx/7CSsbNWUdptROAZ1qXMDypDTRFe1deDsuXw3vvee7BB9Dp4NZb4ZlnIK6JbxUQQggRlCTJF1TZXazNLmDFnuOs2HOM3fnl3s9CjDraRJiJsOixmg3otJLUCyEuXqhJT5dYPR1aWTheZudoWQ3zVuUwb1UOAztHM2ZQR65Oiseol1t9hP8cL69h3Nx1HC2rAWBydAm/TYlv/EHtsrLg8889CX519cnyXr08XfOvuKJpTjIIIYRoFiTJb4EcLjdbDxSzOquAH/YWsCG3EIdLAWDUaYkJM3qfkS0H3EKIhqTXaomPMBMXbqKsxsnR0hrW5xSyNruQ6FAjv+/fnlsGdKB9dIi/QxUtTFm1g9vfWkf28QoA7gov5e7UWM+V9MbgcMD333uS+59+8v0sPh7uuQceesgzyJ4QQghxESTJbwFcbsX2Q6WsyjrOqqwC1mUXUuVwAZ4u+FazgUiLnogQAxaDdMEXQjQ+jUZDuNlAuNmAw+XmWFkNR8tqeC0zi9czs+jYKoQusWF0jgmlc0woXWJC6RwbSpzVjFZ6FIkGVuN0cfc7G/n5oGcw2RtDK5jcLxoMjfBUiPx8WLQIliyBoqKT5RoNDBoEd9wBv/+9jJovhBCi3iTJb4bcSrE7v5xNB4+wKquANfsKKDtxb6FW4+k2mxBmIdysJ8ysRytJvRDCjww6LW0jLbSJMFNS5eRYWQ35pTXkFVby7U7fac0GLZ1ahdIl1pP8J4QbUWV22lQ6sFgs/qmACGout+Kv7//IqqwCAK60VPFsvzA0JlPD/RG3GzZu9Fy1X7365GB6AOHhcMMN8Oc/Q79+8rx7IYQQv5gk+c2AUors4xWsyipg5Z6jrNpzjFJ7PgAaPEl920gzEWYDYWa93FcvhAhIGo2GyBADkSGeq6dKKWqcbqodLqodbqocLqodLrKPV7DzSJnvl79dQYTF4E3+O7fyXPnvEhNGl9hQzAZ5+oeoSynFlM9/5qufjwDQ31TDjD5m9A3VRb6sDJYuhS++gAMHfD/r2RNuuw3Gj4fY2Ib5e0IIIQSS5J9XSaWDqYu3E2M10btdBL3bRZAQZfFrl3alFAeLqzxX6bMK+CHrOPmlNd7PzXoN8eEmIkIMWM0G9JLUCyGCkEajwWzQnTFBd7sV1U4XlTVOSitrUBod1U432w6Wsjmv2Pd3gHZRFi5pHUa31mF0jfX82611GJEhxqapjAhI05fv5r9r8wDobrAzO1mHJSLsl//w7t3w2Wfw7bdQc7J9xmiEkSNh4kQYPrxxbgcQQgjR4kmSfx7rcgr5cKPv2fcIi4He7SLodSLp79UunA7RIQ2e+CulOFJazZ78cvYeLWfP0XL2Hi1jT345xVUO73QWo464cBMRFgNhRi011dWEhlrQSpc/IUQzpdVqCDHqMeu1mHASGhri3ec53W6qHW6q7S6qHC6qHG4Kyu0cKj7G/3Yd8/md6FCjN+HvFhtG1xP/bxthlvFJmrl5P2Tzyrd7AUjQO3k7SRHRKqL+P2i3w//+5+mSv2OH72dt28KYMZ7kvnNnGSlfCCFEo5Ik/zyU8ow6nxBlwajXUlHjpKLGxaosz3Pka1nNeu+V/trkv2OrC0v8XW7FgaLKUxL5E//ml1Fhd/lMq9d6rmy1tpoIt+gJN/uOgO92u6k5/Q8IIUQLotdqCTNpCTP5NnFKKaqdpyT/J/7dlFvEuuxCn2ktBt2Jq/6h3pMAifGeE7pyy1Pw+/zHgzy+aDsAMTo37yQ6iIuPqd+PHT7s6Y6/ZAmUlp4s12ggPR3uugtuvFFGyRdCCNFkJMm/QGa9lhirCayegXiUUlQ5XFTUuLyJ/9p9hd6BewCsJj1J7cJ9En+3UqddmS8n61g5NU63z98z6rSYDVriwk1YDDosRh0Wgw6DTiNXl4QQoh40Go1nf2rQEXVKuVIKh0v5JP5VDhe78sv46WCJz2+Y9FoS460kxlnp3iac7vFWEuOtxIQ14CBtolFl7jrKgwu3ABCmdTOvcwWd28df+A+4XJCdDbt2wYoVsG4dnLggAEBkpCep/9OfoE8fGUhPCCFEkwvaJH/lypVMnz6dvXv30qpVK8aMGcOECROaLAHWaDxdRUOMemJ9En/3iaTfSYXdxfqcItbsKzzr75j0WswGHVEhBixGHSEnknm9Tg4KhBCiKWg0Gox6DUa9lgiL7z3STrei2u6i8sQJgEq7k52Hy9h6wDf5bxVmpEd8OInxVrrHW+keH84lcWEy4N8J9Wmzv/zyS1577TX2799Pu3btuOuuu7jhhht+URyb84q4591NON0Ko0bxRvsyenVre/YvKAUHD8LOnSdfe/f63mdfq3dvuP12zys6+hfFKYQQQvwSQZnk//jjj0ycOJFRo0Zx//33s3HjRp5//nlcLhd33XWX3+LyJP6eRP3UxL+6NvE/0fW+NpG3GHXS7VMIIQKYXqsh7MTjRk/lcLmptLtOvJxU2l2szirwuY1Lq4GOrULp0cZKYpznBECPNlbaRlowtKATufVpszMyMnjooYcYN24cQ4YM4euvv2bSpEkYjUauueaaesWxv6iK8e/+TJXDhRbFK21KubR7G9+Jjh3zXKHfscPz765dUF5+9h8NCfEMpHfPPXD55aAPysMqIYQQzUxQtkavvvoqPXr04Pnnnwdg6NChOJ1OXn/9dcaNG4fZbPZzhCdpNBpPV3ujjnre7SeEECLAGHRaIiy+V/5rH/l3avJ/pKSa7OMVLPnpiM/3w0x6okINRIeaiAoxEB1iJDLESFSIgVYmN4mWpq5R46lPmz1t2jSuvvpq/v73vwMwZMgQSkpKePnll+ud5D+2aCfFlZ5Ba5+MLeHqDqGwfr0nkd+50/NvQcHZf0Cvh65dITkZ0tJg0CDo2xfCGmA0fiGEEKIBBV2Sb7fbWbt2LX/5y198ykeOHMns2bPZuHEj6enpfopOCCFES3XqI/+iQ0+Wu9ye+/1rE3+7U+F0eUb8zy+twely4z7llu724XpeGtk8TgvXp80+cOAAOTk5Z/zOV199RU5ODp06dbroWOKztvPHn3/k94XbsR3LhUOHzj6xRgMdOni64PftC7/6FQwYAFFRMjK+EEKIgBd0Sf7+/ftxOBx1GviOHTsCkJ2dfcFJvtvtGeyuoqLi7NPUVNI+XE+sRUOUUZ11ukDhVooQpcNsUmg1gR/vhWhudWpu9QGpU7CQOvmRWQfoAOMZP3YphcutcLoV4Sc6B9S2UcGsPm12VlYWwDm/czFJfu18fGrLh5gPeB6JW2U2Q5cu3mlUq1a4u3ZFde+OOykJd0oKtGpVN6EvLr7gv9uc2e12AEpLS6murvZzNMFP5mfDk3nasGR+Nrza/LOx2vqgS/LLysoACDute1xoqOeySfm57p07Te0Km5+ff9ZpYiEIr6g0o36eXs2tTs2tPiB1ChZSp2Bht9u9bVuwqk+bXVvWEO08nGzr902bduFfKi31fRyeOKMDJ06aiIYh87PhyTxtWDI/G15jtfVBl+Sf72yH9iIeVWO1WunSpQtGo/GivieEEEI0Frfbjd1ux2q1+juUX6w+bXZDtvMgbb0QQojA09htfdAl+bUz4vQu9mc7838uer2eqKio808ohBBCNKFgv4Jfqz5tdkO28yBtvRBCiMDUmG190J3S7tChAzqdjtzcXJ/yvLw8ALp27eqPsIQQQghxmvq02Z07dwao853a99LOCyGEEOcWdEm+yWQiLS2N5cuXo9TJQZYyMjKwWq0kJyf7MTohhBBC1KpPm92xY0cSEhLIyMjwKV+2bBmdOnUiISGh0eMWQgghglnQddcHuOeeexg/fjz3338/N954I5s3b2bOnDk8+OCDWCzNcwAmIYQQIhidr80uLy9n7969dOjQgejoaAD+/Oc/M3nyZCIjI7niiiv45ptv+Oqrr5g+fbqfayOEEEIEPo069dR6EFm+fDmvvPIK2dnZxMXFMWbMGCZMmODvsIQQQghxmnO12WvXrmXcuHE8/fTT/L//9/+833n//feZO3cuhw8fpn379tx1112MHj3aTzUQQgghgkfQJvlCCCGEEEIIIYTwFXT35AshhBBCCCGEEOLMJMkXQgghhBBCCCGaCUnyhRBCCCGEEEKIZkKSfCGEEEIIIYQQopmQJF8IIYQQQgghhGgmWmySv3LlSm688UZSUlK44oormDNnDoH4oAG32817773HddddR2pqKldeeSVPPfUU5eXl3mn+8Ic/kJiYWOf1008/eac5fvw4Dz74IAMHDqRfv3488MADHD161B9VoqamhqSkpDrxpqameqf56aefuPXWW0lNTWXw4MFMmzYNu93u8zuBUqe1a9eecf7XvmbMmAEE13I6cuQIaWlprF271qc8NzeXiRMnkpaWxsCBA3nsscd81kWAiooKnnjiCdLT00lNTeXOO+9k3759df7G22+/zfDhw0lOTuaGG27gu+++a/L6rF69mrFjx9K/f3/S09O57777yMvL85lm+vTpZ1xuc+bM8U7jdDp56aWXuOyyy0hJSeGWW25hy5YtjVafc9WpodazQKnTubatW2+91TtdIC2nC9lvB+u2FIjq055/+eWXXHPNNSQnJzNq1Cg+/fTTJoo2OFzsPLXb7bz++utcffXV9OnTh5EjRzJjxow67XZL9UuOOZ1OJzfddJPP/k7Ub55mZmZy0003kZyczNChQ5k6dSqVlZVNFHFgu9j56XQ6eeONNxgxYgR9+vTh+uuvZ8mSJU0YcfA42/HamTRo26RaoM2bN6ukpCT10EMPqe+++05NmzZNJSYmqlmzZvk7tDpmzZqlevTooV544QX1ww8/qHfffVcNGDBA3X777crtdiu3261SU1PV008/rTZv3uzzqqioUEop5XA41OjRo9VVV12llixZor744gt12WWXqWuvvVbZ7fYmr9PWrVuVzWZTn3/+uU+8W7ZsUUoplZeXp/r166f++Mc/qszMTDVnzhzVq1cvNWXKFO9vBFKdysrK6sz7zZs3q9tuu0317dtX7du3L6iW06FDh9SoUaOUzWZTa9as8ZaXlJSoyy67TN14441q+fLl6oMPPlBpaWlqwoQJPt+/++671aBBg9THH3+sMjIy1HXXXafS09NVcXGxd5q5c+eqHj16qBkzZqjMzEx13333qR49eqj169c3WX02bNigevTooe69916VmZmplixZoq699lp16aWXqoKCAu90d911lxo7dmyd5Zafn++d5t///rdKSUlR8+fPV998840aO3as6tOnj8rJyWnw+pyrTg25ngVKnc60bT377LPKZrOpxYsXe6cLpOV0vv12sG5Lgag+7fnSpUtVYmKievLJJ9X333+vHn30UWWz2dSXX37ZhJEHrvrM0ylTpqiUlBQ1a9YstWrVKjVr1iyVnJysJk+e3ISRB6Zfesw5c+ZMZbPZ1NixYxs50uBRn3n6zTffqO7du6tJkyapVatWqXfeeUelpqaqBx54oAkjD0z1mZ/Tpk1T3bt3V6+++qpatWqVeuKJJ5TNZlNLly5twsgD39mObc6kodumFpnkT5gwQd10000+Zc8995xKTU1VVVVVfoqqLpfLpdLS0tTjjz/uU7548WJls9nU1q1bVU5OjrLZbGrVqlVn/Z1FixYpm82m9uzZ4y3bs2ePSkxMVJ9//nmjxX82CxcuVD179lQ1NTVn/HzKlClq6NChPp8vWLBAde/eXR08eFApFXh1Ot3XX3+tbDab+uqrr5RSKiiWk8vlUh9//LEaMGCAGjBgQJ0d0uuvv65SUlJ8EuDMzExls9nUhg0blFJKbdq0SdlsNpWZmemdpqCgQPXp00f95z//UUopVVVVpdLS0tRzzz3nncbtdqvf/e536vbbb2+y+tx9993q2muvVS6Xy1t25MgR1b17dzV79mxv2ZAhQ9T06dPP+ncOHTqkevbsqRYsWOAtq6mpUcOGDVP/+Mc/Gqw+F1KnhlrPAqlOpzt06JBKS0tTTzzxhE95oCynC9lvB9u2FMjq056PGDFC3X///T5l999/vxo+fHhjhRlULnaeFhYWqsTERPXmm2/6lM+aNUvZbDaf9bwl+iXHnDt27FDJyckqPT1dkvxT1GeeXnXVVXW2+3nz5qkrr7xSVVZWNlaoQaE+8zM9PV099NBDPmW/+93vZD094WKPbZRq+LapxXXXt9vtrF27luHDh/uUjxw5koqKCjZu3OinyOoqLy/n+uuv59prr/Up79KlCwD79+9nx44dAHTv3v2sv7Ny5Uo6d+5Mt27dvGXdunWja9eufunWuWPHDrp06YLRaDzj5ytXruSyyy7z+fzqq6/G7XazcuVK7zSBVKdTVVdXM3XqVIYNG8bVV18NEBTLadeuXTz22GOMHj2a55577ozx9evXj+joaG/Z4MGDCQ0N5fvvv/dOExISwuDBg73TREdH079/f28dtmzZQmlpqc82qNFoGD58OGvXrqW6urpJ6pOSksJtt92GVntyNxgXF4fVavV22S8sLCQ/P58ePXqc9e+sXr0ap9PpUx+j0ciwYcMafLmdr04NtZ4FUp1O98wzz2AymXjggQe8ZYG0nC5kvx1s21Kgqk97fuDAAXJycs74ndzcXHJychoz5IBXn3laXl7OzTffzBVXXOFTfuo631L9kmNOu93OI488wq233krnzp0bO9SgUZ95un37dvLy8hg7dqxP+W233cbXX3+NxWJp1JgDWX3XUbvdTlhYmE9ZZGQkxcXFjRVqULnYY5vGaJtaXJK/f/9+HA4HnTp18inv2LEjANnZ2X6I6szCw8P55z//Sb9+/XzKv/76a8BzYL5jxw5CQkJ47rnnGDhwIL17965z32ZWVlad+gJ06NDBL/XdsWMHOp2OCRMm0KdPHwYMGMCjjz5KeXk51dXVHDx4sE6DFh0dTVhYmDfeQKvTqebPn09+fj5///vfvWXBsJzatGnD8uXLmTx5Mmazuc7nWVlZdZaLTqcjISHBZ7kkJCSg0+l8pju1DllZWQBn3AZdLlede+Ibqz733HMPN910k0/ZunXrKCkp4ZJLLgFg586dgOc+vssvv5ykpCRGjx7tkxRmZWURGhpKbGxsnfocPXqUioqKBqnPhdSpodazQKrTqX788UeWLl3KAw884HNwEUjL6UL228G2LQWq+rTn55pnZ/tOS1Kfedq+fXsef/xxb1Jf65tvvsFgMJxxf9NS/JJjzpkzZ+J0OvnLX/7SmCEGnfrM09oT4CaTibvvvpvk5GQGDBjAk08+2eLHjajvOjpu3Dg+++wzvv/+e8rLy/niiy9YsWIF119/fWOHHBQu5tgGGqdtanFJfllZGUCds0+hoaEAdQY+CjRbtmzhjTfe4PLLL8dms7Fz504qKysJDw9n5syZTJ06ldzcXMaMGUN+fj7gqfPp9QVPnRvyYP1CKKXYtWsXubm5XHnllbz55ptMnDiRL7/8krvuuouSkhKg7vKpjbd2+QRSnU5lt9uZP38+v/71r70bJhAUyykyMpL4+Pizfl5WVubdTk51sculdtrG3gbPV5/TFRYWMmXKFFq3bs3o0aOBkwcGx44dY+rUqcyYMYNWrVoxceJEVqxYAZy7ztCw+5Tz1amh1rNAqtOpZs+eTbt27fjNb37jUx5oy+l0p++3g21bClT1ac9b+jw7n4Y6Rlq+fDmffvopN998MxEREQ0bZBCp7/zcunUrc+fO5Zlnnjlrr8eWqj7ztLCwEIB7772Xbt268cYbb3DnnXfywQcfMHny5EaOOLDVdx29/fbb6devH3feeSf9+vXj4YcfZvTo0dxxxx2NG3CQuNhj0MZom/QX/Y0g53a7z/n5qV13A83GjRuZOHEiCQkJPP300wD83//9H3fccQf9+/cHIC0tjb59+zJq1Cjmz5/Pww8/fM7RMTUaTZPEXkspxWuvvUZ0dLT3amn//v2JiYnh4YcfPu/Ik7XxBlKdTpWRkcGxY8fq7OSCbTmdyYXEdyHTBOI2ePToUf74xz9y9OhR5s2b593Jjho1ii5dujB06FDvFdXBgwdz/fXX88orrzBkyJDzjubblPVpqPUskOpU68iRI3zzzTdMmjQJvd636Qrk5XSm/XZz3paaUn3q39Ln2fk0xPxZtmwZDz74oPfAvyWrz/ysqalh0qRJ3HbbbSQnJzdWaEGrPvPU4XAAMHz4cO86OWjQIJRSvPjii9x7770t9paI+sxPu93OmDFjOHbsGE888QRdunRh8+bNvPbaa4SEhPDPf/6zscJtthqjbWpxSb7VagWoc2X0bGdQAsWSJUuYNGkSnTp1Yvbs2URFRQFnvve2ffv2dO3a1duFNSws7IxXgsvLy73zo6lotVoGDhxYp3zYsGGA554UqLt8wDfeQKrTqTIyMrjkkkvqLJdgW05ncq744uLivNMcP368zjQVFRXeOpy6DZ56had2G2zquu7atYuJEydSUVHB7NmzSUlJ8X7Wtm1b2rZt6zO9wWAgPT2d999/Hzj3fIGmrU9DrWeBVKday5YtQ6PRcM0119T5LFCX09n22811W2pq9WnPg/UYoKn80vkzb948nn32WQYMGMDMmTMxmUyNE2iQqM/8fOmll3C73fzpT3/C6XQCJ0/6OZ1OdDpdQJz495f6zNPaq6G1x5q1hgwZwosvvsiOHTtabJJfn/mZkZHBzp07eeutt7j00ksBGDBgAGFhYfzrX//id7/7HTabrZEjb14ao21qcaesO3TogE6nIzc316e89t7Frl27+iOsc5ozZw4PPPAAffr0YcGCBbRu3Rrw7Ow//fRTNm/eXOc71dXV3kGdOnfufMZ7M/Py8pq8vvn5+SxcuJBDhw75lNcOEBUbG0tcXFyd5VNQUEBFRYU33kCqUy2Hw8HKlSu9g+3VCsbldCZnis/lcnHgwAGf5XLgwIE6ZyRzc3N9pqktO30ag8FA+/btG6sKdaxZs4ZbbrkFpRQLFiyocx/1d999R0ZGRp3v1dTUeJdbly5dKC8v93YHrJWbm0u7du0u6F6shtCQ61mg1OlUmZmZpKWlERMTU+ezQFxOZ9tvQ/PclvyhPu35uebZ2b7TktT3GEkpxdSpU3n66af59a9/zZtvvtniT5hA/eZnRkYG2dnZpKamkpSURFJSEuvXr2f9+vUkJSX9sudmNwP1mae19zmffv997RX+lnwyqj7zs/YYvm/fvj7ltb0I9+7d2xihNmuN0Ta1uCTfZDKRlpbG8uXLfbpDZmRkYLVaA65r1Pvvv89zzz3HqFGjmD17ts+VGb1ez4wZM+qM2rht2zby8vK8V8wHDx5MVlaWz0a3d+9esrKySE9Pb5qKnOByuZgyZQoffPCBT/mSJUvQ6XSkpaWRnp5OZmamz844IyMDnU7HoEGDgMCqU63du3dTVVVVJ1EMxuV0Junp6axfv94nSVq5ciWVlZXe+AYPHkxFRYX3Pmjw3Au3YcMG7zSpqamEhIT4JGVKKZYvX86AAQOa7P7D7du3M3HiRNq0acMHH3zgvX3kVEuXLmXy5Mk+o8VWVlaSmZnpXW61Z7GXLl3qncZut5OZmdmky60h17NAqVMtpRRbt26tc0BRK9CW07n229D8tiV/qU973rFjRxISEuqcFFq2bBmdOnUiISGh0eMOZPU9Rpo2bRrvvPMO48eP54UXXmj2696Fqs/8fO211/joo498XrXJ/kcffcTll1/elFUIOPWZp2lpaYSEhLB48WKf8m+//Ra9Xk9qamqjxx2o6jM/awfZ3LBhg0/5pk2bAFr8frQ+GqVtqteD94LcqlWrVGJiorrvvvtUZmammj59ukpMTFRvvPGGv0PzcfToUZWcnKwuv/xytX79erV582afV0FBgfr000+VzWZTDz/8sFq5cqVauHChSk9PVzfccINyOp1KKc+zoEeOHKmGDRumFi1apBYtWqSGDRumrr32WuVwOJq8XpMmTVJJSUlq5syZatWqVerVV19VSUlJaurUqUoppfbu3at69+6tbr31VvXtt9+quXPnql69eqnHHnvM+xuBViellPrkk0+UzWZT+fn5dT4LtuW0Zs2aOs/0LCgoUAMHDlS/+c1v1LJly9TChQtV//791R133OHz3bFjx6r+/furhQsXqmXLlqnrrrtODRkyRBUXF3uneeWVV1RiYqKaPn26yszMVPfdd5/q2bOn9xnhTVGf0aNHq6SkJLV06dI621Zubq5SyrMu9unTR910001q+fLlKiMjQ910000qLS1N5eXleX/rb3/7m+rVq5eaO3eu+vbbb9Wtt96qUlNTVU5OTqPU52x1asj1LFDqpJRSBw4cUDabTS1atOiM3wuk5XQh++1g3pYCzfna87KyMu98r/Xxxx8rm82mHnvsMfXdd9+pRx99VNlsNrV48WJ/VSOgXOw83b59u0pMTFQ33nhjnfV98+bNqqyszJ/V8bv6rKOnGzt2rDx//BT1madz585VNptNPf7442rVqlVqxowZKikpST3zzDP+qkbAuNj56XQ61W9/+1s1aNAgtWDBArV69Wo1a9Ys1adPHzVx4kR/ViUgnenYpinaphaZ5Cul1LJly9S1116rkpKS1BVXXKHmzJnj75Dq+PDDD5XNZjvr6+OPP1ZKKbV48WJ1ww03qJSUFDVo0CA1ZcoUVVRU5PNbhw4dUn/+859Vnz59VP/+/dVf//rXMyajTaGmpkbNnDlTjRgxQvXq1UtdddVVatasWcrlcnmnWb9+vfrtb3+revXqpYYMGaJeeOEFZbfbfX4nkOqklFJvvPGGstlsqrq6+oyfB9NyOluytWvXLnXbbbep5ORk9atf/UpNmTKlzgFccXGxmjRpkkpLS1N9+/ZVd9xxh8rKyvKZxuVyqZkzZ6rLLrtM9e7dW91www0qMzOzyeqTl5d3zm3rb3/7m/e7P//8s5owYYIaMGCA6tOnj7rzzjvVrl27fH6/pqZGPfnkk+pXv/qVSklJUbfccov68ccfG60+Z6pTrYZazwKpTlu2bFE2m0199913Z/1uoCynC91vB+u2FIjO1Z7XrlO1873We++9p4YPH6569eqlRo0apT799NMmjjqwXcw8femll865zp++PbdE9VlHTyVJfl31macfffSRuuaaa1RSUpK6/PLL1euvv+5z7NmSXez8LCsrU//6179Uenq6dz86a9YsVVNT44/wA9qZjm2aom3SKHWeIYeFEEIIIYQQQggRFFrcPflCCCGEEEIIIURzJUm+EEIIIYQQQgjRTEiSL4QQQgghhBBCNBOS5AshhBBCCCGEEM2EJPlCCCGEEEIIIUQzIUm+EEIIIYQQQgjRTEiSL4QQQgghhBBCNBOS5AshhBBCCCGEEM2EJPlCCCGEEEIIIUQzIUm+EEIIIYQQQgjRTEiSL4QQQgghhBBCNBOS5AshhBBCCCGEEM2EJPlCCCGEEEIIIUQz8f8BEid/Mcq2Q1YAAAAASUVORK5CYII=",
          "text/plain": "<Figure size 1200x600 with 2 Axes>"
         },
         "metadata": {},
         "output_type": "display_data"
        }
       ],
       "tabbable": null,
       "tooltip": null
      }
     },
     "69654d43e4af4c429ba0797529ed04e7": {
      "model_module": "@jupyter-widgets/base",
      "model_module_version": "2.0.0",
      "model_name": "LayoutModel",
      "state": {
       "_model_module": "@jupyter-widgets/base",
       "_model_module_version": "2.0.0",
       "_model_name": "LayoutModel",
       "_view_count": null,
       "_view_module": "@jupyter-widgets/base",
       "_view_module_version": "2.0.0",
       "_view_name": "LayoutView",
       "align_content": null,
       "align_items": null,
       "align_self": null,
       "border_bottom": null,
       "border_left": null,
       "border_right": null,
       "border_top": null,
       "bottom": null,
       "display": null,
       "flex": null,
       "flex_flow": null,
       "grid_area": null,
       "grid_auto_columns": null,
       "grid_auto_flow": null,
       "grid_auto_rows": null,
       "grid_column": null,
       "grid_gap": null,
       "grid_row": null,
       "grid_template_areas": null,
       "grid_template_columns": null,
       "grid_template_rows": null,
       "height": null,
       "justify_content": null,
       "justify_items": null,
       "left": null,
       "margin": null,
       "max_height": null,
       "max_width": null,
       "min_height": null,
       "min_width": null,
       "object_fit": null,
       "object_position": null,
       "order": null,
       "overflow": null,
       "padding": null,
       "right": null,
       "top": null,
       "visibility": null,
       "width": null
      }
     },
     "6b4aa8ad291a4e35a77830928e074491": {
      "model_module": "@jupyter-widgets/output",
      "model_module_version": "1.0.0",
      "model_name": "OutputModel",
      "state": {
       "_dom_classes": [],
       "_model_module": "@jupyter-widgets/output",
       "_model_module_version": "1.0.0",
       "_model_name": "OutputModel",
       "_view_count": null,
       "_view_module": "@jupyter-widgets/output",
       "_view_module_version": "1.0.0",
       "_view_name": "OutputView",
       "layout": "IPY_MODEL_9c57f93eb0864fea92e14a5151e8b1b7",
       "msg_id": "",
       "outputs": [
        {
         "data": {
          "image/png": "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",
          "text/plain": "<Figure size 768x576 with 1 Axes>"
         },
         "metadata": {},
         "output_type": "display_data"
        }
       ],
       "tabbable": null,
       "tooltip": null
      }
     },
     "71c900eb425748168511e6b25d4d7fc8": {
      "model_module": "@jupyter-widgets/base",
      "model_module_version": "2.0.0",
      "model_name": "LayoutModel",
      "state": {
       "_model_module": "@jupyter-widgets/base",
       "_model_module_version": "2.0.0",
       "_model_name": "LayoutModel",
       "_view_count": null,
       "_view_module": "@jupyter-widgets/base",
       "_view_module_version": "2.0.0",
       "_view_name": "LayoutView",
       "align_content": null,
       "align_items": null,
       "align_self": null,
       "border_bottom": null,
       "border_left": null,
       "border_right": null,
       "border_top": null,
       "bottom": null,
       "display": null,
       "flex": null,
       "flex_flow": null,
       "grid_area": null,
       "grid_auto_columns": null,
       "grid_auto_flow": null,
       "grid_auto_rows": null,
       "grid_column": null,
       "grid_gap": null,
       "grid_row": null,
       "grid_template_areas": null,
       "grid_template_columns": null,
       "grid_template_rows": null,
       "height": null,
       "justify_content": null,
       "justify_items": null,
       "left": null,
       "margin": null,
       "max_height": null,
       "max_width": null,
       "min_height": null,
       "min_width": null,
       "object_fit": null,
       "object_position": null,
       "order": null,
       "overflow": null,
       "padding": null,
       "right": null,
       "top": null,
       "visibility": null,
       "width": null
      }
     },
     "85ffe8edf1d74e229eddd668a0ed0839": {
      "model_module": "@jupyter-widgets/controls",
      "model_module_version": "2.0.0",
      "model_name": "VBoxModel",
      "state": {
       "_dom_classes": [
        "widget-interact"
       ],
       "_model_module": "@jupyter-widgets/controls",
       "_model_module_version": "2.0.0",
       "_model_name": "VBoxModel",
       "_view_count": null,
       "_view_module": "@jupyter-widgets/controls",
       "_view_module_version": "2.0.0",
       "_view_name": "VBoxView",
       "box_style": "",
       "children": [
        "IPY_MODEL_1461523a0380425cb743b728a2cff3bc",
        "IPY_MODEL_6b4aa8ad291a4e35a77830928e074491"
       ],
       "layout": "IPY_MODEL_69654d43e4af4c429ba0797529ed04e7",
       "tabbable": null,
       "tooltip": null
      }
     },
     "9c57f93eb0864fea92e14a5151e8b1b7": {
      "model_module": "@jupyter-widgets/base",
      "model_module_version": "2.0.0",
      "model_name": "LayoutModel",
      "state": {
       "_model_module": "@jupyter-widgets/base",
       "_model_module_version": "2.0.0",
       "_model_name": "LayoutModel",
       "_view_count": null,
       "_view_module": "@jupyter-widgets/base",
       "_view_module_version": "2.0.0",
       "_view_name": "LayoutView",
       "align_content": null,
       "align_items": null,
       "align_self": null,
       "border_bottom": null,
       "border_left": null,
       "border_right": null,
       "border_top": null,
       "bottom": null,
       "display": null,
       "flex": null,
       "flex_flow": null,
       "grid_area": null,
       "grid_auto_columns": null,
       "grid_auto_flow": null,
       "grid_auto_rows": null,
       "grid_column": null,
       "grid_gap": null,
       "grid_row": null,
       "grid_template_areas": null,
       "grid_template_columns": null,
       "grid_template_rows": null,
       "height": null,
       "justify_content": null,
       "justify_items": null,
       "left": null,
       "margin": null,
       "max_height": null,
       "max_width": null,
       "min_height": null,
       "min_width": null,
       "object_fit": null,
       "object_position": null,
       "order": null,
       "overflow": null,
       "padding": null,
       "right": null,
       "top": null,
       "visibility": null,
       "width": null
      }
     },
     "bd17ad9fb0454a1abec3ac6d21528104": {
      "model_module": "@jupyter-widgets/base",
      "model_module_version": "2.0.0",
      "model_name": "LayoutModel",
      "state": {
       "_model_module": "@jupyter-widgets/base",
       "_model_module_version": "2.0.0",
       "_model_name": "LayoutModel",
       "_view_count": null,
       "_view_module": "@jupyter-widgets/base",
       "_view_module_version": "2.0.0",
       "_view_name": "LayoutView",
       "align_content": null,
       "align_items": null,
       "align_self": null,
       "border_bottom": null,
       "border_left": null,
       "border_right": null,
       "border_top": null,
       "bottom": null,
       "display": null,
       "flex": null,
       "flex_flow": null,
       "grid_area": null,
       "grid_auto_columns": null,
       "grid_auto_flow": null,
       "grid_auto_rows": null,
       "grid_column": null,
       "grid_gap": null,
       "grid_row": null,
       "grid_template_areas": null,
       "grid_template_columns": null,
       "grid_template_rows": null,
       "height": null,
       "justify_content": null,
       "justify_items": null,
       "left": null,
       "margin": null,
       "max_height": null,
       "max_width": null,
       "min_height": null,
       "min_width": null,
       "object_fit": null,
       "object_position": null,
       "order": null,
       "overflow": null,
       "padding": null,
       "right": null,
       "top": null,
       "visibility": null,
       "width": null
      }
     },
     "db8b1f0e045c4f9494aa111b59fe7895": {
      "model_module": "@jupyter-widgets/controls",
      "model_module_version": "2.0.0",
      "model_name": "VBoxModel",
      "state": {
       "_dom_classes": [
        "widget-interact"
       ],
       "_model_module": "@jupyter-widgets/controls",
       "_model_module_version": "2.0.0",
       "_model_name": "VBoxModel",
       "_view_count": null,
       "_view_module": "@jupyter-widgets/controls",
       "_view_module_version": "2.0.0",
       "_view_name": "VBoxView",
       "box_style": "",
       "children": [
        "IPY_MODEL_f5fad70416e342d085d52194d6925e04",
        "IPY_MODEL_46aa33bd721c46f8b30ed5f9a518e525"
       ],
       "layout": "IPY_MODEL_4578c41abf6448c7a556eadc2dfd79ed",
       "tabbable": null,
       "tooltip": null
      }
     },
     "f5fad70416e342d085d52194d6925e04": {
      "model_module": "@jupyter-widgets/controls",
      "model_module_version": "2.0.0",
      "model_name": "IntSliderModel",
      "state": {
       "_dom_classes": [],
       "_model_module": "@jupyter-widgets/controls",
       "_model_module_version": "2.0.0",
       "_model_name": "IntSliderModel",
       "_view_count": null,
       "_view_module": "@jupyter-widgets/controls",
       "_view_module_version": "2.0.0",
       "_view_name": "IntSliderView",
       "behavior": "drag-tap",
       "continuous_update": true,
       "description": "sd",
       "description_allow_html": false,
       "disabled": false,
       "layout": "IPY_MODEL_445b3e5d3fe44d05bdc9f0f7d80b8deb",
       "max": 800,
       "min": 1,
       "orientation": "horizontal",
       "readout": true,
       "readout_format": "d",
       "step": 1,
       "style": "IPY_MODEL_3050b9a371f343a4b0db109e95549b22",
       "tabbable": null,
       "tooltip": null,
       "value": 400
      }
     }
    },
    "version_major": 2,
    "version_minor": 0
   }
  }
 },
 "nbformat": 4,
 "nbformat_minor": 4
}