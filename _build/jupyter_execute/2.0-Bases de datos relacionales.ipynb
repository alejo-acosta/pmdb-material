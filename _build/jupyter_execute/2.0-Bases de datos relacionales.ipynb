{
 "cells": [
  {
   "cell_type": "markdown",
   "metadata": {},
   "source": [
    "# UNIDAD 2: Bases de datos relacionales"
   ]
  },
  {
   "cell_type": "markdown",
   "metadata": {},
   "source": [
    "## 2.1. Diseño de esquemas de bases de datos\n"
   ]
  },
  {
   "cell_type": "markdown",
   "metadata": {},
   "source": [
    "Modelo entidad relación (ERD):\n",
    "\n",
    "Es una forma de representar las relaciones que existen entre entidades 🤣. Normalmente se representan con símbolos:\n",
    "<p align=\"center\">\n",
    "  <img src=\"https://media.licdn.com/dms/image/C4E12AQFj4pVDESEWAg/article-inline_image-shrink_400_744/0/1591675475264?e=1701302400&v=beta&t=5NoKRtylhlu4HmCJGVzAm5lZXHSmPcCP9NRs3QoBcG0\" alt=\"\"/> \n",
    "  <img src=\"https://media.licdn.com/dms/image/C4E12AQEzLPY2552oZg/article-inline_image-shrink_400_744/0/1527299239303?e=1701302400&v=beta&t=zg_5U4uHDVeVYGAqF62cJ6xgQMDOFB1CDdu7br6LxIk\" alt=\"\"/> \n",
    "  <img src=\"https://media.licdn.com/dms/image/C4E12AQFnWcSy5i9IxA/article-inline_image-shrink_400_744/0/1527299434885?e=1701302400&v=beta&t=xTbk13VKoM0OovnkOA0A3swqOkgg-wqNOY4q-2Snits\" alt=\"\"/> \n",
    "</p>\n",
    "\n",
    "\n",
    "Y conectamos con líneas entre ellos, veamos un ejemplo:\n",
    "\n",
    "<p align=\"center\">\n",
    "  <img src=\"https://media.licdn.com/dms/image/C4E12AQGfzECLIrzdkA/article-inline_image-shrink_1000_1488/0/1527299460670?e=1701302400&v=beta&t=FJz5jbzxA4sEyFVgM2yIesrubHQX9PqIk7BYe3zCwnU\" alt=\"\"/> <br>\n",
    "</p>\n"
   ]
  },
  {
   "cell_type": "markdown",
   "metadata": {},
   "source": [
    "> *Ejercicio:*  \n",
    "> ¿Cómo diagramaría los siguientes casos?\n",
    "> - Una base de facturación/venta.\n",
    "> - "
   ]
  },
  {
   "cell_type": "code",
   "execution_count": null,
   "metadata": {},
   "outputs": [],
   "source": []
  },
  {
   "cell_type": "markdown",
   "metadata": {},
   "source": [
    "\n",
    "## 2.2. Condicionales y operadores en SQL\n"
   ]
  },
  {
   "cell_type": "markdown",
   "metadata": {},
   "source": []
  },
  {
   "cell_type": "markdown",
   "metadata": {},
   "source": [
    "## 2.3. Uniones e intersecciones (join, append)"
   ]
  },
  {
   "cell_type": "markdown",
   "metadata": {},
   "source": []
  },
  {
   "cell_type": "markdown",
   "metadata": {},
   "source": []
  },
  {
   "cell_type": "markdown",
   "metadata": {},
   "source": []
  },
  {
   "cell_type": "code",
   "execution_count": null,
   "metadata": {},
   "outputs": [],
   "source": []
  }
 ],
 "metadata": {
  "kernelspec": {
   "display_name": "Python 3",
   "language": "python",
   "name": "python3"
  },
  "language_info": {
   "codemirror_mode": {
    "name": "ipython",
    "version": 3
   },
   "file_extension": ".py",
   "mimetype": "text/x-python",
   "name": "python",
   "nbconvert_exporter": "python",
   "pygments_lexer": "ipython3",
   "version": "3.11.4"
  }
 },
 "nbformat": 4,
 "nbformat_minor": 2
}