{
 "cells": [
  {
   "cell_type": "markdown",
   "metadata": {},
   "source": [
    "# 1: Introducción a la programación y bases de datos."
   ]
  },
  {
   "cell_type": "markdown",
   "metadata": {},
   "source": [
    "## Primero algunas definiciones"
   ]
  },
  {
   "cell_type": "markdown",
   "metadata": {},
   "source": [
    "**¿Qué es una base de datos?**  \n",
    "\n",
    "Es una herramienta para recopilar y organizar información. Las bases de datos pueden almacenar información sobre personas, productos, pedidos u otras cosas. Muchas bases de datos comienzan como una lista en una hoja de cálculo o en un programa de procesamiento de texto. A medida que la lista aumenta su tamaño, empiezan a aparecer redundancias e inconsistencias en los datos. Cada vez es más difícil comprender los datos en forma de lista y los métodos de búsqueda o extracción de subconjuntos de datos para revisión son limitados. Una vez que estos problemas comienzan a aparecer, una buena idea es transferir los datos a una base de datos creada con un sistema de administración de bases de datos (DBMS), como Access, MySQL, SQL Server, MariaDB.  \n",
    "\n",
    "Tomado de: https://support.microsoft.com/es-es/office/conceptos-b%C3%A1sicos-sobre-bases-de-datos-a849ac16-07c7-4a31-9948-3c8c94a7c204#__toc257378454\n"
   ]
  },
  {
   "cell_type": "markdown",
   "metadata": {},
   "source": [
    "![ciclo_vida](./images/ciclo-datos.png)"
   ]
  },
  {
   "cell_type": "markdown",
   "metadata": {},
   "source": [
    "**¿Qué es programar?**  \n",
    "\n",
    "La programación, o codificación, es el proceso de emitir una serie de órdenes que un ordenador puede entender y ejecutar para realizar una tarea. Hoy en día, casi todas las investigaciones con algún aspecto cuantitativo implican programación.\n",
    "\n",
    "Imaginemos que un ordenador es como un genio especialmente travieso: si nuestras instrucciones no son totalmente inequívocas, el ordenador no hará lo que le pedimos. Por eso escribimos nuestro código, nuestra lista de instrucciones para el ordenador, de forma muy explícita, para asegurarnos de que escribimos lo que queríamos decir y de que el ordenador lo hará de la forma prevista. Pero, al igual que un genio, si consigues que las instrucciones sean las correctas, puedes crear cosas mágicas *(Turrell, 2022)*."
   ]
  },
  {
   "cell_type": "markdown",
   "metadata": {},
   "source": [
    "![Learning Curve](https://assets.cdn.prod.twilio.com/images/V4mA60vWZWNuE7Mtjq31kUsj6xVMX6KKiECduJ1GE_7uFs.width-800.png)"
   ]
  },
  {
   "cell_type": "markdown",
   "metadata": {},
   "source": [
    "## 1.1. Introducción a los datos y su importancia"
   ]
  },
  {
   "cell_type": "markdown",
   "metadata": {},
   "source": [
    "En los últimos años, la ciencia de los datos se ha convertido en una herramienta de negocios esencial. El acceso a cantidades masivas de datos —gracias a la informática avanzada y el \"internet de las cosas\"— permite que hoy en día las empresas puedan medir todos los aspectos de sus operaciones hasta el más mínimo detalle. Pero muchos directores de empresa, desbordados por el continuo aluvión de indicadores, vacilan en implicarse en un proceso que consideran de índole técnica."
   ]
  },
  {
   "cell_type": "markdown",
   "metadata": {},
   "source": [
    "A quién le cabe en la cabeza que un director de finanzas vaya al director ejecutivo y le diga:\n",
    "- \"Yo francamente no sé cómo leer un balance, pero tengo a alguien en mi equipo que lo sabe hacer muy bien\"\n",
    "\n",
    "Lo echaríamos de la sala a carcajadas. Y sin embargo, yo conozco cantidad de gente en otras disciplinas, como por ejemplo, el marketing, que, sin pensarlo dos veces, irían al director ejecutivo y le dirían:\n",
    "- \"Esto de la analítica es muy complicado. No lo entiendo del todo. Pero he reunido un equipo de auténticos genios de la analítica que nos van a propulsar al siguiente nivel\".\n",
    "\n",
    "Yo creo que ésta es una respuesta que ya no es aceptable.\n",
    "\n",
    "Tomado de: https://insight.kellogg.northwestern.edu/es/article/a-leaders-guide-to-data-analytics\n"
   ]
  },
  {
   "cell_type": "markdown",
   "metadata": {},
   "source": [
    "---\n",
    "En resumen, saber como manejar datos mediante la programación nos permite:  \n",
    "- Automatizar procesos: realizar el trabajo de varias personas en unas cuantas (a  veces muchas) líneas de código.\n",
    "- Modelar: abstraer un fenómeno del mundo real en una expresión matemática/estadística que nos permita entender y predecir dicho fenómeno.\n",
    "- Predecir: a partir del modelo, podemos generar proyecciones que nos ayuden a maximizar un beneficio o minimizar un riesgo.\n",
    "---"
   ]
  },
  {
   "cell_type": "markdown",
   "metadata": {},
   "source": [
    "Además, los lenguajes que aprenderemos se encuentran entre los más demandados.\n",
    "\n",
    "![prog_lang](https://www.uplers.com/wp-content/uploads/2022/03/in-demand-programming-languages.png)\n",
    "\n",
    "Tomado de: [Stack Overflow](https://insights.stackoverflow.com/survey/2021#most-popular-technologies-language)"
   ]
  },
  {
   "cell_type": "markdown",
   "metadata": {},
   "source": [
    "### Veamos un ejemplo\n",
    "\n",
    "Se estima que hoy en día la cantidad de datos que el mundo genera es de al rededor de 23 *zettabytes*!\n",
    "\n",
    "> ¿Qué es un zettabyte?\n",
    "\n",
    "Imaginemos que deseamos hacer un breve reporte de la tendencia de la cantidad de datos generados en los últimos años, generar un modelo que se ajuste a las observaciones, predecir lo que sucederá hasta el 2027, enviar un boletín a una lista de destinatarios.\n",
    "\n",
    "*Por ahora, no se enfoquen en el código, solo en el proceso.*"
   ]
  },
  {
   "cell_type": "markdown",
   "metadata": {},
   "source": [
    "1. Inicializamos nuestro ambiente"
   ]
  },
  {
   "cell_type": "code",
   "execution_count": 1,
   "metadata": {},
   "outputs": [],
   "source": [
    "import pandas as pd\n",
    "import numpy as np\n",
    "import requests\n",
    "\n",
    "import win32com.client as win32\n",
    "import matplotlib.pyplot as plt\n",
    "import seaborn as sns\n",
    "sns.set()"
   ]
  },
  {
   "cell_type": "markdown",
   "metadata": {},
   "source": [
    "2. Extracción  de datos (webscrapping)"
   ]
  },
  {
   "cell_type": "code",
   "execution_count": 2,
   "metadata": {},
   "outputs": [],
   "source": [
    "url = requests.get('https://explodingtopics.com/blog/data-generated-per-day')\n",
    "df  = pd.read_html(url.text)[1][[0,1]]\n",
    "df.columns = df.iloc[0]\n",
    "df = df.iloc[1:]\n"
   ]
  },
  {
   "cell_type": "code",
   "execution_count": 3,
   "metadata": {},
   "outputs": [
    {
     "data": {
      "text/html": [
       "<div>\n",
       "<style scoped>\n",
       "    .dataframe tbody tr th:only-of-type {\n",
       "        vertical-align: middle;\n",
       "    }\n",
       "\n",
       "    .dataframe tbody tr th {\n",
       "        vertical-align: top;\n",
       "    }\n",
       "\n",
       "    .dataframe thead th {\n",
       "        text-align: right;\n",
       "    }\n",
       "</style>\n",
       "<table border=\"1\" class=\"dataframe\">\n",
       "  <thead>\n",
       "    <tr style=\"text-align: right;\">\n",
       "      <th></th>\n",
       "      <th>Year</th>\n",
       "      <th>Data Generated</th>\n",
       "    </tr>\n",
       "  </thead>\n",
       "  <tbody>\n",
       "    <tr>\n",
       "      <th>1</th>\n",
       "      <td>2010</td>\n",
       "      <td>2 zettabytes</td>\n",
       "    </tr>\n",
       "    <tr>\n",
       "      <th>2</th>\n",
       "      <td>2011</td>\n",
       "      <td>5 zettabytes</td>\n",
       "    </tr>\n",
       "    <tr>\n",
       "      <th>3</th>\n",
       "      <td>2012</td>\n",
       "      <td>6.5 zettabytes</td>\n",
       "    </tr>\n",
       "    <tr>\n",
       "      <th>4</th>\n",
       "      <td>2013</td>\n",
       "      <td>9 zettabytes</td>\n",
       "    </tr>\n",
       "    <tr>\n",
       "      <th>5</th>\n",
       "      <td>2014</td>\n",
       "      <td>12.5 zettabytes</td>\n",
       "    </tr>\n",
       "    <tr>\n",
       "      <th>6</th>\n",
       "      <td>2015</td>\n",
       "      <td>15.5 zettabytes</td>\n",
       "    </tr>\n",
       "    <tr>\n",
       "      <th>7</th>\n",
       "      <td>2016</td>\n",
       "      <td>18 zettabytes</td>\n",
       "    </tr>\n",
       "    <tr>\n",
       "      <th>8</th>\n",
       "      <td>2017</td>\n",
       "      <td>26 zettabytes</td>\n",
       "    </tr>\n",
       "    <tr>\n",
       "      <th>9</th>\n",
       "      <td>2018*</td>\n",
       "      <td>33 zettabytes</td>\n",
       "    </tr>\n",
       "    <tr>\n",
       "      <th>10</th>\n",
       "      <td>2019*</td>\n",
       "      <td>41 zettabytes</td>\n",
       "    </tr>\n",
       "    <tr>\n",
       "      <th>11</th>\n",
       "      <td>2020*</td>\n",
       "      <td>64.2 zettabytes</td>\n",
       "    </tr>\n",
       "    <tr>\n",
       "      <th>12</th>\n",
       "      <td>2021*</td>\n",
       "      <td>79 zettabytes</td>\n",
       "    </tr>\n",
       "    <tr>\n",
       "      <th>13</th>\n",
       "      <td>2022*</td>\n",
       "      <td>97 zettabytes</td>\n",
       "    </tr>\n",
       "    <tr>\n",
       "      <th>14</th>\n",
       "      <td>2023*</td>\n",
       "      <td>120 zettabytes</td>\n",
       "    </tr>\n",
       "    <tr>\n",
       "      <th>15</th>\n",
       "      <td>2024*</td>\n",
       "      <td>147 zettabytes</td>\n",
       "    </tr>\n",
       "    <tr>\n",
       "      <th>16</th>\n",
       "      <td>2025*</td>\n",
       "      <td>181 zettabytes</td>\n",
       "    </tr>\n",
       "  </tbody>\n",
       "</table>\n",
       "</div>"
      ],
      "text/plain": [
       "0    Year   Data Generated\n",
       "1    2010     2 zettabytes\n",
       "2    2011     5 zettabytes\n",
       "3    2012   6.5 zettabytes\n",
       "4    2013     9 zettabytes\n",
       "5    2014  12.5 zettabytes\n",
       "6    2015  15.5 zettabytes\n",
       "7    2016    18 zettabytes\n",
       "8    2017    26 zettabytes\n",
       "9   2018*    33 zettabytes\n",
       "10  2019*    41 zettabytes\n",
       "11  2020*  64.2 zettabytes\n",
       "12  2021*    79 zettabytes\n",
       "13  2022*    97 zettabytes\n",
       "14  2023*   120 zettabytes\n",
       "15  2024*   147 zettabytes\n",
       "16  2025*   181 zettabytes"
      ]
     },
     "execution_count": 3,
     "metadata": {},
     "output_type": "execute_result"
    }
   ],
   "source": [
    "df"
   ]
  },
  {
   "cell_type": "markdown",
   "metadata": {},
   "source": [
    "3. Limpieza de datos"
   ]
  },
  {
   "cell_type": "code",
   "execution_count": 4,
   "metadata": {},
   "outputs": [
    {
     "name": "stderr",
     "output_type": "stream",
     "text": [
      "C:\\Users\\Alejo\\AppData\\Local\\Temp\\ipykernel_18628\\2687451052.py:3: SettingWithCopyWarning: \n",
      "A value is trying to be set on a copy of a slice from a DataFrame.\n",
      "Try using .loc[row_indexer,col_indexer] = value instead\n",
      "\n",
      "See the caveats in the documentation: https://pandas.pydata.org/pandas-docs/stable/user_guide/indexing.html#returning-a-view-versus-a-copy\n",
      "  df['Data Generated'] = df['Data Generated'].str.split(' ', expand=True)[0].astype(float)\n"
     ]
    }
   ],
   "source": [
    "df['Year'] = df['Year'].str[0:4].astype(int)\n",
    "df = df[df['Year'] <= 2023]\n",
    "df['Data Generated'] = df['Data Generated'].str.split(' ', expand=True)[0].astype(float)\n",
    "df.set_index('Year', inplace=True, drop=True)\n"
   ]
  },
  {
   "cell_type": "markdown",
   "metadata": {},
   "source": [
    "4. Análisis exploratorio"
   ]
  },
  {
   "cell_type": "code",
   "execution_count": 5,
   "metadata": {},
   "outputs": [
    {
     "data": {
      "text/html": [
       "<div>\n",
       "<style scoped>\n",
       "    .dataframe tbody tr th:only-of-type {\n",
       "        vertical-align: middle;\n",
       "    }\n",
       "\n",
       "    .dataframe tbody tr th {\n",
       "        vertical-align: top;\n",
       "    }\n",
       "\n",
       "    .dataframe thead th {\n",
       "        text-align: right;\n",
       "    }\n",
       "</style>\n",
       "<table border=\"1\" class=\"dataframe\">\n",
       "  <thead>\n",
       "    <tr style=\"text-align: right;\">\n",
       "      <th></th>\n",
       "      <th>Data Generated</th>\n",
       "    </tr>\n",
       "    <tr>\n",
       "      <th>Year</th>\n",
       "      <th></th>\n",
       "    </tr>\n",
       "  </thead>\n",
       "  <tbody>\n",
       "    <tr>\n",
       "      <th>2010</th>\n",
       "      <td>2.0</td>\n",
       "    </tr>\n",
       "    <tr>\n",
       "      <th>2011</th>\n",
       "      <td>5.0</td>\n",
       "    </tr>\n",
       "    <tr>\n",
       "      <th>2012</th>\n",
       "      <td>6.5</td>\n",
       "    </tr>\n",
       "    <tr>\n",
       "      <th>2013</th>\n",
       "      <td>9.0</td>\n",
       "    </tr>\n",
       "    <tr>\n",
       "      <th>2014</th>\n",
       "      <td>12.5</td>\n",
       "    </tr>\n",
       "    <tr>\n",
       "      <th>2015</th>\n",
       "      <td>15.5</td>\n",
       "    </tr>\n",
       "    <tr>\n",
       "      <th>2016</th>\n",
       "      <td>18.0</td>\n",
       "    </tr>\n",
       "    <tr>\n",
       "      <th>2017</th>\n",
       "      <td>26.0</td>\n",
       "    </tr>\n",
       "    <tr>\n",
       "      <th>2018</th>\n",
       "      <td>33.0</td>\n",
       "    </tr>\n",
       "    <tr>\n",
       "      <th>2019</th>\n",
       "      <td>41.0</td>\n",
       "    </tr>\n",
       "    <tr>\n",
       "      <th>2020</th>\n",
       "      <td>64.2</td>\n",
       "    </tr>\n",
       "    <tr>\n",
       "      <th>2021</th>\n",
       "      <td>79.0</td>\n",
       "    </tr>\n",
       "    <tr>\n",
       "      <th>2022</th>\n",
       "      <td>97.0</td>\n",
       "    </tr>\n",
       "    <tr>\n",
       "      <th>2023</th>\n",
       "      <td>120.0</td>\n",
       "    </tr>\n",
       "  </tbody>\n",
       "</table>\n",
       "</div>"
      ],
      "text/plain": [
       "0     Data Generated\n",
       "Year                \n",
       "2010             2.0\n",
       "2011             5.0\n",
       "2012             6.5\n",
       "2013             9.0\n",
       "2014            12.5\n",
       "2015            15.5\n",
       "2016            18.0\n",
       "2017            26.0\n",
       "2018            33.0\n",
       "2019            41.0\n",
       "2020            64.2\n",
       "2021            79.0\n",
       "2022            97.0\n",
       "2023           120.0"
      ]
     },
     "execution_count": 5,
     "metadata": {},
     "output_type": "execute_result"
    }
   ],
   "source": [
    "df"
   ]
  },
  {
   "cell_type": "code",
   "execution_count": 6,
   "metadata": {},
   "outputs": [
    {
     "data": {
      "image/png": "[encoded data removed]",
      "text/plain": [
       "<Figure size 640x480 with 1 Axes>"
      ]
     },
     "metadata": {},
     "output_type": "display_data"
    }
   ],
   "source": [
    "df.plot.area(alpha=0.5)\n",
    "plt.ylabel('Data Generated (ZettaBytes)')\n",
    "plt.legend(title='')\n",
    "plt.show()"
   ]
  },
  {
   "cell_type": "markdown",
   "metadata": {},
   "source": [
    "5. Modelamiento"
   ]
  },
  {
   "cell_type": "code",
   "execution_count": 7,
   "metadata": {},
   "outputs": [
    {
     "data": {
      "image/png": "[encoded data removed]",
      "text/plain": [
       "<Figure size 640x480 with 1 Axes>"
      ]
     },
     "metadata": {},
     "output_type": "display_data"
    }
   ],
   "source": [
    "# fit line to data\n",
    "x = df.index.values\n",
    "y = df['Data Generated'].values\n",
    "\n",
    "m, b = np.polyfit(x, np.log(y), 1)\n",
    "\n",
    "# plot data\n",
    "df.plot.area(alpha=0.5)\n",
    "plt.ylabel('Data Generated (ZettaBytes)')\n",
    "plt.legend(title='')\n",
    "x_pred = np.arange(2010, 2029)\n",
    "y_pred = np.exp(m*x_pred + b)\n",
    "df_pred = pd.DataFrame({'Fcst': y_pred}, index=x_pred)\n",
    "df_pred = df.merge(df_pred, how='outer', left_index=True, right_index=True)\n",
    "plt.plot(x_pred, y_pred, label='Fit', linestyle='--')\n",
    "plt.xticks(np.arange(2010, 2029, 2), rotation=45)\n",
    "\n",
    "plt.ylim(0, 600)\n",
    "plt.savefig('./images/data_generated_fit.png', dpi=100)\n",
    "plt.show()\n"
   ]
  },
  {
   "cell_type": "markdown",
   "metadata": {},
   "source": [
    "6. Reportería (BI)"
   ]
  },
  {
   "cell_type": "code",
   "execution_count": 8,
   "metadata": {},
   "outputs": [],
   "source": [
    "mail = win32.Dispatch('outlook.application').CreateItem(0)\n",
    "mail.Bcc = open('listado.txt').read().replace('\\n', '; ')\n",
    "mail.Subject = f'Cantidad de datos generados por año'\n",
    "mail.HTMLBody = fr'''\n",
    "<html> <head></head><body>\n",
    "  Hola tod@s, <br>\n",
    "  <p>Les comparto la cantidad de datos generados por año:</p> <br>\n",
    "  {df_pred.reset_index().to_html(index=False)}<br>\n",
    "  <img src=\"https://raw.githubusercontent.com/alejo-acosta/pmdb-material/master/images/data_generated_fit.png\">\n",
    "  <br>\n",
    "  Fuente: <a href=\"https://explodingtopics.com/blog/data-generated-per-day\">Exploding Topics</a>\n",
    "  <br><p>Saludos,</p>\n",
    "<p>Alejo</p></body></html>\n",
    "'''\n",
    "if True: mail.Send()\n"
   ]
  },
  {
   "cell_type": "markdown",
   "metadata": {},
   "source": [
    "## 1.2. Elementos de una base de datos  "
   ]
  },
  {
   "cell_type": "markdown",
   "metadata": {},
   "source": [
    "Primero, algunas definiciones más técnicas sobre una base de datos:  \n",
    "\n",
    "![Base de datos](https://www.csestack.org/wp-content/uploads/2017/08/Difference-Between-Database-and-Database-Management-System.png)  \n",
    "Nota: APP=application, API=application programming interface.  \n",
    "Tomado de: [csestack](https://www.csestack.org/difference-database-database-management-system-dbms/)."
   ]
  },
  {
   "cell_type": "markdown",
   "metadata": {},
   "source": [
    "- Tabla: es análogo a una hoja de cálculo ya que los datos se almacenan en filas y columnas.\n",
    "    - Las **filas**, también llamados **registros**, representan la unidad de observación de la cual queremos almacenar información.\n",
    "    - Las **columnas**, también llamados **campos**, representan las características de dicha unidad de observación. Cada campo solo podrá contener un tipo de datos y usualmente uno (o más campos) representan una clave principal, es decir un identificador único que no podrá repetirse.\n",
    "\n",
    "> ### Tipos de datos más comunes\n",
    "> - INT, TINYINT, BIGINT: Número entero.\n",
    "> - FLOAT: Número decimal.\n",
    "> - CHAR, VARCHAR, TEXT, STR: texto (string).\n",
    "> - BINARY, BIT: variable dicotómica (0/1).\n",
    "> - DATE, TIME: fecha u hora.\n",
    "\n",
    "- Formulario: es la interfaz mediante la cual se ingresan los datos.\n",
    "- Informe: se usan para dar formato a los datos, resumirlos y presentarlos.\n",
    "    - Vista: es una tabla virtual, no existe físicamente dentro de la base de datos.\n",
    "- Consulta: sirven para realizar muchas funciones en una base de datos. La más común es recuperar datos específicos de las tablas. \n",
    "\n",
    "Tomado de: [Conceptos básicos sobre bases de datos.](https://support.microsoft.com/es-es/office/conceptos-b%C3%A1sicos-sobre-bases-de-datos-a849ac16-07c7-4a31-9948-3c8c94a7c204)\n",
    "\n"
   ]
  },
  {
   "cell_type": "markdown",
   "metadata": {},
   "source": [
    "> **Ejercicio:** identifiquemos algunos de los elementos revisados para los siguientes casos.\n",
    "> - Una base de datos de clientes.\n",
    "> - Una base de datos de facturación.\n",
    "> - Una base de datos notas de alumnos."
   ]
  },
  {
   "cell_type": "markdown",
   "metadata": {},
   "source": [
    "## 1.3. Introducción al lenguaje de consultas SQL"
   ]
  },
  {
   "cell_type": "markdown",
   "metadata": {},
   "source": [
    "En éste punto, vamos a comenzar a programar. Para ello usaremos una herramienta en línea [www.sql-practice.com](https://www.sql-practice.com/).\n",
    "\n",
    "Otro recurso valioso para aprender el lenguaje es [w3schools](https://www.w3schools.com/sql/)."
   ]
  },
  {
   "cell_type": "markdown",
   "metadata": {},
   "source": [
    "SQL (standard query language) es un lenguaje para almacenar, manipular y recuperar datos en bases de datos.\n",
    "\n",
    "A pesar de que es un lenguaje \"estándar\" existen variantes que a veces complican, el que veremos aquí aprenderemos la variante más común que sirve en: MySQL, SQL Server, MS Access, Oracle, Sybase, Informix, Postgres."
   ]
  },
  {
   "cell_type": "markdown",
   "metadata": {},
   "source": [
    "## 1.4. Sintaxis básica de SQL para consultas"
   ]
  },
  {
   "cell_type": "markdown",
   "metadata": {},
   "source": [
    "La sintaxis básica de SQL para realizar consultas tiene 6 elementos:\n",
    "```sql\n",
    "SELECT campo_1, campo_2, campo_3  \n",
    "FROM tabla_1\n",
    "JOIN tabla_2\n",
    "WHERE condición_1, condición_2, condición_3 \n",
    "GROUP BY grupo_1, grupo_2, grupo_3\n",
    "ORDER BY columna_1, columna_2, columna_3  \n",
    "```\n",
    "De los cuales los dos primeros son imprescindibles. No puede haber una consulta sin un *SELECT* y un *FROM*.\n",
    "\n",
    "> SQL es indiferente a mayúsculas y minúsculas (case insensitive)"
   ]
  },
  {
   "cell_type": "markdown",
   "metadata": {},
   "source": [
    "Se puede usar un * para seleccionar todos los campos, y el comando LIMIT para seleccionar los n primeros registros.\n",
    "```sql\n",
    "SELECT *  \n",
    "FROM tabla_1\n",
    "LIMIT 10\n",
    "```\n"
   ]
  },
  {
   "cell_type": "markdown",
   "metadata": {},
   "source": [
    "Veamos algunos ejemplos utilizando la base de hospitales en [www.sql-practice.com](https://www.sql-practice.com/)."
   ]
  },
  {
   "cell_type": "markdown",
   "metadata": {},
   "source": [
    "Seleccionar los 10 primeros pacientes:\n",
    "```sql\n",
    "SELECT *\n",
    "FROM patients\n",
    "LIMIT 10\n",
    "```\n"
   ]
  },
  {
   "cell_type": "markdown",
   "metadata": {},
   "source": [
    "\n",
    "Seleccionar los 10 primeros pacientes de género masculino:\n",
    "```sql\n",
    "SELECT * FROM patients WHERE gender='M' LIMIT 10\n",
    "```\n"
   ]
  },
  {
   "cell_type": "markdown",
   "metadata": {},
   "source": [
    "\n",
    "Seleccionar los 10 primeros pacientes que pesan entre 100 y 120:\n",
    "```sql\n",
    "SELECT * FROM patients WHERE weight>=100 AND weight<=120 LIMIT 10\n",
    "```\n"
   ]
  },
  {
   "cell_type": "markdown",
   "metadata": {},
   "source": [
    "\n",
    "Seleccionar solo campos específicos:\n",
    "```sql\n",
    "SELECT patient_id, first_name, last_name FROM patients LIMIT 10\n",
    "```\n"
   ]
  },
  {
   "cell_type": "markdown",
   "metadata": {},
   "source": [
    "\n",
    "Usar aliases para las columnas:\n",
    "```sql\n",
    "SELECT\n",
    "    patient_id AS identificación,\n",
    "    first_name AS nombre,\n",
    "    last_name AS apellido\n",
    "FROM patients\n",
    "LIMIT 10\n",
    "```\n"
   ]
  },
  {
   "cell_type": "markdown",
   "metadata": {},
   "source": [
    "\n",
    "Podemos resumir las tablas con algunos comandos, por ejemplo:\n",
    "- Seleccionar elementos únicos:\n",
    "```sql\n",
    "SELECT DISTINCT city FROM patients\n",
    "```\n"
   ]
  },
  {
   "cell_type": "markdown",
   "metadata": {},
   "source": [
    "- Realizar operaciones aritméticas:\n",
    "```sql\n",
    "SELECT \n",
    "    *,\n",
    "    weight/POWER(height,2)*10000 AS bmi\n",
    "FROM patients\n",
    "```\n"
   ]
  },
  {
   "cell_type": "markdown",
   "metadata": {},
   "source": [
    "\n",
    "- Realizar cálculos con columnas\n",
    "```sql\n",
    "SELECT COUNT(first_name) FROM patients\n",
    "```\n",
    "```sql\n",
    "SELECT AVG(height) FROM patients\n",
    "```\n"
   ]
  },
  {
   "cell_type": "markdown",
   "metadata": {},
   "source": [
    "\n",
    "- Todo ésto se puede hacer agrupando por algun campo:\n",
    "```sql\n",
    "SELECT gender, avg(height) from patients group by gender\n",
    "```\n"
   ]
  },
  {
   "cell_type": "markdown",
   "metadata": {},
   "source": [
    "\n",
    "- Unir texto:\n",
    "```sql\n",
    "SELECT\n",
    "CONCAT(first_name, ' ', last_name) as nombre_completo\n",
    "FROM patients\n",
    "LIMIT 10  \n",
    "```\n"
   ]
  },
  {
   "cell_type": "markdown",
   "metadata": {},
   "source": [
    "\n",
    "- Extraer pedazos de texto:\n",
    "```sql\n",
    "SELECT\n",
    "SUBSTRING(first_name, 1, 1) as inicial_nombre,\n",
    "SUBSTRING(last_name, 1, 1) as inicial_apellido\n",
    "FROM patients\n",
    "LIMIT 10  \n",
    "```\n"
   ]
  },
  {
   "cell_type": "markdown",
   "metadata": {},
   "source": [
    "\n",
    "- También se puede hacer una consulta dentro de otra consulta:\n",
    "```sql\n",
    "SELECT first_name, last_name, height \n",
    "FROM patients\n",
    "WHERE height = (SELECT MAX(height) FROM patients)\n",
    "```"
   ]
  },
  {
   "cell_type": "markdown",
   "metadata": {},
   "source": [
    "### Ejercicios consulta SQL\n",
    "\n"
   ]
  },
  {
   "cell_type": "markdown",
   "metadata": {},
   "source": [
    "- Seleccionar nombres únicos que comiencen con la letra \"C\".\n",
    "- Seleccionar a la persona con mayor peso.\n",
    "- Obtener una altura promedio por ciudad y ordenarlo.\n",
    "- ¿Cuál es la proporción de pacientes alérgicos?"
   ]
  }
 ],
 "metadata": {
  "kernelspec": {
   "display_name": "Python 3",
   "language": "python",
   "name": "python3"
  },
  "language_info": {
   "codemirror_mode": {
    "name": "ipython",
    "version": 3
   },
   "file_extension": ".py",
   "mimetype": "text/x-python",
   "name": "python",
   "nbconvert_exporter": "python",
   "pygments_lexer": "ipython3",
   "version": "3.11.4"
  },
  "orig_nbformat": 4
 },
 "nbformat": 4,
 "nbformat_minor": 2
}
