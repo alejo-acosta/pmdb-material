{
 "cells": [
  {
   "cell_type": "markdown",
   "metadata": {},
   "source": [
    "# Ejemplo: Simulación Gini\n",
    "\n",
    "Elaborado por: Alejandro Acosta"
   ]
  },
  {
   "cell_type": "code",
   "execution_count": 8,
   "metadata": {},
   "outputs": [],
   "source": [
    "import pandas as pd\n",
    "import numpy as np\n",
    "import matplotlib.pyplot as plt\n",
    "import seaborn as sns\n",
    "\n",
    "from ipywidgets import interact, interactive, fixed, interact_manual\n",
    "import ipywidgets as widgets\n",
    "\n",
    "plt.rcParams['figure.dpi'] = 120\n",
    "plt.rcParams['savefig.dpi'] = 120\n",
    "\n",
    "sns.set_style(\"whitegrid\")"
   ]
  },
  {
   "cell_type": "code",
   "execution_count": 9,
   "metadata": {},
   "outputs": [],
   "source": [
    "def simul_income(mean=1000, sd=50, size=10000):\n",
    "    return sorted(np.random.normal(mean, sd, size).clip(0))\n",
    "\n",
    "\n"
   ]
  },
  {
   "cell_type": "code",
   "execution_count": 10,
   "metadata": {},
   "outputs": [],
   "source": [
    "def plot_income(**kwargs):\n",
    "    income = simul_income(**kwargs)\n",
    "    fig = plt.figure()\n",
    "    sns.histplot(income, stat='frequency', element='poly', bins=30)\n",
    "    plt.xlim(0,2000)\n",
    "    plt.ylim(0,80)\n",
    "    plt.close(fig)\n",
    "    return fig"
   ]
  },
  {
   "cell_type": "code",
   "execution_count": 11,
   "metadata": {},
   "outputs": [],
   "source": [
    "def plot_gini(**kwargs):\n",
    "    income = simul_income(**kwargs)\n",
    "    total_income = sum(income)\n",
    "    bins = np.linspace(0,100, 20)\n",
    "    x = [np.percentile(income, i) for i in bins]\n",
    "    x2 = [i/100 for i in bins]\n",
    "    y = [np.round(sum(income*np.array([i<=x[j] for i in income]))/total_income,2) for j in range(len(bins))]\n",
    "\n",
    "    fig=plt.figure()\n",
    "    sns.lineplot(x=x2,y=x2)\n",
    "    sns.lineplot(x=x2,y=y, color='red')\n",
    "    plt.fill_between(x2,x2,y, color='red', alpha=0.25)\n",
    "    plt.ylim(0,1)\n",
    "    plt.xlim(0,1)\n",
    "    plt.close(fig)\n",
    "    return fig"
   ]
  },
  {
   "cell_type": "code",
   "execution_count": 12,
   "metadata": {},
   "outputs": [],
   "source": [
    "def plot_both(**kwargs):\n",
    "    income = simul_income(**kwargs)\n",
    "    total_income = sum(income)\n",
    "    bins = np.linspace(0, 100, 20)\n",
    "    xaux = [np.percentile(income, i) for i in bins]\n",
    "    x = [i/100 for i in bins]\n",
    "    y = [np.round(sum(income*np.array([i <= xaux[j] for i in income])\n",
    "                      )/total_income, 2) for j in range(len(bins))]\n",
    "\n",
    "    fig, ax = plt.subplots(1, 2, sharex=False, sharey=False, figsize=(10,5))\n",
    "    sns.histplot(income, stat='frequency', element='poly', bins=30, ax=ax[0])\n",
    "    ax[0].set_xlim([0, 2000])\n",
    "    ax[0].set_ylim([0, 80])\n",
    "\n",
    "    \n",
    "    sns.lineplot(x=x, y=x, ax=ax[1])\n",
    "    sns.lineplot(x=x, y=y, color='red', ax=ax[1])\n",
    "    plt.fill_between(x, x, y, color='red', alpha=0.25)\n",
    "    ax[1].set_xlim([0, 1])\n",
    "    ax[1].set_ylim([0, 1])\n",
    "\n",
    "    plt.close(fig)\n",
    "\n",
    "    return fig\n"
   ]
  },
  {
   "cell_type": "code",
   "execution_count": 13,
   "metadata": {},
   "outputs": [
    {
     "data": {
      "application/vnd.jupyter.widget-view+json": {
       "model_id": "9961293191254a489fce1a684f21d5f7",
       "version_major": 2,
       "version_minor": 0
      },
      "text/plain": [
       "interactive(children=(IntSlider(value=200, description='sd', max=400, min=1), Output()), _dom_classes=('widget…"
      ]
     },
     "metadata": {},
     "output_type": "display_data"
    },
    {
     "data": {
      "text/plain": [
       "<function __main__.plot_income(**kwargs)>"
      ]
     },
     "execution_count": 13,
     "metadata": {},
     "output_type": "execute_result"
    }
   ],
   "source": [
    "interact(plot_income, sd=(1,400))"
   ]
  },
  {
   "cell_type": "code",
   "execution_count": 14,
   "metadata": {},
   "outputs": [
    {
     "data": {
      "application/vnd.jupyter.widget-view+json": {
       "model_id": "88f0dce8c9e54566bbc2a9898a9fce14",
       "version_major": 2,
       "version_minor": 0
      },
      "text/plain": [
       "interactive(children=(IntSlider(value=400, description='sd', max=800, min=1), Output()), _dom_classes=('widget…"
      ]
     },
     "metadata": {},
     "output_type": "display_data"
    },
    {
     "data": {
      "text/plain": [
       "<function __main__.plot_both(**kwargs)>"
      ]
     },
     "execution_count": 14,
     "metadata": {},
     "output_type": "execute_result"
    }
   ],
   "source": [
    "interact(plot_both, sd=(1,800))"
   ]
  },
  {
   "cell_type": "code",
   "execution_count": null,
   "metadata": {},
   "outputs": [],
   "source": []
  }
 ],
 "metadata": {
  "kernelspec": {
   "display_name": "Python 3 (ipykernel)",
   "language": "python",
   "name": "python3"
  },
  "language_info": {
   "codemirror_mode": {
    "name": "ipython",
    "version": 3
   },
   "file_extension": ".py",
   "mimetype": "text/x-python",
   "name": "python",
   "nbconvert_exporter": "python",
   "pygments_lexer": "ipython3",
   "version": "3.11.3"
  },
  "vscode": {
   "interpreter": {
    "hash": "0d9db2acd79fc802845d33905a24c499b3c5b632a8047d75c602e59109c51bd3"
   }
  }
 },
 "nbformat": 4,
 "nbformat_minor": 4
}
