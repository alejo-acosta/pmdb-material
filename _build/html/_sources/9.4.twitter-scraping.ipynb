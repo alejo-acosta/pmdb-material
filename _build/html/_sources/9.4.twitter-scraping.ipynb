{
 "cells": [
  {
   "cell_type": "markdown",
   "metadata": {},
   "source": [
    "# 9.4. Análisis Tweets"
   ]
  },
  {
   "cell_type": "markdown",
   "metadata": {},
   "source": [
    "Primero, importamos las librerías necesarias:"
   ]
  },
  {
   "cell_type": "code",
   "execution_count": 20,
   "metadata": {},
   "outputs": [],
   "source": [
    "import pandas as pd\n",
    "import numpy as np\n",
    "\n",
    "import matplotlib.pyplot as plt\n",
    "import seaborn as sns\n",
    "\n",
    "from unidecode import unidecode\n",
    "\n",
    "sns.set()"
   ]
  },
  {
   "cell_type": "markdown",
   "metadata": {},
   "source": [
    "Importamos la data"
   ]
  },
  {
   "cell_type": "code",
   "execution_count": 14,
   "metadata": {},
   "outputs": [],
   "source": [
    "df = pd.read_csv('https://raw.githubusercontent.com/alejo-acosta/pmdb-material/master/data/tweets_municipalidad.csv')\n",
    "df.dropna(inplace=True)"
   ]
  },
  {
   "cell_type": "code",
   "execution_count": 15,
   "metadata": {},
   "outputs": [],
   "source": [
    "df['created_at'] = pd.to_datetime(df['created_at'])"
   ]
  },
  {
   "cell_type": "code",
   "execution_count": 16,
   "metadata": {},
   "outputs": [],
   "source": [
    "df['year'] = df['created_at'].dt.year\n",
    "df['month'] = df['created_at'].dt.month"
   ]
  },
  {
   "cell_type": "code",
   "execution_count": 21,
   "metadata": {},
   "outputs": [
    {
     "data": {
      "text/html": [
       "<div>\n",
       "<style scoped>\n",
       "    .dataframe tbody tr th:only-of-type {\n",
       "        vertical-align: middle;\n",
       "    }\n",
       "\n",
       "    .dataframe tbody tr th {\n",
       "        vertical-align: top;\n",
       "    }\n",
       "\n",
       "    .dataframe thead th {\n",
       "        text-align: right;\n",
       "    }\n",
       "</style>\n",
       "<table border=\"1\" class=\"dataframe\">\n",
       "  <thead>\n",
       "    <tr style=\"text-align: right;\">\n",
       "      <th></th>\n",
       "      <th>created_at</th>\n",
       "      <th>tweet</th>\n",
       "      <th>username</th>\n",
       "      <th>year</th>\n",
       "      <th>month</th>\n",
       "    </tr>\n",
       "  </thead>\n",
       "  <tbody>\n",
       "    <tr>\n",
       "      <th>0</th>\n",
       "      <td>2017-10-30 23:57:03+00:00</td>\n",
       "      <td>exelente saludos desde nycity</td>\n",
       "      <td>renevera2013</td>\n",
       "      <td>2017</td>\n",
       "      <td>10</td>\n",
       "    </tr>\n",
       "    <tr>\n",
       "      <th>1</th>\n",
       "      <td>2017-10-30 23:50:51+00:00</td>\n",
       "      <td>Ahora mismo 5 autos \"agarran\" el carril derech...</td>\n",
       "      <td>Superman74Cacer</td>\n",
       "      <td>2017</td>\n",
       "      <td>10</td>\n",
       "    </tr>\n",
       "    <tr>\n",
       "      <th>2</th>\n",
       "      <td>2017-10-30 23:50:01+00:00</td>\n",
       "      <td>Siempre la misma cosa frente a CASACOR...</td>\n",
       "      <td>Superman74Cacer</td>\n",
       "      <td>2017</td>\n",
       "      <td>10</td>\n",
       "    </tr>\n",
       "    <tr>\n",
       "      <th>3</th>\n",
       "      <td>2017-10-30 23:47:24+00:00</td>\n",
       "      <td>ESAS PAREDES....SE TIENE QUE LLAMAR A LOS CAND...</td>\n",
       "      <td>aweissman1950</td>\n",
       "      <td>2017</td>\n",
       "      <td>10</td>\n",
       "    </tr>\n",
       "    <tr>\n",
       "      <th>4</th>\n",
       "      <td>2017-10-30 23:46:34+00:00</td>\n",
       "      <td>Hacen años que ahí no se puede girar a la izqu...</td>\n",
       "      <td>aristidesag</td>\n",
       "      <td>2017</td>\n",
       "      <td>10</td>\n",
       "    </tr>\n",
       "  </tbody>\n",
       "</table>\n",
       "</div>"
      ],
      "text/plain": [
       "                 created_at  \\\n",
       "0 2017-10-30 23:57:03+00:00   \n",
       "1 2017-10-30 23:50:51+00:00   \n",
       "2 2017-10-30 23:50:01+00:00   \n",
       "3 2017-10-30 23:47:24+00:00   \n",
       "4 2017-10-30 23:46:34+00:00   \n",
       "\n",
       "                                               tweet         username  year  \\\n",
       "0                      exelente saludos desde nycity     renevera2013  2017   \n",
       "1  Ahora mismo 5 autos \"agarran\" el carril derech...  Superman74Cacer  2017   \n",
       "2          Siempre la misma cosa frente a CASACOR...  Superman74Cacer  2017   \n",
       "3  ESAS PAREDES....SE TIENE QUE LLAMAR A LOS CAND...    aweissman1950  2017   \n",
       "4  Hacen años que ahí no se puede girar a la izqu...      aristidesag  2017   \n",
       "\n",
       "   month  \n",
       "0     10  \n",
       "1     10  \n",
       "2     10  \n",
       "3     10  \n",
       "4     10  "
      ]
     },
     "execution_count": 21,
     "metadata": {},
     "output_type": "execute_result"
    }
   ],
   "source": [
    "df.head()"
   ]
  }
 ],
 "metadata": {
  "kernelspec": {
   "display_name": "Python 3",
   "language": "python",
   "name": "python3"
  },
  "language_info": {
   "codemirror_mode": {
    "name": "ipython",
    "version": 3
   },
   "file_extension": ".py",
   "mimetype": "text/x-python",
   "name": "python",
   "nbconvert_exporter": "python",
   "pygments_lexer": "ipython3",
   "version": "3.11.4"
  }
 },
 "nbformat": 4,
 "nbformat_minor": 2
}
